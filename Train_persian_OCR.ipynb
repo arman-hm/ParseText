{
 "cells": [
  {
   "cell_type": "markdown",
   "metadata": {
    "id": "xdCQpd1kHhGv"
   },
   "source": []
  },
  {
   "cell_type": "code",
   "execution_count": 1,
   "metadata": {
    "executionInfo": {
     "elapsed": 15831,
     "status": "ok",
     "timestamp": 1731607633798,
     "user": {
      "displayName": "arman hajimirza",
      "userId": "14640964011542618369"
     },
     "user_tz": -210
    },
    "id": "5NNmtCIangvd"
   },
   "outputs": [
    {
     "name": "stderr",
     "output_type": "stream",
     "text": [
      "2024-11-27 18:00:58.003368: E external/local_xla/xla/stream_executor/cuda/cuda_fft.cc:485] Unable to register cuFFT factory: Attempting to register factory for plugin cuFFT when one has already been registered\n",
      "2024-11-27 18:00:58.019048: E external/local_xla/xla/stream_executor/cuda/cuda_dnn.cc:8454] Unable to register cuDNN factory: Attempting to register factory for plugin cuDNN when one has already been registered\n",
      "2024-11-27 18:00:58.024092: E external/local_xla/xla/stream_executor/cuda/cuda_blas.cc:1452] Unable to register cuBLAS factory: Attempting to register factory for plugin cuBLAS when one has already been registered\n",
      "2024-11-27 18:00:58.036805: I tensorflow/core/platform/cpu_feature_guard.cc:210] This TensorFlow binary is optimized to use available CPU instructions in performance-critical operations.\n",
      "To enable the following instructions: AVX2 FMA, in other operations, rebuild TensorFlow with the appropriate compiler flags.\n",
      "2024-11-27 18:00:58.720605: W tensorflow/compiler/tf2tensorrt/utils/py_utils.cc:38] TF-TRT Warning: Could not find TensorRT\n"
     ]
    }
   ],
   "source": [
    "import os\n",
    "from tqdm import tqdm\n",
    "from sklearn.linear_model import LogisticRegression\n",
    "from sklearn.metrics import confusion_matrix, ConfusionMatrixDisplay\n",
    "from Levenshtein import distance as levenshtein_distance\n",
    "\n",
    "import numpy as np\n",
    "import cv2\n",
    "# from google.colab.patches import cv2_imshow\n",
    "import matplotlib.pyplot as plt\n",
    "import pandas as pd\n",
    "from itertools import islice\n",
    "from PIL import Image\n",
    "\n",
    "import torch\n",
    "import torch.nn as nn\n",
    "import torch.optim as optim\n",
    "from torchsummary import summary\n",
    "from torchvision.io import read_image\n",
    "from torch.nn.utils.rnn import pad_sequence\n",
    "from torch.utils.data import Dataset, random_split, DataLoader\n",
    "from torchvision import datasets\n",
    "from torchvision.transforms import ToTensor,v2\n",
    "\n",
    "import tensorflow as tf\n",
    "\n",
    "from Train import Train"
   ]
  },
  {
   "cell_type": "markdown",
   "metadata": {
    "id": "J-2ryJkjhesm"
   },
   "source": [
    "### **0 move and extract data**"
   ]
  },
  {
   "cell_type": "markdown",
   "metadata": {
    "id": "lK2Yj-ESE6MP"
   },
   "source": [
    "### **1 Preparing data for Train OCR model**"
   ]
  },
  {
   "cell_type": "markdown",
   "metadata": {
    "id": "Knnr4dFOLcKL"
   },
   "source": [
    " 1.1 Load DataFrame"
   ]
  },
  {
   "cell_type": "code",
   "execution_count": 2,
   "metadata": {
    "colab": {
     "base_uri": "https://localhost:8080/",
     "height": 363
    },
    "executionInfo": {
     "elapsed": 3,
     "status": "ok",
     "timestamp": 1731607744233,
     "user": {
      "displayName": "arman hajimirza",
      "userId": "14640964011542618369"
     },
     "user_tz": -210
    },
    "id": "Ua_sL0AnLSDP",
    "outputId": "416dffdc-ae5a-4026-f012-f6f44eb0e7f1"
   },
   "outputs": [
    {
     "data": {
      "text/html": [
       "<div>\n",
       "<style scoped>\n",
       "    .dataframe tbody tr th:only-of-type {\n",
       "        vertical-align: middle;\n",
       "    }\n",
       "\n",
       "    .dataframe tbody tr th {\n",
       "        vertical-align: top;\n",
       "    }\n",
       "\n",
       "    .dataframe thead th {\n",
       "        text-align: right;\n",
       "    }\n",
       "</style>\n",
       "<table border=\"1\" class=\"dataframe\">\n",
       "  <thead>\n",
       "    <tr style=\"text-align: right;\">\n",
       "      <th></th>\n",
       "      <th>index</th>\n",
       "      <th>label</th>\n",
       "      <th>page</th>\n",
       "      <th>top_left_y</th>\n",
       "      <th>bot_right_y</th>\n",
       "      <th>top_left_x</th>\n",
       "      <th>bot_right_x</th>\n",
       "      <th>path</th>\n",
       "    </tr>\n",
       "  </thead>\n",
       "  <tbody>\n",
       "    <tr>\n",
       "      <th>0</th>\n",
       "      <td>86244</td>\n",
       "      <td>درکنار</td>\n",
       "      <td>4468</td>\n",
       "      <td>590</td>\n",
       "      <td>620</td>\n",
       "      <td>45</td>\n",
       "      <td>96</td>\n",
       "      <td>04468_153_86244.png</td>\n",
       "    </tr>\n",
       "    <tr>\n",
       "      <th>1</th>\n",
       "      <td>275410</td>\n",
       "      <td>4335</td>\n",
       "      <td>4335</td>\n",
       "      <td>17</td>\n",
       "      <td>34</td>\n",
       "      <td>539</td>\n",
       "      <td>585</td>\n",
       "      <td>04335_0_275410.png</td>\n",
       "    </tr>\n",
       "    <tr>\n",
       "      <th>2</th>\n",
       "      <td>1234560</td>\n",
       "      <td>وتولد</td>\n",
       "      <td>5065</td>\n",
       "      <td>365</td>\n",
       "      <td>395</td>\n",
       "      <td>525</td>\n",
       "      <td>569</td>\n",
       "      <td>05065_71_1234560.png</td>\n",
       "    </tr>\n",
       "    <tr>\n",
       "      <th>3</th>\n",
       "      <td>782347</td>\n",
       "      <td>تراژدی‌ای</td>\n",
       "      <td>459</td>\n",
       "      <td>170</td>\n",
       "      <td>200</td>\n",
       "      <td>45</td>\n",
       "      <td>119</td>\n",
       "      <td>00459_42_782347.png</td>\n",
       "    </tr>\n",
       "    <tr>\n",
       "      <th>4</th>\n",
       "      <td>166182</td>\n",
       "      <td>افزود:استفاده</td>\n",
       "      <td>2664</td>\n",
       "      <td>435</td>\n",
       "      <td>465</td>\n",
       "      <td>192</td>\n",
       "      <td>285</td>\n",
       "      <td>02664_92_166182.png</td>\n",
       "    </tr>\n",
       "    <tr>\n",
       "      <th>5</th>\n",
       "      <td>77933</td>\n",
       "      <td>ریزگردها</td>\n",
       "      <td>2250</td>\n",
       "      <td>400</td>\n",
       "      <td>430</td>\n",
       "      <td>391</td>\n",
       "      <td>458</td>\n",
       "      <td>02250_87_77933.png</td>\n",
       "    </tr>\n",
       "    <tr>\n",
       "      <th>6</th>\n",
       "      <td>498681</td>\n",
       "      <td>سالگذشته</td>\n",
       "      <td>6715</td>\n",
       "      <td>330</td>\n",
       "      <td>360</td>\n",
       "      <td>507</td>\n",
       "      <td>573</td>\n",
       "      <td>06715_66_498681.png</td>\n",
       "    </tr>\n",
       "    <tr>\n",
       "      <th>7</th>\n",
       "      <td>186468</td>\n",
       "      <td>هولناک</td>\n",
       "      <td>5562</td>\n",
       "      <td>170</td>\n",
       "      <td>200</td>\n",
       "      <td>274</td>\n",
       "      <td>323</td>\n",
       "      <td>05562_35_186468.png</td>\n",
       "    </tr>\n",
       "    <tr>\n",
       "      <th>8</th>\n",
       "      <td>9457</td>\n",
       "      <td>اباالحسن</td>\n",
       "      <td>6711</td>\n",
       "      <td>135</td>\n",
       "      <td>165</td>\n",
       "      <td>282</td>\n",
       "      <td>342</td>\n",
       "      <td>06711_29_9457.png</td>\n",
       "    </tr>\n",
       "    <tr>\n",
       "      <th>9</th>\n",
       "      <td>899678</td>\n",
       "      <td>مواردرا</td>\n",
       "      <td>2937</td>\n",
       "      <td>135</td>\n",
       "      <td>165</td>\n",
       "      <td>341</td>\n",
       "      <td>398</td>\n",
       "      <td>02937_30_899678.png</td>\n",
       "    </tr>\n",
       "  </tbody>\n",
       "</table>\n",
       "</div>"
      ],
      "text/plain": [
       "     index          label  page  top_left_y  bot_right_y  top_left_x  \\\n",
       "0    86244         درکنار  4468         590          620          45   \n",
       "1   275410           4335  4335          17           34         539   \n",
       "2  1234560          وتولد  5065         365          395         525   \n",
       "3   782347      تراژدی‌ای   459         170          200          45   \n",
       "4   166182  افزود:استفاده  2664         435          465         192   \n",
       "5    77933       ریزگردها  2250         400          430         391   \n",
       "6   498681       سالگذشته  6715         330          360         507   \n",
       "7   186468         هولناک  5562         170          200         274   \n",
       "8     9457       اباالحسن  6711         135          165         282   \n",
       "9   899678        مواردرا  2937         135          165         341   \n",
       "\n",
       "   bot_right_x                  path  \n",
       "0           96   04468_153_86244.png  \n",
       "1          585    04335_0_275410.png  \n",
       "2          569  05065_71_1234560.png  \n",
       "3          119   00459_42_782347.png  \n",
       "4          285   02664_92_166182.png  \n",
       "5          458    02250_87_77933.png  \n",
       "6          573   06715_66_498681.png  \n",
       "7          323   05562_35_186468.png  \n",
       "8          342     06711_29_9457.png  \n",
       "9          398   02937_30_899678.png  "
      ]
     },
     "execution_count": 2,
     "metadata": {},
     "output_type": "execute_result"
    }
   ],
   "source": [
    "df = pd.read_csv(\"train_df.csv\")\n",
    "df = df.loc[:, ~df.columns.str.contains('^Unnamed')]\n",
    "df.head(10)"
   ]
  },
  {
   "cell_type": "markdown",
   "metadata": {
    "id": "I4E6JcZZDGcQ"
   },
   "source": [
    "1.2 Convert image path as key and it's label as value of dictionary."
   ]
  },
  {
   "cell_type": "code",
   "execution_count": 3,
   "metadata": {
    "colab": {
     "base_uri": "https://localhost:8080/"
    },
    "executionInfo": {
     "elapsed": 2,
     "status": "ok",
     "timestamp": 1731607750516,
     "user": {
      "displayName": "arman hajimirza",
      "userId": "14640964011542618369"
     },
     "user_tz": -210
    },
    "id": "xg2o14Bh_Nwp",
    "outputId": "8799c849-d004-4f92-fec8-64f5055c717a"
   },
   "outputs": [
    {
     "data": {
      "text/plain": [
       "{'04468_153_86244.png': 'درکنار',\n",
       " '04335_0_275410.png': '4335',\n",
       " '05065_71_1234560.png': 'وتولد',\n",
       " '00459_42_782347.png': 'تراژدی\\u200cای',\n",
       " '02664_92_166182.png': 'افزود:استفاده',\n",
       " '02250_87_77933.png': 'ریزگردها',\n",
       " '06715_66_498681.png': 'سالگذشته',\n",
       " '05562_35_186468.png': 'هولناک',\n",
       " '06711_29_9457.png': 'اباالحسن',\n",
       " '02937_30_899678.png': 'مواردرا'}"
      ]
     },
     "execution_count": 3,
     "metadata": {},
     "output_type": "execute_result"
    }
   ],
   "source": [
    "dataset = df.set_index('path')['label'].to_dict()\n",
    "dict(list(dataset.items())[0:10])"
   ]
  },
  {
   "cell_type": "code",
   "execution_count": 4,
   "metadata": {
    "executionInfo": {
     "elapsed": 2,
     "status": "ok",
     "timestamp": 1731607751512,
     "user": {
      "displayName": "arman hajimirza",
      "userId": "14640964011542618369"
     },
     "user_tz": -210
    },
    "id": "OzneDBC-yrTl"
   },
   "outputs": [],
   "source": [
    "def find_longest_string(string_list):\n",
    "  longest_string = \"\"\n",
    "  for string in string_list:\n",
    "    if len(string) > len(longest_string):\n",
    "      longest_string = string\n",
    "  return longest_string"
   ]
  },
  {
   "cell_type": "code",
   "execution_count": 5,
   "metadata": {
    "executionInfo": {
     "elapsed": 1,
     "status": "ok",
     "timestamp": 1731607751512,
     "user": {
      "displayName": "arman hajimirza",
      "userId": "14640964011542618369"
     },
     "user_tz": -210
    },
    "id": "6avDaGCseKgV"
   },
   "outputs": [],
   "source": [
    "def unique_chars_in_strings(string_list):\n",
    "  \"\"\"\n",
    "  Finds the unique characters across a list of strings.\n",
    "\n",
    "  Args:\n",
    "    string_list: A list of strings.\n",
    "\n",
    "  Returns:\n",
    "    A set containing the unique characters found in the input strings.\n",
    "  \"\"\"\n",
    "  unique_chars = set()\n",
    "  for string in string_list:\n",
    "    unique_chars.update(string)\n",
    "  return unique_chars\n",
    "\n",
    "# Example usage (assuming 'df' is your DataFrame and 'label' is the column name):\n",
    "# unique_characters = unique_chars_in_strings(df['label'].tolist())\n",
    "# print(unique_characters)"
   ]
  },
  {
   "cell_type": "code",
   "execution_count": 6,
   "metadata": {
    "colab": {
     "base_uri": "https://localhost:8080/"
    },
    "executionInfo": {
     "elapsed": 2,
     "status": "ok",
     "timestamp": 1731607752416,
     "user": {
      "displayName": "arman hajimirza",
      "userId": "14640964011542618369"
     },
     "user_tz": -210
    },
    "id": "n8X3BKoRezQ6",
    "outputId": "ebf881e4-b01f-48c5-bb4f-c1fa6cf4b44b"
   },
   "outputs": [
    {
     "name": "stdout",
     "output_type": "stream",
     "text": [
      "{'ب', '(', 'ض', '.', 'ی', '6', '%', 'چ', 'ت', 'ذ', 'ح', 'خ', '»', '*', '5', 'پ', 'س', '4', '“', '3', 'ؤ', 'ن', '!', ')', 'ج', '/', 'و', 'د', 'ظ', '؟', '؛', 'ع', 'گ', 'ئ', 'ث', '7', '0', 'آ', '1', '8', 'ر', 'ط', '+', 'ق', 'أ', 'ک', 'م', 'غ', '9', '”', 'ً', 'ز', 'ل', ':', 'ش', 'ه', '«', 'ۀ', '2', '،', 'ص', 'ا', 'ف', '\\u200c', 'ژ'}\n",
      "65\n"
     ]
    }
   ],
   "source": [
    "unique_characters = unique_chars_in_strings(df['label'].tolist())\n",
    "print(unique_characters)\n",
    "print(len(unique_characters))"
   ]
  },
  {
   "cell_type": "code",
   "execution_count": 7,
   "metadata": {
    "colab": {
     "base_uri": "https://localhost:8080/",
     "height": 423
    },
    "executionInfo": {
     "elapsed": 3,
     "status": "ok",
     "timestamp": 1731607753158,
     "user": {
      "displayName": "arman hajimirza",
      "userId": "14640964011542618369"
     },
     "user_tz": -210
    },
    "id": "pJTOlwxmDovs",
    "outputId": "77e3a653-6343-42ed-fdb6-69ff6eb0244e"
   },
   "outputs": [
    {
     "data": {
      "text/html": [
       "<div>\n",
       "<style scoped>\n",
       "    .dataframe tbody tr th:only-of-type {\n",
       "        vertical-align: middle;\n",
       "    }\n",
       "\n",
       "    .dataframe tbody tr th {\n",
       "        vertical-align: top;\n",
       "    }\n",
       "\n",
       "    .dataframe thead th {\n",
       "        text-align: right;\n",
       "    }\n",
       "</style>\n",
       "<table border=\"1\" class=\"dataframe\">\n",
       "  <thead>\n",
       "    <tr style=\"text-align: right;\">\n",
       "      <th></th>\n",
       "      <th>index</th>\n",
       "      <th>label</th>\n",
       "      <th>page</th>\n",
       "      <th>top_left_y</th>\n",
       "      <th>bot_right_y</th>\n",
       "      <th>top_left_x</th>\n",
       "      <th>bot_right_x</th>\n",
       "      <th>path</th>\n",
       "    </tr>\n",
       "  </thead>\n",
       "  <tbody>\n",
       "    <tr>\n",
       "      <th>748</th>\n",
       "      <td>403787</td>\n",
       "      <td>علأ</td>\n",
       "      <td>5919</td>\n",
       "      <td>660</td>\n",
       "      <td>690</td>\n",
       "      <td>297</td>\n",
       "      <td>321</td>\n",
       "      <td>05919_212_403787.png</td>\n",
       "    </tr>\n",
       "    <tr>\n",
       "      <th>1422</th>\n",
       "      <td>23362</td>\n",
       "      <td>نشأت</td>\n",
       "      <td>1714</td>\n",
       "      <td>645</td>\n",
       "      <td>675</td>\n",
       "      <td>203</td>\n",
       "      <td>241</td>\n",
       "      <td>01714_165_23362.png</td>\n",
       "    </tr>\n",
       "    <tr>\n",
       "      <th>1925</th>\n",
       "      <td>1271277</td>\n",
       "      <td>تأکیدی</td>\n",
       "      <td>1000</td>\n",
       "      <td>450</td>\n",
       "      <td>480</td>\n",
       "      <td>263</td>\n",
       "      <td>318</td>\n",
       "      <td>01000_104_1271277.png</td>\n",
       "    </tr>\n",
       "    <tr>\n",
       "      <th>2315</th>\n",
       "      <td>1225904</td>\n",
       "      <td>بی‌شکمتأثر</td>\n",
       "      <td>5076</td>\n",
       "      <td>450</td>\n",
       "      <td>480</td>\n",
       "      <td>299</td>\n",
       "      <td>375</td>\n",
       "      <td>05076_123_1225904.png</td>\n",
       "    </tr>\n",
       "    <tr>\n",
       "      <th>3194</th>\n",
       "      <td>5551</td>\n",
       "      <td>تأسیسات</td>\n",
       "      <td>702</td>\n",
       "      <td>240</td>\n",
       "      <td>270</td>\n",
       "      <td>445</td>\n",
       "      <td>507</td>\n",
       "      <td>00702_50_5551.png</td>\n",
       "    </tr>\n",
       "    <tr>\n",
       "      <th>...</th>\n",
       "      <td>...</td>\n",
       "      <td>...</td>\n",
       "      <td>...</td>\n",
       "      <td>...</td>\n",
       "      <td>...</td>\n",
       "      <td>...</td>\n",
       "      <td>...</td>\n",
       "      <td>...</td>\n",
       "    </tr>\n",
       "    <tr>\n",
       "      <th>51535</th>\n",
       "      <td>36610</td>\n",
       "      <td>هیأت</td>\n",
       "      <td>918</td>\n",
       "      <td>240</td>\n",
       "      <td>270</td>\n",
       "      <td>363</td>\n",
       "      <td>402</td>\n",
       "      <td>00918_60_36610.png</td>\n",
       "    </tr>\n",
       "    <tr>\n",
       "      <th>52642</th>\n",
       "      <td>930031</td>\n",
       "      <td>أضلالهم،</td>\n",
       "      <td>1296</td>\n",
       "      <td>575</td>\n",
       "      <td>605</td>\n",
       "      <td>461</td>\n",
       "      <td>522</td>\n",
       "      <td>01296_168_930031.png</td>\n",
       "    </tr>\n",
       "    <tr>\n",
       "      <th>53126</th>\n",
       "      <td>103190</td>\n",
       "      <td>مسأله</td>\n",
       "      <td>5248</td>\n",
       "      <td>380</td>\n",
       "      <td>410</td>\n",
       "      <td>396</td>\n",
       "      <td>431</td>\n",
       "      <td>05248_109_103190.png</td>\n",
       "    </tr>\n",
       "    <tr>\n",
       "      <th>53646</th>\n",
       "      <td>63631</td>\n",
       "      <td>مأموران</td>\n",
       "      <td>5533</td>\n",
       "      <td>715</td>\n",
       "      <td>745</td>\n",
       "      <td>172</td>\n",
       "      <td>229</td>\n",
       "      <td>05533_195_63631.png</td>\n",
       "    </tr>\n",
       "    <tr>\n",
       "      <th>54726</th>\n",
       "      <td>23343</td>\n",
       "      <td>ویبهتأثیر</td>\n",
       "      <td>1714</td>\n",
       "      <td>610</td>\n",
       "      <td>640</td>\n",
       "      <td>506</td>\n",
       "      <td>571</td>\n",
       "      <td>01714_146_23343.png</td>\n",
       "    </tr>\n",
       "  </tbody>\n",
       "</table>\n",
       "<p>99 rows × 8 columns</p>\n",
       "</div>"
      ],
      "text/plain": [
       "         index       label  page  top_left_y  bot_right_y  top_left_x  \\\n",
       "748     403787         علأ  5919         660          690         297   \n",
       "1422     23362        نشأت  1714         645          675         203   \n",
       "1925   1271277      تأکیدی  1000         450          480         263   \n",
       "2315   1225904  بی‌شکمتأثر  5076         450          480         299   \n",
       "3194      5551     تأسیسات   702         240          270         445   \n",
       "...        ...         ...   ...         ...          ...         ...   \n",
       "51535    36610        هیأت   918         240          270         363   \n",
       "52642   930031    أضلالهم،  1296         575          605         461   \n",
       "53126   103190       مسأله  5248         380          410         396   \n",
       "53646    63631     مأموران  5533         715          745         172   \n",
       "54726    23343   ویبهتأثیر  1714         610          640         506   \n",
       "\n",
       "       bot_right_x                   path  \n",
       "748            321   05919_212_403787.png  \n",
       "1422           241    01714_165_23362.png  \n",
       "1925           318  01000_104_1271277.png  \n",
       "2315           375  05076_123_1225904.png  \n",
       "3194           507      00702_50_5551.png  \n",
       "...            ...                    ...  \n",
       "51535          402     00918_60_36610.png  \n",
       "52642          522   01296_168_930031.png  \n",
       "53126          431   05248_109_103190.png  \n",
       "53646          229    05533_195_63631.png  \n",
       "54726          571    01714_146_23343.png  \n",
       "\n",
       "[99 rows x 8 columns]"
      ]
     },
     "execution_count": 7,
     "metadata": {},
     "output_type": "execute_result"
    }
   ],
   "source": [
    "# Assuming 'df' is your DataFrame and 'label' is the column containing the strings\n",
    "rows_with_specific_char = df[df['label'].str.contains('أ', na=False)]\n",
    "# pd.set_option('display.max_rows', df.shape[0]+1)\n",
    "rows_with_specific_char"
   ]
  },
  {
   "cell_type": "code",
   "execution_count": 8,
   "metadata": {
    "colab": {
     "base_uri": "https://localhost:8080/"
    },
    "executionInfo": {
     "elapsed": 1,
     "status": "ok",
     "timestamp": 1731607753791,
     "user": {
      "displayName": "arman hajimirza",
      "userId": "14640964011542618369"
     },
     "user_tz": -210
    },
    "id": "64xbPAY2zEfK",
    "outputId": "ec39045d-d419-4bf6-fea3-9ddc86cd7ddc"
   },
   "outputs": [
    {
     "name": "stdout",
     "output_type": "stream",
     "text": [
      "یکشنبه20مهر1399برگزار 21\n"
     ]
    }
   ],
   "source": [
    "t = find_longest_string(df['label'].tolist())\n",
    "print(t,len(t))"
   ]
  },
  {
   "cell_type": "code",
   "execution_count": 9,
   "metadata": {
    "executionInfo": {
     "elapsed": 2,
     "status": "ok",
     "timestamp": 1731607755481,
     "user": {
      "displayName": "arman hajimirza",
      "userId": "14640964011542618369"
     },
     "user_tz": -210
    },
    "id": "qrE3NlOds_e5"
   },
   "outputs": [],
   "source": [
    "char_to_index = {\n",
    "    '!': 1, '%': 2, '(': 3, ')': 4, '*': 5, '+': 6,\n",
    "    '/': 7, '0': 8, '1': 9, '2': 10, '3': 11, '4': 12,\n",
    "    '5': 13, '6': 14, '7': 15, '8': 16, '9': 17, ':': 18,\n",
    "    '؛': 19, '؟': 20, 'آ': 21, 'أ': 22, 'ؤ': 23, 'ئ': 24,\n",
    "    'ا': 25, 'ب': 26, 'پ': 27, 'ت': 28, 'ث': 29, 'ج': 30,\n",
    "    'چ': 31, 'ح': 32, 'خ': 33, 'د': 34, 'ذ': 35, 'ر': 36,\n",
    "    'ز': 37, 'ژ': 38, 'س': 39, 'ش': 40, 'ص': 41, 'ض': 42,\n",
    "    'ط': 43, 'ظ': 44, 'ع': 45, 'غ': 46, 'ف': 47, 'ق': 48,\n",
    "    'ک': 49, 'گ': 50, 'ل': 51, 'م': 52, 'ن': 53, 'ه': 54,\n",
    "    'و': 55, 'ی': 56, 'ً': 57, '،': 58, '“': 59, '”': 60,\n",
    "    '«': 61, '»': 62, '\\u200c': 63, '.': 64, 'ۀ': 65\n",
    "}\n",
    "char_list =['!', '%', '(', ')', '*', '+', '/', '0', '1', '2', '3', '4', '5', '6', '7', '8', '9', ':', '؛', '؟', 'آ', 'أ', 'ؤ', 'ئ', 'ا', 'ب', 'پ', 'ت', 'ث', 'ج', 'چ', 'ح', 'خ', 'د', 'ذ', 'ر', 'ز', 'ژ', 'س', 'ش', 'ص', 'ض', 'ط', 'ظ', 'ع', 'غ', 'ف', 'ق', 'ک', 'گ', 'ل', 'م', 'ن', 'ه', 'و', 'ی', 'ً', '،', '“', '”', '«', '»', '\\u200c', '.', 'ۀ']"
   ]
  },
  {
   "cell_type": "markdown",
   "metadata": {},
   "source": [
    "1.3 Custom Torch dataclass"
   ]
  },
  {
   "cell_type": "code",
   "execution_count": 11,
   "metadata": {
    "executionInfo": {
     "elapsed": 1,
     "status": "ok",
     "timestamp": 1731607757203,
     "user": {
      "displayName": "arman hajimirza",
      "userId": "14640964011542618369"
     },
     "user_tz": -210
    },
    "id": "-JRwVlbRsifs"
   },
   "outputs": [],
   "source": [
    "class OCRDataset(Dataset):\n",
    "    def __init__(self, image_dir, labels, char_to_index, input_length, transform=None):\n",
    "        \"\"\"\n",
    "        Args:\n",
    "            image_dir (string): Path to the directory with images.\n",
    "            labels (dict): A dictionary mapping image filenames to labels (e.g., text annotations).\n",
    "            transform (callable, optional): Optional transform to be applied on an image.\n",
    "        \"\"\"\n",
    "        self.image_dir = image_dir\n",
    "        self.labels = labels\n",
    "        self.transform = transform\n",
    "        self.image_files = list(self.labels.keys())\n",
    "        self.char_to_index = char_to_index\n",
    "        self.input_length = input_length\n",
    "\n",
    "    def __len__(self):\n",
    "        return len(self.image_files)\n",
    "\n",
    "    def __getitem__(self, idx):\n",
    "        img_name = os.path.join(self.image_dir, self.image_files[idx])\n",
    "        image = Image.open(img_name).convert(\"RGB\")  # Load image\n",
    "        label = self.labels[self.image_files[idx]]  # Load corresponding label (text)\n",
    "\n",
    "        target_indices = [self.char_to_index[char] for char in label]\n",
    "\n",
    "        # Get target length\n",
    "        target_length = len(target_indices)\n",
    "\n",
    "        # Convert to tensor if required by your model\n",
    "        target_indices = torch.tensor(target_indices, dtype=torch.long)\n",
    "        input_length = torch.tensor(self.input_length, dtype=torch.long)\n",
    "        target_length = torch.tensor(target_length, dtype=torch.long)\n",
    "\n",
    "        if self.transform:\n",
    "            image = self.transform(image)\n",
    "\n",
    "        return image, target_indices, input_length ,target_length"
   ]
  },
  {
   "cell_type": "markdown",
   "metadata": {
    "id": "TZC73pnFEnwg"
   },
   "source": [
    "1.4 Apply Data Augmentation and Preprocessing"
   ]
  },
  {
   "cell_type": "code",
   "execution_count": 12,
   "metadata": {
    "colab": {
     "base_uri": "https://localhost:8080/"
    },
    "executionInfo": {
     "elapsed": 2,
     "status": "ok",
     "timestamp": 1731607759114,
     "user": {
      "displayName": "arman hajimirza",
      "userId": "14640964011542618369"
     },
     "user_tz": -210
    },
    "id": "VMZBVfmGykIN",
    "outputId": "81990939-b0fa-4d3c-a445-8ad5d5b2aca4"
   },
   "outputs": [
    {
     "name": "stderr",
     "output_type": "stream",
     "text": [
      "/home/dornika/OCR_Project/OCR_env/lib/python3.10/site-packages/torchvision/transforms/v2/_deprecated.py:42: UserWarning: The transform `ToTensor()` is deprecated and will be removed in a future release. Instead, please use `v2.Compose([v2.ToImage(), v2.ToDtype(torch.float32, scale=True)])`.Output is equivalent up to float precision.\n",
      "  warnings.warn(\n"
     ]
    }
   ],
   "source": [
    "train_transforms = v2.Compose([\n",
    "    v2.Grayscale(),\n",
    "    v2.Resize((32, 100)),              # Resize all images to 128x128\n",
    "    # v2.RandoRotation(10),             # Random rotation within 10 degrees\n",
    "    # v2.RandmomPerspective(distortion_scale=0.3, p=1.0),\n",
    "    # v2.ColorJitter(brightness=0.5),     # Random brightness adjustments\n",
    "    # v2.RandomAffine(translate=(0.1, 0.1)),  # Random translation\n",
    "    v2.ToTensor(),                      # Convert PIL image to a PyTorch Tensor\n",
    "    v2.Normalize((0.0,), (0.1,))        # Normalize (mean, std) for grayscale images\n",
    "])\n",
    "\n",
    "val_transforms = v2.Compose([\n",
    "    v2.Grayscale(),\n",
    "    v2.Resize((32, 40)),\n",
    "    v2.ToTensor(),\n",
    "    v2.Normalize((0.0,), (0.1,))\n",
    "])"
   ]
  },
  {
   "cell_type": "markdown",
   "metadata": {
    "id": "sBWEzwGjDdeC"
   },
   "source": [
    "1.5 Split data to Train, test and validation with proportion of 80%, 10% and 10% respectively."
   ]
  },
  {
   "cell_type": "code",
   "execution_count": 13,
   "metadata": {
    "executionInfo": {
     "elapsed": 1,
     "status": "ok",
     "timestamp": 1731607760915,
     "user": {
      "displayName": "arman hajimirza",
      "userId": "14640964011542618369"
     },
     "user_tz": -210
    },
    "id": "_WElUoITxEd0"
   },
   "outputs": [],
   "source": [
    "img_dir = \"persian_unique_ocr_dataset\""
   ]
  },
  {
   "cell_type": "code",
   "execution_count": 14,
   "metadata": {
    "executionInfo": {
     "elapsed": 1,
     "status": "ok",
     "timestamp": 1731607761327,
     "user": {
      "displayName": "arman hajimirza",
      "userId": "14640964011542618369"
     },
     "user_tz": -210
    },
    "id": "58gMPuoXA8oS"
   },
   "outputs": [],
   "source": [
    "dataset = OCRDataset(img_dir, dataset, char_to_index , input_length=24,transform=train_transforms)\n",
    "total_size = len(dataset)\n",
    "\n",
    "# Define split sizes (e.g., 80% training, 10% validation, 10% testing)\n",
    "train_size = int(0.8 * total_size)\n",
    "# val_size = int(0.1 * total_size)\n",
    "val_size = total_size - train_size  # Ensures no data leakage\n",
    "\n",
    "# Split the dataset\n",
    "train_dataset, val_dataset = random_split(dataset, [train_size, val_size])"
   ]
  },
  {
   "cell_type": "code",
   "execution_count": 15,
   "metadata": {
    "executionInfo": {
     "elapsed": 1,
     "status": "ok",
     "timestamp": 1731607762676,
     "user": {
      "displayName": "arman hajimirza",
      "userId": "14640964011542618369"
     },
     "user_tz": -210
    },
    "id": "zbi4rMzCi9mC"
   },
   "outputs": [],
   "source": [
    "def collate_fn(batch):\n",
    "  \"\"\"Custom collate function to handle variable-length sequences.\n",
    "\n",
    "  Args:\n",
    "      batch: A list of data samples, where each sample is a tuple\n",
    "             of (image, label, length).\n",
    "\n",
    "  Returns:\n",
    "      A tuple containing:\n",
    "          images: A batched tensor of images.\n",
    "          labels: A padded tensor of labels.\n",
    "          target_lengths: A tensor of label lengths.\n",
    "  \"\"\"\n",
    "  images, labels, input_lengths, taget_lengths = zip(*batch)\n",
    "\n",
    "  # Pad the labels to the maximum length in the batch\n",
    "  labels = pad_sequence(labels, batch_first=True, padding_value=0)\n",
    "\n",
    "  # Stack the images and lengths\n",
    "  images = torch.stack(images, 0)\n",
    "  input_lengths = torch.tensor(input_lengths)\n",
    "  taget_lengths = torch.tensor(taget_lengths)\n",
    "\n",
    "  return images, labels, input_lengths, taget_lengths"
   ]
  },
  {
   "cell_type": "code",
   "execution_count": 16,
   "metadata": {
    "executionInfo": {
     "elapsed": 1,
     "status": "ok",
     "timestamp": 1731607763816,
     "user": {
      "displayName": "arman hajimirza",
      "userId": "14640964011542618369"
     },
     "user_tz": -210
    },
    "id": "DJ21bJBifv8Y"
   },
   "outputs": [],
   "source": [
    "train_data = DataLoader(train_dataset, batch_size=200, shuffle=True,  collate_fn=collate_fn)\n",
    "# test_data = DataLoader(test_dataset, batch_size=200, shuffle=True,  collate_fn=collate_fn)\n",
    "val_data = DataLoader(val_dataset, batch_size=200, shuffle=True,  collate_fn=collate_fn)"
   ]
  },
  {
   "cell_type": "markdown",
   "metadata": {
    "id": "y6dVY5hMhJQC"
   },
   "source": [
    "### **2 OCR model architecture**"
   ]
  },
  {
   "cell_type": "code",
   "execution_count": 17,
   "metadata": {
    "executionInfo": {
     "elapsed": 1,
     "status": "ok",
     "timestamp": 1731607765289,
     "user": {
      "displayName": "arman hajimirza",
      "userId": "14640964011542618369"
     },
     "user_tz": -210
    },
    "id": "AaUaYPQwfD3n"
   },
   "outputs": [],
   "source": [
    "class CRNN(nn.Module):\n",
    "    def __init__(self, imgH=32, num_channels=1, num_classes=66, hidden_units=256):\n",
    "        super(CRNN, self).__init__()\n",
    "\n",
    "        self.cnn = nn.Sequential(\n",
    "            nn.Conv2d(num_channels, 64, kernel_size=3, stride=1, padding=1),  # Conv1: #maps: 64, k:3 × 3, s:1, p:1\n",
    "            nn.MaxPool2d(kernel_size=(2, 2), stride=(2, 2)),  # MaxPool: Window:2 × 2, s:2\n",
    "\n",
    "            # Second Conv Block (Conv2)\n",
    "            nn.Conv2d(64, 128, kernel_size=3, stride=1, padding=1),  # Conv2: #maps: 128, k:3 × 3, s:1, p:1\n",
    "            nn.MaxPool2d(kernel_size=(2, 2), stride=(2, 2)),  # MaxPool: Window:2 × 2, s:2\n",
    "\n",
    "            # Third Conv Block (Conv3, Conv4)\n",
    "            nn.Conv2d(128, 256, kernel_size=3, stride=1, padding=1),  # Conv3: #maps: 256, k:3 × 3, s:1, p:1\n",
    "            nn.Conv2d(256, 256, kernel_size=3, stride=1, padding=1),  # Conv4: #maps: 256, k:3 × 3, s:1, p:1\n",
    "            nn.MaxPool2d(kernel_size=(2,1), stride=(2,1)),  # MaxPool: Window:2 × 2, s:2\n",
    "\n",
    "            # Fourth Conv Block (Conv5)\n",
    "            nn.Conv2d(256, 512, kernel_size=3, stride=1, padding=1),  # Conv5: #maps: 512, k:3 × 3, s:1, p:1\n",
    "            # nn.MaxPool2d(kernel_size=(1, 2), stride=(2)),\n",
    "            nn.BatchNorm2d(512),\n",
    "            # Fifth Conv Block (Conv6)\n",
    "            nn.Conv2d(512, 512, kernel_size=3, stride=1, padding=1),  # Conv6: #maps: 512, k:3 × 3, s:1, p:1\n",
    "            nn.BatchNorm2d(512),\n",
    "            # nn.Conv2d(512, 512, kernel_size=3, stride=1, padding=1),  # Conv6: #maps: 512, k:3 × 3, s:1, p:1\n",
    "            # nn.BatchNorm2d(512),\n",
    "            nn.MaxPool2d(kernel_size=(2,1), stride=(2,1)),  # MaxPool: Window:1 × 2, s:2\n",
    "\n",
    "            # Sixth Conv Block (Conv7)\n",
    "            nn.Conv2d(512, 512, kernel_size=2, stride=1, padding=0),  # Conv7: #maps: 512, k:2 × 2, s:1, p:0\n",
    "            # nn.MaxPool2d(kernel_size=(1, 2), stride=(2))  # MaxPool: Window:1 × 2, s:2\n",
    "        )\n",
    "        # self.rnn = nn.Sequential(\n",
    "        #     nn.LSTM(512, hidden_units, bidirectional=True, batch_first=True),  # First Bidirectional-LSTM\n",
    "        #     nn.LSTM(hidden_units * 2, hidden_units, bidirectional=True, batch_first=True),  # Second Bidirectional-LSTM\n",
    "        # )\n",
    "        self.rnn1 = nn.LSTM(512, hidden_units, bidirectional=True, batch_first=True)\n",
    "        self.rnn2 = nn.LSTM(hidden_units * 2, hidden_units, bidirectional=True, batch_first=True)\n",
    "        self.fc = nn.Linear(hidden_units * 2, num_classes)\n",
    "    def forward(self, x):\n",
    "              # CNN Feature extraction\n",
    "        conv_out = self.cnn(x)  # Shape: (batch_size, 512, W/16, 1)\n",
    "        # print(conv_out)\n",
    "        # print(\"1\" ,  conv_out.size())\n",
    "        # Permute the dimensions to (batch_size, width, channels) -> suitable for RNN (LSTM)\n",
    "        b, c, h, w = conv_out.size()\n",
    "        assert h == 1, \"Height of conv output must be 1\"\n",
    "        conv_out = conv_out.squeeze(2)  # Remove height dimension, now shape is (batch_size, 512, W/16)\n",
    "        # print(conv_out.size())\n",
    "        conv_out = conv_out.permute(0, 2, 1)  # Shape: (batch_size, W/16, 512)\n",
    "        # print(type(conv_out) , conv_out.size())\n",
    "        # Apply LSTM layers\n",
    "        # print(conv_out)\n",
    "        # print(\"2\" ,  conv_out.size())\n",
    "        # rnn_out, _ = self.rnn(conv_out)  # Shape: (batch_size, W/16, hidden_units*2)\n",
    "        rnn_out, _ = self.rnn1(conv_out)\n",
    "        # print(rnn_out)\n",
    "        # print(\"3\" ,  rnn_out.size())\n",
    "        rnn_out, _ = self.rnn2(rnn_out)\n",
    "        # print(rnn_out)\n",
    "        # print(\"4\" ,  rnn_out.size())\n",
    "\n",
    "        output = self.fc(rnn_out)\n",
    "        # Pass through fully connected layer (output layer)\n",
    "        # output = self.fc(rnn_out)  # Shape: (batch_size, W/16, num_classes)\n",
    "        return output.log_softmax(2)"
   ]
  },
  {
   "cell_type": "code",
   "execution_count": 46,
   "metadata": {
    "executionInfo": {
     "elapsed": 1,
     "status": "ok",
     "timestamp": 1731607769110,
     "user": {
      "displayName": "arman hajimirza",
      "userId": "14640964011542618369"
     },
     "user_tz": -210
    },
    "id": "iWCKu3rPAw54"
   },
   "outputs": [],
   "source": [
    "# Assuming the CRNN class is already defined\n",
    "num_classes = 66  # Adjust for Persian characters + numbers + punctuation + blank token\n",
    "model = CRNN(num_classes=num_classes)\n",
    "# Define CTC Loss and Optimizer\n",
    "criterion = nn.CTCLoss(blank=0)  # 0 as the blank token index\n",
    "optimizer = optim.Adam(model.parameters(), lr=0.001)"
   ]
  },
  {
   "cell_type": "code",
   "execution_count": 49,
   "metadata": {},
   "outputs": [
    {
     "name": "stderr",
     "output_type": "stream",
     "text": [
      "Training:   0%|          | 0/219 [00:00<?, ?it/s]"
     ]
    },
    {
     "name": "stderr",
     "output_type": "stream",
     "text": [
      "                                                                                                                                       \r"
     ]
    },
    {
     "name": "stdout",
     "output_type": "stream",
     "text": [
      "Epoch:  [1/5]\n",
      "Train_Loss: 3.881297704836005, Train_character_accuracy: 3.9302277388327935e-05, Train_word_accuracy: 0.0, Train_WER: 6.541118721461187, Train_CER: 1.0016404692266263\n",
      "Val_Loss: 3.889030798998746, Val_character_accuracy: 0.0, Val_word_accuracy: 0.0, Val_WER: 6.521278538812785, Val_CER: 1.0\n",
      "Improved Train_Loss: 3.881297704836005 -> 3.881297704836005\n",
      "Model checkpoint saved for metric 'Train_Loss' at './checkpoints/best_model_Train_Loss.pth'.\n",
      "Metrics log saved at './checkpoints/metrics_log_Train_Loss.txt'.\n",
      "Improved Val_Loss: 3.889030798998746 -> 3.889030798998746\n",
      "Model checkpoint saved for metric 'Val_Loss' at './checkpoints/best_model_Val_Loss.pth'.\n",
      "Metrics log saved at './checkpoints/metrics_log_Val_Loss.txt'.\n",
      "Improved Train_CER: 1.0016404692266263 -> 1.0016404692266263\n",
      "Model checkpoint saved for metric 'Train_CER' at './checkpoints/best_model_Train_CER.pth'.\n",
      "Metrics log saved at './checkpoints/metrics_log_Train_CER.txt'.\n",
      "Improved Val_character_accuracy: 0.0 -> 0.0\n",
      "Model checkpoint saved for metric 'Val_character_accuracy' at './checkpoints/best_model_Val_character_accuracy.pth'.\n",
      "Metrics log saved at './checkpoints/metrics_log_Val_character_accuracy.txt'.\n",
      "Improved Train_word_accuracy: 0.0 -> 0.0\n",
      "Model checkpoint saved for metric 'Train_word_accuracy' at './checkpoints/best_model_Train_word_accuracy.pth'.\n",
      "Metrics log saved at './checkpoints/metrics_log_Train_word_accuracy.txt'.\n"
     ]
    },
    {
     "name": "stderr",
     "output_type": "stream",
     "text": [
      "                                                                                                                                              \r"
     ]
    },
    {
     "name": "stdout",
     "output_type": "stream",
     "text": [
      "Epoch:  [2/5]\n",
      "Train_Loss: 3.240883633426335, Train_character_accuracy: 0.011003347480898939, Train_word_accuracy: 2.2831050228310503e-05, Train_WER: 6.341803652968037, Train_CER: 0.969886927951363\n",
      "Val_Loss: 3.451793761686845, Val_character_accuracy: 0.04928518412435952, Val_word_accuracy: 9.132420091324201e-05, Val_WER: 5.600091324200913, Val_CER: 0.8596014596120728\n",
      "Improved Train_Loss: 3.881297704836005 -> 3.240883633426335\n",
      "Model checkpoint saved for metric 'Train_Loss' at './checkpoints/best_model_Train_Loss.pth'.\n",
      "Metrics log saved at './checkpoints/metrics_log_Train_Loss.txt'.\n",
      "Improved Val_Loss: 3.889030798998746 -> 3.451793761686845\n",
      "Model checkpoint saved for metric 'Val_Loss' at './checkpoints/best_model_Val_Loss.pth'.\n",
      "Metrics log saved at './checkpoints/metrics_log_Val_Loss.txt'.\n",
      "Improved Train_CER: 1.0016404692266263 -> 0.969886927951363\n",
      "Model checkpoint saved for metric 'Train_CER' at './checkpoints/best_model_Train_CER.pth'.\n",
      "Metrics log saved at './checkpoints/metrics_log_Train_CER.txt'.\n",
      "Improved Val_character_accuracy: 0.0 -> 0.04928518412435952\n",
      "Model checkpoint saved for metric 'Val_character_accuracy' at './checkpoints/best_model_Val_character_accuracy.pth'.\n",
      "Metrics log saved at './checkpoints/metrics_log_Val_character_accuracy.txt'.\n",
      "Improved Train_word_accuracy: 0.0 -> 2.2831050228310503e-05\n",
      "Model checkpoint saved for metric 'Train_word_accuracy' at './checkpoints/best_model_Train_word_accuracy.pth'.\n",
      "Metrics log saved at './checkpoints/metrics_log_Train_word_accuracy.txt'.\n"
     ]
    },
    {
     "name": "stderr",
     "output_type": "stream",
     "text": [
      "                                                                                                                                              \r"
     ]
    },
    {
     "name": "stdout",
     "output_type": "stream",
     "text": [
      "Epoch:  [3/5]\n",
      "Train_Loss: 2.8536793826377553, Train_character_accuracy: 0.07134631080734602, Train_word_accuracy: 0.006986301369863014, Train_WER: 5.352260273972603, Train_CER: 0.8039594455516168\n",
      "Val_Loss: 2.519011519171975, Val_character_accuracy: 0.13443345034553875, Val_word_accuracy: 0.08812785388127854, Val_WER: 4.734246575342466, Val_CER: 0.6833634106875759\n",
      "Improved Train_Loss: 3.240883633426335 -> 2.8536793826377553\n",
      "Model checkpoint saved for metric 'Train_Loss' at './checkpoints/best_model_Train_Loss.pth'.\n",
      "Metrics log saved at './checkpoints/metrics_log_Train_Loss.txt'.\n",
      "Improved Val_Loss: 3.451793761686845 -> 2.519011519171975\n",
      "Model checkpoint saved for metric 'Val_Loss' at './checkpoints/best_model_Val_Loss.pth'.\n",
      "Metrics log saved at './checkpoints/metrics_log_Val_Loss.txt'.\n",
      "Improved Train_CER: 0.969886927951363 -> 0.8039594455516168\n",
      "Model checkpoint saved for metric 'Train_CER' at './checkpoints/best_model_Train_CER.pth'.\n",
      "Metrics log saved at './checkpoints/metrics_log_Train_CER.txt'.\n",
      "Improved Val_character_accuracy: 0.04928518412435952 -> 0.13443345034553875\n",
      "Model checkpoint saved for metric 'Val_character_accuracy' at './checkpoints/best_model_Val_character_accuracy.pth'.\n",
      "Metrics log saved at './checkpoints/metrics_log_Val_character_accuracy.txt'.\n",
      "Improved Train_word_accuracy: 2.2831050228310503e-05 -> 0.006986301369863014\n",
      "Model checkpoint saved for metric 'Train_word_accuracy' at './checkpoints/best_model_Train_word_accuracy.pth'.\n",
      "Metrics log saved at './checkpoints/metrics_log_Train_word_accuracy.txt'.\n"
     ]
    },
    {
     "name": "stderr",
     "output_type": "stream",
     "text": [
      "                                                                                                                                          \r"
     ]
    },
    {
     "name": "stdout",
     "output_type": "stream",
     "text": [
      "Epoch:  [4/5]\n",
      "Train_Loss: 2.1840429316916965, Train_character_accuracy: 0.1577166414908857, Train_word_accuracy: 0.10986301369863014, Train_WER: 4.256826484018265, Train_CER: 0.6039600396005961\n",
      "Val_Loss: 2.1320114482532846, Val_character_accuracy: 0.15836870712793297, Val_word_accuracy: 0.11945205479452055, Val_WER: 4.091232876712329, Val_CER: 0.5785097934593563\n",
      "Improved Train_Loss: 2.8536793826377553 -> 2.1840429316916965\n",
      "Model checkpoint saved for metric 'Train_Loss' at './checkpoints/best_model_Train_Loss.pth'.\n",
      "Metrics log saved at './checkpoints/metrics_log_Train_Loss.txt'.\n",
      "Improved Val_Loss: 2.519011519171975 -> 2.1320114482532846\n",
      "Model checkpoint saved for metric 'Val_Loss' at './checkpoints/best_model_Val_Loss.pth'.\n",
      "Metrics log saved at './checkpoints/metrics_log_Val_Loss.txt'.\n",
      "Improved Train_CER: 0.8039594455516168 -> 0.6039600396005961\n",
      "Model checkpoint saved for metric 'Train_CER' at './checkpoints/best_model_Train_CER.pth'.\n",
      "Metrics log saved at './checkpoints/metrics_log_Train_CER.txt'.\n",
      "Improved Val_character_accuracy: 0.13443345034553875 -> 0.15836870712793297\n",
      "Model checkpoint saved for metric 'Val_character_accuracy' at './checkpoints/best_model_Val_character_accuracy.pth'.\n",
      "Metrics log saved at './checkpoints/metrics_log_Val_character_accuracy.txt'.\n",
      "Improved Train_word_accuracy: 0.006986301369863014 -> 0.10986301369863014\n",
      "Model checkpoint saved for metric 'Train_word_accuracy' at './checkpoints/best_model_Train_word_accuracy.pth'.\n",
      "Metrics log saved at './checkpoints/metrics_log_Train_word_accuracy.txt'.\n"
     ]
    },
    {
     "name": "stderr",
     "output_type": "stream",
     "text": [
      "                                                                                                                                          \r"
     ]
    },
    {
     "name": "stdout",
     "output_type": "stream",
     "text": [
      "Epoch:  [5/5]\n",
      "Train_Loss: 1.5261642159936635, Train_character_accuracy: 0.2362937938406762, Train_word_accuracy: 0.13885844748858447, Train_WER: 3.212420091324201, Train_CER: 0.4420603553933584\n",
      "Val_Loss: 1.3186275438828903, Val_character_accuracy: 0.2763224485538365, Val_word_accuracy: 0.1521461187214612, Val_WER: 2.8745205479452056, Val_CER: 0.3900318584154944\n",
      "Improved Train_Loss: 2.1840429316916965 -> 1.5261642159936635\n",
      "Model checkpoint saved for metric 'Train_Loss' at './checkpoints/best_model_Train_Loss.pth'.\n",
      "Metrics log saved at './checkpoints/metrics_log_Train_Loss.txt'.\n",
      "Improved Val_Loss: 2.1320114482532846 -> 1.3186275438828903\n",
      "Model checkpoint saved for metric 'Val_Loss' at './checkpoints/best_model_Val_Loss.pth'.\n",
      "Metrics log saved at './checkpoints/metrics_log_Val_Loss.txt'.\n",
      "Improved Train_CER: 0.6039600396005961 -> 0.4420603553933584\n",
      "Model checkpoint saved for metric 'Train_CER' at './checkpoints/best_model_Train_CER.pth'.\n",
      "Metrics log saved at './checkpoints/metrics_log_Train_CER.txt'.\n",
      "Improved Val_character_accuracy: 0.15836870712793297 -> 0.2763224485538365\n",
      "Model checkpoint saved for metric 'Val_character_accuracy' at './checkpoints/best_model_Val_character_accuracy.pth'.\n",
      "Metrics log saved at './checkpoints/metrics_log_Val_character_accuracy.txt'.\n",
      "Improved Train_word_accuracy: 0.10986301369863014 -> 0.13885844748858447\n",
      "Model checkpoint saved for metric 'Train_word_accuracy' at './checkpoints/best_model_Train_word_accuracy.pth'.\n",
      "Metrics log saved at './checkpoints/metrics_log_Train_word_accuracy.txt'.\n"
     ]
    },
    {
     "ename": "ValueError",
     "evalue": "too many values to unpack (expected 2)",
     "output_type": "error",
     "traceback": [
      "\u001b[0;31m---------------------------------------------------------------------------\u001b[0m",
      "\u001b[0;31mValueError\u001b[0m                                Traceback (most recent call last)",
      "Cell \u001b[0;32mIn[49], line 7\u001b[0m\n\u001b[1;32m      5\u001b[0m checkpoint \u001b[38;5;241m=\u001b[39m {\u001b[38;5;124m\"\u001b[39m\u001b[38;5;124mpath\u001b[39m\u001b[38;5;124m\"\u001b[39m: \u001b[38;5;124m\"\u001b[39m\u001b[38;5;124m./checkpoints\u001b[39m\u001b[38;5;124m\"\u001b[39m, \u001b[38;5;124m\"\u001b[39m\u001b[38;5;124mmetrics\u001b[39m\u001b[38;5;124m\"\u001b[39m:[\u001b[38;5;124m\"\u001b[39m\u001b[38;5;124mTrain_Loss\u001b[39m\u001b[38;5;124m\"\u001b[39m, \u001b[38;5;124m\"\u001b[39m\u001b[38;5;124mVal_Loss\u001b[39m\u001b[38;5;124m\"\u001b[39m, \u001b[38;5;124m\"\u001b[39m\u001b[38;5;124mTrain_CER\u001b[39m\u001b[38;5;124m\"\u001b[39m , \u001b[38;5;124m\"\u001b[39m\u001b[38;5;124mVal_character_accuracy\u001b[39m\u001b[38;5;124m\"\u001b[39m, \u001b[38;5;124m\"\u001b[39m\u001b[38;5;124mTrain_word_accuracy\u001b[39m\u001b[38;5;124m\"\u001b[39m]}\n\u001b[1;32m      6\u001b[0m train_CRNN \u001b[38;5;241m=\u001b[39m Train\u001b[38;5;241m.\u001b[39mTrain(model \u001b[38;5;241m=\u001b[39m model, train_loader \u001b[38;5;241m=\u001b[39m train_data, val_loader \u001b[38;5;241m=\u001b[39m val_data, criterion\u001b[38;5;241m=\u001b[39mcriterion, optimizer\u001b[38;5;241m=\u001b[39moptimizer, device \u001b[38;5;241m=\u001b[39m device, char_to_index\u001b[38;5;241m=\u001b[39mchar_to_index, metrics\u001b[38;5;241m=\u001b[39m[\u001b[38;5;124m\"\u001b[39m\u001b[38;5;124mcharacter_accuracy\u001b[39m\u001b[38;5;124m\"\u001b[39m, \u001b[38;5;124m\"\u001b[39m\u001b[38;5;124mword_accuracy\u001b[39m\u001b[38;5;124m\"\u001b[39m, \u001b[38;5;124m\"\u001b[39m\u001b[38;5;124mWER\u001b[39m\u001b[38;5;124m\"\u001b[39m, \u001b[38;5;124m\"\u001b[39m\u001b[38;5;124mCER\u001b[39m\u001b[38;5;124m\"\u001b[39m], num_epochs\u001b[38;5;241m=\u001b[39m\u001b[38;5;241m5\u001b[39m)\n\u001b[0;32m----> 7\u001b[0m \u001b[43mtrain_CRNN\u001b[49m\u001b[38;5;241;43m.\u001b[39;49m\u001b[43mfit\u001b[49m\u001b[43m(\u001b[49m\u001b[43mplot\u001b[49m\u001b[38;5;241;43m=\u001b[39;49m\u001b[38;5;28;43;01mTrue\u001b[39;49;00m\u001b[43m,\u001b[49m\u001b[38;5;241;43m*\u001b[39;49m\u001b[38;5;241;43m*\u001b[39;49m\u001b[43mcheckpoint\u001b[49m\u001b[43m)\u001b[49m\n",
      "File \u001b[0;32m~/OCR_Project/Train.py:75\u001b[0m, in \u001b[0;36mTrain.fit\u001b[0;34m(self, plot, **checkpoint)\u001b[0m\n\u001b[1;32m     73\u001b[0m         \u001b[38;5;28mself\u001b[39m\u001b[38;5;241m.\u001b[39mcheckpoint(epoch, path, metrics)\n\u001b[1;32m     74\u001b[0m \u001b[38;5;28;01mif\u001b[39;00m plot:\n\u001b[0;32m---> 75\u001b[0m     \u001b[38;5;28;43mself\u001b[39;49m\u001b[38;5;241;43m.\u001b[39;49m\u001b[43mplot\u001b[49m\u001b[43m(\u001b[49m\u001b[43m)\u001b[49m\n",
      "File \u001b[0;32m~/OCR_Project/Train.py:302\u001b[0m, in \u001b[0;36mTrain.plot\u001b[0;34m(self)\u001b[0m\n\u001b[1;32m    301\u001b[0m \u001b[38;5;28;01mdef\u001b[39;00m \u001b[38;5;21mplot\u001b[39m(\u001b[38;5;28mself\u001b[39m):\n\u001b[0;32m--> 302\u001b[0m     \u001b[38;5;28;01mfor\u001b[39;00m key,value \u001b[38;5;129;01min\u001b[39;00m \u001b[38;5;28mself\u001b[39m\u001b[38;5;241m.\u001b[39mmodel_results_train:\n\u001b[1;32m    303\u001b[0m         plt\u001b[38;5;241m.\u001b[39mplot (\u001b[38;5;28mrange\u001b[39m(\u001b[38;5;28mself\u001b[39m\u001b[38;5;241m.\u001b[39mnum_epochs), value, label \u001b[38;5;241m=\u001b[39m \u001b[38;5;124mf\u001b[39m\u001b[38;5;124m'\u001b[39m\u001b[38;5;124mTrain_\u001b[39m\u001b[38;5;132;01m{\u001b[39;00mkey\u001b[38;5;132;01m}\u001b[39;00m\u001b[38;5;124m'\u001b[39m)\n\u001b[1;32m    304\u001b[0m         plt\u001b[38;5;241m.\u001b[39mplot(value, label\u001b[38;5;241m=\u001b[39m\u001b[38;5;124mf\u001b[39m\u001b[38;5;124m'\u001b[39m\u001b[38;5;124mVal_\u001b[39m\u001b[38;5;132;01m{\u001b[39;00mkey\u001b[38;5;132;01m}\u001b[39;00m\u001b[38;5;124m'\u001b[39m)\n",
      "\u001b[0;31mValueError\u001b[0m: too many values to unpack (expected 2)"
     ]
    }
   ],
   "source": [
    "import importlib\n",
    "import Train\n",
    "importlib.reload(Train)\n",
    "device = torch.device(\"cuda\" if torch.cuda.is_available() else \"cpu\")\n",
    "checkpoint = {\"path\": \"./checkpoints\", \"metrics\":[\"Train_Loss\", \"Val_Loss\", \"Train_CER\" , \"Val_character_accuracy\", \"Train_word_accuracy\"]}\n",
    "train_CRNN = Train.Train(model = model, train_loader = train_data, val_loader = val_data, criterion=criterion, optimizer=optimizer, device = device, char_to_index=char_to_index, metrics=[\"character_accuracy\", \"word_accuracy\", \"WER\", \"CER\"], num_epochs=5)\n",
    "train_CRNN.fit(plot=True,**checkpoint)"
   ]
  },
  {
   "cell_type": "markdown",
   "metadata": {
    "id": "9lewVuhEIkTN"
   },
   "source": []
  },
  {
   "cell_type": "code",
   "execution_count": 45,
   "metadata": {},
   "outputs": [
    {
     "data": {
      "image/png": "[encoded data removed]",
      "text/plain": [
       "<Figure size 640x480 with 1 Axes>"
      ]
     },
     "metadata": {},
     "output_type": "display_data"
    }
   ],
   "source": [
    "import matplotlib.pyplot as plt\n",
    "\n",
    "plt.plot (range (50), train_CRNN.model_results_train[\"Loss\"], label = 'Train Loss')\n",
    "plt.plot(train_CRNN.model_results_val[\"Loss\"],label='Val_loss')\n",
    "plt.legend()\n",
    "plt.show()"
   ]
  },
  {
   "cell_type": "code",
   "execution_count": 27,
   "metadata": {
    "executionInfo": {
     "elapsed": 1,
     "status": "ok",
     "timestamp": 1731613287629,
     "user": {
      "displayName": "arman hajimirza",
      "userId": "14640964011542618369"
     },
     "user_tz": -210
    },
    "id": "_S5bftjAllPH"
   },
   "outputs": [],
   "source": [
    "def Conf_matrix(model, dataloader, device , num_classes = 66):\n",
    "    model.eval()\n",
    "    all_predictions = []\n",
    "    all_targets = []\n",
    "\n",
    "    with torch.no_grad():  # No gradients needed for validation\n",
    "        for images, targets, input_lengths, target_lengths in dataloader:\n",
    "            images, targets = images.to(device), targets.to(device)\n",
    "\n",
    "            # Get model predictions\n",
    "            logits = model(images)\n",
    "            log_probs = logits.permute(1, 0, 2)  # (T, N, C)\n",
    "            predictions = log_probs.argmax(2).transpose(0, 1).cpu().numpy()  # (batch_size, max_seq_len)\n",
    "\n",
    "            # Decode predictions and targets\n",
    "            pred_texts = ctc_decode(predictions, blank=0)  # Decode predictions\n",
    "            target_texts = [targets[i][:target_lengths[i]].tolist() for i in range(len(targets))]\n",
    "\n",
    "            # Debugging\n",
    "            # print(\"Batch:\")\n",
    "            # print(\"Predictions (raw):\", predictions)\n",
    "            # print(\"Decoded Predictions:\", pred_texts)\n",
    "            # print(\"Targets (raw):\", target_texts)\n",
    "\n",
    "            # Align predictions and targets\n",
    "            for pred, target in zip(pred_texts, target_texts):\n",
    "                # print(\"Pred (aligned):  \", pred)\n",
    "                # print(\"Target (aligned):\", target)\n",
    "                min_len = min(len(pred), len(target))  # Align lengths\n",
    "                all_predictions.extend(pred[:min_len])  # Add aligned predictions\n",
    "                all_targets.extend(target[:min_len])   # Add aligned targets\n",
    "\n",
    "    # Compute confusion matrix\n",
    "    labels = list(range(num_classes))  # Labels are [0, 1, 2, ..., num_classes-1]\n",
    "    cf_matrix = confusion_matrix(all_targets, all_predictions, labels=labels)\n",
    "    return cf_matrix\n"
   ]
  },
  {
   "cell_type": "code",
   "execution_count": 28,
   "metadata": {
    "colab": {
     "base_uri": "https://localhost:8080/",
     "height": 491
    },
    "executionInfo": {
     "elapsed": 5,
     "status": "ok",
     "timestamp": 1731613474693,
     "user": {
      "displayName": "arman hajimirza",
      "userId": "14640964011542618369"
     },
     "user_tz": -210
    },
    "id": "jJRDis-C35PE",
    "outputId": "26c227b0-21f9-48b9-d2b6-f4cdf33556b0"
   },
   "outputs": [
    {
     "name": "stdout",
     "output_type": "stream",
     "text": [
      "[[   0    0    0 ...    0    0    0]\n",
      " [   0   12    0 ...    0    1    0]\n",
      " [   0    0    0 ...    0    0    0]\n",
      " ...\n",
      " [   0    0    0 ... 1542    2    0]\n",
      " [   0    0    0 ...    6  368    0]\n",
      " [   0    0    0 ...    0    0    7]]\n"
     ]
    },
    {
     "data": {
      "text/plain": [
       "<sklearn.metrics._plot.confusion_matrix.ConfusionMatrixDisplay at 0x7fbd1778eaa0>"
      ]
     },
     "execution_count": 28,
     "metadata": {},
     "output_type": "execute_result"
    },
    {
     "data": {
      "image/png": "[encoded data removed]",
      "text/plain": [
       "<Figure size 640x480 with 2 Axes>"
      ]
     },
     "metadata": {},
     "output_type": "display_data"
    }
   ],
   "source": [
    "cm = Conf_matrix(model, val_data, device)\n",
    "print(cm)\n",
    "disp = ConfusionMatrixDisplay(confusion_matrix=cm)\n",
    "disp.plot()"
   ]
  },
  {
   "cell_type": "code",
   "execution_count": 30,
   "metadata": {
    "colab": {
     "base_uri": "https://localhost:8080/",
     "height": 968
    },
    "executionInfo": {
     "elapsed": 5,
     "status": "ok",
     "timestamp": 1731613509434,
     "user": {
      "displayName": "arman hajimirza",
      "userId": "14640964011542618369"
     },
     "user_tz": -210
    },
    "id": "vYm6bMEcJ6P0",
    "outputId": "777be9e2-88e2-4aca-b53c-e174bb3748a5"
   },
   "outputs": [
    {
     "name": "stderr",
     "output_type": "stream",
     "text": [
      "/home/dornika/OCR_Project/OCR_env/lib/python3.10/site-packages/IPython/core/pylabtools.py:170: UserWarning: Glyph 1728 (\\N{ARABIC LETTER HEH WITH YEH ABOVE}) missing from current font.\n",
      "  fig.canvas.print_figure(bytes_io, **kw)\n",
      "/home/dornika/OCR_Project/OCR_env/lib/python3.10/site-packages/IPython/core/pylabtools.py:170: UserWarning: Matplotlib currently does not support Arabic natively.\n",
      "  fig.canvas.print_figure(bytes_io, **kw)\n"
     ]
    },
    {
     "data": {
      "image/png": "[encoded data removed]",
      "text/plain": [
       "<Figure size 1200x1000 with 2 Axes>"
      ]
     },
     "metadata": {},
     "output_type": "display_data"
    }
   ],
   "source": [
    "import matplotlib.pyplot as plt\n",
    "import seaborn as sns\n",
    "from sklearn.metrics import confusion_matrix\n",
    "\n",
    "def plot_confusion_matrix(cf_matrix, class_names):\n",
    "    plt.figure(figsize=(12, 10))  # Increase the figure size for better readability\n",
    "    sns.heatmap(cf_matrix, annot=False, fmt='g', cmap='viridis', cbar=True)\n",
    "\n",
    "    # Set tick labels to be rotated and readable\n",
    "    plt.xticks(ticks=range(len(class_names)), labels=class_names, rotation=90)\n",
    "    plt.yticks(ticks=range(len(class_names)), labels=class_names, rotation=0)\n",
    "\n",
    "    plt.xlabel('Predicted Label')\n",
    "    plt.ylabel('True Label')\n",
    "    plt.title('Confusion Matrix')\n",
    "    plt.show()\n",
    "\n",
    "# Example usage:\n",
    "# class_names should be a list of labels, e.g., ['a', 'b', 'c', ...]\n",
    "# cf_matrix is the confusion matrix array obtained from your function\n",
    "# class_names = [str(i) for i in range(len(cf_matrix))]  # Generate class labels if not available\n",
    "plot_confusion_matrix(cm, char_list)\n"
   ]
  },
  {
   "cell_type": "code",
   "execution_count": 69,
   "metadata": {
    "executionInfo": {
     "elapsed": 2,
     "status": "ok",
     "timestamp": 1731613988973,
     "user": {
      "displayName": "arman hajimirza",
      "userId": "14640964011542618369"
     },
     "user_tz": -210
    },
    "id": "gGMu9ILdMrLX"
   },
   "outputs": [],
   "source": [
    "def OCR(image , char_to_index):\n",
    "  model.eval()\n",
    "  transformed_image = train_transforms(image)\n",
    "  model_input = transformed_image.unsqueeze(0)\n",
    "  x = model_input.to(device)\n",
    "  model_output = model(x)\n",
    "  model_output = model_output.permute(1, 0, 2)\n",
    "  predictions = model_output.argmax(2).transpose(0, 1).cpu().numpy()\n",
    "  predictions = ctc_decode(predictions, blank=0)\n",
    "  print(predictions)\n",
    "  results = []\n",
    "  for text in predictions:\n",
    "    text_output = [list(char_to_index.keys())[list(char_to_index.values()).index(index)] for index in text ]\n",
    "    results.append(text_output)\n",
    "  return results\n"
   ]
  },
  {
   "cell_type": "code",
   "execution_count": 102,
   "metadata": {
    "executionInfo": {
     "elapsed": 433,
     "status": "ok",
     "timestamp": 1731614648464,
     "user": {
      "displayName": "arman hajimirza",
      "userId": "14640964011542618369"
     },
     "user_tz": -210
    },
    "id": "lGh8dIdXPnIt"
   },
   "outputs": [],
   "source": [
    "image = Image.open(\"/content/persian_unique_ocr_dataset/04558_156_35334.png\").convert(\"RGB\")"
   ]
  },
  {
   "cell_type": "code",
   "execution_count": 79,
   "metadata": {
    "colab": {
     "base_uri": "https://localhost:8080/",
     "height": 363
    },
    "executionInfo": {
     "elapsed": 526,
     "status": "ok",
     "timestamp": 1731614236866,
     "user": {
      "displayName": "arman hajimirza",
      "userId": "14640964011542618369"
     },
     "user_tz": -210
    },
    "id": "cSfzxiodPnRm",
    "outputId": "580e0a3e-34d1-4455-9dde-5de2fcd06fe9"
   },
   "outputs": [
    {
     "data": {
      "application/vnd.google.colaboratory.intrinsic+json": {
       "summary": "{\n  \"name\": \"test\",\n  \"rows\": 6084,\n  \"fields\": [\n    {\n      \"column\": \"index\",\n      \"properties\": {\n        \"dtype\": \"number\",\n        \"std\": 393013,\n        \"min\": 6,\n        \"max\": 1306138,\n        \"num_unique_values\": 6084,\n        \"samples\": [\n          603350,\n          765456,\n          818301\n        ],\n        \"semantic_type\": \"\",\n        \"description\": \"\"\n      }\n    },\n    {\n      \"column\": \"label\",\n      \"properties\": {\n        \"dtype\": \"string\",\n        \"num_unique_values\": 6084,\n        \"samples\": [\n          \"4242\",\n          \"\\u00ab\\u0647\\u0645\\u0627\\u0647\\u0646\\u06af\\u06cc\",\n          \"\\u067e\\u0634\\u062a\\u06cc\"\n        ],\n        \"semantic_type\": \"\",\n        \"description\": \"\"\n      }\n    },\n    {\n      \"column\": \"page\",\n      \"properties\": {\n        \"dtype\": \"number\",\n        \"std\": 2004,\n        \"min\": 4,\n        \"max\": 7000,\n        \"num_unique_values\": 3533,\n        \"samples\": [\n          5336,\n          3802,\n          5711\n        ],\n        \"semantic_type\": \"\",\n        \"description\": \"\"\n      }\n    },\n    {\n      \"column\": \"top_left_y\",\n      \"properties\": {\n        \"dtype\": \"number\",\n        \"std\": 212,\n        \"min\": 17,\n        \"max\": 735,\n        \"num_unique_values\": 53,\n        \"samples\": [\n          205,\n          505,\n          735\n        ],\n        \"semantic_type\": \"\",\n        \"description\": \"\"\n      }\n    },\n    {\n      \"column\": \"bot_right_y\",\n      \"properties\": {\n        \"dtype\": \"number\",\n        \"std\": 214,\n        \"min\": 34,\n        \"max\": 765,\n        \"num_unique_values\": 53,\n        \"samples\": [\n          235,\n          535,\n          765\n        ],\n        \"semantic_type\": \"\",\n        \"description\": \"\"\n      }\n    },\n    {\n      \"column\": \"top_left_x\",\n      \"properties\": {\n        \"dtype\": \"number\",\n        \"std\": 160,\n        \"min\": 42,\n        \"max\": 564,\n        \"num_unique_values\": 507,\n        \"samples\": [\n          508,\n          447,\n          187\n        ],\n        \"semantic_type\": \"\",\n        \"description\": \"\"\n      }\n    },\n    {\n      \"column\": \"bot_right_x\",\n      \"properties\": {\n        \"dtype\": \"number\",\n        \"std\": 159,\n        \"min\": 58,\n        \"max\": 586,\n        \"num_unique_values\": 508,\n        \"samples\": [\n          208,\n          229,\n          182\n        ],\n        \"semantic_type\": \"\",\n        \"description\": \"\"\n      }\n    },\n    {\n      \"column\": \"path\",\n      \"properties\": {\n        \"dtype\": \"string\",\n        \"num_unique_values\": 6084,\n        \"samples\": [\n          \"04242_0_603350.png\",\n          \"03957_71_765456.png\",\n          \"05564_45_818301.png\"\n        ],\n        \"semantic_type\": \"\",\n        \"description\": \"\"\n      }\n    }\n  ]\n}",
       "type": "dataframe",
       "variable_name": "test"
      },
      "text/html": [
       "\n",
       "  <div id=\"df-5edec6d9-e42f-4963-941d-a0fb588eafc1\" class=\"colab-df-container\">\n",
       "    <div>\n",
       "<style scoped>\n",
       "    .dataframe tbody tr th:only-of-type {\n",
       "        vertical-align: middle;\n",
       "    }\n",
       "\n",
       "    .dataframe tbody tr th {\n",
       "        vertical-align: top;\n",
       "    }\n",
       "\n",
       "    .dataframe thead th {\n",
       "        text-align: right;\n",
       "    }\n",
       "</style>\n",
       "<table border=\"1\" class=\"dataframe\">\n",
       "  <thead>\n",
       "    <tr style=\"text-align: right;\">\n",
       "      <th></th>\n",
       "      <th>index</th>\n",
       "      <th>label</th>\n",
       "      <th>page</th>\n",
       "      <th>top_left_y</th>\n",
       "      <th>bot_right_y</th>\n",
       "      <th>top_left_x</th>\n",
       "      <th>bot_right_x</th>\n",
       "      <th>path</th>\n",
       "    </tr>\n",
       "  </thead>\n",
       "  <tbody>\n",
       "    <tr>\n",
       "      <th>0</th>\n",
       "      <td>518242</td>\n",
       "      <td>اغماض،</td>\n",
       "      <td>4964</td>\n",
       "      <td>520</td>\n",
       "      <td>550</td>\n",
       "      <td>45</td>\n",
       "      <td>103</td>\n",
       "      <td>04964_166_518242.png</td>\n",
       "    </tr>\n",
       "    <tr>\n",
       "      <th>1</th>\n",
       "      <td>648841</td>\n",
       "      <td>مرجعیت</td>\n",
       "      <td>5210</td>\n",
       "      <td>645</td>\n",
       "      <td>675</td>\n",
       "      <td>203</td>\n",
       "      <td>260</td>\n",
       "      <td>05210_164_648841.png</td>\n",
       "    </tr>\n",
       "    <tr>\n",
       "      <th>2</th>\n",
       "      <td>543131</td>\n",
       "      <td>تأثر،</td>\n",
       "      <td>4692</td>\n",
       "      <td>610</td>\n",
       "      <td>640</td>\n",
       "      <td>428</td>\n",
       "      <td>462</td>\n",
       "      <td>04692_131_543131.png</td>\n",
       "    </tr>\n",
       "    <tr>\n",
       "      <th>3</th>\n",
       "      <td>579292</td>\n",
       "      <td>همکاریشیما</td>\n",
       "      <td>5069</td>\n",
       "      <td>625</td>\n",
       "      <td>655</td>\n",
       "      <td>45</td>\n",
       "      <td>129</td>\n",
       "      <td>05069_183_579292.png</td>\n",
       "    </tr>\n",
       "    <tr>\n",
       "      <th>4</th>\n",
       "      <td>652706</td>\n",
       "      <td>داستان‌نویس،</td>\n",
       "      <td>5066</td>\n",
       "      <td>520</td>\n",
       "      <td>550</td>\n",
       "      <td>199</td>\n",
       "      <td>295</td>\n",
       "      <td>05066_145_652706.png</td>\n",
       "    </tr>\n",
       "    <tr>\n",
       "      <th>5</th>\n",
       "      <td>1015608</td>\n",
       "      <td>وفقط</td>\n",
       "      <td>4284</td>\n",
       "      <td>450</td>\n",
       "      <td>480</td>\n",
       "      <td>227</td>\n",
       "      <td>264</td>\n",
       "      <td>04284_139_1015608.png</td>\n",
       "    </tr>\n",
       "    <tr>\n",
       "      <th>6</th>\n",
       "      <td>35334</td>\n",
       "      <td>صحرایی</td>\n",
       "      <td>4558</td>\n",
       "      <td>610</td>\n",
       "      <td>640</td>\n",
       "      <td>348</td>\n",
       "      <td>408</td>\n",
       "      <td>04558_156_35334.png</td>\n",
       "    </tr>\n",
       "    <tr>\n",
       "      <th>7</th>\n",
       "      <td>141224</td>\n",
       "      <td>دریافت.</td>\n",
       "      <td>3445</td>\n",
       "      <td>380</td>\n",
       "      <td>410</td>\n",
       "      <td>452</td>\n",
       "      <td>512</td>\n",
       "      <td>03445_105_141224.png</td>\n",
       "    </tr>\n",
       "    <tr>\n",
       "      <th>8</th>\n",
       "      <td>39708</td>\n",
       "      <td>قطار</td>\n",
       "      <td>3051</td>\n",
       "      <td>135</td>\n",
       "      <td>165</td>\n",
       "      <td>190</td>\n",
       "      <td>222</td>\n",
       "      <td>03051_25_39708.png</td>\n",
       "    </tr>\n",
       "    <tr>\n",
       "      <th>9</th>\n",
       "      <td>37847</td>\n",
       "      <td>افشای</td>\n",
       "      <td>4444</td>\n",
       "      <td>330</td>\n",
       "      <td>360</td>\n",
       "      <td>525</td>\n",
       "      <td>575</td>\n",
       "      <td>04444_74_37847.png</td>\n",
       "    </tr>\n",
       "  </tbody>\n",
       "</table>\n",
       "</div>\n",
       "    <div class=\"colab-df-buttons\">\n",
       "\n",
       "  <div class=\"colab-df-container\">\n",
       "    <button class=\"colab-df-convert\" onclick=\"convertToInteractive('df-5edec6d9-e42f-4963-941d-a0fb588eafc1')\"\n",
       "            title=\"Convert this dataframe to an interactive table.\"\n",
       "            style=\"display:none;\">\n",
       "\n",
       "  <svg xmlns=\"http://www.w3.org/2000/svg\" height=\"24px\" viewBox=\"0 -960 960 960\">\n",
       "    <path d=\"M120-120v-720h720v720H120Zm60-500h600v-160H180v160Zm220 220h160v-160H400v160Zm0 220h160v-160H400v160ZM180-400h160v-160H180v160Zm440 0h160v-160H620v160ZM180-180h160v-160H180v160Zm440 0h160v-160H620v160Z\"/>\n",
       "  </svg>\n",
       "    </button>\n",
       "\n",
       "  <style>\n",
       "    .colab-df-container {\n",
       "      display:flex;\n",
       "      gap: 12px;\n",
       "    }\n",
       "\n",
       "    .colab-df-convert {\n",
       "      background-color: #E8F0FE;\n",
       "      border: none;\n",
       "      border-radius: 50%;\n",
       "      cursor: pointer;\n",
       "      display: none;\n",
       "      fill: #1967D2;\n",
       "      height: 32px;\n",
       "      padding: 0 0 0 0;\n",
       "      width: 32px;\n",
       "    }\n",
       "\n",
       "    .colab-df-convert:hover {\n",
       "      background-color: #E2EBFA;\n",
       "      box-shadow: 0px 1px 2px rgba(60, 64, 67, 0.3), 0px 1px 3px 1px rgba(60, 64, 67, 0.15);\n",
       "      fill: #174EA6;\n",
       "    }\n",
       "\n",
       "    .colab-df-buttons div {\n",
       "      margin-bottom: 4px;\n",
       "    }\n",
       "\n",
       "    [theme=dark] .colab-df-convert {\n",
       "      background-color: #3B4455;\n",
       "      fill: #D2E3FC;\n",
       "    }\n",
       "\n",
       "    [theme=dark] .colab-df-convert:hover {\n",
       "      background-color: #434B5C;\n",
       "      box-shadow: 0px 1px 3px 1px rgba(0, 0, 0, 0.15);\n",
       "      filter: drop-shadow(0px 1px 2px rgba(0, 0, 0, 0.3));\n",
       "      fill: #FFFFFF;\n",
       "    }\n",
       "  </style>\n",
       "\n",
       "    <script>\n",
       "      const buttonEl =\n",
       "        document.querySelector('#df-5edec6d9-e42f-4963-941d-a0fb588eafc1 button.colab-df-convert');\n",
       "      buttonEl.style.display =\n",
       "        google.colab.kernel.accessAllowed ? 'block' : 'none';\n",
       "\n",
       "      async function convertToInteractive(key) {\n",
       "        const element = document.querySelector('#df-5edec6d9-e42f-4963-941d-a0fb588eafc1');\n",
       "        const dataTable =\n",
       "          await google.colab.kernel.invokeFunction('convertToInteractive',\n",
       "                                                    [key], {});\n",
       "        if (!dataTable) return;\n",
       "\n",
       "        const docLinkHtml = 'Like what you see? Visit the ' +\n",
       "          '<a target=\"_blank\" href=https://colab.research.google.com/notebooks/data_table.ipynb>data table notebook</a>'\n",
       "          + ' to learn more about interactive tables.';\n",
       "        element.innerHTML = '';\n",
       "        dataTable['output_type'] = 'display_data';\n",
       "        await google.colab.output.renderOutput(dataTable, element);\n",
       "        const docLink = document.createElement('div');\n",
       "        docLink.innerHTML = docLinkHtml;\n",
       "        element.appendChild(docLink);\n",
       "      }\n",
       "    </script>\n",
       "  </div>\n",
       "\n",
       "\n",
       "<div id=\"df-adf6d88d-2fe6-4fa2-9398-7dbbfa9fe21e\">\n",
       "  <button class=\"colab-df-quickchart\" onclick=\"quickchart('df-adf6d88d-2fe6-4fa2-9398-7dbbfa9fe21e')\"\n",
       "            title=\"Suggest charts\"\n",
       "            style=\"display:none;\">\n",
       "\n",
       "<svg xmlns=\"http://www.w3.org/2000/svg\" height=\"24px\"viewBox=\"0 0 24 24\"\n",
       "     width=\"24px\">\n",
       "    <g>\n",
       "        <path d=\"M19 3H5c-1.1 0-2 .9-2 2v14c0 1.1.9 2 2 2h14c1.1 0 2-.9 2-2V5c0-1.1-.9-2-2-2zM9 17H7v-7h2v7zm4 0h-2V7h2v10zm4 0h-2v-4h2v4z\"/>\n",
       "    </g>\n",
       "</svg>\n",
       "  </button>\n",
       "\n",
       "<style>\n",
       "  .colab-df-quickchart {\n",
       "      --bg-color: #E8F0FE;\n",
       "      --fill-color: #1967D2;\n",
       "      --hover-bg-color: #E2EBFA;\n",
       "      --hover-fill-color: #174EA6;\n",
       "      --disabled-fill-color: #AAA;\n",
       "      --disabled-bg-color: #DDD;\n",
       "  }\n",
       "\n",
       "  [theme=dark] .colab-df-quickchart {\n",
       "      --bg-color: #3B4455;\n",
       "      --fill-color: #D2E3FC;\n",
       "      --hover-bg-color: #434B5C;\n",
       "      --hover-fill-color: #FFFFFF;\n",
       "      --disabled-bg-color: #3B4455;\n",
       "      --disabled-fill-color: #666;\n",
       "  }\n",
       "\n",
       "  .colab-df-quickchart {\n",
       "    background-color: var(--bg-color);\n",
       "    border: none;\n",
       "    border-radius: 50%;\n",
       "    cursor: pointer;\n",
       "    display: none;\n",
       "    fill: var(--fill-color);\n",
       "    height: 32px;\n",
       "    padding: 0;\n",
       "    width: 32px;\n",
       "  }\n",
       "\n",
       "  .colab-df-quickchart:hover {\n",
       "    background-color: var(--hover-bg-color);\n",
       "    box-shadow: 0 1px 2px rgba(60, 64, 67, 0.3), 0 1px 3px 1px rgba(60, 64, 67, 0.15);\n",
       "    fill: var(--button-hover-fill-color);\n",
       "  }\n",
       "\n",
       "  .colab-df-quickchart-complete:disabled,\n",
       "  .colab-df-quickchart-complete:disabled:hover {\n",
       "    background-color: var(--disabled-bg-color);\n",
       "    fill: var(--disabled-fill-color);\n",
       "    box-shadow: none;\n",
       "  }\n",
       "\n",
       "  .colab-df-spinner {\n",
       "    border: 2px solid var(--fill-color);\n",
       "    border-color: transparent;\n",
       "    border-bottom-color: var(--fill-color);\n",
       "    animation:\n",
       "      spin 1s steps(1) infinite;\n",
       "  }\n",
       "\n",
       "  @keyframes spin {\n",
       "    0% {\n",
       "      border-color: transparent;\n",
       "      border-bottom-color: var(--fill-color);\n",
       "      border-left-color: var(--fill-color);\n",
       "    }\n",
       "    20% {\n",
       "      border-color: transparent;\n",
       "      border-left-color: var(--fill-color);\n",
       "      border-top-color: var(--fill-color);\n",
       "    }\n",
       "    30% {\n",
       "      border-color: transparent;\n",
       "      border-left-color: var(--fill-color);\n",
       "      border-top-color: var(--fill-color);\n",
       "      border-right-color: var(--fill-color);\n",
       "    }\n",
       "    40% {\n",
       "      border-color: transparent;\n",
       "      border-right-color: var(--fill-color);\n",
       "      border-top-color: var(--fill-color);\n",
       "    }\n",
       "    60% {\n",
       "      border-color: transparent;\n",
       "      border-right-color: var(--fill-color);\n",
       "    }\n",
       "    80% {\n",
       "      border-color: transparent;\n",
       "      border-right-color: var(--fill-color);\n",
       "      border-bottom-color: var(--fill-color);\n",
       "    }\n",
       "    90% {\n",
       "      border-color: transparent;\n",
       "      border-bottom-color: var(--fill-color);\n",
       "    }\n",
       "  }\n",
       "</style>\n",
       "\n",
       "  <script>\n",
       "    async function quickchart(key) {\n",
       "      const quickchartButtonEl =\n",
       "        document.querySelector('#' + key + ' button');\n",
       "      quickchartButtonEl.disabled = true;  // To prevent multiple clicks.\n",
       "      quickchartButtonEl.classList.add('colab-df-spinner');\n",
       "      try {\n",
       "        const charts = await google.colab.kernel.invokeFunction(\n",
       "            'suggestCharts', [key], {});\n",
       "      } catch (error) {\n",
       "        console.error('Error during call to suggestCharts:', error);\n",
       "      }\n",
       "      quickchartButtonEl.classList.remove('colab-df-spinner');\n",
       "      quickchartButtonEl.classList.add('colab-df-quickchart-complete');\n",
       "    }\n",
       "    (() => {\n",
       "      let quickchartButtonEl =\n",
       "        document.querySelector('#df-adf6d88d-2fe6-4fa2-9398-7dbbfa9fe21e button');\n",
       "      quickchartButtonEl.style.display =\n",
       "        google.colab.kernel.accessAllowed ? 'block' : 'none';\n",
       "    })();\n",
       "  </script>\n",
       "</div>\n",
       "\n",
       "    </div>\n",
       "  </div>\n"
      ],
      "text/plain": [
       "     index         label  page  top_left_y  bot_right_y  top_left_x  \\\n",
       "0   518242        اغماض،  4964         520          550          45   \n",
       "1   648841        مرجعیت  5210         645          675         203   \n",
       "2   543131         تأثر،  4692         610          640         428   \n",
       "3   579292    همکاریشیما  5069         625          655          45   \n",
       "4   652706  داستان‌نویس،  5066         520          550         199   \n",
       "5  1015608          وفقط  4284         450          480         227   \n",
       "6    35334        صحرایی  4558         610          640         348   \n",
       "7   141224       دریافت.  3445         380          410         452   \n",
       "8    39708          قطار  3051         135          165         190   \n",
       "9    37847         افشای  4444         330          360         525   \n",
       "\n",
       "   bot_right_x                   path  \n",
       "0          103   04964_166_518242.png  \n",
       "1          260   05210_164_648841.png  \n",
       "2          462   04692_131_543131.png  \n",
       "3          129   05069_183_579292.png  \n",
       "4          295   05066_145_652706.png  \n",
       "5          264  04284_139_1015608.png  \n",
       "6          408    04558_156_35334.png  \n",
       "7          512   03445_105_141224.png  \n",
       "8          222     03051_25_39708.png  \n",
       "9          575     04444_74_37847.png  "
      ]
     },
     "execution_count": 79,
     "metadata": {},
     "output_type": "execute_result"
    }
   ],
   "source": [
    "test = pd.read_csv(\"/content/test_df.csv\")\n",
    "test = test.loc[:, ~test.columns.str.contains('^Unnamed')]\n",
    "test.head(10)"
   ]
  },
  {
   "cell_type": "code",
   "execution_count": 103,
   "metadata": {
    "colab": {
     "base_uri": "https://localhost:8080/"
    },
    "executionInfo": {
     "elapsed": 643,
     "status": "ok",
     "timestamp": 1731614652811,
     "user": {
      "displayName": "arman hajimirza",
      "userId": "14640964011542618369"
     },
     "user_tz": -210
    },
    "id": "Lr7e2f80RMt2",
    "outputId": "b725e945-057e-479a-cc1b-3a7d29f7af64"
   },
   "outputs": [
    {
     "name": "stdout",
     "output_type": "stream",
     "text": [
      "[[41, 39, 32, 36, 25, 56, 56]]\n"
     ]
    }
   ],
   "source": [
    "result = OCR(image, char_to_index)[0]"
   ]
  },
  {
   "cell_type": "code",
   "execution_count": 83,
   "metadata": {
    "executionInfo": {
     "elapsed": 495,
     "status": "ok",
     "timestamp": 1731614404609,
     "user": {
      "displayName": "arman hajimirza",
      "userId": "14640964011542618369"
     },
     "user_tz": -210
    },
    "id": "gz1JmxWwQhnn"
   },
   "outputs": [],
   "source": [
    "# prompt: concat all chars in list of chars\n",
    "\n",
    "def concat_chars(char_list):\n",
    "  return \"\".join(char_list)"
   ]
  },
  {
   "cell_type": "code",
   "execution_count": 104,
   "metadata": {
    "colab": {
     "base_uri": "https://localhost:8080/",
     "height": 36
    },
    "executionInfo": {
     "elapsed": 394,
     "status": "ok",
     "timestamp": 1731614658646,
     "user": {
      "displayName": "arman hajimirza",
      "userId": "14640964011542618369"
     },
     "user_tz": -210
    },
    "id": "y04d5idAQuZr",
    "outputId": "802bd05b-e90a-40c0-e2ad-faf629742cf0"
   },
   "outputs": [
    {
     "data": {
      "application/vnd.google.colaboratory.intrinsic+json": {
       "type": "string"
      },
      "text/plain": [
       "'صسحرایی'"
      ]
     },
     "execution_count": 104,
     "metadata": {},
     "output_type": "execute_result"
    }
   ],
   "source": [
    "concat_chars(result)"
   ]
  },
  {
   "cell_type": "code",
   "execution_count": 105,
   "metadata": {
    "executionInfo": {
     "elapsed": 473,
     "status": "ok",
     "timestamp": 1731614885469,
     "user": {
      "displayName": "arman hajimirza",
      "userId": "14640964011542618369"
     },
     "user_tz": -210
    },
    "id": "42V5fAbRSdv0"
   },
   "outputs": [],
   "source": [
    "torch.save(model.state_dict(), \"test1\")"
   ]
  },
  {
   "cell_type": "code",
   "execution_count": 106,
   "metadata": {
    "executionInfo": {
     "elapsed": 489,
     "status": "ok",
     "timestamp": 1731614970832,
     "user": {
      "displayName": "arman hajimirza",
      "userId": "14640964011542618369"
     },
     "user_tz": -210
    },
    "id": "AqG0HkKSStME"
   },
   "outputs": [],
   "source": [
    "!cp /content/test1 /content/drive/MyDrive/ocr/test1"
   ]
  },
  {
   "cell_type": "code",
   "execution_count": null,
   "metadata": {
    "id": "_Z3FVjKkENZT"
   },
   "outputs": [],
   "source": [
    "# prompt: write function to use model output and decode it by f.nn.ctc_beam_search_decoder\n",
    "\n",
    "import tensorflow as tf\n",
    "\n",
    "def decode_ctc_output(model_output, input_length):\n",
    "    decoded_output, log_probabilities = tf.nn.ctc_beam_search_decoder(\n",
    "        model_output, input_length, beam_width=100\n",
    "    )\n",
    "    return decoded_output, log_probabilities"
   ]
  },
  {
   "cell_type": "code",
   "execution_count": null,
   "metadata": {
    "colab": {
     "base_uri": "https://localhost:8080/"
    },
    "executionInfo": {
     "elapsed": 2917,
     "status": "ok",
     "timestamp": 1731487507668,
     "user": {
      "displayName": "arman hajimirza",
      "userId": "14640964011542618369"
     },
     "user_tz": -210
    },
    "id": "g9HE0FDEZ1xo",
    "outputId": "1dfcfe2d-0e1f-4632-c8d3-5a034e7313a8"
   },
   "outputs": [
    {
     "name": "stdout",
     "output_type": "stream",
     "text": [
      "torch.Size([50, 24, 66])\n"
     ]
    }
   ],
   "source": [
    "model = CRNN()\n",
    "logits = model(torch.randn([50,1,32,100]))\n",
    "torch.save(model.state_dict(), \"test\")\n",
    "print(logits.size())"
   ]
  },
  {
   "cell_type": "code",
   "execution_count": null,
   "metadata": {
    "colab": {
     "base_uri": "https://localhost:8080/"
    },
    "executionInfo": {
     "elapsed": 2395,
     "status": "ok",
     "timestamp": 1731445397837,
     "user": {
      "displayName": "arman hajimirza",
      "userId": "14640964011542618369"
     },
     "user_tz": -210
    },
    "id": "JMZncSpRL4nk",
    "outputId": "ed342ae4-7323-4357-fed2-11d8e2a603e1"
   },
   "outputs": [
    {
     "name": "stdout",
     "output_type": "stream",
     "text": [
      "torch.Size([50, 24, 66])\n"
     ]
    }
   ],
   "source": [
    "model = CRNN()\n",
    "model.load_state_dict(torch.load(\"test\", weights_only=True))\n",
    "model.eval()\n",
    "logits = model(torch.randn([50,1,32,100]))\n",
    "print(logits.size())"
   ]
  },
  {
   "cell_type": "code",
   "execution_count": 29,
   "metadata": {},
   "outputs": [],
   "source": [
    "os.makedirs(\"checkpoints\", exist_ok=True)"
   ]
  }
 ],
 "metadata": {
  "colab": {
   "authorship_tag": "ABX9TyOCVL9e5eSrjRnp+9g76RbG",
   "mount_file_id": "1z2I-ScE3xxyAMynDkSeLRI2gXnOCUctm",
   "provenance": []
  },
  "kernelspec": {
   "display_name": "OCR_env",
   "language": "python",
   "name": "python3"
  },
  "language_info": {
   "codemirror_mode": {
    "name": "ipython",
    "version": 3
   },
   "file_extension": ".py",
   "mimetype": "text/x-python",
   "name": "python",
   "nbconvert_exporter": "python",
   "pygments_lexer": "ipython3",
   "version": "3.10.12"
  }
 },
 "nbformat": 4,
 "nbformat_minor": 1
}
