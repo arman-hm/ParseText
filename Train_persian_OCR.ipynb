{
 "cells": [
  {
   "cell_type": "markdown",
   "metadata": {
    "id": "xdCQpd1kHhGv"
   },
   "source": []
  },
  {
   "cell_type": "code",
   "execution_count": 1,
   "metadata": {
    "executionInfo": {
     "elapsed": 15831,
     "status": "ok",
     "timestamp": 1731607633798,
     "user": {
      "displayName": "arman hajimirza",
      "userId": "14640964011542618369"
     },
     "user_tz": -210
    },
    "id": "5NNmtCIangvd"
   },
   "outputs": [
    {
     "name": "stderr",
     "output_type": "stream",
     "text": [
      "/home/dornika/OCR_Project/OCR_env/lib/python3.10/site-packages/albumentations/__init__.py:24: UserWarning: A new version of Albumentations is available: 2.0.0 (you have 1.4.23). Upgrade using: pip install -U albumentations. To disable automatic update checks, set the environment variable NO_ALBUMENTATIONS_UPDATE to 1.\n",
      "  check_for_updates()\n"
     ]
    },
    {
     "data": {
      "text/plain": [
       "<module 'Scripts.Train' from '/home/dornika/OCR_Project/Scripts/Train.py'>"
      ]
     },
     "execution_count": 1,
     "metadata": {},
     "output_type": "execute_result"
    }
   ],
   "source": [
    "import json\n",
    "from sklearn.model_selection import train_test_split\n",
    "\n",
    "import numpy as np\n",
    "# from google.colab.patches import cv2_imshow\n",
    "import matplotlib.pyplot as plt\n",
    "import pandas as pd\n",
    "from PIL import Image\n",
    "import importlib\n",
    "\n",
    "import torch\n",
    "import torch.nn as nn\n",
    "import torch.optim as optim\n",
    "from torchsummary import summary\n",
    "from torchvision.io import read_image\n",
    "from torch.nn.utils.rnn import pad_sequence\n",
    "from torch.utils.data import Dataset, random_split, DataLoader\n",
    "\n",
    "# sys.path.append(os.path.abspath(os.path.join(os.getcwd(), '/home/dornika/OCR_Project')))\n",
    "from Scripts import  Data_loader,Transforms\n",
    "from Models import CRNN\n",
    "\n",
    "import Scripts.Train as Train\n",
    "importlib.reload(Train)\n"
   ]
  },
  {
   "cell_type": "markdown",
   "metadata": {
    "id": "J-2ryJkjhesm"
   },
   "source": [
    "### **0 move and extract data**"
   ]
  },
  {
   "cell_type": "markdown",
   "metadata": {
    "id": "lK2Yj-ESE6MP"
   },
   "source": [
    "### **1 Preparing data for Train OCR model**"
   ]
  },
  {
   "cell_type": "markdown",
   "metadata": {
    "id": "Knnr4dFOLcKL"
   },
   "source": [
    " 1.1 Load DataFrame"
   ]
  },
  {
   "cell_type": "code",
   "execution_count": 2,
   "metadata": {},
   "outputs": [
    {
     "name": "stdout",
     "output_type": "stream",
     "text": [
      "['!', '%', '(', ')', '*', '+', '.', '/', '0', '1', '2', '3', '4', '5', '6', '7', '8', '9', ':', '«', '»', '،', '؛', '؟', 'ئ', 'ا', 'ب', 'ت', 'ث', 'ج', 'ح', 'خ', 'د', 'ذ', 'ر', 'ز', 'س', 'ش', 'ص', 'ض', 'ط', 'ظ', 'ع', 'غ', 'ف', 'ق', 'ل', 'م', 'ن', 'ه', 'و', 'پ', 'چ', 'ژ', 'ک', 'گ', 'ی', '\\u200c', '“', '”', 'ء', ' ']\n",
      "{'!': 1, '%': 2, '(': 3, ')': 4, '*': 5, '+': 6, '.': 7, '/': 8, '0': 9, '1': 10, '2': 11, '3': 12, '4': 13, '5': 14, '6': 15, '7': 16, '8': 17, '9': 18, ':': 19, '«': 20, '»': 21, '،': 22, '؛': 23, '؟': 24, 'ئ': 25, 'ا': 26, 'ب': 27, 'ت': 28, 'ث': 29, 'ج': 30, 'ح': 31, 'خ': 32, 'د': 33, 'ذ': 34, 'ر': 35, 'ز': 36, 'س': 37, 'ش': 38, 'ص': 39, 'ض': 40, 'ط': 41, 'ظ': 42, 'ع': 43, 'غ': 44, 'ف': 45, 'ق': 46, 'ل': 47, 'م': 48, 'ن': 49, 'ه': 50, 'و': 51, 'پ': 52, 'چ': 53, 'ژ': 54, 'ک': 55, 'گ': 56, 'ی': 57, '\\u200c': 58, '“': 59, '”': 60, 'ء': 61, ' ': 62}\n"
     ]
    }
   ],
   "source": [
    "# Open and read the JSON file\n",
    "with open('char_to_index.json', 'r') as file:\n",
    "    data = json.load(file)\n",
    "\n",
    "# Print the data\n",
    "# print(data[\"char_to_index\"][\"!\"])\n",
    "char_list = data[\"char_to_index_list\"]\n",
    "char_to_index = data[\"char_to_index\"]\n",
    "print(char_list)\n",
    "print(char_to_index)"
   ]
  },
  {
   "cell_type": "code",
   "execution_count": 3,
   "metadata": {},
   "outputs": [
    {
     "data": {
      "text/html": [
       "<div>\n",
       "<style scoped>\n",
       "    .dataframe tbody tr th:only-of-type {\n",
       "        vertical-align: middle;\n",
       "    }\n",
       "\n",
       "    .dataframe tbody tr th {\n",
       "        vertical-align: top;\n",
       "    }\n",
       "\n",
       "    .dataframe thead th {\n",
       "        text-align: right;\n",
       "    }\n",
       "</style>\n",
       "<table border=\"1\" class=\"dataframe\">\n",
       "  <thead>\n",
       "    <tr style=\"text-align: right;\">\n",
       "      <th></th>\n",
       "      <th>path</th>\n",
       "      <th>label</th>\n",
       "    </tr>\n",
       "  </thead>\n",
       "  <tbody>\n",
       "    <tr>\n",
       "      <th>0</th>\n",
       "      <td>The_Schopenhauer_cure_data_annotated/page_0014...</td>\n",
       "      <td>ممکنه</td>\n",
       "    </tr>\n",
       "    <tr>\n",
       "      <th>1</th>\n",
       "      <td>The_Schopenhauer_cure_data_annotated/page_0021...</td>\n",
       "      <td>داده‌ایم.</td>\n",
       "    </tr>\n",
       "    <tr>\n",
       "      <th>2</th>\n",
       "      <td>The_Schopenhauer_cure_data_annotated/page_0192...</td>\n",
       "      <td>سایه</td>\n",
       "    </tr>\n",
       "    <tr>\n",
       "      <th>3</th>\n",
       "      <td>The_Schopenhauer_cure_data_annotated/page_0012...</td>\n",
       "      <td>دیده</td>\n",
       "    </tr>\n",
       "    <tr>\n",
       "      <th>4</th>\n",
       "      <td>The_Schopenhauer_cure_data_annotated/page_0007...</td>\n",
       "      <td>باید</td>\n",
       "    </tr>\n",
       "    <tr>\n",
       "      <th>5</th>\n",
       "      <td>The_Schopenhauer_cure_data_annotated/page_0013...</td>\n",
       "      <td>باید</td>\n",
       "    </tr>\n",
       "    <tr>\n",
       "      <th>6</th>\n",
       "      <td>The_Schopenhauer_cure_data_annotated/page_0021...</td>\n",
       "      <td>ارام</td>\n",
       "    </tr>\n",
       "    <tr>\n",
       "      <th>7</th>\n",
       "      <td>The_Schopenhauer_cure_data_annotated/page_0020...</td>\n",
       "      <td>گذراندند</td>\n",
       "    </tr>\n",
       "    <tr>\n",
       "      <th>8</th>\n",
       "      <td>The_Schopenhauer_cure_data_annotated/page_0012...</td>\n",
       "      <td>«نکته</td>\n",
       "    </tr>\n",
       "    <tr>\n",
       "      <th>9</th>\n",
       "      <td>The_Schopenhauer_cure_data_annotated/page_0017...</td>\n",
       "      <td>پیرایشگاه</td>\n",
       "    </tr>\n",
       "  </tbody>\n",
       "</table>\n",
       "</div>"
      ],
      "text/plain": [
       "                                                path      label\n",
       "0  The_Schopenhauer_cure_data_annotated/page_0014...      ممکنه\n",
       "1  The_Schopenhauer_cure_data_annotated/page_0021...  داده‌ایم.\n",
       "2  The_Schopenhauer_cure_data_annotated/page_0192...       سایه\n",
       "3  The_Schopenhauer_cure_data_annotated/page_0012...       دیده\n",
       "4  The_Schopenhauer_cure_data_annotated/page_0007...       باید\n",
       "5  The_Schopenhauer_cure_data_annotated/page_0013...       باید\n",
       "6  The_Schopenhauer_cure_data_annotated/page_0021...       ارام\n",
       "7  The_Schopenhauer_cure_data_annotated/page_0020...   گذراندند\n",
       "8  The_Schopenhauer_cure_data_annotated/page_0012...      «نکته\n",
       "9  The_Schopenhauer_cure_data_annotated/page_0017...  پیرایشگاه"
      ]
     },
     "execution_count": 3,
     "metadata": {},
     "output_type": "execute_result"
    }
   ],
   "source": [
    "rdf = pd.read_csv(\"Data/The_Schopenhauer_cure_data_train.csv\")\n",
    "rdf = rdf.loc[:, ~rdf.columns.str.contains('^Unnamed')]\n",
    "rdf = rdf[rdf['label'].str.len() < 15]\n",
    "rdf.head(10)"
   ]
  },
  {
   "cell_type": "code",
   "execution_count": 4,
   "metadata": {},
   "outputs": [
    {
     "data": {
      "text/html": [
       "<div>\n",
       "<style scoped>\n",
       "    .dataframe tbody tr th:only-of-type {\n",
       "        vertical-align: middle;\n",
       "    }\n",
       "\n",
       "    .dataframe tbody tr th {\n",
       "        vertical-align: top;\n",
       "    }\n",
       "\n",
       "    .dataframe thead th {\n",
       "        text-align: right;\n",
       "    }\n",
       "</style>\n",
       "<table border=\"1\" class=\"dataframe\">\n",
       "  <thead>\n",
       "    <tr style=\"text-align: right;\">\n",
       "      <th></th>\n",
       "      <th>label</th>\n",
       "      <th>path</th>\n",
       "    </tr>\n",
       "  </thead>\n",
       "  <tbody>\n",
       "    <tr>\n",
       "      <th>0</th>\n",
       "      <td>استوانهم</td>\n",
       "      <td>generated_data/g_0.png</td>\n",
       "    </tr>\n",
       "    <tr>\n",
       "      <th>1</th>\n",
       "      <td>باروحیه‌ترینش</td>\n",
       "      <td>generated_data/g_1.png</td>\n",
       "    </tr>\n",
       "    <tr>\n",
       "      <th>2</th>\n",
       "      <td>آسودیم</td>\n",
       "      <td>generated_data/g_2.png</td>\n",
       "    </tr>\n",
       "    <tr>\n",
       "      <th>3</th>\n",
       "      <td>بازه‌ای</td>\n",
       "      <td>generated_data/g_3.png</td>\n",
       "    </tr>\n",
       "    <tr>\n",
       "      <th>4</th>\n",
       "      <td>اشیأترینتان</td>\n",
       "      <td>generated_data/g_4.png</td>\n",
       "    </tr>\n",
       "    <tr>\n",
       "      <th>5</th>\n",
       "      <td>آمپرسنجهایی</td>\n",
       "      <td>generated_data/g_5.png</td>\n",
       "    </tr>\n",
       "    <tr>\n",
       "      <th>6</th>\n",
       "      <td>ارعابم</td>\n",
       "      <td>generated_data/g_6.png</td>\n",
       "    </tr>\n",
       "    <tr>\n",
       "      <th>7</th>\n",
       "      <td>ارتجاعی</td>\n",
       "      <td>generated_data/g_7.png</td>\n",
       "    </tr>\n",
       "    <tr>\n",
       "      <th>8</th>\n",
       "      <td>آدامسهایمان</td>\n",
       "      <td>generated_data/g_8.png</td>\n",
       "    </tr>\n",
       "    <tr>\n",
       "      <th>9</th>\n",
       "      <td>استخلاصت</td>\n",
       "      <td>generated_data/g_9.png</td>\n",
       "    </tr>\n",
       "  </tbody>\n",
       "</table>\n",
       "</div>"
      ],
      "text/plain": [
       "           label                    path\n",
       "0       استوانهم  generated_data/g_0.png\n",
       "1  باروحیه‌ترینش  generated_data/g_1.png\n",
       "2         آسودیم  generated_data/g_2.png\n",
       "3        بازه‌ای  generated_data/g_3.png\n",
       "4    اشیأترینتان  generated_data/g_4.png\n",
       "5    آمپرسنجهایی  generated_data/g_5.png\n",
       "6         ارعابم  generated_data/g_6.png\n",
       "7        ارتجاعی  generated_data/g_7.png\n",
       "8    آدامسهایمان  generated_data/g_8.png\n",
       "9       استخلاصت  generated_data/g_9.png"
      ]
     },
     "execution_count": 4,
     "metadata": {},
     "output_type": "execute_result"
    }
   ],
   "source": [
    "gdf = pd.read_csv(\"Data/generated_data_40000.csv\")\n",
    "gdf = gdf.loc[:, ~gdf.columns.str.contains('^Unnamed')]\n",
    "gdf = gdf[gdf['label'].str.len() < 15]\n",
    "gdf.head(10)"
   ]
  },
  {
   "cell_type": "code",
   "execution_count": 5,
   "metadata": {
    "colab": {
     "base_uri": "https://localhost:8080/",
     "height": 363
    },
    "executionInfo": {
     "elapsed": 3,
     "status": "ok",
     "timestamp": 1731607744233,
     "user": {
      "displayName": "arman hajimirza",
      "userId": "14640964011542618369"
     },
     "user_tz": -210
    },
    "id": "Ua_sL0AnLSDP",
    "outputId": "416dffdc-ae5a-4026-f012-f6f44eb0e7f1"
   },
   "outputs": [
    {
     "data": {
      "text/html": [
       "<div>\n",
       "<style scoped>\n",
       "    .dataframe tbody tr th:only-of-type {\n",
       "        vertical-align: middle;\n",
       "    }\n",
       "\n",
       "    .dataframe tbody tr th {\n",
       "        vertical-align: top;\n",
       "    }\n",
       "\n",
       "    .dataframe thead th {\n",
       "        text-align: right;\n",
       "    }\n",
       "</style>\n",
       "<table border=\"1\" class=\"dataframe\">\n",
       "  <thead>\n",
       "    <tr style=\"text-align: right;\">\n",
       "      <th></th>\n",
       "      <th>label</th>\n",
       "      <th>path</th>\n",
       "    </tr>\n",
       "  </thead>\n",
       "  <tbody>\n",
       "    <tr>\n",
       "      <th>0</th>\n",
       "      <td>درکنار</td>\n",
       "      <td>04468_153_86244.png</td>\n",
       "    </tr>\n",
       "    <tr>\n",
       "      <th>1</th>\n",
       "      <td>4335</td>\n",
       "      <td>04335_0_275410.png</td>\n",
       "    </tr>\n",
       "    <tr>\n",
       "      <th>2</th>\n",
       "      <td>وتولد</td>\n",
       "      <td>05065_71_1234560.png</td>\n",
       "    </tr>\n",
       "    <tr>\n",
       "      <th>3</th>\n",
       "      <td>تراژدی‌ای</td>\n",
       "      <td>00459_42_782347.png</td>\n",
       "    </tr>\n",
       "    <tr>\n",
       "      <th>4</th>\n",
       "      <td>افزود:استفاده</td>\n",
       "      <td>02664_92_166182.png</td>\n",
       "    </tr>\n",
       "    <tr>\n",
       "      <th>5</th>\n",
       "      <td>ریزگردها</td>\n",
       "      <td>02250_87_77933.png</td>\n",
       "    </tr>\n",
       "    <tr>\n",
       "      <th>6</th>\n",
       "      <td>سالگذشته</td>\n",
       "      <td>06715_66_498681.png</td>\n",
       "    </tr>\n",
       "    <tr>\n",
       "      <th>7</th>\n",
       "      <td>هولناک</td>\n",
       "      <td>05562_35_186468.png</td>\n",
       "    </tr>\n",
       "    <tr>\n",
       "      <th>8</th>\n",
       "      <td>اباالحسن</td>\n",
       "      <td>06711_29_9457.png</td>\n",
       "    </tr>\n",
       "    <tr>\n",
       "      <th>9</th>\n",
       "      <td>مواردرا</td>\n",
       "      <td>02937_30_899678.png</td>\n",
       "    </tr>\n",
       "  </tbody>\n",
       "</table>\n",
       "</div>"
      ],
      "text/plain": [
       "           label                  path\n",
       "0         درکنار   04468_153_86244.png\n",
       "1           4335    04335_0_275410.png\n",
       "2          وتولد  05065_71_1234560.png\n",
       "3      تراژدی‌ای   00459_42_782347.png\n",
       "4  افزود:استفاده   02664_92_166182.png\n",
       "5       ریزگردها    02250_87_77933.png\n",
       "6       سالگذشته   06715_66_498681.png\n",
       "7         هولناک   05562_35_186468.png\n",
       "8       اباالحسن     06711_29_9457.png\n",
       "9        مواردرا   02937_30_899678.png"
      ]
     },
     "execution_count": 5,
     "metadata": {},
     "output_type": "execute_result"
    }
   ],
   "source": [
    "df = pd.read_csv(\"Data/train_df.csv\")\n",
    "df = df.loc[:, ~df.columns.str.contains('^Unnamed')]\n",
    "df = df[df['label'].str.len() < 15]\n",
    "df = df[[\"label\" , \"path\"]]\n",
    "df.head(10)"
   ]
  },
  {
   "cell_type": "code",
   "execution_count": 6,
   "metadata": {},
   "outputs": [
    {
     "data": {
      "text/html": [
       "<div>\n",
       "<style scoped>\n",
       "    .dataframe tbody tr th:only-of-type {\n",
       "        vertical-align: middle;\n",
       "    }\n",
       "\n",
       "    .dataframe tbody tr th {\n",
       "        vertical-align: top;\n",
       "    }\n",
       "\n",
       "    .dataframe thead th {\n",
       "        text-align: right;\n",
       "    }\n",
       "</style>\n",
       "<table border=\"1\" class=\"dataframe\">\n",
       "  <thead>\n",
       "    <tr style=\"text-align: right;\">\n",
       "      <th></th>\n",
       "      <th>path</th>\n",
       "      <th>label</th>\n",
       "    </tr>\n",
       "  </thead>\n",
       "  <tbody>\n",
       "    <tr>\n",
       "      <th>0</th>\n",
       "      <td>The_Schopenhauer_cure_data_annotated/page_0018...</td>\n",
       "      <td>وی</td>\n",
       "    </tr>\n",
       "    <tr>\n",
       "      <th>1</th>\n",
       "      <td>The_Schopenhauer_cure_data_annotated/page_0026...</td>\n",
       "      <td>مورد</td>\n",
       "    </tr>\n",
       "    <tr>\n",
       "      <th>2</th>\n",
       "      <td>The_Schopenhauer_cure_data_annotated/page_0011...</td>\n",
       "      <td>کشید</td>\n",
       "    </tr>\n",
       "    <tr>\n",
       "      <th>3</th>\n",
       "      <td>The_Schopenhauer_cure_data_annotated/page_0023...</td>\n",
       "      <td>دست</td>\n",
       "    </tr>\n",
       "    <tr>\n",
       "      <th>4</th>\n",
       "      <td>The_Schopenhauer_cure_data_annotated/page_0022...</td>\n",
       "      <td>ان</td>\n",
       "    </tr>\n",
       "    <tr>\n",
       "      <th>5</th>\n",
       "      <td>The_Schopenhauer_cure_data_annotated/page_0008...</td>\n",
       "      <td>ناحیه</td>\n",
       "    </tr>\n",
       "    <tr>\n",
       "      <th>6</th>\n",
       "      <td>The_Schopenhauer_cure_data_annotated/page_0192...</td>\n",
       "      <td>زمانی</td>\n",
       "    </tr>\n",
       "    <tr>\n",
       "      <th>7</th>\n",
       "      <td>The_Schopenhauer_cure_data_annotated/page_0026...</td>\n",
       "      <td>جولیوس</td>\n",
       "    </tr>\n",
       "    <tr>\n",
       "      <th>8</th>\n",
       "      <td>The_Schopenhauer_cure_data_annotated/page_0011...</td>\n",
       "      <td>برود،</td>\n",
       "    </tr>\n",
       "    <tr>\n",
       "      <th>9</th>\n",
       "      <td>The_Schopenhauer_cure_data_annotated/page_0193...</td>\n",
       "      <td>صحنه</td>\n",
       "    </tr>\n",
       "  </tbody>\n",
       "</table>\n",
       "</div>"
      ],
      "text/plain": [
       "                                                path   label\n",
       "0  The_Schopenhauer_cure_data_annotated/page_0018...      وی\n",
       "1  The_Schopenhauer_cure_data_annotated/page_0026...    مورد\n",
       "2  The_Schopenhauer_cure_data_annotated/page_0011...    کشید\n",
       "3  The_Schopenhauer_cure_data_annotated/page_0023...     دست\n",
       "4  The_Schopenhauer_cure_data_annotated/page_0022...      ان\n",
       "5  The_Schopenhauer_cure_data_annotated/page_0008...   ناحیه\n",
       "6  The_Schopenhauer_cure_data_annotated/page_0192...   زمانی\n",
       "7  The_Schopenhauer_cure_data_annotated/page_0026...  جولیوس\n",
       "8  The_Schopenhauer_cure_data_annotated/page_0011...   برود،\n",
       "9  The_Schopenhauer_cure_data_annotated/page_0193...    صحنه"
      ]
     },
     "execution_count": 6,
     "metadata": {},
     "output_type": "execute_result"
    }
   ],
   "source": [
    "trdf = pd.read_csv(\"Data/The_Schopenhauer_cure_data_test.csv\")\n",
    "trdf = trdf.loc[:, ~trdf.columns.str.contains('^Unnamed')]\n",
    "trdf = trdf[trdf['label'].str.len() < 15]\n",
    "trdf.head(10)"
   ]
  },
  {
   "cell_type": "code",
   "execution_count": 7,
   "metadata": {},
   "outputs": [
    {
     "data": {
      "text/html": [
       "<div>\n",
       "<style scoped>\n",
       "    .dataframe tbody tr th:only-of-type {\n",
       "        vertical-align: middle;\n",
       "    }\n",
       "\n",
       "    .dataframe tbody tr th {\n",
       "        vertical-align: top;\n",
       "    }\n",
       "\n",
       "    .dataframe thead th {\n",
       "        text-align: right;\n",
       "    }\n",
       "</style>\n",
       "<table border=\"1\" class=\"dataframe\">\n",
       "  <thead>\n",
       "    <tr style=\"text-align: right;\">\n",
       "      <th></th>\n",
       "      <th>label</th>\n",
       "      <th>path</th>\n",
       "    </tr>\n",
       "  </thead>\n",
       "  <tbody>\n",
       "    <tr>\n",
       "      <th>0</th>\n",
       "      <td>اغماض،</td>\n",
       "      <td>04964_166_518242.png</td>\n",
       "    </tr>\n",
       "    <tr>\n",
       "      <th>1</th>\n",
       "      <td>مرجعیت</td>\n",
       "      <td>05210_164_648841.png</td>\n",
       "    </tr>\n",
       "    <tr>\n",
       "      <th>2</th>\n",
       "      <td>تأثر،</td>\n",
       "      <td>04692_131_543131.png</td>\n",
       "    </tr>\n",
       "    <tr>\n",
       "      <th>3</th>\n",
       "      <td>همکاریشیما</td>\n",
       "      <td>05069_183_579292.png</td>\n",
       "    </tr>\n",
       "    <tr>\n",
       "      <th>4</th>\n",
       "      <td>داستان‌نویس،</td>\n",
       "      <td>05066_145_652706.png</td>\n",
       "    </tr>\n",
       "    <tr>\n",
       "      <th>5</th>\n",
       "      <td>وفقط</td>\n",
       "      <td>04284_139_1015608.png</td>\n",
       "    </tr>\n",
       "    <tr>\n",
       "      <th>6</th>\n",
       "      <td>صحرایی</td>\n",
       "      <td>04558_156_35334.png</td>\n",
       "    </tr>\n",
       "    <tr>\n",
       "      <th>7</th>\n",
       "      <td>دریافت.</td>\n",
       "      <td>03445_105_141224.png</td>\n",
       "    </tr>\n",
       "    <tr>\n",
       "      <th>8</th>\n",
       "      <td>قطار</td>\n",
       "      <td>03051_25_39708.png</td>\n",
       "    </tr>\n",
       "    <tr>\n",
       "      <th>9</th>\n",
       "      <td>افشای</td>\n",
       "      <td>04444_74_37847.png</td>\n",
       "    </tr>\n",
       "  </tbody>\n",
       "</table>\n",
       "</div>"
      ],
      "text/plain": [
       "          label                   path\n",
       "0        اغماض،   04964_166_518242.png\n",
       "1        مرجعیت   05210_164_648841.png\n",
       "2         تأثر،   04692_131_543131.png\n",
       "3    همکاریشیما   05069_183_579292.png\n",
       "4  داستان‌نویس،   05066_145_652706.png\n",
       "5          وفقط  04284_139_1015608.png\n",
       "6        صحرایی    04558_156_35334.png\n",
       "7       دریافت.   03445_105_141224.png\n",
       "8          قطار     03051_25_39708.png\n",
       "9         افشای     04444_74_37847.png"
      ]
     },
     "execution_count": 7,
     "metadata": {},
     "output_type": "execute_result"
    }
   ],
   "source": [
    "tdf = pd.read_csv(\"Data/test_df.csv\")\n",
    "tdf = tdf.loc[:, ~tdf.columns.str.contains('^Unnamed')]\n",
    "tdf = tdf[tdf['label'].str.len() < 15]\n",
    "tdf = tdf[[\"label\" , \"path\"]]\n",
    "tdf.head(10)"
   ]
  },
  {
   "cell_type": "code",
   "execution_count": 8,
   "metadata": {},
   "outputs": [
    {
     "data": {
      "text/html": [
       "<div>\n",
       "<style scoped>\n",
       "    .dataframe tbody tr th:only-of-type {\n",
       "        vertical-align: middle;\n",
       "    }\n",
       "\n",
       "    .dataframe tbody tr th {\n",
       "        vertical-align: top;\n",
       "    }\n",
       "\n",
       "    .dataframe thead th {\n",
       "        text-align: right;\n",
       "    }\n",
       "</style>\n",
       "<table border=\"1\" class=\"dataframe\">\n",
       "  <thead>\n",
       "    <tr style=\"text-align: right;\">\n",
       "      <th></th>\n",
       "      <th>label</th>\n",
       "      <th>path</th>\n",
       "    </tr>\n",
       "  </thead>\n",
       "  <tbody>\n",
       "    <tr>\n",
       "      <th>0</th>\n",
       "      <td>درکنار</td>\n",
       "      <td>04468_153_86244.png</td>\n",
       "    </tr>\n",
       "    <tr>\n",
       "      <th>1</th>\n",
       "      <td>4335</td>\n",
       "      <td>04335_0_275410.png</td>\n",
       "    </tr>\n",
       "    <tr>\n",
       "      <th>2</th>\n",
       "      <td>وتولد</td>\n",
       "      <td>05065_71_1234560.png</td>\n",
       "    </tr>\n",
       "    <tr>\n",
       "      <th>3</th>\n",
       "      <td>تراژدی‌ای</td>\n",
       "      <td>00459_42_782347.png</td>\n",
       "    </tr>\n",
       "    <tr>\n",
       "      <th>4</th>\n",
       "      <td>افزود:استفاده</td>\n",
       "      <td>02664_92_166182.png</td>\n",
       "    </tr>\n",
       "    <tr>\n",
       "      <th>...</th>\n",
       "      <td>...</td>\n",
       "      <td>...</td>\n",
       "    </tr>\n",
       "    <tr>\n",
       "      <th>99262</th>\n",
       "      <td>همیشه</td>\n",
       "      <td>The_Schopenhauer_cure_data_annotated/page_0017...</td>\n",
       "    </tr>\n",
       "    <tr>\n",
       "      <th>99263</th>\n",
       "      <td>که از</td>\n",
       "      <td>The_Schopenhauer_cure_data_annotated/page_0192...</td>\n",
       "    </tr>\n",
       "    <tr>\n",
       "      <th>99264</th>\n",
       "      <td>سلب</td>\n",
       "      <td>The_Schopenhauer_cure_data_annotated/page_0019...</td>\n",
       "    </tr>\n",
       "    <tr>\n",
       "      <th>99265</th>\n",
       "      <td>همان‌گونه</td>\n",
       "      <td>The_Schopenhauer_cure_data_annotated/page_0023...</td>\n",
       "    </tr>\n",
       "    <tr>\n",
       "      <th>99266</th>\n",
       "      <td>کمک</td>\n",
       "      <td>The_Schopenhauer_cure_data_annotated/page_0025...</td>\n",
       "    </tr>\n",
       "  </tbody>\n",
       "</table>\n",
       "<p>99267 rows × 2 columns</p>\n",
       "</div>"
      ],
      "text/plain": [
       "               label                                               path\n",
       "0             درکنار                                04468_153_86244.png\n",
       "1               4335                                 04335_0_275410.png\n",
       "2              وتولد                               05065_71_1234560.png\n",
       "3          تراژدی‌ای                                00459_42_782347.png\n",
       "4      افزود:استفاده                                02664_92_166182.png\n",
       "...              ...                                                ...\n",
       "99262          همیشه  The_Schopenhauer_cure_data_annotated/page_0017...\n",
       "99263          که از  The_Schopenhauer_cure_data_annotated/page_0192...\n",
       "99264            سلب  The_Schopenhauer_cure_data_annotated/page_0019...\n",
       "99265      همان‌گونه  The_Schopenhauer_cure_data_annotated/page_0023...\n",
       "99266            کمک  The_Schopenhauer_cure_data_annotated/page_0025...\n",
       "\n",
       "[99267 rows x 2 columns]"
      ]
     },
     "execution_count": 8,
     "metadata": {},
     "output_type": "execute_result"
    }
   ],
   "source": [
    "frames = [df, gdf, rdf]\n",
    "df = pd.concat(frames)\n",
    "df = df.reset_index(drop=True)\n",
    "df"
   ]
  },
  {
   "cell_type": "markdown",
   "metadata": {
    "id": "I4E6JcZZDGcQ"
   },
   "source": [
    "1.2 Convert image path as key and it's label as value of dictionary."
   ]
  },
  {
   "cell_type": "code",
   "execution_count": 9,
   "metadata": {},
   "outputs": [
    {
     "data": {
      "text/html": [
       "<div>\n",
       "<style scoped>\n",
       "    .dataframe tbody tr th:only-of-type {\n",
       "        vertical-align: middle;\n",
       "    }\n",
       "\n",
       "    .dataframe tbody tr th {\n",
       "        vertical-align: top;\n",
       "    }\n",
       "\n",
       "    .dataframe thead th {\n",
       "        text-align: right;\n",
       "    }\n",
       "</style>\n",
       "<table border=\"1\" class=\"dataframe\">\n",
       "  <thead>\n",
       "    <tr style=\"text-align: right;\">\n",
       "      <th></th>\n",
       "      <th>label</th>\n",
       "      <th>path</th>\n",
       "    </tr>\n",
       "  </thead>\n",
       "  <tbody>\n",
       "    <tr>\n",
       "      <th>0</th>\n",
       "      <td>اغماض،</td>\n",
       "      <td>04964_166_518242.png</td>\n",
       "    </tr>\n",
       "    <tr>\n",
       "      <th>1</th>\n",
       "      <td>مرجعیت</td>\n",
       "      <td>05210_164_648841.png</td>\n",
       "    </tr>\n",
       "    <tr>\n",
       "      <th>2</th>\n",
       "      <td>تأثر،</td>\n",
       "      <td>04692_131_543131.png</td>\n",
       "    </tr>\n",
       "    <tr>\n",
       "      <th>3</th>\n",
       "      <td>همکاریشیما</td>\n",
       "      <td>05069_183_579292.png</td>\n",
       "    </tr>\n",
       "    <tr>\n",
       "      <th>4</th>\n",
       "      <td>داستان‌نویس،</td>\n",
       "      <td>05066_145_652706.png</td>\n",
       "    </tr>\n",
       "    <tr>\n",
       "      <th>...</th>\n",
       "      <td>...</td>\n",
       "      <td>...</td>\n",
       "    </tr>\n",
       "    <tr>\n",
       "      <th>6802</th>\n",
       "      <td>در</td>\n",
       "      <td>The_Schopenhauer_cure_data_annotated/page_0008...</td>\n",
       "    </tr>\n",
       "    <tr>\n",
       "      <th>6803</th>\n",
       "      <td>ایا</td>\n",
       "      <td>The_Schopenhauer_cure_data_annotated/page_0020...</td>\n",
       "    </tr>\n",
       "    <tr>\n",
       "      <th>6804</th>\n",
       "      <td>فراز</td>\n",
       "      <td>The_Schopenhauer_cure_data_annotated/page_0017...</td>\n",
       "    </tr>\n",
       "    <tr>\n",
       "      <th>6805</th>\n",
       "      <td>کامل</td>\n",
       "      <td>The_Schopenhauer_cure_data_annotated/page_0020...</td>\n",
       "    </tr>\n",
       "    <tr>\n",
       "      <th>6806</th>\n",
       "      <td>از</td>\n",
       "      <td>The_Schopenhauer_cure_data_annotated/page_0013...</td>\n",
       "    </tr>\n",
       "  </tbody>\n",
       "</table>\n",
       "<p>6807 rows × 2 columns</p>\n",
       "</div>"
      ],
      "text/plain": [
       "             label                                               path\n",
       "0           اغماض،                               04964_166_518242.png\n",
       "1           مرجعیت                               05210_164_648841.png\n",
       "2            تأثر،                               04692_131_543131.png\n",
       "3       همکاریشیما                               05069_183_579292.png\n",
       "4     داستان‌نویس،                               05066_145_652706.png\n",
       "...            ...                                                ...\n",
       "6802            در  The_Schopenhauer_cure_data_annotated/page_0008...\n",
       "6803           ایا  The_Schopenhauer_cure_data_annotated/page_0020...\n",
       "6804          فراز  The_Schopenhauer_cure_data_annotated/page_0017...\n",
       "6805          کامل  The_Schopenhauer_cure_data_annotated/page_0020...\n",
       "6806            از  The_Schopenhauer_cure_data_annotated/page_0013...\n",
       "\n",
       "[6807 rows x 2 columns]"
      ]
     },
     "execution_count": 9,
     "metadata": {},
     "output_type": "execute_result"
    }
   ],
   "source": [
    "tframes = [tdf, trdf]\n",
    "tdf = pd.concat(tframes)\n",
    "tdf = tdf.reset_index(drop=True)\n",
    "tdf"
   ]
  },
  {
   "cell_type": "code",
   "execution_count": 10,
   "metadata": {},
   "outputs": [
    {
     "name": "stdout",
     "output_type": "stream",
     "text": [
      "(32, 100)\n",
      "(32, 100, 1)\n",
      "tensor([[[  0,   0,   0,  ...,   0,   0,   0],\n",
      "         [255, 255, 255,  ...,   0,   0,   0],\n",
      "         [255, 255, 255,  ...,   0,   0,   0],\n",
      "         ...,\n",
      "         [255, 255, 255,  ..., 255, 255,   0],\n",
      "         [255, 255, 255,  ..., 255, 255,   0],\n",
      "         [212, 212, 212,  ..., 170, 255,   0]]], dtype=torch.uint8)\n"
     ]
    },
    {
     "data": {
      "image/png": "[encoded data removed]",
      "text/plain": [
       "<Figure size 1000x500 with 2 Axes>"
      ]
     },
     "metadata": {},
     "output_type": "display_data"
    }
   ],
   "source": [
    "\n",
    "\n",
    "# Load grayscale image\n",
    "image_path = 'Data/persian_unique_ocr_dataset/generated_data/g_14.png'\n",
    "image = Image.open(image_path).convert('L')  # Convert to grayscale\n",
    "\n",
    "# Convert to NumPy array\n",
    "image_np = np.array(image)\n",
    "print(image_np.shape)\n",
    "image_np = np.expand_dims(image_np, axis=2)\n",
    "print(image_np.shape)\n",
    "# Apply transformations\n",
    "transformed = Transforms.Training_transforms(image=image_np)\n",
    "transformed_image = transformed['image']\n",
    "print(transformed_image)\n",
    "# Visualize the results\n",
    "plt.figure(figsize=(10, 5))\n",
    "\n",
    "# Original image\n",
    "plt.subplot(1, 2, 1)\n",
    "plt.title(\"Original Image\")\n",
    "plt.imshow(image_np, cmap='gray')\n",
    "plt.axis('off')\n",
    "\n",
    "# Transformed image\n",
    "plt.subplot(1, 2, 2)\n",
    "plt.title(\"Transformed Image\")\n",
    "plt.imshow(transformed_image.permute(1, 2, 0).squeeze().cpu().numpy(), cmap='gray')  # Squeeze for grayscale\n",
    "plt.axis('off')\n",
    "\n",
    "plt.show()\n"
   ]
  },
  {
   "cell_type": "code",
   "execution_count": 11,
   "metadata": {
    "executionInfo": {
     "elapsed": 2,
     "status": "ok",
     "timestamp": 1731607751512,
     "user": {
      "displayName": "arman hajimirza",
      "userId": "14640964011542618369"
     },
     "user_tz": -210
    },
    "id": "OzneDBC-yrTl"
   },
   "outputs": [],
   "source": [
    "def find_longest_string(string_list):\n",
    "  longest_string = \"\"\n",
    "  for string in string_list:\n",
    "    if len(string) > len(longest_string):\n",
    "      longest_string = string\n",
    "  return longest_string"
   ]
  },
  {
   "cell_type": "code",
   "execution_count": 12,
   "metadata": {
    "executionInfo": {
     "elapsed": 1,
     "status": "ok",
     "timestamp": 1731607751512,
     "user": {
      "displayName": "arman hajimirza",
      "userId": "14640964011542618369"
     },
     "user_tz": -210
    },
    "id": "6avDaGCseKgV"
   },
   "outputs": [],
   "source": [
    "def unique_chars_in_strings(string_list):\n",
    "  \"\"\"\n",
    "  Finds the unique characters across a list of strings.\n",
    "\n",
    "  Args:\n",
    "    string_list: A list of strings.\n",
    "\n",
    "  Returns:\n",
    "    A set containing the unique characters found in the input strings.\n",
    "  \"\"\"\n",
    "  unique_chars = set()\n",
    "  for string in string_list:\n",
    "    unique_chars.update(string)\n",
    "  return unique_chars\n"
   ]
  },
  {
   "cell_type": "code",
   "execution_count": 13,
   "metadata": {},
   "outputs": [
    {
     "data": {
      "text/html": [
       "<div>\n",
       "<style scoped>\n",
       "    .dataframe tbody tr th:only-of-type {\n",
       "        vertical-align: middle;\n",
       "    }\n",
       "\n",
       "    .dataframe tbody tr th {\n",
       "        vertical-align: top;\n",
       "    }\n",
       "\n",
       "    .dataframe thead th {\n",
       "        text-align: right;\n",
       "    }\n",
       "</style>\n",
       "<table border=\"1\" class=\"dataframe\">\n",
       "  <thead>\n",
       "    <tr style=\"text-align: right;\">\n",
       "      <th></th>\n",
       "      <th>label</th>\n",
       "      <th>path</th>\n",
       "    </tr>\n",
       "  </thead>\n",
       "  <tbody>\n",
       "    <tr>\n",
       "      <th>0</th>\n",
       "      <td>درکنار</td>\n",
       "      <td>04468_153_86244.png</td>\n",
       "    </tr>\n",
       "    <tr>\n",
       "      <th>1</th>\n",
       "      <td>4335</td>\n",
       "      <td>04335_0_275410.png</td>\n",
       "    </tr>\n",
       "    <tr>\n",
       "      <th>2</th>\n",
       "      <td>وتولد</td>\n",
       "      <td>05065_71_1234560.png</td>\n",
       "    </tr>\n",
       "    <tr>\n",
       "      <th>3</th>\n",
       "      <td>تراژدی‌ای</td>\n",
       "      <td>00459_42_782347.png</td>\n",
       "    </tr>\n",
       "    <tr>\n",
       "      <th>4</th>\n",
       "      <td>افزود:استفاده</td>\n",
       "      <td>02664_92_166182.png</td>\n",
       "    </tr>\n",
       "    <tr>\n",
       "      <th>...</th>\n",
       "      <td>...</td>\n",
       "      <td>...</td>\n",
       "    </tr>\n",
       "    <tr>\n",
       "      <th>99262</th>\n",
       "      <td>همیشه</td>\n",
       "      <td>The_Schopenhauer_cure_data_annotated/page_0017...</td>\n",
       "    </tr>\n",
       "    <tr>\n",
       "      <th>99263</th>\n",
       "      <td>که از</td>\n",
       "      <td>The_Schopenhauer_cure_data_annotated/page_0192...</td>\n",
       "    </tr>\n",
       "    <tr>\n",
       "      <th>99264</th>\n",
       "      <td>سلب</td>\n",
       "      <td>The_Schopenhauer_cure_data_annotated/page_0019...</td>\n",
       "    </tr>\n",
       "    <tr>\n",
       "      <th>99265</th>\n",
       "      <td>همان‌گونه</td>\n",
       "      <td>The_Schopenhauer_cure_data_annotated/page_0023...</td>\n",
       "    </tr>\n",
       "    <tr>\n",
       "      <th>99266</th>\n",
       "      <td>کمک</td>\n",
       "      <td>The_Schopenhauer_cure_data_annotated/page_0025...</td>\n",
       "    </tr>\n",
       "  </tbody>\n",
       "</table>\n",
       "<p>99267 rows × 2 columns</p>\n",
       "</div>"
      ],
      "text/plain": [
       "               label                                               path\n",
       "0             درکنار                                04468_153_86244.png\n",
       "1               4335                                 04335_0_275410.png\n",
       "2              وتولد                               05065_71_1234560.png\n",
       "3          تراژدی‌ای                                00459_42_782347.png\n",
       "4      افزود:استفاده                                02664_92_166182.png\n",
       "...              ...                                                ...\n",
       "99262          همیشه  The_Schopenhauer_cure_data_annotated/page_0017...\n",
       "99263          که از  The_Schopenhauer_cure_data_annotated/page_0192...\n",
       "99264            سلب  The_Schopenhauer_cure_data_annotated/page_0019...\n",
       "99265      همان‌گونه  The_Schopenhauer_cure_data_annotated/page_0023...\n",
       "99266            کمک  The_Schopenhauer_cure_data_annotated/page_0025...\n",
       "\n",
       "[99267 rows x 2 columns]"
      ]
     },
     "execution_count": 13,
     "metadata": {},
     "output_type": "execute_result"
    }
   ],
   "source": [
    "remove_chars = [\" \" , \"‌\"]\n",
    "def remove_specific_first_char(s):\n",
    "    res = str(s)\n",
    "    if s and res[0] in remove_chars:  # Check if the first character is in the set\n",
    "        res = res[1:]\n",
    "    if len(res) > 0 :\n",
    "        if s and res[-1] in remove_chars:\n",
    "            res = res[:-1]   # Remove the first character\n",
    "    return res  # Return the string as is if the first character is not in the set\n",
    "\n",
    "# Apply the function to the column\n",
    "df['label'] = df['label'].apply(remove_specific_first_char)\n",
    "df"
   ]
  },
  {
   "cell_type": "code",
   "execution_count": 14,
   "metadata": {},
   "outputs": [
    {
     "data": {
      "text/html": [
       "<div>\n",
       "<style scoped>\n",
       "    .dataframe tbody tr th:only-of-type {\n",
       "        vertical-align: middle;\n",
       "    }\n",
       "\n",
       "    .dataframe tbody tr th {\n",
       "        vertical-align: top;\n",
       "    }\n",
       "\n",
       "    .dataframe thead th {\n",
       "        text-align: right;\n",
       "    }\n",
       "</style>\n",
       "<table border=\"1\" class=\"dataframe\">\n",
       "  <thead>\n",
       "    <tr style=\"text-align: right;\">\n",
       "      <th></th>\n",
       "      <th>label</th>\n",
       "      <th>path</th>\n",
       "    </tr>\n",
       "  </thead>\n",
       "  <tbody>\n",
       "    <tr>\n",
       "      <th>0</th>\n",
       "      <td>اغماض،</td>\n",
       "      <td>04964_166_518242.png</td>\n",
       "    </tr>\n",
       "    <tr>\n",
       "      <th>1</th>\n",
       "      <td>مرجعیت</td>\n",
       "      <td>05210_164_648841.png</td>\n",
       "    </tr>\n",
       "    <tr>\n",
       "      <th>2</th>\n",
       "      <td>تأثر،</td>\n",
       "      <td>04692_131_543131.png</td>\n",
       "    </tr>\n",
       "    <tr>\n",
       "      <th>3</th>\n",
       "      <td>همکاریشیما</td>\n",
       "      <td>05069_183_579292.png</td>\n",
       "    </tr>\n",
       "    <tr>\n",
       "      <th>4</th>\n",
       "      <td>داستان‌نویس،</td>\n",
       "      <td>05066_145_652706.png</td>\n",
       "    </tr>\n",
       "    <tr>\n",
       "      <th>...</th>\n",
       "      <td>...</td>\n",
       "      <td>...</td>\n",
       "    </tr>\n",
       "    <tr>\n",
       "      <th>6802</th>\n",
       "      <td>در</td>\n",
       "      <td>The_Schopenhauer_cure_data_annotated/page_0008...</td>\n",
       "    </tr>\n",
       "    <tr>\n",
       "      <th>6803</th>\n",
       "      <td>ایا</td>\n",
       "      <td>The_Schopenhauer_cure_data_annotated/page_0020...</td>\n",
       "    </tr>\n",
       "    <tr>\n",
       "      <th>6804</th>\n",
       "      <td>فراز</td>\n",
       "      <td>The_Schopenhauer_cure_data_annotated/page_0017...</td>\n",
       "    </tr>\n",
       "    <tr>\n",
       "      <th>6805</th>\n",
       "      <td>کامل</td>\n",
       "      <td>The_Schopenhauer_cure_data_annotated/page_0020...</td>\n",
       "    </tr>\n",
       "    <tr>\n",
       "      <th>6806</th>\n",
       "      <td>از</td>\n",
       "      <td>The_Schopenhauer_cure_data_annotated/page_0013...</td>\n",
       "    </tr>\n",
       "  </tbody>\n",
       "</table>\n",
       "<p>6807 rows × 2 columns</p>\n",
       "</div>"
      ],
      "text/plain": [
       "             label                                               path\n",
       "0           اغماض،                               04964_166_518242.png\n",
       "1           مرجعیت                               05210_164_648841.png\n",
       "2            تأثر،                               04692_131_543131.png\n",
       "3       همکاریشیما                               05069_183_579292.png\n",
       "4     داستان‌نویس،                               05066_145_652706.png\n",
       "...            ...                                                ...\n",
       "6802            در  The_Schopenhauer_cure_data_annotated/page_0008...\n",
       "6803           ایا  The_Schopenhauer_cure_data_annotated/page_0020...\n",
       "6804          فراز  The_Schopenhauer_cure_data_annotated/page_0017...\n",
       "6805          کامل  The_Schopenhauer_cure_data_annotated/page_0020...\n",
       "6806            از  The_Schopenhauer_cure_data_annotated/page_0013...\n",
       "\n",
       "[6807 rows x 2 columns]"
      ]
     },
     "execution_count": 14,
     "metadata": {},
     "output_type": "execute_result"
    }
   ],
   "source": [
    "tdf['label'] = tdf['label'].apply(remove_specific_first_char)\n",
    "tdf"
   ]
  },
  {
   "cell_type": "code",
   "execution_count": 15,
   "metadata": {
    "colab": {
     "base_uri": "https://localhost:8080/",
     "height": 423
    },
    "executionInfo": {
     "elapsed": 3,
     "status": "ok",
     "timestamp": 1731607753158,
     "user": {
      "displayName": "arman hajimirza",
      "userId": "14640964011542618369"
     },
     "user_tz": -210
    },
    "id": "pJTOlwxmDovs",
    "outputId": "77e3a653-6343-42ed-fdb6-69ff6eb0244e"
   },
   "outputs": [
    {
     "data": {
      "text/html": [
       "<div>\n",
       "<style scoped>\n",
       "    .dataframe tbody tr th:only-of-type {\n",
       "        vertical-align: middle;\n",
       "    }\n",
       "\n",
       "    .dataframe tbody tr th {\n",
       "        vertical-align: top;\n",
       "    }\n",
       "\n",
       "    .dataframe thead th {\n",
       "        text-align: right;\n",
       "    }\n",
       "</style>\n",
       "<table border=\"1\" class=\"dataframe\">\n",
       "  <thead>\n",
       "    <tr style=\"text-align: right;\">\n",
       "      <th></th>\n",
       "      <th>label</th>\n",
       "      <th>path</th>\n",
       "    </tr>\n",
       "  </thead>\n",
       "  <tbody>\n",
       "    <tr>\n",
       "      <th>81315</th>\n",
       "      <td>تعلیق زدن</td>\n",
       "      <td>generated_data/g_28224.png</td>\n",
       "    </tr>\n",
       "    <tr>\n",
       "      <th>92540</th>\n",
       "      <td>انها را هرگز</td>\n",
       "      <td>The_Schopenhauer_cure_data_annotated/page_0023...</td>\n",
       "    </tr>\n",
       "    <tr>\n",
       "      <th>92546</th>\n",
       "      <td>که او</td>\n",
       "      <td>The_Schopenhauer_cure_data_annotated/page_0021...</td>\n",
       "    </tr>\n",
       "    <tr>\n",
       "      <th>92580</th>\n",
       "      <td>را نیز</td>\n",
       "      <td>The_Schopenhauer_cure_data_annotated/page_0016...</td>\n",
       "    </tr>\n",
       "    <tr>\n",
       "      <th>92589</th>\n",
       "      <td>او بر</td>\n",
       "      <td>The_Schopenhauer_cure_data_annotated/page_0024...</td>\n",
       "    </tr>\n",
       "    <tr>\n",
       "      <th>...</th>\n",
       "      <td>...</td>\n",
       "      <td>...</td>\n",
       "    </tr>\n",
       "    <tr>\n",
       "      <th>99177</th>\n",
       "      <td>کرد و فورا</td>\n",
       "      <td>The_Schopenhauer_cure_data_annotated/page_0016...</td>\n",
       "    </tr>\n",
       "    <tr>\n",
       "      <th>99193</th>\n",
       "      <td>باب ادامه</td>\n",
       "      <td>The_Schopenhauer_cure_data_annotated/page_0013...</td>\n",
       "    </tr>\n",
       "    <tr>\n",
       "      <th>99243</th>\n",
       "      <td>به‌خوبی درک</td>\n",
       "      <td>The_Schopenhauer_cure_data_annotated/page_0022...</td>\n",
       "    </tr>\n",
       "    <tr>\n",
       "      <th>99244</th>\n",
       "      <td>قرار گرفته</td>\n",
       "      <td>The_Schopenhauer_cure_data_annotated/page_0010...</td>\n",
       "    </tr>\n",
       "    <tr>\n",
       "      <th>99263</th>\n",
       "      <td>که از</td>\n",
       "      <td>The_Schopenhauer_cure_data_annotated/page_0192...</td>\n",
       "    </tr>\n",
       "  </tbody>\n",
       "</table>\n",
       "<p>388 rows × 2 columns</p>\n",
       "</div>"
      ],
      "text/plain": [
       "              label                                               path\n",
       "81315     تعلیق زدن                         generated_data/g_28224.png\n",
       "92540  انها را هرگز  The_Schopenhauer_cure_data_annotated/page_0023...\n",
       "92546         که او  The_Schopenhauer_cure_data_annotated/page_0021...\n",
       "92580        را نیز  The_Schopenhauer_cure_data_annotated/page_0016...\n",
       "92589         او بر  The_Schopenhauer_cure_data_annotated/page_0024...\n",
       "...             ...                                                ...\n",
       "99177    کرد و فورا  The_Schopenhauer_cure_data_annotated/page_0016...\n",
       "99193     باب ادامه  The_Schopenhauer_cure_data_annotated/page_0013...\n",
       "99243   به‌خوبی درک  The_Schopenhauer_cure_data_annotated/page_0022...\n",
       "99244    قرار گرفته  The_Schopenhauer_cure_data_annotated/page_0010...\n",
       "99263         که از  The_Schopenhauer_cure_data_annotated/page_0192...\n",
       "\n",
       "[388 rows x 2 columns]"
      ]
     },
     "execution_count": 15,
     "metadata": {},
     "output_type": "execute_result"
    }
   ],
   "source": [
    "# Assuming 'df' is your DataFrame and 'label' is the column containing the strings\n",
    "rows_with_specific_char = df[df['label'].str.contains(' ', na=False)]\n",
    "# pd.set_option('display.max_rows', df.shape[0]+1)\n",
    "rows_with_specific_char"
   ]
  },
  {
   "cell_type": "code",
   "execution_count": 11,
   "metadata": {},
   "outputs": [
    {
     "data": {
      "text/plain": [
       "Index([55201, 56711, 56981, 57214, 60005, 60520, 64841, 69360, 71620, 73264,\n",
       "       75679, 75919, 76907, 78322, 79304, 79397, 80513, 81315, 82716, 84689,\n",
       "       84708, 85511, 87349, 89661],\n",
       "      dtype='int64')"
      ]
     },
     "execution_count": 11,
     "metadata": {},
     "output_type": "execute_result"
    }
   ],
   "source": [
    "index_names = df[df['label'].str.contains(' ', na=False)].index\n",
    "index_names"
   ]
  },
  {
   "cell_type": "code",
   "execution_count": 12,
   "metadata": {},
   "outputs": [
    {
     "data": {
      "text/html": [
       "<div>\n",
       "<style scoped>\n",
       "    .dataframe tbody tr th:only-of-type {\n",
       "        vertical-align: middle;\n",
       "    }\n",
       "\n",
       "    .dataframe tbody tr th {\n",
       "        vertical-align: top;\n",
       "    }\n",
       "\n",
       "    .dataframe thead th {\n",
       "        text-align: right;\n",
       "    }\n",
       "</style>\n",
       "<table border=\"1\" class=\"dataframe\">\n",
       "  <thead>\n",
       "    <tr style=\"text-align: right;\">\n",
       "      <th></th>\n",
       "      <th>label</th>\n",
       "      <th>path</th>\n",
       "    </tr>\n",
       "  </thead>\n",
       "  <tbody>\n",
       "    <tr>\n",
       "      <th>0</th>\n",
       "      <td>درکنار</td>\n",
       "      <td>04468_153_86244.png</td>\n",
       "    </tr>\n",
       "    <tr>\n",
       "      <th>1</th>\n",
       "      <td>4335</td>\n",
       "      <td>04335_0_275410.png</td>\n",
       "    </tr>\n",
       "    <tr>\n",
       "      <th>2</th>\n",
       "      <td>وتولد</td>\n",
       "      <td>05065_71_1234560.png</td>\n",
       "    </tr>\n",
       "    <tr>\n",
       "      <th>3</th>\n",
       "      <td>تراژدی‌ای</td>\n",
       "      <td>00459_42_782347.png</td>\n",
       "    </tr>\n",
       "    <tr>\n",
       "      <th>4</th>\n",
       "      <td>افزود:استفاده</td>\n",
       "      <td>02664_92_166182.png</td>\n",
       "    </tr>\n",
       "    <tr>\n",
       "      <th>...</th>\n",
       "      <td>...</td>\n",
       "      <td>...</td>\n",
       "    </tr>\n",
       "    <tr>\n",
       "      <th>92502</th>\n",
       "      <td>اتوهایمان</td>\n",
       "      <td>generated_data/g_39993.png</td>\n",
       "    </tr>\n",
       "    <tr>\n",
       "      <th>92503</th>\n",
       "      <td>اسایه‌ای</td>\n",
       "      <td>generated_data/g_39995.png</td>\n",
       "    </tr>\n",
       "    <tr>\n",
       "      <th>92504</th>\n",
       "      <td>افضل</td>\n",
       "      <td>generated_data/g_39996.png</td>\n",
       "    </tr>\n",
       "    <tr>\n",
       "      <th>92505</th>\n",
       "      <td>اتمهایم</td>\n",
       "      <td>generated_data/g_39997.png</td>\n",
       "    </tr>\n",
       "    <tr>\n",
       "      <th>92506</th>\n",
       "      <td>باقیماندنه</td>\n",
       "      <td>generated_data/g_39998.png</td>\n",
       "    </tr>\n",
       "  </tbody>\n",
       "</table>\n",
       "<p>92483 rows × 2 columns</p>\n",
       "</div>"
      ],
      "text/plain": [
       "               label                        path\n",
       "0             درکنار         04468_153_86244.png\n",
       "1               4335          04335_0_275410.png\n",
       "2              وتولد        05065_71_1234560.png\n",
       "3          تراژدی‌ای         00459_42_782347.png\n",
       "4      افزود:استفاده         02664_92_166182.png\n",
       "...              ...                         ...\n",
       "92502      اتوهایمان  generated_data/g_39993.png\n",
       "92503       اسایه‌ای  generated_data/g_39995.png\n",
       "92504           افضل  generated_data/g_39996.png\n",
       "92505        اتمهایم  generated_data/g_39997.png\n",
       "92506     باقیماندنه  generated_data/g_39998.png\n",
       "\n",
       "[92483 rows x 2 columns]"
      ]
     },
     "execution_count": 12,
     "metadata": {},
     "output_type": "execute_result"
    }
   ],
   "source": [
    "df = df.drop(index_names)\n",
    "df"
   ]
  },
  {
   "cell_type": "code",
   "execution_count": 16,
   "metadata": {},
   "outputs": [
    {
     "data": {
      "text/html": [
       "<div>\n",
       "<style scoped>\n",
       "    .dataframe tbody tr th:only-of-type {\n",
       "        vertical-align: middle;\n",
       "    }\n",
       "\n",
       "    .dataframe tbody tr th {\n",
       "        vertical-align: top;\n",
       "    }\n",
       "\n",
       "    .dataframe thead th {\n",
       "        text-align: right;\n",
       "    }\n",
       "</style>\n",
       "<table border=\"1\" class=\"dataframe\">\n",
       "  <thead>\n",
       "    <tr style=\"text-align: right;\">\n",
       "      <th></th>\n",
       "      <th>label</th>\n",
       "      <th>path</th>\n",
       "    </tr>\n",
       "  </thead>\n",
       "  <tbody>\n",
       "    <tr>\n",
       "      <th>0</th>\n",
       "      <td>درکنار</td>\n",
       "      <td>04468_153_86244.png</td>\n",
       "    </tr>\n",
       "    <tr>\n",
       "      <th>1</th>\n",
       "      <td>4335</td>\n",
       "      <td>04335_0_275410.png</td>\n",
       "    </tr>\n",
       "    <tr>\n",
       "      <th>2</th>\n",
       "      <td>وتولد</td>\n",
       "      <td>05065_71_1234560.png</td>\n",
       "    </tr>\n",
       "    <tr>\n",
       "      <th>3</th>\n",
       "      <td>تراژدی‌ای</td>\n",
       "      <td>00459_42_782347.png</td>\n",
       "    </tr>\n",
       "    <tr>\n",
       "      <th>4</th>\n",
       "      <td>افزود:استفاده</td>\n",
       "      <td>02664_92_166182.png</td>\n",
       "    </tr>\n",
       "    <tr>\n",
       "      <th>...</th>\n",
       "      <td>...</td>\n",
       "      <td>...</td>\n",
       "    </tr>\n",
       "    <tr>\n",
       "      <th>99262</th>\n",
       "      <td>همیشه</td>\n",
       "      <td>The_Schopenhauer_cure_data_annotated/page_0017...</td>\n",
       "    </tr>\n",
       "    <tr>\n",
       "      <th>99263</th>\n",
       "      <td>که از</td>\n",
       "      <td>The_Schopenhauer_cure_data_annotated/page_0192...</td>\n",
       "    </tr>\n",
       "    <tr>\n",
       "      <th>99264</th>\n",
       "      <td>سلب</td>\n",
       "      <td>The_Schopenhauer_cure_data_annotated/page_0019...</td>\n",
       "    </tr>\n",
       "    <tr>\n",
       "      <th>99265</th>\n",
       "      <td>همان‌گونه</td>\n",
       "      <td>The_Schopenhauer_cure_data_annotated/page_0023...</td>\n",
       "    </tr>\n",
       "    <tr>\n",
       "      <th>99266</th>\n",
       "      <td>کمک</td>\n",
       "      <td>The_Schopenhauer_cure_data_annotated/page_0025...</td>\n",
       "    </tr>\n",
       "  </tbody>\n",
       "</table>\n",
       "<p>99267 rows × 2 columns</p>\n",
       "</div>"
      ],
      "text/plain": [
       "               label                                               path\n",
       "0             درکنار                                04468_153_86244.png\n",
       "1               4335                                 04335_0_275410.png\n",
       "2              وتولد                               05065_71_1234560.png\n",
       "3          تراژدی‌ای                                00459_42_782347.png\n",
       "4      افزود:استفاده                                02664_92_166182.png\n",
       "...              ...                                                ...\n",
       "99262          همیشه  The_Schopenhauer_cure_data_annotated/page_0017...\n",
       "99263          که از  The_Schopenhauer_cure_data_annotated/page_0192...\n",
       "99264            سلب  The_Schopenhauer_cure_data_annotated/page_0019...\n",
       "99265      همان‌گونه  The_Schopenhauer_cure_data_annotated/page_0023...\n",
       "99266            کمک  The_Schopenhauer_cure_data_annotated/page_0025...\n",
       "\n",
       "[99267 rows x 2 columns]"
      ]
     },
     "execution_count": 16,
     "metadata": {},
     "output_type": "execute_result"
    }
   ],
   "source": [
    "\n",
    "df['label'] = df['label'].str.replace(r'[آأً]', 'ا', regex=True)  # Replace 'آ' and 'أ' with 'ا'\n",
    "df['label'] = df['label'].str.replace(r'ؤ', 'و', regex=True)     # Remove 'ً'\n",
    "df['label'] = df['label'].str.replace(r'ۀ', 'ه', regex=True)\n",
    "df['label'] = df['label'].str.replace(r'ي', 'ی', regex=True)\n",
    "df['label'] = df['label'].str.replace(r'\\u200d', '\\u200c', regex=True)\n",
    "\n",
    "df"
   ]
  },
  {
   "cell_type": "code",
   "execution_count": 17,
   "metadata": {},
   "outputs": [],
   "source": [
    "eng_to_farsi = str.maketrans( '۰۱۲۳۴۵۶۷۸۹','0123456789')\n",
    "\n",
    "# Replace English numbers with Farsi numbers\n",
    "df['label'] = df['label'].apply(lambda x: x.translate(eng_to_farsi))\n",
    "tdf['label'] = tdf['label'].apply(lambda x: x.translate(eng_to_farsi))"
   ]
  },
  {
   "cell_type": "code",
   "execution_count": 18,
   "metadata": {},
   "outputs": [
    {
     "data": {
      "text/html": [
       "<div>\n",
       "<style scoped>\n",
       "    .dataframe tbody tr th:only-of-type {\n",
       "        vertical-align: middle;\n",
       "    }\n",
       "\n",
       "    .dataframe tbody tr th {\n",
       "        vertical-align: top;\n",
       "    }\n",
       "\n",
       "    .dataframe thead th {\n",
       "        text-align: right;\n",
       "    }\n",
       "</style>\n",
       "<table border=\"1\" class=\"dataframe\">\n",
       "  <thead>\n",
       "    <tr style=\"text-align: right;\">\n",
       "      <th></th>\n",
       "      <th>label</th>\n",
       "      <th>path</th>\n",
       "    </tr>\n",
       "  </thead>\n",
       "  <tbody>\n",
       "  </tbody>\n",
       "</table>\n",
       "</div>"
      ],
      "text/plain": [
       "Empty DataFrame\n",
       "Columns: [label, path]\n",
       "Index: []"
      ]
     },
     "execution_count": 18,
     "metadata": {},
     "output_type": "execute_result"
    }
   ],
   "source": [
    "df[df['label'].str.contains('\\u200d', na=False)]"
   ]
  },
  {
   "cell_type": "code",
   "execution_count": 19,
   "metadata": {
    "colab": {
     "base_uri": "https://localhost:8080/"
    },
    "executionInfo": {
     "elapsed": 2,
     "status": "ok",
     "timestamp": 1731607752416,
     "user": {
      "displayName": "arman hajimirza",
      "userId": "14640964011542618369"
     },
     "user_tz": -210
    },
    "id": "n8X3BKoRezQ6",
    "outputId": "ebf881e4-b01f-48c5-bb4f-c1fa6cf4b44b"
   },
   "outputs": [
    {
     "name": "stdout",
     "output_type": "stream",
     "text": [
      "{'و', '%', 'س', 'غ', '7', '3', '/', 'ر', 'ت', 'د', '*', 'ع', '1', '0', '8', 'ف', 'ح', '!', 'ژ', 'ء', 'ب', '(', '،', '9', '«', 'ث', '؟', '“', 'ش', '2', 'ج', 'پ', 'م', '+', 'ط', 'ا', '؛', '»', 'گ', 'ص', 'چ', ':', 'ظ', '4', 'ل', 'ن', 'ئ', '5', 'ق', '”', 'ه', '.', '6', '\\u200c', 'خ', ' ', ')', 'ی', 'ذ', 'ک', 'ض', 'ز'}\n",
      "62\n"
     ]
    }
   ],
   "source": [
    "unique_characters = unique_chars_in_strings(df['label'].tolist())\n",
    "print(unique_characters)\n",
    "print(len(unique_characters))"
   ]
  },
  {
   "cell_type": "code",
   "execution_count": 20,
   "metadata": {},
   "outputs": [
    {
     "name": "stdout",
     "output_type": "stream",
     "text": [
      "{'و', 'س', 'غ', '7', '3', '/', 'ر', 'ت', 'د', '*', 'ع', '1', '0', '8', 'ف', 'ح', '!', 'ژ', 'ب', '(', 'ث', '9', '«', '؟', '“', 'ج', 'ش', '2', 'پ', 'م', '+', 'ط', 'ا', 'ز', '؛', '»', 'گ', 'ص', 'چ', ':', 'ظ', '4', 'ل', 'ن', 'ئ', '5', 'ق', 'ه', '.', 'خ', '\\u200c', '6', ' ', ')', 'ی', 'ذ', 'ض', 'ک', '،'}\n",
      "59\n"
     ]
    },
    {
     "data": {
      "text/html": [
       "<div>\n",
       "<style scoped>\n",
       "    .dataframe tbody tr th:only-of-type {\n",
       "        vertical-align: middle;\n",
       "    }\n",
       "\n",
       "    .dataframe tbody tr th {\n",
       "        vertical-align: top;\n",
       "    }\n",
       "\n",
       "    .dataframe thead th {\n",
       "        text-align: right;\n",
       "    }\n",
       "</style>\n",
       "<table border=\"1\" class=\"dataframe\">\n",
       "  <thead>\n",
       "    <tr style=\"text-align: right;\">\n",
       "      <th></th>\n",
       "      <th>label</th>\n",
       "      <th>path</th>\n",
       "    </tr>\n",
       "  </thead>\n",
       "  <tbody>\n",
       "    <tr>\n",
       "      <th>0</th>\n",
       "      <td>اغماض،</td>\n",
       "      <td>04964_166_518242.png</td>\n",
       "    </tr>\n",
       "    <tr>\n",
       "      <th>1</th>\n",
       "      <td>مرجعیت</td>\n",
       "      <td>05210_164_648841.png</td>\n",
       "    </tr>\n",
       "    <tr>\n",
       "      <th>2</th>\n",
       "      <td>تاثر،</td>\n",
       "      <td>04692_131_543131.png</td>\n",
       "    </tr>\n",
       "    <tr>\n",
       "      <th>3</th>\n",
       "      <td>همکاریشیما</td>\n",
       "      <td>05069_183_579292.png</td>\n",
       "    </tr>\n",
       "    <tr>\n",
       "      <th>4</th>\n",
       "      <td>داستان‌نویس،</td>\n",
       "      <td>05066_145_652706.png</td>\n",
       "    </tr>\n",
       "    <tr>\n",
       "      <th>...</th>\n",
       "      <td>...</td>\n",
       "      <td>...</td>\n",
       "    </tr>\n",
       "    <tr>\n",
       "      <th>6802</th>\n",
       "      <td>در</td>\n",
       "      <td>The_Schopenhauer_cure_data_annotated/page_0008...</td>\n",
       "    </tr>\n",
       "    <tr>\n",
       "      <th>6803</th>\n",
       "      <td>ایا</td>\n",
       "      <td>The_Schopenhauer_cure_data_annotated/page_0020...</td>\n",
       "    </tr>\n",
       "    <tr>\n",
       "      <th>6804</th>\n",
       "      <td>فراز</td>\n",
       "      <td>The_Schopenhauer_cure_data_annotated/page_0017...</td>\n",
       "    </tr>\n",
       "    <tr>\n",
       "      <th>6805</th>\n",
       "      <td>کامل</td>\n",
       "      <td>The_Schopenhauer_cure_data_annotated/page_0020...</td>\n",
       "    </tr>\n",
       "    <tr>\n",
       "      <th>6806</th>\n",
       "      <td>از</td>\n",
       "      <td>The_Schopenhauer_cure_data_annotated/page_0013...</td>\n",
       "    </tr>\n",
       "  </tbody>\n",
       "</table>\n",
       "<p>6807 rows × 2 columns</p>\n",
       "</div>"
      ],
      "text/plain": [
       "             label                                               path\n",
       "0           اغماض،                               04964_166_518242.png\n",
       "1           مرجعیت                               05210_164_648841.png\n",
       "2            تاثر،                               04692_131_543131.png\n",
       "3       همکاریشیما                               05069_183_579292.png\n",
       "4     داستان‌نویس،                               05066_145_652706.png\n",
       "...            ...                                                ...\n",
       "6802            در  The_Schopenhauer_cure_data_annotated/page_0008...\n",
       "6803           ایا  The_Schopenhauer_cure_data_annotated/page_0020...\n",
       "6804          فراز  The_Schopenhauer_cure_data_annotated/page_0017...\n",
       "6805          کامل  The_Schopenhauer_cure_data_annotated/page_0020...\n",
       "6806            از  The_Schopenhauer_cure_data_annotated/page_0013...\n",
       "\n",
       "[6807 rows x 2 columns]"
      ]
     },
     "execution_count": 20,
     "metadata": {},
     "output_type": "execute_result"
    }
   ],
   "source": [
    "tdf['label'] = tdf['label'].str.replace(r'[آأً]', 'ا', regex=True)  # Replace 'آ' and 'أ' with 'ا'\n",
    "tdf['label'] = tdf['label'].str.replace(r'ؤ', 'و', regex=True)     # Remove 'ً'\n",
    "tdf['label'] = tdf['label'].str.replace(r'ۀ', 'ه', regex=True)\n",
    "tdf['label'] = tdf['label'].str.replace(r'ي', 'ی', regex=True)\n",
    "tdf['label'] = tdf['label'].str.replace(r'\\u200d', '\\u200c', regex=True)\n",
    "unique_characters = unique_chars_in_strings(tdf['label'].tolist())\n",
    "print(unique_characters)\n",
    "print(len(unique_characters))\n",
    "tdf"
   ]
  },
  {
   "cell_type": "code",
   "execution_count": null,
   "metadata": {},
   "outputs": [],
   "source": [
    "\n",
    "df = df.drop(df[df['label']== \"\"].index)\n",
    "df[df['label']== \"\"]"
   ]
  },
  {
   "cell_type": "code",
   "execution_count": 31,
   "metadata": {
    "colab": {
     "base_uri": "https://localhost:8080/"
    },
    "executionInfo": {
     "elapsed": 1,
     "status": "ok",
     "timestamp": 1731607753791,
     "user": {
      "displayName": "arman hajimirza",
      "userId": "14640964011542618369"
     },
     "user_tz": -210
    },
    "id": "64xbPAY2zEfK",
    "outputId": "ec39045d-d419-4bf6-fea3-9ddc86cd7ddc"
   },
   "outputs": [
    {
     "name": "stdout",
     "output_type": "stream",
     "text": [
      "نیمه‌یارانه‌ای 14\n"
     ]
    }
   ],
   "source": [
    "t = find_longest_string(df['label'].tolist())\n",
    "print(t,len(t))"
   ]
  },
  {
   "cell_type": "code",
   "execution_count": 32,
   "metadata": {
    "colab": {
     "base_uri": "https://localhost:8080/"
    },
    "executionInfo": {
     "elapsed": 2,
     "status": "ok",
     "timestamp": 1731607750516,
     "user": {
      "displayName": "arman hajimirza",
      "userId": "14640964011542618369"
     },
     "user_tz": -210
    },
    "id": "xg2o14Bh_Nwp",
    "outputId": "8799c849-d004-4f92-fec8-64f5055c717a"
   },
   "outputs": [
    {
     "name": "stdout",
     "output_type": "stream",
     "text": [
      "99266\n"
     ]
    },
    {
     "data": {
      "text/plain": [
       "{'04468_153_86244.png': 'درکنار',\n",
       " '04335_0_275410.png': '4335',\n",
       " '05065_71_1234560.png': 'وتولد',\n",
       " '00459_42_782347.png': 'تراژدی\\u200cای',\n",
       " '02664_92_166182.png': 'افزود:استفاده',\n",
       " '02250_87_77933.png': 'ریزگردها',\n",
       " '06715_66_498681.png': 'سالگذشته',\n",
       " '05562_35_186468.png': 'هولناک',\n",
       " '06711_29_9457.png': 'اباالحسن',\n",
       " '02937_30_899678.png': 'مواردرا'}"
      ]
     },
     "execution_count": 32,
     "metadata": {},
     "output_type": "execute_result"
    }
   ],
   "source": [
    "dataset = df.set_index('path')['label'].to_dict()\n",
    "print(len(dataset))\n",
    "dict(list(dataset.items())[0:10])\n"
   ]
  },
  {
   "cell_type": "markdown",
   "metadata": {},
   "source": [
    "1.3 Custom Torch dataclass"
   ]
  },
  {
   "cell_type": "code",
   "execution_count": 33,
   "metadata": {},
   "outputs": [
    {
     "name": "stdout",
     "output_type": "stream",
     "text": [
      "6807\n"
     ]
    },
    {
     "data": {
      "text/plain": [
       "{'04964_166_518242.png': 'اغماض،',\n",
       " '05210_164_648841.png': 'مرجعیت',\n",
       " '04692_131_543131.png': 'تاثر،',\n",
       " '05069_183_579292.png': 'همکاریشیما',\n",
       " '05066_145_652706.png': 'داستان\\u200cنویس،',\n",
       " '04284_139_1015608.png': 'وفقط',\n",
       " '04558_156_35334.png': 'صحرایی',\n",
       " '03445_105_141224.png': 'دریافت.',\n",
       " '03051_25_39708.png': 'قطار',\n",
       " '04444_74_37847.png': 'افشای'}"
      ]
     },
     "execution_count": 33,
     "metadata": {},
     "output_type": "execute_result"
    }
   ],
   "source": [
    "tdataset = tdf.set_index('path')['label'].to_dict()\n",
    "print(len(tdataset))\n",
    "dict(list(tdataset.items())[0:10])\n"
   ]
  },
  {
   "cell_type": "markdown",
   "metadata": {
    "id": "TZC73pnFEnwg"
   },
   "source": [
    "1.4 Apply Data Augmentation and Preprocessing"
   ]
  },
  {
   "cell_type": "markdown",
   "metadata": {
    "id": "sBWEzwGjDdeC"
   },
   "source": [
    "1.5 Split data to Train, test and validation with proportion of 80%, 10% and 10% respectively."
   ]
  },
  {
   "cell_type": "code",
   "execution_count": 34,
   "metadata": {},
   "outputs": [],
   "source": [
    "img_dir = \"Data/persian_unique_ocr_dataset\""
   ]
  },
  {
   "cell_type": "code",
   "execution_count": 36,
   "metadata": {},
   "outputs": [
    {
     "name": "stderr",
     "output_type": "stream",
     "text": [
      "100%|██████████| 99266/99266 [00:16<00:00, 6199.58it/s]\n",
      "100%|██████████| 6807/6807 [00:01<00:00, 6312.07it/s]\n"
     ]
    }
   ],
   "source": [
    "import importlib\n",
    "importlib.reload(Data_loader)\n",
    "\n",
    "train_dataset = Data_loader.OCRDataset(img_dir,dataset , char_to_index , input_length=24,transform=Transforms.Training_transforms)\n",
    "val_dataset = Data_loader.OCRDataset(img_dir,tdataset , char_to_index , input_length=24,transform=Transforms.Testing_transforms)"
   ]
  },
  {
   "cell_type": "code",
   "execution_count": 37,
   "metadata": {},
   "outputs": [
    {
     "data": {
      "text/plain": [
       "(tensor([[[0., 0., 0.,  ..., 0., 0., 0.],\n",
       "          [0., 0., 0.,  ..., 0., 0., 0.],\n",
       "          [0., 0., 0.,  ..., 0., 0., 0.],\n",
       "          ...,\n",
       "          [0., 0., 0.,  ..., 0., 0., 0.],\n",
       "          [0., 0., 0.,  ..., 0., 0., 0.],\n",
       "          [0., 0., 0.,  ..., 0., 0., 0.]]]),\n",
       " tensor([13, 12, 12, 14]),\n",
       " 24,\n",
       " 4)"
      ]
     },
     "execution_count": 37,
     "metadata": {},
     "output_type": "execute_result"
    }
   ],
   "source": [
    "train_dataset.__getitem__(1)"
   ]
  },
  {
   "cell_type": "code",
   "execution_count": 38,
   "metadata": {
    "executionInfo": {
     "elapsed": 1,
     "status": "ok",
     "timestamp": 1731607762676,
     "user": {
      "displayName": "arman hajimirza",
      "userId": "14640964011542618369"
     },
     "user_tz": -210
    },
    "id": "zbi4rMzCi9mC"
   },
   "outputs": [],
   "source": [
    "def collate_fn(batch):\n",
    "    \"\"\"Custom collate function to handle variable-length sequences.\n",
    "\n",
    "    Args:\n",
    "        batch: A list of data samples, where each sample is a tuple\n",
    "                of (image, label, length).\n",
    "\n",
    "    Returns:\n",
    "        A tuple containing:\n",
    "            images: A batched tensor of images.\n",
    "            labels: A padded tensor of labels.\n",
    "            target_lengths: A tensor of label lengths.\n",
    "    \"\"\"\n",
    "    images, labels, input_lengths, tagret_lengths = zip(*batch)\n",
    "\n",
    "    # Pad the labels to the maximum length in the batch\n",
    "    labels = pad_sequence([label.clone().detach() for label in labels], \n",
    "                    batch_first=True, padding_value=0)\n",
    "    # Stack the images and lengths\n",
    "    # images = images.tensor(images)\n",
    "    images = torch.stack(images, 0)\n",
    "    input_lengths = torch.tensor(input_lengths)\n",
    "    tagret_lengths = torch.tensor(tagret_lengths)\n",
    "\n",
    "    return images, labels, input_lengths, tagret_lengths"
   ]
  },
  {
   "cell_type": "code",
   "execution_count": 39,
   "metadata": {
    "executionInfo": {
     "elapsed": 1,
     "status": "ok",
     "timestamp": 1731607763816,
     "user": {
      "displayName": "arman hajimirza",
      "userId": "14640964011542618369"
     },
     "user_tz": -210
    },
    "id": "DJ21bJBifv8Y"
   },
   "outputs": [],
   "source": [
    "train_data = DataLoader(train_dataset, batch_size=1000, shuffle=True,  collate_fn=collate_fn , num_workers= 4)\n",
    "val_data = DataLoader(val_dataset, batch_size=1000, shuffle=True,  collate_fn=collate_fn, num_workers= 4)"
   ]
  },
  {
   "cell_type": "code",
   "execution_count": 40,
   "metadata": {
    "executionInfo": {
     "elapsed": 1,
     "status": "ok",
     "timestamp": 1731607769110,
     "user": {
      "displayName": "arman hajimirza",
      "userId": "14640964011542618369"
     },
     "user_tz": -210
    },
    "id": "iWCKu3rPAw54"
   },
   "outputs": [],
   "source": [
    "# Assuming the CRNN class is already defined\n",
    "num_classes = 63  # Adjust for Persian characters + numbers + punctuation + blank token\n",
    "model = CRNN(num_classes=num_classes)\n",
    "# Define CTC Loss and Optimizer\n",
    "criterion = nn.CTCLoss(blank=0)  # 0 as the blank token index\n",
    "optimizer = optim.Adam(model.parameters(), lr=0.001)"
   ]
  },
  {
   "cell_type": "code",
   "execution_count": 41,
   "metadata": {},
   "outputs": [
    {
     "name": "stderr",
     "output_type": "stream",
     "text": [
      "                                                                                                                            \r"
     ]
    },
    {
     "name": "stdout",
     "output_type": "stream",
     "text": [
      "Epoch:  [1/150]\n",
      "Train_Loss: 3.828598053455353, Train_character_accuracy: 0.0003311527540789306, Train_word_accuracy: 0.0, Train_CER: 1.0009526017650652\n",
      "Val_Loss: 3.7901991435459683, Val_character_accuracy: 0.0, Val_word_accuracy: 0.0, Val_CER: 1.0\n",
      "Improved Train_Loss: 3.828598053455353 -> 3.828598053455353\n",
      "Model checkpoint saved for metric 'Train_Loss' at 'Models/checkpoints/v0.01/best_model_Train_Loss.pth'.\n",
      "Metrics log saved at 'Logs/metrics_log_Train_Loss.txt'.\n",
      "Improved Val_Loss: 3.7901991435459683 -> 3.7901991435459683\n",
      "Model checkpoint saved for metric 'Val_Loss' at 'Models/checkpoints/v0.01/best_model_Val_Loss.pth'.\n",
      "Metrics log saved at 'Logs/metrics_log_Val_Loss.txt'.\n",
      "Improved Train_CER: 1.0009526017650652 -> 1.0009526017650652\n",
      "Model checkpoint saved for metric 'Train_CER' at 'Models/checkpoints/v0.01/best_model_Train_CER.pth'.\n",
      "Metrics log saved at 'Logs/metrics_log_Train_CER.txt'.\n",
      "Improved Val_CER: 1.0 -> 1.0\n",
      "Model checkpoint saved for metric 'Val_CER' at 'Models/checkpoints/v0.01/best_model_Val_CER.pth'.\n",
      "Metrics log saved at 'Logs/metrics_log_Val_CER.txt'.\n",
      "Improved Train_character_accuracy: 0.0003311527540789306 -> 0.0003311527540789306\n",
      "Model checkpoint saved for metric 'Train_character_accuracy' at 'Models/checkpoints/v0.01/best_model_Train_character_accuracy.pth'.\n",
      "Metrics log saved at 'Logs/metrics_log_Train_character_accuracy.txt'.\n",
      "Improved Train_word_accuracy: 0.0 -> 0.0\n",
      "Model checkpoint saved for metric 'Train_word_accuracy' at 'Models/checkpoints/v0.01/best_model_Train_word_accuracy.pth'.\n",
      "Metrics log saved at 'Logs/metrics_log_Train_word_accuracy.txt'.\n",
      "Improved Val_character_accuracy: 0.0 -> 0.0\n",
      "Model checkpoint saved for metric 'Val_character_accuracy' at 'Models/checkpoints/v0.01/best_model_Val_character_accuracy.pth'.\n",
      "Metrics log saved at 'Logs/metrics_log_Val_character_accuracy.txt'.\n",
      "Improved Val_word_accuracy: 0.0 -> 0.0\n",
      "Model checkpoint saved for metric 'Val_word_accuracy' at 'Models/checkpoints/v0.01/best_model_Val_word_accuracy.pth'.\n",
      "Metrics log saved at 'Logs/metrics_log_Val_word_accuracy.txt'.\n"
     ]
    },
    {
     "name": "stderr",
     "output_type": "stream",
     "text": [
      "                                                                                                                   \r"
     ]
    },
    {
     "name": "stdout",
     "output_type": "stream",
     "text": [
      "Epoch:  [2/150]\n",
      "Train_Loss: 3.4937810850143434, Train_character_accuracy: 0.0, Train_word_accuracy: 0.0, Train_CER: 1.0\n",
      "Val_Loss: 3.8022092410496304, Val_character_accuracy: 0.0, Val_word_accuracy: 0.0, Val_CER: 1.0\n",
      "Improved Train_Loss: 3.828598053455353 -> 3.4937810850143434\n",
      "Model checkpoint saved for metric 'Train_Loss' at 'Models/checkpoints/v0.01/best_model_Train_Loss.pth'.\n",
      "Metrics log saved at 'Logs/metrics_log_Train_Loss.txt'.\n",
      "Improved Train_CER: 1.0009526017650652 -> 1.0\n",
      "Model checkpoint saved for metric 'Train_CER' at 'Models/checkpoints/v0.01/best_model_Train_CER.pth'.\n",
      "Metrics log saved at 'Logs/metrics_log_Train_CER.txt'.\n"
     ]
    },
    {
     "name": "stderr",
     "output_type": "stream",
     "text": [
      "                                                                                                                   \r"
     ]
    },
    {
     "name": "stdout",
     "output_type": "stream",
     "text": [
      "Epoch:  [3/150]\n",
      "Train_Loss: 3.468709292411804, Train_character_accuracy: 0.0, Train_word_accuracy: 0.0, Train_CER: 1.0\n",
      "Val_Loss: 3.78167462348938, Val_character_accuracy: 0.0, Val_word_accuracy: 0.0, Val_CER: 1.0\n",
      "Improved Train_Loss: 3.4937810850143434 -> 3.468709292411804\n",
      "Model checkpoint saved for metric 'Train_Loss' at 'Models/checkpoints/v0.01/best_model_Train_Loss.pth'.\n",
      "Metrics log saved at 'Logs/metrics_log_Train_Loss.txt'.\n",
      "Improved Val_Loss: 3.7901991435459683 -> 3.78167462348938\n",
      "Model checkpoint saved for metric 'Val_Loss' at 'Models/checkpoints/v0.01/best_model_Val_Loss.pth'.\n",
      "Metrics log saved at 'Logs/metrics_log_Val_Loss.txt'.\n"
     ]
    },
    {
     "name": "stderr",
     "output_type": "stream",
     "text": [
      "                                                                                                                              \r"
     ]
    },
    {
     "name": "stdout",
     "output_type": "stream",
     "text": [
      "Epoch:  [4/150]\n",
      "Train_Loss: 3.461214520931244, Train_character_accuracy: 0.0024295706708589216, Train_word_accuracy: 0.0, Train_CER: 0.995577056546321\n",
      "Val_Loss: 3.7724818161555698, Val_character_accuracy: 0.0, Val_word_accuracy: 0.0, Val_CER: 1.0\n",
      "Improved Train_Loss: 3.468709292411804 -> 3.461214520931244\n",
      "Model checkpoint saved for metric 'Train_Loss' at 'Models/checkpoints/v0.01/best_model_Train_Loss.pth'.\n",
      "Metrics log saved at 'Logs/metrics_log_Train_Loss.txt'.\n",
      "Improved Val_Loss: 3.78167462348938 -> 3.7724818161555698\n",
      "Model checkpoint saved for metric 'Val_Loss' at 'Models/checkpoints/v0.01/best_model_Val_Loss.pth'.\n",
      "Metrics log saved at 'Logs/metrics_log_Val_Loss.txt'.\n",
      "Improved Train_CER: 1.0 -> 0.995577056546321\n",
      "Model checkpoint saved for metric 'Train_CER' at 'Models/checkpoints/v0.01/best_model_Train_CER.pth'.\n",
      "Metrics log saved at 'Logs/metrics_log_Train_CER.txt'.\n",
      "Improved Train_character_accuracy: 0.0003311527540789306 -> 0.0024295706708589216\n",
      "Model checkpoint saved for metric 'Train_character_accuracy' at 'Models/checkpoints/v0.01/best_model_Train_character_accuracy.pth'.\n",
      "Metrics log saved at 'Logs/metrics_log_Train_character_accuracy.txt'.\n"
     ]
    },
    {
     "name": "stderr",
     "output_type": "stream",
     "text": [
      "                                                                                                                                   \r"
     ]
    },
    {
     "name": "stdout",
     "output_type": "stream",
     "text": [
      "Epoch:  [5/150]\n",
      "Train_Loss: 3.4236930227279663, Train_character_accuracy: 0.016493168313218176, Train_word_accuracy: 1.0073942739709467e-05, Train_CER: 0.9735075549437968\n",
      "Val_Loss: 3.9432753154209683, Val_character_accuracy: 0.018638308353753016, Val_word_accuracy: 0.0, Val_CER: 0.9090283853064821\n",
      "Improved Train_Loss: 3.461214520931244 -> 3.4236930227279663\n",
      "Model checkpoint saved for metric 'Train_Loss' at 'Models/checkpoints/v0.01/best_model_Train_Loss.pth'.\n",
      "Metrics log saved at 'Logs/metrics_log_Train_Loss.txt'.\n",
      "Improved Train_CER: 0.995577056546321 -> 0.9735075549437968\n",
      "Model checkpoint saved for metric 'Train_CER' at 'Models/checkpoints/v0.01/best_model_Train_CER.pth'.\n",
      "Metrics log saved at 'Logs/metrics_log_Train_CER.txt'.\n",
      "Improved Val_CER: 1.0 -> 0.9090283853064821\n",
      "Model checkpoint saved for metric 'Val_CER' at 'Models/checkpoints/v0.01/best_model_Val_CER.pth'.\n",
      "Metrics log saved at 'Logs/metrics_log_Val_CER.txt'.\n",
      "Improved Train_character_accuracy: 0.0024295706708589216 -> 0.016493168313218176\n",
      "Model checkpoint saved for metric 'Train_character_accuracy' at 'Models/checkpoints/v0.01/best_model_Train_character_accuracy.pth'.\n",
      "Metrics log saved at 'Logs/metrics_log_Train_character_accuracy.txt'.\n",
      "Improved Train_word_accuracy: 0.0 -> 1.0073942739709467e-05\n",
      "Model checkpoint saved for metric 'Train_word_accuracy' at 'Models/checkpoints/v0.01/best_model_Train_word_accuracy.pth'.\n",
      "Metrics log saved at 'Logs/metrics_log_Train_word_accuracy.txt'.\n",
      "Improved Val_character_accuracy: 0.0 -> 0.018638308353753016\n",
      "Model checkpoint saved for metric 'Val_character_accuracy' at 'Models/checkpoints/v0.01/best_model_Val_character_accuracy.pth'.\n",
      "Metrics log saved at 'Logs/metrics_log_Val_character_accuracy.txt'.\n"
     ]
    },
    {
     "name": "stderr",
     "output_type": "stream",
     "text": [
      "                                                                                                                            \r"
     ]
    },
    {
     "name": "stdout",
     "output_type": "stream",
     "text": [
      "Epoch:  [6/150]\n",
      "Train_Loss: 3.1590034580230713, Train_character_accuracy: 0.05137448542437076, Train_word_accuracy: 0.0, Train_CER: 0.9128791389124736\n",
      "Val_Loss: 3.318554469517299, Val_character_accuracy: 0.02025956920257051, Val_word_accuracy: 0.0, Val_CER: 0.9039604230547386\n",
      "Improved Train_Loss: 3.4236930227279663 -> 3.1590034580230713\n",
      "Model checkpoint saved for metric 'Train_Loss' at 'Models/checkpoints/v0.01/best_model_Train_Loss.pth'.\n",
      "Metrics log saved at 'Logs/metrics_log_Train_Loss.txt'.\n",
      "Improved Val_Loss: 3.7724818161555698 -> 3.318554469517299\n",
      "Model checkpoint saved for metric 'Val_Loss' at 'Models/checkpoints/v0.01/best_model_Val_Loss.pth'.\n",
      "Metrics log saved at 'Logs/metrics_log_Val_Loss.txt'.\n",
      "Improved Train_CER: 0.9735075549437968 -> 0.9128791389124736\n",
      "Model checkpoint saved for metric 'Train_CER' at 'Models/checkpoints/v0.01/best_model_Train_CER.pth'.\n",
      "Metrics log saved at 'Logs/metrics_log_Train_CER.txt'.\n",
      "Improved Val_CER: 0.9090283853064821 -> 0.9039604230547386\n",
      "Model checkpoint saved for metric 'Val_CER' at 'Models/checkpoints/v0.01/best_model_Val_CER.pth'.\n",
      "Metrics log saved at 'Logs/metrics_log_Val_CER.txt'.\n",
      "Improved Train_character_accuracy: 0.016493168313218176 -> 0.05137448542437076\n",
      "Model checkpoint saved for metric 'Train_character_accuracy' at 'Models/checkpoints/v0.01/best_model_Train_character_accuracy.pth'.\n",
      "Metrics log saved at 'Logs/metrics_log_Train_character_accuracy.txt'.\n",
      "Improved Val_character_accuracy: 0.018638308353753016 -> 0.02025956920257051\n",
      "Model checkpoint saved for metric 'Val_character_accuracy' at 'Models/checkpoints/v0.01/best_model_Val_character_accuracy.pth'.\n",
      "Metrics log saved at 'Logs/metrics_log_Val_character_accuracy.txt'.\n"
     ]
    },
    {
     "name": "stderr",
     "output_type": "stream",
     "text": [
      "                                                                                                                            \r"
     ]
    },
    {
     "name": "stdout",
     "output_type": "stream",
     "text": [
      "Epoch:  [7/150]\n",
      "Train_Loss: 3.0432980489730834, Train_character_accuracy: 0.05374270308159085, Train_word_accuracy: 0.0, Train_CER: 0.9036836779173031\n",
      "Val_Loss: 3.202697277069092, Val_character_accuracy: 0.021362778437403064, Val_word_accuracy: 0.0, Val_CER: 0.9058811126682443\n",
      "Improved Train_Loss: 3.1590034580230713 -> 3.0432980489730834\n",
      "Model checkpoint saved for metric 'Train_Loss' at 'Models/checkpoints/v0.01/best_model_Train_Loss.pth'.\n",
      "Metrics log saved at 'Logs/metrics_log_Train_Loss.txt'.\n",
      "Improved Val_Loss: 3.318554469517299 -> 3.202697277069092\n",
      "Model checkpoint saved for metric 'Val_Loss' at 'Models/checkpoints/v0.01/best_model_Val_Loss.pth'.\n",
      "Metrics log saved at 'Logs/metrics_log_Val_Loss.txt'.\n",
      "Improved Train_CER: 0.9128791389124736 -> 0.9036836779173031\n",
      "Model checkpoint saved for metric 'Train_CER' at 'Models/checkpoints/v0.01/best_model_Train_CER.pth'.\n",
      "Metrics log saved at 'Logs/metrics_log_Train_CER.txt'.\n",
      "Improved Train_character_accuracy: 0.05137448542437076 -> 0.05374270308159085\n",
      "Model checkpoint saved for metric 'Train_character_accuracy' at 'Models/checkpoints/v0.01/best_model_Train_character_accuracy.pth'.\n",
      "Metrics log saved at 'Logs/metrics_log_Train_character_accuracy.txt'.\n",
      "Improved Val_character_accuracy: 0.02025956920257051 -> 0.021362778437403064\n",
      "Model checkpoint saved for metric 'Val_character_accuracy' at 'Models/checkpoints/v0.01/best_model_Val_character_accuracy.pth'.\n",
      "Metrics log saved at 'Logs/metrics_log_Val_character_accuracy.txt'.\n"
     ]
    },
    {
     "name": "stderr",
     "output_type": "stream",
     "text": [
      "                                                                                                                                  \r"
     ]
    },
    {
     "name": "stdout",
     "output_type": "stream",
     "text": [
      "Epoch:  [8/150]\n",
      "Train_Loss: 2.9307573103904723, Train_character_accuracy: 0.06421503555539713, Train_word_accuracy: 1.0073942739709467e-05, Train_CER: 0.8745990883049394\n",
      "Val_Loss: 3.0835666997092113, Val_character_accuracy: 0.047492353795047244, Val_word_accuracy: 0.0, Val_CER: 0.8496238169221862\n",
      "Improved Train_Loss: 3.0432980489730834 -> 2.9307573103904723\n",
      "Model checkpoint saved for metric 'Train_Loss' at 'Models/checkpoints/v0.01/best_model_Train_Loss.pth'.\n",
      "Metrics log saved at 'Logs/metrics_log_Train_Loss.txt'.\n",
      "Improved Val_Loss: 3.202697277069092 -> 3.0835666997092113\n",
      "Model checkpoint saved for metric 'Val_Loss' at 'Models/checkpoints/v0.01/best_model_Val_Loss.pth'.\n",
      "Metrics log saved at 'Logs/metrics_log_Val_Loss.txt'.\n",
      "Improved Train_CER: 0.9036836779173031 -> 0.8745990883049394\n",
      "Model checkpoint saved for metric 'Train_CER' at 'Models/checkpoints/v0.01/best_model_Train_CER.pth'.\n",
      "Metrics log saved at 'Logs/metrics_log_Train_CER.txt'.\n",
      "Improved Val_CER: 0.9039604230547386 -> 0.8496238169221862\n",
      "Model checkpoint saved for metric 'Val_CER' at 'Models/checkpoints/v0.01/best_model_Val_CER.pth'.\n",
      "Metrics log saved at 'Logs/metrics_log_Val_CER.txt'.\n",
      "Improved Train_character_accuracy: 0.05374270308159085 -> 0.06421503555539713\n",
      "Model checkpoint saved for metric 'Train_character_accuracy' at 'Models/checkpoints/v0.01/best_model_Train_character_accuracy.pth'.\n",
      "Metrics log saved at 'Logs/metrics_log_Train_character_accuracy.txt'.\n",
      "Improved Val_character_accuracy: 0.021362778437403064 -> 0.047492353795047244\n",
      "Model checkpoint saved for metric 'Val_character_accuracy' at 'Models/checkpoints/v0.01/best_model_Val_character_accuracy.pth'.\n",
      "Metrics log saved at 'Logs/metrics_log_Val_character_accuracy.txt'.\n"
     ]
    },
    {
     "name": "stderr",
     "output_type": "stream",
     "text": [
      "                                                                                                                                  \r"
     ]
    },
    {
     "name": "stdout",
     "output_type": "stream",
     "text": [
      "Epoch:  [9/150]\n",
      "Train_Loss: 2.823340320587158, Train_character_accuracy: 0.09279793009373669, Train_word_accuracy: 8.059154191767573e-05, Train_CER: 0.8079586547599263\n",
      "Val_Loss: 3.0191783564431325, Val_character_accuracy: 0.07896871409842786, Val_word_accuracy: 0.00029381519024533566, Val_CER: 0.8122099579900373\n",
      "Improved Train_Loss: 2.9307573103904723 -> 2.823340320587158\n",
      "Model checkpoint saved for metric 'Train_Loss' at 'Models/checkpoints/v0.01/best_model_Train_Loss.pth'.\n",
      "Metrics log saved at 'Logs/metrics_log_Train_Loss.txt'.\n",
      "Improved Val_Loss: 3.0835666997092113 -> 3.0191783564431325\n",
      "Model checkpoint saved for metric 'Val_Loss' at 'Models/checkpoints/v0.01/best_model_Val_Loss.pth'.\n",
      "Metrics log saved at 'Logs/metrics_log_Val_Loss.txt'.\n",
      "Improved Train_CER: 0.8745990883049394 -> 0.8079586547599263\n",
      "Model checkpoint saved for metric 'Train_CER' at 'Models/checkpoints/v0.01/best_model_Train_CER.pth'.\n",
      "Metrics log saved at 'Logs/metrics_log_Train_CER.txt'.\n",
      "Improved Val_CER: 0.8496238169221862 -> 0.8122099579900373\n",
      "Model checkpoint saved for metric 'Val_CER' at 'Models/checkpoints/v0.01/best_model_Val_CER.pth'.\n",
      "Metrics log saved at 'Logs/metrics_log_Val_CER.txt'.\n",
      "Improved Train_character_accuracy: 0.06421503555539713 -> 0.09279793009373669\n",
      "Model checkpoint saved for metric 'Train_character_accuracy' at 'Models/checkpoints/v0.01/best_model_Train_character_accuracy.pth'.\n",
      "Metrics log saved at 'Logs/metrics_log_Train_character_accuracy.txt'.\n",
      "Improved Train_word_accuracy: 1.0073942739709467e-05 -> 8.059154191767573e-05\n",
      "Model checkpoint saved for metric 'Train_word_accuracy' at 'Models/checkpoints/v0.01/best_model_Train_word_accuracy.pth'.\n",
      "Metrics log saved at 'Logs/metrics_log_Train_word_accuracy.txt'.\n",
      "Improved Val_character_accuracy: 0.047492353795047244 -> 0.07896871409842786\n",
      "Model checkpoint saved for metric 'Val_character_accuracy' at 'Models/checkpoints/v0.01/best_model_Val_character_accuracy.pth'.\n",
      "Metrics log saved at 'Logs/metrics_log_Val_character_accuracy.txt'.\n",
      "Improved Val_word_accuracy: 0.0 -> 0.00029381519024533566\n",
      "Model checkpoint saved for metric 'Val_word_accuracy' at 'Models/checkpoints/v0.01/best_model_Val_word_accuracy.pth'.\n",
      "Metrics log saved at 'Logs/metrics_log_Val_word_accuracy.txt'.\n"
     ]
    },
    {
     "name": "stderr",
     "output_type": "stream",
     "text": [
      "                                                                                                                                  \r"
     ]
    },
    {
     "name": "stdout",
     "output_type": "stream",
     "text": [
      "Epoch:  [10/150]\n",
      "Train_Loss: 2.697562909126282, Train_character_accuracy: 0.12555550593391507, Train_word_accuracy: 0.0006044365643825681, Train_CER: 0.758087284047079\n",
      "Val_Loss: 2.7766384397234236, Val_character_accuracy: 0.1149048713178438, Val_word_accuracy: 0.004554135448802703, Val_CER: 0.7696069596466247\n",
      "Improved Train_Loss: 2.823340320587158 -> 2.697562909126282\n",
      "Model checkpoint saved for metric 'Train_Loss' at 'Models/checkpoints/v0.01/best_model_Train_Loss.pth'.\n",
      "Metrics log saved at 'Logs/metrics_log_Train_Loss.txt'.\n",
      "Improved Val_Loss: 3.0191783564431325 -> 2.7766384397234236\n",
      "Model checkpoint saved for metric 'Val_Loss' at 'Models/checkpoints/v0.01/best_model_Val_Loss.pth'.\n",
      "Metrics log saved at 'Logs/metrics_log_Val_Loss.txt'.\n",
      "Improved Train_CER: 0.8079586547599263 -> 0.758087284047079\n",
      "Model checkpoint saved for metric 'Train_CER' at 'Models/checkpoints/v0.01/best_model_Train_CER.pth'.\n",
      "Metrics log saved at 'Logs/metrics_log_Train_CER.txt'.\n",
      "Improved Val_CER: 0.8122099579900373 -> 0.7696069596466247\n",
      "Model checkpoint saved for metric 'Val_CER' at 'Models/checkpoints/v0.01/best_model_Val_CER.pth'.\n",
      "Metrics log saved at 'Logs/metrics_log_Val_CER.txt'.\n",
      "Improved Train_character_accuracy: 0.09279793009373669 -> 0.12555550593391507\n",
      "Model checkpoint saved for metric 'Train_character_accuracy' at 'Models/checkpoints/v0.01/best_model_Train_character_accuracy.pth'.\n",
      "Metrics log saved at 'Logs/metrics_log_Train_character_accuracy.txt'.\n",
      "Improved Train_word_accuracy: 8.059154191767573e-05 -> 0.0006044365643825681\n",
      "Model checkpoint saved for metric 'Train_word_accuracy' at 'Models/checkpoints/v0.01/best_model_Train_word_accuracy.pth'.\n",
      "Metrics log saved at 'Logs/metrics_log_Train_word_accuracy.txt'.\n",
      "Improved Val_character_accuracy: 0.07896871409842786 -> 0.1149048713178438\n",
      "Model checkpoint saved for metric 'Val_character_accuracy' at 'Models/checkpoints/v0.01/best_model_Val_character_accuracy.pth'.\n",
      "Metrics log saved at 'Logs/metrics_log_Val_character_accuracy.txt'.\n",
      "Improved Val_word_accuracy: 0.00029381519024533566 -> 0.004554135448802703\n",
      "Model checkpoint saved for metric 'Val_word_accuracy' at 'Models/checkpoints/v0.01/best_model_Val_word_accuracy.pth'.\n",
      "Metrics log saved at 'Logs/metrics_log_Val_word_accuracy.txt'.\n"
     ]
    },
    {
     "name": "stderr",
     "output_type": "stream",
     "text": [
      "                                                                                                                                 \r"
     ]
    },
    {
     "name": "stdout",
     "output_type": "stream",
     "text": [
      "Epoch:  [11/150]\n",
      "Train_Loss: 2.52207328081131, Train_character_accuracy: 0.14675018507629145, Train_word_accuracy: 0.0036971369854733745, Train_CER: 0.7136318329899213\n",
      "Val_Loss: 2.4264752183641707, Val_character_accuracy: 0.15469090722533452, Val_word_accuracy: 0.04186866460996033, Val_CER: 0.663777854941363\n",
      "Improved Train_Loss: 2.697562909126282 -> 2.52207328081131\n",
      "Model checkpoint saved for metric 'Train_Loss' at 'Models/checkpoints/v0.01/best_model_Train_Loss.pth'.\n",
      "Metrics log saved at 'Logs/metrics_log_Train_Loss.txt'.\n",
      "Improved Val_Loss: 2.7766384397234236 -> 2.4264752183641707\n",
      "Model checkpoint saved for metric 'Val_Loss' at 'Models/checkpoints/v0.01/best_model_Val_Loss.pth'.\n",
      "Metrics log saved at 'Logs/metrics_log_Val_Loss.txt'.\n",
      "Improved Train_CER: 0.758087284047079 -> 0.7136318329899213\n",
      "Model checkpoint saved for metric 'Train_CER' at 'Models/checkpoints/v0.01/best_model_Train_CER.pth'.\n",
      "Metrics log saved at 'Logs/metrics_log_Train_CER.txt'.\n",
      "Improved Val_CER: 0.7696069596466247 -> 0.663777854941363\n",
      "Model checkpoint saved for metric 'Val_CER' at 'Models/checkpoints/v0.01/best_model_Val_CER.pth'.\n",
      "Metrics log saved at 'Logs/metrics_log_Val_CER.txt'.\n",
      "Improved Train_character_accuracy: 0.12555550593391507 -> 0.14675018507629145\n",
      "Model checkpoint saved for metric 'Train_character_accuracy' at 'Models/checkpoints/v0.01/best_model_Train_character_accuracy.pth'.\n",
      "Metrics log saved at 'Logs/metrics_log_Train_character_accuracy.txt'.\n",
      "Improved Train_word_accuracy: 0.0006044365643825681 -> 0.0036971369854733745\n",
      "Model checkpoint saved for metric 'Train_word_accuracy' at 'Models/checkpoints/v0.01/best_model_Train_word_accuracy.pth'.\n",
      "Metrics log saved at 'Logs/metrics_log_Train_word_accuracy.txt'.\n",
      "Improved Val_character_accuracy: 0.1149048713178438 -> 0.15469090722533452\n",
      "Model checkpoint saved for metric 'Val_character_accuracy' at 'Models/checkpoints/v0.01/best_model_Val_character_accuracy.pth'.\n",
      "Metrics log saved at 'Logs/metrics_log_Val_character_accuracy.txt'.\n",
      "Improved Val_word_accuracy: 0.004554135448802703 -> 0.04186866460996033\n",
      "Model checkpoint saved for metric 'Val_word_accuracy' at 'Models/checkpoints/v0.01/best_model_Val_word_accuracy.pth'.\n",
      "Metrics log saved at 'Logs/metrics_log_Val_word_accuracy.txt'.\n"
     ]
    },
    {
     "name": "stderr",
     "output_type": "stream",
     "text": [
      "                                                                                                                                \r"
     ]
    },
    {
     "name": "stdout",
     "output_type": "stream",
     "text": [
      "Epoch:  [12/150]\n",
      "Train_Loss: 2.2584195518493653, Train_character_accuracy: 0.18290006126479638, Train_word_accuracy: 0.04422460862732456, Train_CER: 0.6206866287606423\n",
      "Val_Loss: 2.100548710141863, Val_character_accuracy: 0.19201536354040066, Val_word_accuracy: 0.11708535331276627, Val_CER: 0.5849380692924105\n",
      "Improved Train_Loss: 2.52207328081131 -> 2.2584195518493653\n",
      "Model checkpoint saved for metric 'Train_Loss' at 'Models/checkpoints/v0.01/best_model_Train_Loss.pth'.\n",
      "Metrics log saved at 'Logs/metrics_log_Train_Loss.txt'.\n",
      "Improved Val_Loss: 2.4264752183641707 -> 2.100548710141863\n",
      "Model checkpoint saved for metric 'Val_Loss' at 'Models/checkpoints/v0.01/best_model_Val_Loss.pth'.\n",
      "Metrics log saved at 'Logs/metrics_log_Val_Loss.txt'.\n",
      "Improved Train_CER: 0.7136318329899213 -> 0.6206866287606423\n",
      "Model checkpoint saved for metric 'Train_CER' at 'Models/checkpoints/v0.01/best_model_Train_CER.pth'.\n",
      "Metrics log saved at 'Logs/metrics_log_Train_CER.txt'.\n",
      "Improved Val_CER: 0.663777854941363 -> 0.5849380692924105\n",
      "Model checkpoint saved for metric 'Val_CER' at 'Models/checkpoints/v0.01/best_model_Val_CER.pth'.\n",
      "Metrics log saved at 'Logs/metrics_log_Val_CER.txt'.\n",
      "Improved Train_character_accuracy: 0.14675018507629145 -> 0.18290006126479638\n",
      "Model checkpoint saved for metric 'Train_character_accuracy' at 'Models/checkpoints/v0.01/best_model_Train_character_accuracy.pth'.\n",
      "Metrics log saved at 'Logs/metrics_log_Train_character_accuracy.txt'.\n",
      "Improved Train_word_accuracy: 0.0036971369854733745 -> 0.04422460862732456\n",
      "Model checkpoint saved for metric 'Train_word_accuracy' at 'Models/checkpoints/v0.01/best_model_Train_word_accuracy.pth'.\n",
      "Metrics log saved at 'Logs/metrics_log_Train_word_accuracy.txt'.\n",
      "Improved Val_character_accuracy: 0.15469090722533452 -> 0.19201536354040066\n",
      "Model checkpoint saved for metric 'Val_character_accuracy' at 'Models/checkpoints/v0.01/best_model_Val_character_accuracy.pth'.\n",
      "Metrics log saved at 'Logs/metrics_log_Val_character_accuracy.txt'.\n",
      "Improved Val_word_accuracy: 0.04186866460996033 -> 0.11708535331276627\n",
      "Model checkpoint saved for metric 'Val_word_accuracy' at 'Models/checkpoints/v0.01/best_model_Val_word_accuracy.pth'.\n",
      "Metrics log saved at 'Logs/metrics_log_Val_word_accuracy.txt'.\n"
     ]
    },
    {
     "name": "stderr",
     "output_type": "stream",
     "text": [
      "                                                                                                                                \r"
     ]
    },
    {
     "name": "stdout",
     "output_type": "stream",
     "text": [
      "Epoch:  [13/150]\n",
      "Train_Loss: 2.0128640222549437, Train_character_accuracy: 0.2066202355368072, Train_word_accuracy: 0.06166260350976165, Train_CER: 0.5570771730290103\n",
      "Val_Loss: 1.8512417418616158, Val_character_accuracy: 0.22707975065386726, Val_word_accuracy: 0.12031732040546496, Val_CER: 0.5110829668674538\n",
      "Improved Train_Loss: 2.2584195518493653 -> 2.0128640222549437\n",
      "Model checkpoint saved for metric 'Train_Loss' at 'Models/checkpoints/v0.01/best_model_Train_Loss.pth'.\n",
      "Metrics log saved at 'Logs/metrics_log_Train_Loss.txt'.\n",
      "Improved Val_Loss: 2.100548710141863 -> 1.8512417418616158\n",
      "Model checkpoint saved for metric 'Val_Loss' at 'Models/checkpoints/v0.01/best_model_Val_Loss.pth'.\n",
      "Metrics log saved at 'Logs/metrics_log_Val_Loss.txt'.\n",
      "Improved Train_CER: 0.6206866287606423 -> 0.5570771730290103\n",
      "Model checkpoint saved for metric 'Train_CER' at 'Models/checkpoints/v0.01/best_model_Train_CER.pth'.\n",
      "Metrics log saved at 'Logs/metrics_log_Train_CER.txt'.\n",
      "Improved Val_CER: 0.5849380692924105 -> 0.5110829668674538\n",
      "Model checkpoint saved for metric 'Val_CER' at 'Models/checkpoints/v0.01/best_model_Val_CER.pth'.\n",
      "Metrics log saved at 'Logs/metrics_log_Val_CER.txt'.\n",
      "Improved Train_character_accuracy: 0.18290006126479638 -> 0.2066202355368072\n",
      "Model checkpoint saved for metric 'Train_character_accuracy' at 'Models/checkpoints/v0.01/best_model_Train_character_accuracy.pth'.\n",
      "Metrics log saved at 'Logs/metrics_log_Train_character_accuracy.txt'.\n",
      "Improved Train_word_accuracy: 0.04422460862732456 -> 0.06166260350976165\n",
      "Model checkpoint saved for metric 'Train_word_accuracy' at 'Models/checkpoints/v0.01/best_model_Train_word_accuracy.pth'.\n",
      "Metrics log saved at 'Logs/metrics_log_Train_word_accuracy.txt'.\n",
      "Improved Val_character_accuracy: 0.19201536354040066 -> 0.22707975065386726\n",
      "Model checkpoint saved for metric 'Val_character_accuracy' at 'Models/checkpoints/v0.01/best_model_Val_character_accuracy.pth'.\n",
      "Metrics log saved at 'Logs/metrics_log_Val_character_accuracy.txt'.\n",
      "Improved Val_word_accuracy: 0.11708535331276627 -> 0.12031732040546496\n",
      "Model checkpoint saved for metric 'Val_word_accuracy' at 'Models/checkpoints/v0.01/best_model_Val_word_accuracy.pth'.\n",
      "Metrics log saved at 'Logs/metrics_log_Val_word_accuracy.txt'.\n"
     ]
    },
    {
     "name": "stderr",
     "output_type": "stream",
     "text": [
      "                                                                                                                                \r"
     ]
    },
    {
     "name": "stdout",
     "output_type": "stream",
     "text": [
      "Epoch:  [14/150]\n",
      "Train_Loss: 1.7247269976139068, Train_character_accuracy: 0.23596885992499053, Train_word_accuracy: 0.07370096508371446, Train_CER: 0.4844345355660914\n",
      "Val_Loss: 1.5264008385794503, Val_character_accuracy: 0.2917270407616163, Val_word_accuracy: 0.15146173057147055, Val_CER: 0.43005991649667275\n",
      "Improved Train_Loss: 2.0128640222549437 -> 1.7247269976139068\n",
      "Model checkpoint saved for metric 'Train_Loss' at 'Models/checkpoints/v0.01/best_model_Train_Loss.pth'.\n",
      "Metrics log saved at 'Logs/metrics_log_Train_Loss.txt'.\n",
      "Improved Val_Loss: 1.8512417418616158 -> 1.5264008385794503\n",
      "Model checkpoint saved for metric 'Val_Loss' at 'Models/checkpoints/v0.01/best_model_Val_Loss.pth'.\n",
      "Metrics log saved at 'Logs/metrics_log_Val_Loss.txt'.\n",
      "Improved Train_CER: 0.5570771730290103 -> 0.4844345355660914\n",
      "Model checkpoint saved for metric 'Train_CER' at 'Models/checkpoints/v0.01/best_model_Train_CER.pth'.\n",
      "Metrics log saved at 'Logs/metrics_log_Train_CER.txt'.\n",
      "Improved Val_CER: 0.5110829668674538 -> 0.43005991649667275\n",
      "Model checkpoint saved for metric 'Val_CER' at 'Models/checkpoints/v0.01/best_model_Val_CER.pth'.\n",
      "Metrics log saved at 'Logs/metrics_log_Val_CER.txt'.\n",
      "Improved Train_character_accuracy: 0.2066202355368072 -> 0.23596885992499053\n",
      "Model checkpoint saved for metric 'Train_character_accuracy' at 'Models/checkpoints/v0.01/best_model_Train_character_accuracy.pth'.\n",
      "Metrics log saved at 'Logs/metrics_log_Train_character_accuracy.txt'.\n",
      "Improved Train_word_accuracy: 0.06166260350976165 -> 0.07370096508371446\n",
      "Model checkpoint saved for metric 'Train_word_accuracy' at 'Models/checkpoints/v0.01/best_model_Train_word_accuracy.pth'.\n",
      "Metrics log saved at 'Logs/metrics_log_Train_word_accuracy.txt'.\n",
      "Improved Val_character_accuracy: 0.22707975065386726 -> 0.2917270407616163\n",
      "Model checkpoint saved for metric 'Val_character_accuracy' at 'Models/checkpoints/v0.01/best_model_Val_character_accuracy.pth'.\n",
      "Metrics log saved at 'Logs/metrics_log_Val_character_accuracy.txt'.\n",
      "Improved Val_word_accuracy: 0.12031732040546496 -> 0.15146173057147055\n",
      "Model checkpoint saved for metric 'Val_word_accuracy' at 'Models/checkpoints/v0.01/best_model_Val_word_accuracy.pth'.\n",
      "Metrics log saved at 'Logs/metrics_log_Val_word_accuracy.txt'.\n"
     ]
    },
    {
     "name": "stderr",
     "output_type": "stream",
     "text": [
      "                                                                                                                                \r"
     ]
    },
    {
     "name": "stdout",
     "output_type": "stream",
     "text": [
      "Epoch:  [15/150]\n",
      "Train_Loss: 1.4512875151634217, Train_character_accuracy: 0.2776450292070727, Train_word_accuracy: 0.09425180827272178, Train_CER: 0.4127079019857007\n",
      "Val_Loss: 1.2526368413652693, Val_character_accuracy: 0.3480638386257796, Val_word_accuracy: 0.19230204201557222, Val_CER: 0.36003939827209924\n",
      "Improved Train_Loss: 1.7247269976139068 -> 1.4512875151634217\n",
      "Model checkpoint saved for metric 'Train_Loss' at 'Models/checkpoints/v0.01/best_model_Train_Loss.pth'.\n",
      "Metrics log saved at 'Logs/metrics_log_Train_Loss.txt'.\n",
      "Improved Val_Loss: 1.5264008385794503 -> 1.2526368413652693\n",
      "Model checkpoint saved for metric 'Val_Loss' at 'Models/checkpoints/v0.01/best_model_Val_Loss.pth'.\n",
      "Metrics log saved at 'Logs/metrics_log_Val_Loss.txt'.\n",
      "Improved Train_CER: 0.4844345355660914 -> 0.4127079019857007\n",
      "Model checkpoint saved for metric 'Train_CER' at 'Models/checkpoints/v0.01/best_model_Train_CER.pth'.\n",
      "Metrics log saved at 'Logs/metrics_log_Train_CER.txt'.\n",
      "Improved Val_CER: 0.43005991649667275 -> 0.36003939827209924\n",
      "Model checkpoint saved for metric 'Val_CER' at 'Models/checkpoints/v0.01/best_model_Val_CER.pth'.\n",
      "Metrics log saved at 'Logs/metrics_log_Val_CER.txt'.\n",
      "Improved Train_character_accuracy: 0.23596885992499053 -> 0.2776450292070727\n",
      "Model checkpoint saved for metric 'Train_character_accuracy' at 'Models/checkpoints/v0.01/best_model_Train_character_accuracy.pth'.\n",
      "Metrics log saved at 'Logs/metrics_log_Train_character_accuracy.txt'.\n",
      "Improved Train_word_accuracy: 0.07370096508371446 -> 0.09425180827272178\n",
      "Model checkpoint saved for metric 'Train_word_accuracy' at 'Models/checkpoints/v0.01/best_model_Train_word_accuracy.pth'.\n",
      "Metrics log saved at 'Logs/metrics_log_Train_word_accuracy.txt'.\n",
      "Improved Val_character_accuracy: 0.2917270407616163 -> 0.3480638386257796\n",
      "Model checkpoint saved for metric 'Val_character_accuracy' at 'Models/checkpoints/v0.01/best_model_Val_character_accuracy.pth'.\n",
      "Metrics log saved at 'Logs/metrics_log_Val_character_accuracy.txt'.\n",
      "Improved Val_word_accuracy: 0.15146173057147055 -> 0.19230204201557222\n",
      "Model checkpoint saved for metric 'Val_word_accuracy' at 'Models/checkpoints/v0.01/best_model_Val_word_accuracy.pth'.\n",
      "Metrics log saved at 'Logs/metrics_log_Val_word_accuracy.txt'.\n"
     ]
    },
    {
     "name": "stderr",
     "output_type": "stream",
     "text": [
      "                                                                                                                               \r"
     ]
    },
    {
     "name": "stdout",
     "output_type": "stream",
     "text": [
      "Epoch:  [16/150]\n",
      "Train_Loss: 1.219598308801651, Train_character_accuracy: 0.3245096097220299, Train_word_accuracy: 0.12701227006225696, Train_CER: 0.3508894643157632\n",
      "Val_Loss: 0.9820176618439811, Val_character_accuracy: 0.40859504611361175, Val_word_accuracy: 0.25209343323049804, Val_CER: 0.2857386887796757\n",
      "Improved Train_Loss: 1.4512875151634217 -> 1.219598308801651\n",
      "Model checkpoint saved for metric 'Train_Loss' at 'Models/checkpoints/v0.01/best_model_Train_Loss.pth'.\n",
      "Metrics log saved at 'Logs/metrics_log_Train_Loss.txt'.\n",
      "Improved Val_Loss: 1.2526368413652693 -> 0.9820176618439811\n",
      "Model checkpoint saved for metric 'Val_Loss' at 'Models/checkpoints/v0.01/best_model_Val_Loss.pth'.\n",
      "Metrics log saved at 'Logs/metrics_log_Val_Loss.txt'.\n",
      "Improved Train_CER: 0.4127079019857007 -> 0.3508894643157632\n",
      "Model checkpoint saved for metric 'Train_CER' at 'Models/checkpoints/v0.01/best_model_Train_CER.pth'.\n",
      "Metrics log saved at 'Logs/metrics_log_Train_CER.txt'.\n",
      "Improved Val_CER: 0.36003939827209924 -> 0.2857386887796757\n",
      "Model checkpoint saved for metric 'Val_CER' at 'Models/checkpoints/v0.01/best_model_Val_CER.pth'.\n",
      "Metrics log saved at 'Logs/metrics_log_Val_CER.txt'.\n",
      "Improved Train_character_accuracy: 0.2776450292070727 -> 0.3245096097220299\n",
      "Model checkpoint saved for metric 'Train_character_accuracy' at 'Models/checkpoints/v0.01/best_model_Train_character_accuracy.pth'.\n",
      "Metrics log saved at 'Logs/metrics_log_Train_character_accuracy.txt'.\n",
      "Improved Train_word_accuracy: 0.09425180827272178 -> 0.12701227006225696\n",
      "Model checkpoint saved for metric 'Train_word_accuracy' at 'Models/checkpoints/v0.01/best_model_Train_word_accuracy.pth'.\n",
      "Metrics log saved at 'Logs/metrics_log_Train_word_accuracy.txt'.\n",
      "Improved Val_character_accuracy: 0.3480638386257796 -> 0.40859504611361175\n",
      "Model checkpoint saved for metric 'Val_character_accuracy' at 'Models/checkpoints/v0.01/best_model_Val_character_accuracy.pth'.\n",
      "Metrics log saved at 'Logs/metrics_log_Val_character_accuracy.txt'.\n",
      "Improved Val_word_accuracy: 0.19230204201557222 -> 0.25209343323049804\n",
      "Model checkpoint saved for metric 'Val_word_accuracy' at 'Models/checkpoints/v0.01/best_model_Val_word_accuracy.pth'.\n",
      "Metrics log saved at 'Logs/metrics_log_Val_word_accuracy.txt'.\n"
     ]
    },
    {
     "name": "stderr",
     "output_type": "stream",
     "text": [
      "                                                                                                                                \r"
     ]
    },
    {
     "name": "stdout",
     "output_type": "stream",
     "text": [
      "Epoch:  [17/150]\n",
      "Train_Loss: 0.994427255988121, Train_character_accuracy: 0.3831962962980978, Train_word_accuracy: 0.17957810327806098, Train_CER: 0.2887257053016225\n",
      "Val_Loss: 0.780506798199245, Val_character_accuracy: 0.4933822521949598, Val_word_accuracy: 0.34361686499192007, Val_CER: 0.2226361407718832\n",
      "Improved Train_Loss: 1.219598308801651 -> 0.994427255988121\n",
      "Model checkpoint saved for metric 'Train_Loss' at 'Models/checkpoints/v0.01/best_model_Train_Loss.pth'.\n",
      "Metrics log saved at 'Logs/metrics_log_Train_Loss.txt'.\n",
      "Improved Val_Loss: 0.9820176618439811 -> 0.780506798199245\n",
      "Model checkpoint saved for metric 'Val_Loss' at 'Models/checkpoints/v0.01/best_model_Val_Loss.pth'.\n",
      "Metrics log saved at 'Logs/metrics_log_Val_Loss.txt'.\n",
      "Improved Train_CER: 0.3508894643157632 -> 0.2887257053016225\n",
      "Model checkpoint saved for metric 'Train_CER' at 'Models/checkpoints/v0.01/best_model_Train_CER.pth'.\n",
      "Metrics log saved at 'Logs/metrics_log_Train_CER.txt'.\n",
      "Improved Val_CER: 0.2857386887796757 -> 0.2226361407718832\n",
      "Model checkpoint saved for metric 'Val_CER' at 'Models/checkpoints/v0.01/best_model_Val_CER.pth'.\n",
      "Metrics log saved at 'Logs/metrics_log_Val_CER.txt'.\n",
      "Improved Train_character_accuracy: 0.3245096097220299 -> 0.3831962962980978\n",
      "Model checkpoint saved for metric 'Train_character_accuracy' at 'Models/checkpoints/v0.01/best_model_Train_character_accuracy.pth'.\n",
      "Metrics log saved at 'Logs/metrics_log_Train_character_accuracy.txt'.\n",
      "Improved Train_word_accuracy: 0.12701227006225696 -> 0.17957810327806098\n",
      "Model checkpoint saved for metric 'Train_word_accuracy' at 'Models/checkpoints/v0.01/best_model_Train_word_accuracy.pth'.\n",
      "Metrics log saved at 'Logs/metrics_log_Train_word_accuracy.txt'.\n",
      "Improved Val_character_accuracy: 0.40859504611361175 -> 0.4933822521949598\n",
      "Model checkpoint saved for metric 'Val_character_accuracy' at 'Models/checkpoints/v0.01/best_model_Val_character_accuracy.pth'.\n",
      "Metrics log saved at 'Logs/metrics_log_Val_character_accuracy.txt'.\n",
      "Improved Val_word_accuracy: 0.25209343323049804 -> 0.34361686499192007\n",
      "Model checkpoint saved for metric 'Val_word_accuracy' at 'Models/checkpoints/v0.01/best_model_Val_word_accuracy.pth'.\n",
      "Metrics log saved at 'Logs/metrics_log_Val_word_accuracy.txt'.\n"
     ]
    },
    {
     "name": "stderr",
     "output_type": "stream",
     "text": [
      "                                                                                                                                \r"
     ]
    },
    {
     "name": "stdout",
     "output_type": "stream",
     "text": [
      "Epoch:  [18/150]\n",
      "Train_Loss: 0.8129029130935669, Train_character_accuracy: 0.4455969118990117, Train_word_accuracy: 0.2464388612415127, Train_CER: 0.23737812318418977\n",
      "Val_Loss: 0.652211172240121, Val_character_accuracy: 0.5670783183455759, Val_word_accuracy: 0.42089026002644336, Val_CER: 0.18392270609106215\n",
      "Improved Train_Loss: 0.994427255988121 -> 0.8129029130935669\n",
      "Model checkpoint saved for metric 'Train_Loss' at 'Models/checkpoints/v0.01/best_model_Train_Loss.pth'.\n",
      "Metrics log saved at 'Logs/metrics_log_Train_Loss.txt'.\n",
      "Improved Val_Loss: 0.780506798199245 -> 0.652211172240121\n",
      "Model checkpoint saved for metric 'Val_Loss' at 'Models/checkpoints/v0.01/best_model_Val_Loss.pth'.\n",
      "Metrics log saved at 'Logs/metrics_log_Val_Loss.txt'.\n",
      "Improved Train_CER: 0.2887257053016225 -> 0.23737812318418977\n",
      "Model checkpoint saved for metric 'Train_CER' at 'Models/checkpoints/v0.01/best_model_Train_CER.pth'.\n",
      "Metrics log saved at 'Logs/metrics_log_Train_CER.txt'.\n",
      "Improved Val_CER: 0.2226361407718832 -> 0.18392270609106215\n",
      "Model checkpoint saved for metric 'Val_CER' at 'Models/checkpoints/v0.01/best_model_Val_CER.pth'.\n",
      "Metrics log saved at 'Logs/metrics_log_Val_CER.txt'.\n",
      "Improved Train_character_accuracy: 0.3831962962980978 -> 0.4455969118990117\n",
      "Model checkpoint saved for metric 'Train_character_accuracy' at 'Models/checkpoints/v0.01/best_model_Train_character_accuracy.pth'.\n",
      "Metrics log saved at 'Logs/metrics_log_Train_character_accuracy.txt'.\n",
      "Improved Train_word_accuracy: 0.17957810327806098 -> 0.2464388612415127\n",
      "Model checkpoint saved for metric 'Train_word_accuracy' at 'Models/checkpoints/v0.01/best_model_Train_word_accuracy.pth'.\n",
      "Metrics log saved at 'Logs/metrics_log_Train_word_accuracy.txt'.\n",
      "Improved Val_character_accuracy: 0.4933822521949598 -> 0.5670783183455759\n",
      "Model checkpoint saved for metric 'Val_character_accuracy' at 'Models/checkpoints/v0.01/best_model_Val_character_accuracy.pth'.\n",
      "Metrics log saved at 'Logs/metrics_log_Val_character_accuracy.txt'.\n",
      "Improved Val_word_accuracy: 0.34361686499192007 -> 0.42089026002644336\n",
      "Model checkpoint saved for metric 'Val_word_accuracy' at 'Models/checkpoints/v0.01/best_model_Val_word_accuracy.pth'.\n",
      "Metrics log saved at 'Logs/metrics_log_Val_word_accuracy.txt'.\n"
     ]
    },
    {
     "name": "stderr",
     "output_type": "stream",
     "text": [
      "                                                                                                                                \r"
     ]
    },
    {
     "name": "stdout",
     "output_type": "stream",
     "text": [
      "Epoch:  [19/150]\n",
      "Train_Loss: 0.6799098742008209, Train_character_accuracy: 0.5020963015526652, Train_word_accuracy: 0.31246348195756857, Train_CER: 0.19843003453428984\n",
      "Val_Loss: 0.5111208430358342, Val_character_accuracy: 0.616858260447669, Val_word_accuracy: 0.4991920082268253, Val_CER: 0.14499265201116252\n",
      "Improved Train_Loss: 0.8129029130935669 -> 0.6799098742008209\n",
      "Model checkpoint saved for metric 'Train_Loss' at 'Models/checkpoints/v0.01/best_model_Train_Loss.pth'.\n",
      "Metrics log saved at 'Logs/metrics_log_Train_Loss.txt'.\n",
      "Improved Val_Loss: 0.652211172240121 -> 0.5111208430358342\n",
      "Model checkpoint saved for metric 'Val_Loss' at 'Models/checkpoints/v0.01/best_model_Val_Loss.pth'.\n",
      "Metrics log saved at 'Logs/metrics_log_Val_Loss.txt'.\n",
      "Improved Train_CER: 0.23737812318418977 -> 0.19843003453428984\n",
      "Model checkpoint saved for metric 'Train_CER' at 'Models/checkpoints/v0.01/best_model_Train_CER.pth'.\n",
      "Metrics log saved at 'Logs/metrics_log_Train_CER.txt'.\n",
      "Improved Val_CER: 0.18392270609106215 -> 0.14499265201116252\n",
      "Model checkpoint saved for metric 'Val_CER' at 'Models/checkpoints/v0.01/best_model_Val_CER.pth'.\n",
      "Metrics log saved at 'Logs/metrics_log_Val_CER.txt'.\n",
      "Improved Train_character_accuracy: 0.4455969118990117 -> 0.5020963015526652\n",
      "Model checkpoint saved for metric 'Train_character_accuracy' at 'Models/checkpoints/v0.01/best_model_Train_character_accuracy.pth'.\n",
      "Metrics log saved at 'Logs/metrics_log_Train_character_accuracy.txt'.\n",
      "Improved Train_word_accuracy: 0.2464388612415127 -> 0.31246348195756857\n",
      "Model checkpoint saved for metric 'Train_word_accuracy' at 'Models/checkpoints/v0.01/best_model_Train_word_accuracy.pth'.\n",
      "Metrics log saved at 'Logs/metrics_log_Train_word_accuracy.txt'.\n",
      "Improved Val_character_accuracy: 0.5670783183455759 -> 0.616858260447669\n",
      "Model checkpoint saved for metric 'Val_character_accuracy' at 'Models/checkpoints/v0.01/best_model_Val_character_accuracy.pth'.\n",
      "Metrics log saved at 'Logs/metrics_log_Val_character_accuracy.txt'.\n",
      "Improved Val_word_accuracy: 0.42089026002644336 -> 0.4991920082268253\n",
      "Model checkpoint saved for metric 'Val_word_accuracy' at 'Models/checkpoints/v0.01/best_model_Val_word_accuracy.pth'.\n",
      "Metrics log saved at 'Logs/metrics_log_Val_word_accuracy.txt'.\n"
     ]
    },
    {
     "name": "stderr",
     "output_type": "stream",
     "text": [
      "                                                                                                                                \r"
     ]
    },
    {
     "name": "stdout",
     "output_type": "stream",
     "text": [
      "Epoch:  [20/150]\n",
      "Train_Loss: 0.5668531945347786, Train_character_accuracy: 0.5573909075249414, Train_word_accuracy: 0.3790119476960893, Train_CER: 0.16502006238723751\n",
      "Val_Loss: 0.46328618696757723, Val_character_accuracy: 0.6802913681728177, Val_word_accuracy: 0.5720581754076686, Val_CER: 0.12027822209620373\n",
      "Improved Train_Loss: 0.6799098742008209 -> 0.5668531945347786\n",
      "Model checkpoint saved for metric 'Train_Loss' at 'Models/checkpoints/v0.01/best_model_Train_Loss.pth'.\n",
      "Metrics log saved at 'Logs/metrics_log_Train_Loss.txt'.\n",
      "Improved Val_Loss: 0.5111208430358342 -> 0.46328618696757723\n",
      "Model checkpoint saved for metric 'Val_Loss' at 'Models/checkpoints/v0.01/best_model_Val_Loss.pth'.\n",
      "Metrics log saved at 'Logs/metrics_log_Val_Loss.txt'.\n",
      "Improved Train_CER: 0.19843003453428984 -> 0.16502006238723751\n",
      "Model checkpoint saved for metric 'Train_CER' at 'Models/checkpoints/v0.01/best_model_Train_CER.pth'.\n",
      "Metrics log saved at 'Logs/metrics_log_Train_CER.txt'.\n",
      "Improved Val_CER: 0.14499265201116252 -> 0.12027822209620373\n",
      "Model checkpoint saved for metric 'Val_CER' at 'Models/checkpoints/v0.01/best_model_Val_CER.pth'.\n",
      "Metrics log saved at 'Logs/metrics_log_Val_CER.txt'.\n",
      "Improved Train_character_accuracy: 0.5020963015526652 -> 0.5573909075249414\n",
      "Model checkpoint saved for metric 'Train_character_accuracy' at 'Models/checkpoints/v0.01/best_model_Train_character_accuracy.pth'.\n",
      "Metrics log saved at 'Logs/metrics_log_Train_character_accuracy.txt'.\n",
      "Improved Train_word_accuracy: 0.31246348195756857 -> 0.3790119476960893\n",
      "Model checkpoint saved for metric 'Train_word_accuracy' at 'Models/checkpoints/v0.01/best_model_Train_word_accuracy.pth'.\n",
      "Metrics log saved at 'Logs/metrics_log_Train_word_accuracy.txt'.\n",
      "Improved Val_character_accuracy: 0.616858260447669 -> 0.6802913681728177\n",
      "Model checkpoint saved for metric 'Val_character_accuracy' at 'Models/checkpoints/v0.01/best_model_Val_character_accuracy.pth'.\n",
      "Metrics log saved at 'Logs/metrics_log_Val_character_accuracy.txt'.\n",
      "Improved Val_word_accuracy: 0.4991920082268253 -> 0.5720581754076686\n",
      "Model checkpoint saved for metric 'Val_word_accuracy' at 'Models/checkpoints/v0.01/best_model_Val_word_accuracy.pth'.\n",
      "Metrics log saved at 'Logs/metrics_log_Val_word_accuracy.txt'.\n"
     ]
    },
    {
     "name": "stderr",
     "output_type": "stream",
     "text": [
      "                                                                                                                                \r"
     ]
    },
    {
     "name": "stdout",
     "output_type": "stream",
     "text": [
      "Epoch:  [21/150]\n",
      "Train_Loss: 0.49069575130939486, Train_character_accuracy: 0.5997742739978025, Train_word_accuracy: 0.4341164144823001, Train_CER: 0.141550950174749\n",
      "Val_Loss: 0.3748674009527479, Val_character_accuracy: 0.6866164382824289, Val_word_accuracy: 0.6009989716468341, Val_CER: 0.10699517823801663\n",
      "Improved Train_Loss: 0.5668531945347786 -> 0.49069575130939486\n",
      "Model checkpoint saved for metric 'Train_Loss' at 'Models/checkpoints/v0.01/best_model_Train_Loss.pth'.\n",
      "Metrics log saved at 'Logs/metrics_log_Train_Loss.txt'.\n",
      "Improved Val_Loss: 0.46328618696757723 -> 0.3748674009527479\n",
      "Model checkpoint saved for metric 'Val_Loss' at 'Models/checkpoints/v0.01/best_model_Val_Loss.pth'.\n",
      "Metrics log saved at 'Logs/metrics_log_Val_Loss.txt'.\n",
      "Improved Train_CER: 0.16502006238723751 -> 0.141550950174749\n",
      "Model checkpoint saved for metric 'Train_CER' at 'Models/checkpoints/v0.01/best_model_Train_CER.pth'.\n",
      "Metrics log saved at 'Logs/metrics_log_Train_CER.txt'.\n",
      "Improved Val_CER: 0.12027822209620373 -> 0.10699517823801663\n",
      "Model checkpoint saved for metric 'Val_CER' at 'Models/checkpoints/v0.01/best_model_Val_CER.pth'.\n",
      "Metrics log saved at 'Logs/metrics_log_Val_CER.txt'.\n",
      "Improved Train_character_accuracy: 0.5573909075249414 -> 0.5997742739978025\n",
      "Model checkpoint saved for metric 'Train_character_accuracy' at 'Models/checkpoints/v0.01/best_model_Train_character_accuracy.pth'.\n",
      "Metrics log saved at 'Logs/metrics_log_Train_character_accuracy.txt'.\n",
      "Improved Train_word_accuracy: 0.3790119476960893 -> 0.4341164144823001\n",
      "Model checkpoint saved for metric 'Train_word_accuracy' at 'Models/checkpoints/v0.01/best_model_Train_word_accuracy.pth'.\n",
      "Metrics log saved at 'Logs/metrics_log_Train_word_accuracy.txt'.\n",
      "Improved Val_character_accuracy: 0.6802913681728177 -> 0.6866164382824289\n",
      "Model checkpoint saved for metric 'Val_character_accuracy' at 'Models/checkpoints/v0.01/best_model_Val_character_accuracy.pth'.\n",
      "Metrics log saved at 'Logs/metrics_log_Val_character_accuracy.txt'.\n",
      "Improved Val_word_accuracy: 0.5720581754076686 -> 0.6009989716468341\n",
      "Model checkpoint saved for metric 'Val_word_accuracy' at 'Models/checkpoints/v0.01/best_model_Val_word_accuracy.pth'.\n",
      "Metrics log saved at 'Logs/metrics_log_Val_word_accuracy.txt'.\n"
     ]
    },
    {
     "name": "stderr",
     "output_type": "stream",
     "text": [
      "                                                                                                                                \r"
     ]
    },
    {
     "name": "stdout",
     "output_type": "stream",
     "text": [
      "Epoch:  [22/150]\n",
      "Train_Loss: 0.4183949679136276, Train_character_accuracy: 0.641250447557606, Train_word_accuracy: 0.48951302560796245, Train_CER: 0.12008128493758038\n",
      "Val_Loss: 0.33331215381622314, Val_character_accuracy: 0.7264809142606294, Val_word_accuracy: 0.6424269134714264, Val_CER: 0.09048662639451543\n",
      "Improved Train_Loss: 0.49069575130939486 -> 0.4183949679136276\n",
      "Model checkpoint saved for metric 'Train_Loss' at 'Models/checkpoints/v0.01/best_model_Train_Loss.pth'.\n",
      "Metrics log saved at 'Logs/metrics_log_Train_Loss.txt'.\n",
      "Improved Val_Loss: 0.3748674009527479 -> 0.33331215381622314\n",
      "Model checkpoint saved for metric 'Val_Loss' at 'Models/checkpoints/v0.01/best_model_Val_Loss.pth'.\n",
      "Metrics log saved at 'Logs/metrics_log_Val_Loss.txt'.\n",
      "Improved Train_CER: 0.141550950174749 -> 0.12008128493758038\n",
      "Model checkpoint saved for metric 'Train_CER' at 'Models/checkpoints/v0.01/best_model_Train_CER.pth'.\n",
      "Metrics log saved at 'Logs/metrics_log_Train_CER.txt'.\n",
      "Improved Val_CER: 0.10699517823801663 -> 0.09048662639451543\n",
      "Model checkpoint saved for metric 'Val_CER' at 'Models/checkpoints/v0.01/best_model_Val_CER.pth'.\n",
      "Metrics log saved at 'Logs/metrics_log_Val_CER.txt'.\n",
      "Improved Train_character_accuracy: 0.5997742739978025 -> 0.641250447557606\n",
      "Model checkpoint saved for metric 'Train_character_accuracy' at 'Models/checkpoints/v0.01/best_model_Train_character_accuracy.pth'.\n",
      "Metrics log saved at 'Logs/metrics_log_Train_character_accuracy.txt'.\n",
      "Improved Train_word_accuracy: 0.4341164144823001 -> 0.48951302560796245\n",
      "Model checkpoint saved for metric 'Train_word_accuracy' at 'Models/checkpoints/v0.01/best_model_Train_word_accuracy.pth'.\n",
      "Metrics log saved at 'Logs/metrics_log_Train_word_accuracy.txt'.\n",
      "Improved Val_character_accuracy: 0.6866164382824289 -> 0.7264809142606294\n",
      "Model checkpoint saved for metric 'Val_character_accuracy' at 'Models/checkpoints/v0.01/best_model_Val_character_accuracy.pth'.\n",
      "Metrics log saved at 'Logs/metrics_log_Val_character_accuracy.txt'.\n",
      "Improved Val_word_accuracy: 0.6009989716468341 -> 0.6424269134714264\n",
      "Model checkpoint saved for metric 'Val_word_accuracy' at 'Models/checkpoints/v0.01/best_model_Val_word_accuracy.pth'.\n",
      "Metrics log saved at 'Logs/metrics_log_Val_word_accuracy.txt'.\n"
     ]
    },
    {
     "name": "stderr",
     "output_type": "stream",
     "text": [
      "                                                                                                                                \r"
     ]
    },
    {
     "name": "stdout",
     "output_type": "stream",
     "text": [
      "Epoch:  [23/150]\n",
      "Train_Loss: 0.37418041527271273, Train_character_accuracy: 0.6711768815806676, Train_word_accuracy: 0.5300807930207725, Train_CER: 0.10675706267978562\n",
      "Val_Loss: 0.27948901057243347, Val_character_accuracy: 0.7531451072531028, Val_word_accuracy: 0.6793007198472161, Val_CER: 0.07977244259747573\n",
      "Improved Train_Loss: 0.4183949679136276 -> 0.37418041527271273\n",
      "Model checkpoint saved for metric 'Train_Loss' at 'Models/checkpoints/v0.01/best_model_Train_Loss.pth'.\n",
      "Metrics log saved at 'Logs/metrics_log_Train_Loss.txt'.\n",
      "Improved Val_Loss: 0.33331215381622314 -> 0.27948901057243347\n",
      "Model checkpoint saved for metric 'Val_Loss' at 'Models/checkpoints/v0.01/best_model_Val_Loss.pth'.\n",
      "Metrics log saved at 'Logs/metrics_log_Val_Loss.txt'.\n",
      "Improved Train_CER: 0.12008128493758038 -> 0.10675706267978562\n",
      "Model checkpoint saved for metric 'Train_CER' at 'Models/checkpoints/v0.01/best_model_Train_CER.pth'.\n",
      "Metrics log saved at 'Logs/metrics_log_Train_CER.txt'.\n",
      "Improved Val_CER: 0.09048662639451543 -> 0.07977244259747573\n",
      "Model checkpoint saved for metric 'Val_CER' at 'Models/checkpoints/v0.01/best_model_Val_CER.pth'.\n",
      "Metrics log saved at 'Logs/metrics_log_Val_CER.txt'.\n",
      "Improved Train_character_accuracy: 0.641250447557606 -> 0.6711768815806676\n",
      "Model checkpoint saved for metric 'Train_character_accuracy' at 'Models/checkpoints/v0.01/best_model_Train_character_accuracy.pth'.\n",
      "Metrics log saved at 'Logs/metrics_log_Train_character_accuracy.txt'.\n",
      "Improved Train_word_accuracy: 0.48951302560796245 -> 0.5300807930207725\n",
      "Model checkpoint saved for metric 'Train_word_accuracy' at 'Models/checkpoints/v0.01/best_model_Train_word_accuracy.pth'.\n",
      "Metrics log saved at 'Logs/metrics_log_Train_word_accuracy.txt'.\n",
      "Improved Val_character_accuracy: 0.7264809142606294 -> 0.7531451072531028\n",
      "Model checkpoint saved for metric 'Val_character_accuracy' at 'Models/checkpoints/v0.01/best_model_Val_character_accuracy.pth'.\n",
      "Metrics log saved at 'Logs/metrics_log_Val_character_accuracy.txt'.\n",
      "Improved Val_word_accuracy: 0.6424269134714264 -> 0.6793007198472161\n",
      "Model checkpoint saved for metric 'Val_word_accuracy' at 'Models/checkpoints/v0.01/best_model_Val_word_accuracy.pth'.\n",
      "Metrics log saved at 'Logs/metrics_log_Val_word_accuracy.txt'.\n"
     ]
    },
    {
     "name": "stderr",
     "output_type": "stream",
     "text": [
      "                                                                                                                                 \r"
     ]
    },
    {
     "name": "stdout",
     "output_type": "stream",
     "text": [
      "Epoch:  [24/150]\n",
      "Train_Loss: 0.3279563421010971, Train_character_accuracy: 0.7014802866857387, Train_word_accuracy: 0.57038663792235, Train_CER: 0.09317070514358629\n",
      "Val_Loss: 0.24921763581889017, Val_character_accuracy: 0.7878269731541281, Val_word_accuracy: 0.713824004701043, Val_CER: 0.06766879570978303\n",
      "Improved Train_Loss: 0.37418041527271273 -> 0.3279563421010971\n",
      "Model checkpoint saved for metric 'Train_Loss' at 'Models/checkpoints/v0.01/best_model_Train_Loss.pth'.\n",
      "Metrics log saved at 'Logs/metrics_log_Train_Loss.txt'.\n",
      "Improved Val_Loss: 0.27948901057243347 -> 0.24921763581889017\n",
      "Model checkpoint saved for metric 'Val_Loss' at 'Models/checkpoints/v0.01/best_model_Val_Loss.pth'.\n",
      "Metrics log saved at 'Logs/metrics_log_Val_Loss.txt'.\n",
      "Improved Train_CER: 0.10675706267978562 -> 0.09317070514358629\n",
      "Model checkpoint saved for metric 'Train_CER' at 'Models/checkpoints/v0.01/best_model_Train_CER.pth'.\n",
      "Metrics log saved at 'Logs/metrics_log_Train_CER.txt'.\n",
      "Improved Val_CER: 0.07977244259747573 -> 0.06766879570978303\n",
      "Model checkpoint saved for metric 'Val_CER' at 'Models/checkpoints/v0.01/best_model_Val_CER.pth'.\n",
      "Metrics log saved at 'Logs/metrics_log_Val_CER.txt'.\n",
      "Improved Train_character_accuracy: 0.6711768815806676 -> 0.7014802866857387\n",
      "Model checkpoint saved for metric 'Train_character_accuracy' at 'Models/checkpoints/v0.01/best_model_Train_character_accuracy.pth'.\n",
      "Metrics log saved at 'Logs/metrics_log_Train_character_accuracy.txt'.\n",
      "Improved Train_word_accuracy: 0.5300807930207725 -> 0.57038663792235\n",
      "Model checkpoint saved for metric 'Train_word_accuracy' at 'Models/checkpoints/v0.01/best_model_Train_word_accuracy.pth'.\n",
      "Metrics log saved at 'Logs/metrics_log_Train_word_accuracy.txt'.\n",
      "Improved Val_character_accuracy: 0.7531451072531028 -> 0.7878269731541281\n",
      "Model checkpoint saved for metric 'Val_character_accuracy' at 'Models/checkpoints/v0.01/best_model_Val_character_accuracy.pth'.\n",
      "Metrics log saved at 'Logs/metrics_log_Val_character_accuracy.txt'.\n",
      "Improved Val_word_accuracy: 0.6793007198472161 -> 0.713824004701043\n",
      "Model checkpoint saved for metric 'Val_word_accuracy' at 'Models/checkpoints/v0.01/best_model_Val_word_accuracy.pth'.\n",
      "Metrics log saved at 'Logs/metrics_log_Val_word_accuracy.txt'.\n"
     ]
    },
    {
     "name": "stderr",
     "output_type": "stream",
     "text": [
      "                                                                                                                                 \r"
     ]
    },
    {
     "name": "stdout",
     "output_type": "stream",
     "text": [
      "Epoch:  [25/150]\n",
      "Train_Loss: 0.2952823132276535, Train_character_accuracy: 0.7268397686298449, Train_word_accuracy: 0.6038422017609252, Train_CER: 0.08367097160490687\n",
      "Val_Loss: 0.22484609271798814, Val_character_accuracy: 0.7964714618579358, Val_word_accuracy: 0.7339503452328485, Val_CER: 0.06239319174532931\n",
      "Improved Train_Loss: 0.3279563421010971 -> 0.2952823132276535\n",
      "Model checkpoint saved for metric 'Train_Loss' at 'Models/checkpoints/v0.01/best_model_Train_Loss.pth'.\n",
      "Metrics log saved at 'Logs/metrics_log_Train_Loss.txt'.\n",
      "Improved Val_Loss: 0.24921763581889017 -> 0.22484609271798814\n",
      "Model checkpoint saved for metric 'Val_Loss' at 'Models/checkpoints/v0.01/best_model_Val_Loss.pth'.\n",
      "Metrics log saved at 'Logs/metrics_log_Val_Loss.txt'.\n",
      "Improved Train_CER: 0.09317070514358629 -> 0.08367097160490687\n",
      "Model checkpoint saved for metric 'Train_CER' at 'Models/checkpoints/v0.01/best_model_Train_CER.pth'.\n",
      "Metrics log saved at 'Logs/metrics_log_Train_CER.txt'.\n",
      "Improved Val_CER: 0.06766879570978303 -> 0.06239319174532931\n",
      "Model checkpoint saved for metric 'Val_CER' at 'Models/checkpoints/v0.01/best_model_Val_CER.pth'.\n",
      "Metrics log saved at 'Logs/metrics_log_Val_CER.txt'.\n",
      "Improved Train_character_accuracy: 0.7014802866857387 -> 0.7268397686298449\n",
      "Model checkpoint saved for metric 'Train_character_accuracy' at 'Models/checkpoints/v0.01/best_model_Train_character_accuracy.pth'.\n",
      "Metrics log saved at 'Logs/metrics_log_Train_character_accuracy.txt'.\n",
      "Improved Train_word_accuracy: 0.57038663792235 -> 0.6038422017609252\n",
      "Model checkpoint saved for metric 'Train_word_accuracy' at 'Models/checkpoints/v0.01/best_model_Train_word_accuracy.pth'.\n",
      "Metrics log saved at 'Logs/metrics_log_Train_word_accuracy.txt'.\n",
      "Improved Val_character_accuracy: 0.7878269731541281 -> 0.7964714618579358\n",
      "Model checkpoint saved for metric 'Val_character_accuracy' at 'Models/checkpoints/v0.01/best_model_Val_character_accuracy.pth'.\n",
      "Metrics log saved at 'Logs/metrics_log_Val_character_accuracy.txt'.\n",
      "Improved Val_word_accuracy: 0.713824004701043 -> 0.7339503452328485\n",
      "Model checkpoint saved for metric 'Val_word_accuracy' at 'Models/checkpoints/v0.01/best_model_Val_word_accuracy.pth'.\n",
      "Metrics log saved at 'Logs/metrics_log_Val_word_accuracy.txt'.\n"
     ]
    },
    {
     "name": "stderr",
     "output_type": "stream",
     "text": [
      "                                                                                                                                 \r"
     ]
    },
    {
     "name": "stdout",
     "output_type": "stream",
     "text": [
      "Epoch:  [26/150]\n",
      "Train_Loss: 0.2675767512619495, Train_character_accuracy: 0.7452884187505542, Train_word_accuracy: 0.6305180021356759, Train_CER: 0.07534416413791034\n",
      "Val_Loss: 0.2053637057542801, Val_character_accuracy: 0.8147960324309577, Val_word_accuracy: 0.7521668870280593, Val_CER: 0.05691880267684595\n",
      "Improved Train_Loss: 0.2952823132276535 -> 0.2675767512619495\n",
      "Model checkpoint saved for metric 'Train_Loss' at 'Models/checkpoints/v0.01/best_model_Train_Loss.pth'.\n",
      "Metrics log saved at 'Logs/metrics_log_Train_Loss.txt'.\n",
      "Improved Val_Loss: 0.22484609271798814 -> 0.2053637057542801\n",
      "Model checkpoint saved for metric 'Val_Loss' at 'Models/checkpoints/v0.01/best_model_Val_Loss.pth'.\n",
      "Metrics log saved at 'Logs/metrics_log_Val_Loss.txt'.\n",
      "Improved Train_CER: 0.08367097160490687 -> 0.07534416413791034\n",
      "Model checkpoint saved for metric 'Train_CER' at 'Models/checkpoints/v0.01/best_model_Train_CER.pth'.\n",
      "Metrics log saved at 'Logs/metrics_log_Train_CER.txt'.\n",
      "Improved Val_CER: 0.06239319174532931 -> 0.05691880267684595\n",
      "Model checkpoint saved for metric 'Val_CER' at 'Models/checkpoints/v0.01/best_model_Val_CER.pth'.\n",
      "Metrics log saved at 'Logs/metrics_log_Val_CER.txt'.\n",
      "Improved Train_character_accuracy: 0.7268397686298449 -> 0.7452884187505542\n",
      "Model checkpoint saved for metric 'Train_character_accuracy' at 'Models/checkpoints/v0.01/best_model_Train_character_accuracy.pth'.\n",
      "Metrics log saved at 'Logs/metrics_log_Train_character_accuracy.txt'.\n",
      "Improved Train_word_accuracy: 0.6038422017609252 -> 0.6305180021356759\n",
      "Model checkpoint saved for metric 'Train_word_accuracy' at 'Models/checkpoints/v0.01/best_model_Train_word_accuracy.pth'.\n",
      "Metrics log saved at 'Logs/metrics_log_Train_word_accuracy.txt'.\n",
      "Improved Val_character_accuracy: 0.7964714618579358 -> 0.8147960324309577\n",
      "Model checkpoint saved for metric 'Val_character_accuracy' at 'Models/checkpoints/v0.01/best_model_Val_character_accuracy.pth'.\n",
      "Metrics log saved at 'Logs/metrics_log_Val_character_accuracy.txt'.\n",
      "Improved Val_word_accuracy: 0.7339503452328485 -> 0.7521668870280593\n",
      "Model checkpoint saved for metric 'Val_word_accuracy' at 'Models/checkpoints/v0.01/best_model_Val_word_accuracy.pth'.\n",
      "Metrics log saved at 'Logs/metrics_log_Val_word_accuracy.txt'.\n"
     ]
    },
    {
     "name": "stderr",
     "output_type": "stream",
     "text": [
      "                                                                                                                                 \r"
     ]
    },
    {
     "name": "stdout",
     "output_type": "stream",
     "text": [
      "Epoch:  [27/150]\n",
      "Train_Loss: 0.24259548962116242, Train_character_accuracy: 0.7640000938721326, Train_word_accuracy: 0.6569419539419338, Train_CER: 0.06850071678411708\n",
      "Val_Loss: 0.1816116443702153, Val_character_accuracy: 0.8211922668976975, Val_word_accuracy: 0.7706772440135155, Val_CER: 0.05194552806937121\n",
      "Improved Train_Loss: 0.2675767512619495 -> 0.24259548962116242\n",
      "Model checkpoint saved for metric 'Train_Loss' at 'Models/checkpoints/v0.01/best_model_Train_Loss.pth'.\n",
      "Metrics log saved at 'Logs/metrics_log_Train_Loss.txt'.\n",
      "Improved Val_Loss: 0.2053637057542801 -> 0.1816116443702153\n",
      "Model checkpoint saved for metric 'Val_Loss' at 'Models/checkpoints/v0.01/best_model_Val_Loss.pth'.\n",
      "Metrics log saved at 'Logs/metrics_log_Val_Loss.txt'.\n",
      "Improved Train_CER: 0.07534416413791034 -> 0.06850071678411708\n",
      "Model checkpoint saved for metric 'Train_CER' at 'Models/checkpoints/v0.01/best_model_Train_CER.pth'.\n",
      "Metrics log saved at 'Logs/metrics_log_Train_CER.txt'.\n",
      "Improved Val_CER: 0.05691880267684595 -> 0.05194552806937121\n",
      "Model checkpoint saved for metric 'Val_CER' at 'Models/checkpoints/v0.01/best_model_Val_CER.pth'.\n",
      "Metrics log saved at 'Logs/metrics_log_Val_CER.txt'.\n",
      "Improved Train_character_accuracy: 0.7452884187505542 -> 0.7640000938721326\n",
      "Model checkpoint saved for metric 'Train_character_accuracy' at 'Models/checkpoints/v0.01/best_model_Train_character_accuracy.pth'.\n",
      "Metrics log saved at 'Logs/metrics_log_Train_character_accuracy.txt'.\n",
      "Improved Train_word_accuracy: 0.6305180021356759 -> 0.6569419539419338\n",
      "Model checkpoint saved for metric 'Train_word_accuracy' at 'Models/checkpoints/v0.01/best_model_Train_word_accuracy.pth'.\n",
      "Metrics log saved at 'Logs/metrics_log_Train_word_accuracy.txt'.\n",
      "Improved Val_character_accuracy: 0.8147960324309577 -> 0.8211922668976975\n",
      "Model checkpoint saved for metric 'Val_character_accuracy' at 'Models/checkpoints/v0.01/best_model_Val_character_accuracy.pth'.\n",
      "Metrics log saved at 'Logs/metrics_log_Val_character_accuracy.txt'.\n",
      "Improved Val_word_accuracy: 0.7521668870280593 -> 0.7706772440135155\n",
      "Model checkpoint saved for metric 'Val_word_accuracy' at 'Models/checkpoints/v0.01/best_model_Val_word_accuracy.pth'.\n",
      "Metrics log saved at 'Logs/metrics_log_Val_word_accuracy.txt'.\n"
     ]
    },
    {
     "name": "stderr",
     "output_type": "stream",
     "text": [
      "                                                                                                                                 \r"
     ]
    },
    {
     "name": "stdout",
     "output_type": "stream",
     "text": [
      "Epoch:  [28/150]\n",
      "Train_Loss: 0.22529864236712455, Train_character_accuracy: 0.7794369178651595, Train_word_accuracy: 0.6784699695766929, Train_CER: 0.06327954145912978\n",
      "Val_Loss: 0.19298464272703444, Val_character_accuracy: 0.836662922022984, Val_word_accuracy: 0.7740561187013368, Val_CER: 0.050241311094109724\n",
      "Improved Train_Loss: 0.24259548962116242 -> 0.22529864236712455\n",
      "Model checkpoint saved for metric 'Train_Loss' at 'Models/checkpoints/v0.01/best_model_Train_Loss.pth'.\n",
      "Metrics log saved at 'Logs/metrics_log_Train_Loss.txt'.\n",
      "Improved Train_CER: 0.06850071678411708 -> 0.06327954145912978\n",
      "Model checkpoint saved for metric 'Train_CER' at 'Models/checkpoints/v0.01/best_model_Train_CER.pth'.\n",
      "Metrics log saved at 'Logs/metrics_log_Train_CER.txt'.\n",
      "Improved Val_CER: 0.05194552806937121 -> 0.050241311094109724\n",
      "Model checkpoint saved for metric 'Val_CER' at 'Models/checkpoints/v0.01/best_model_Val_CER.pth'.\n",
      "Metrics log saved at 'Logs/metrics_log_Val_CER.txt'.\n",
      "Improved Train_character_accuracy: 0.7640000938721326 -> 0.7794369178651595\n",
      "Model checkpoint saved for metric 'Train_character_accuracy' at 'Models/checkpoints/v0.01/best_model_Train_character_accuracy.pth'.\n",
      "Metrics log saved at 'Logs/metrics_log_Train_character_accuracy.txt'.\n",
      "Improved Train_word_accuracy: 0.6569419539419338 -> 0.6784699695766929\n",
      "Model checkpoint saved for metric 'Train_word_accuracy' at 'Models/checkpoints/v0.01/best_model_Train_word_accuracy.pth'.\n",
      "Metrics log saved at 'Logs/metrics_log_Train_word_accuracy.txt'.\n",
      "Improved Val_character_accuracy: 0.8211922668976975 -> 0.836662922022984\n",
      "Model checkpoint saved for metric 'Val_character_accuracy' at 'Models/checkpoints/v0.01/best_model_Val_character_accuracy.pth'.\n",
      "Metrics log saved at 'Logs/metrics_log_Val_character_accuracy.txt'.\n",
      "Improved Val_word_accuracy: 0.7706772440135155 -> 0.7740561187013368\n",
      "Model checkpoint saved for metric 'Val_word_accuracy' at 'Models/checkpoints/v0.01/best_model_Val_word_accuracy.pth'.\n",
      "Metrics log saved at 'Logs/metrics_log_Val_word_accuracy.txt'.\n"
     ]
    },
    {
     "name": "stderr",
     "output_type": "stream",
     "text": [
      "                                                                                                                                 \r"
     ]
    },
    {
     "name": "stdout",
     "output_type": "stream",
     "text": [
      "Epoch:  [29/150]\n",
      "Train_Loss: 0.20950643643736838, Train_character_accuracy: 0.7910614564139034, Train_word_accuracy: 0.693621179457216, Train_CER: 0.058889162061698606\n",
      "Val_Loss: 0.17120086082390376, Val_character_accuracy: 0.8355963150940997, Val_word_accuracy: 0.789922138974585, Val_CER: 0.047206975809884616\n",
      "Improved Train_Loss: 0.22529864236712455 -> 0.20950643643736838\n",
      "Model checkpoint saved for metric 'Train_Loss' at 'Models/checkpoints/v0.01/best_model_Train_Loss.pth'.\n",
      "Metrics log saved at 'Logs/metrics_log_Train_Loss.txt'.\n",
      "Improved Val_Loss: 0.1816116443702153 -> 0.17120086082390376\n",
      "Model checkpoint saved for metric 'Val_Loss' at 'Models/checkpoints/v0.01/best_model_Val_Loss.pth'.\n",
      "Metrics log saved at 'Logs/metrics_log_Val_Loss.txt'.\n",
      "Improved Train_CER: 0.06327954145912978 -> 0.058889162061698606\n",
      "Model checkpoint saved for metric 'Train_CER' at 'Models/checkpoints/v0.01/best_model_Train_CER.pth'.\n",
      "Metrics log saved at 'Logs/metrics_log_Train_CER.txt'.\n",
      "Improved Val_CER: 0.050241311094109724 -> 0.047206975809884616\n",
      "Model checkpoint saved for metric 'Val_CER' at 'Models/checkpoints/v0.01/best_model_Val_CER.pth'.\n",
      "Metrics log saved at 'Logs/metrics_log_Val_CER.txt'.\n",
      "Improved Train_character_accuracy: 0.7794369178651595 -> 0.7910614564139034\n",
      "Model checkpoint saved for metric 'Train_character_accuracy' at 'Models/checkpoints/v0.01/best_model_Train_character_accuracy.pth'.\n",
      "Metrics log saved at 'Logs/metrics_log_Train_character_accuracy.txt'.\n",
      "Improved Train_word_accuracy: 0.6784699695766929 -> 0.693621179457216\n",
      "Model checkpoint saved for metric 'Train_word_accuracy' at 'Models/checkpoints/v0.01/best_model_Train_word_accuracy.pth'.\n",
      "Metrics log saved at 'Logs/metrics_log_Train_word_accuracy.txt'.\n",
      "Improved Val_word_accuracy: 0.7740561187013368 -> 0.789922138974585\n",
      "Model checkpoint saved for metric 'Val_word_accuracy' at 'Models/checkpoints/v0.01/best_model_Val_word_accuracy.pth'.\n",
      "Metrics log saved at 'Logs/metrics_log_Val_word_accuracy.txt'.\n"
     ]
    },
    {
     "name": "stderr",
     "output_type": "stream",
     "text": [
      "                                                                                                                                 \r"
     ]
    },
    {
     "name": "stdout",
     "output_type": "stream",
     "text": [
      "Epoch:  [30/150]\n",
      "Train_Loss: 0.19764990836381913, Train_character_accuracy: 0.7995386967658431, Train_word_accuracy: 0.7059919811415792, Train_CER: 0.05597546497451815\n",
      "Val_Loss: 0.1557128897735051, Val_character_accuracy: 0.8503996978322669, Val_word_accuracy: 0.8050536212722198, Val_CER: 0.0430633536517186\n",
      "Improved Train_Loss: 0.20950643643736838 -> 0.19764990836381913\n",
      "Model checkpoint saved for metric 'Train_Loss' at 'Models/checkpoints/v0.01/best_model_Train_Loss.pth'.\n",
      "Metrics log saved at 'Logs/metrics_log_Train_Loss.txt'.\n",
      "Improved Val_Loss: 0.17120086082390376 -> 0.1557128897735051\n",
      "Model checkpoint saved for metric 'Val_Loss' at 'Models/checkpoints/v0.01/best_model_Val_Loss.pth'.\n",
      "Metrics log saved at 'Logs/metrics_log_Val_Loss.txt'.\n",
      "Improved Train_CER: 0.058889162061698606 -> 0.05597546497451815\n",
      "Model checkpoint saved for metric 'Train_CER' at 'Models/checkpoints/v0.01/best_model_Train_CER.pth'.\n",
      "Metrics log saved at 'Logs/metrics_log_Train_CER.txt'.\n",
      "Improved Val_CER: 0.047206975809884616 -> 0.0430633536517186\n",
      "Model checkpoint saved for metric 'Val_CER' at 'Models/checkpoints/v0.01/best_model_Val_CER.pth'.\n",
      "Metrics log saved at 'Logs/metrics_log_Val_CER.txt'.\n",
      "Improved Train_character_accuracy: 0.7910614564139034 -> 0.7995386967658431\n",
      "Model checkpoint saved for metric 'Train_character_accuracy' at 'Models/checkpoints/v0.01/best_model_Train_character_accuracy.pth'.\n",
      "Metrics log saved at 'Logs/metrics_log_Train_character_accuracy.txt'.\n",
      "Improved Train_word_accuracy: 0.693621179457216 -> 0.7059919811415792\n",
      "Model checkpoint saved for metric 'Train_word_accuracy' at 'Models/checkpoints/v0.01/best_model_Train_word_accuracy.pth'.\n",
      "Metrics log saved at 'Logs/metrics_log_Train_word_accuracy.txt'.\n",
      "Improved Val_character_accuracy: 0.836662922022984 -> 0.8503996978322669\n",
      "Model checkpoint saved for metric 'Val_character_accuracy' at 'Models/checkpoints/v0.01/best_model_Val_character_accuracy.pth'.\n",
      "Metrics log saved at 'Logs/metrics_log_Val_character_accuracy.txt'.\n",
      "Improved Val_word_accuracy: 0.789922138974585 -> 0.8050536212722198\n",
      "Model checkpoint saved for metric 'Val_word_accuracy' at 'Models/checkpoints/v0.01/best_model_Val_word_accuracy.pth'.\n",
      "Metrics log saved at 'Logs/metrics_log_Val_word_accuracy.txt'.\n"
     ]
    },
    {
     "name": "stderr",
     "output_type": "stream",
     "text": [
      "                                                                                                                                 \r"
     ]
    },
    {
     "name": "stdout",
     "output_type": "stream",
     "text": [
      "Epoch:  [31/150]\n",
      "Train_Loss: 0.1824133141338825, Train_character_accuracy: 0.8142032258684019, Train_word_accuracy: 0.7247295146374388, Train_CER: 0.05134029318543663\n",
      "Val_Loss: 0.1399491195167814, Val_character_accuracy: 0.8592860045347508, Val_word_accuracy: 0.8226825326869399, Val_CER: 0.038584069082085844\n",
      "Improved Train_Loss: 0.19764990836381913 -> 0.1824133141338825\n",
      "Model checkpoint saved for metric 'Train_Loss' at 'Models/checkpoints/v0.01/best_model_Train_Loss.pth'.\n",
      "Metrics log saved at 'Logs/metrics_log_Train_Loss.txt'.\n",
      "Improved Val_Loss: 0.1557128897735051 -> 0.1399491195167814\n",
      "Model checkpoint saved for metric 'Val_Loss' at 'Models/checkpoints/v0.01/best_model_Val_Loss.pth'.\n",
      "Metrics log saved at 'Logs/metrics_log_Val_Loss.txt'.\n",
      "Improved Train_CER: 0.05597546497451815 -> 0.05134029318543663\n",
      "Model checkpoint saved for metric 'Train_CER' at 'Models/checkpoints/v0.01/best_model_Train_CER.pth'.\n",
      "Metrics log saved at 'Logs/metrics_log_Train_CER.txt'.\n",
      "Improved Val_CER: 0.0430633536517186 -> 0.038584069082085844\n",
      "Model checkpoint saved for metric 'Val_CER' at 'Models/checkpoints/v0.01/best_model_Val_CER.pth'.\n",
      "Metrics log saved at 'Logs/metrics_log_Val_CER.txt'.\n",
      "Improved Train_character_accuracy: 0.7995386967658431 -> 0.8142032258684019\n",
      "Model checkpoint saved for metric 'Train_character_accuracy' at 'Models/checkpoints/v0.01/best_model_Train_character_accuracy.pth'.\n",
      "Metrics log saved at 'Logs/metrics_log_Train_character_accuracy.txt'.\n",
      "Improved Train_word_accuracy: 0.7059919811415792 -> 0.7247295146374388\n",
      "Model checkpoint saved for metric 'Train_word_accuracy' at 'Models/checkpoints/v0.01/best_model_Train_word_accuracy.pth'.\n",
      "Metrics log saved at 'Logs/metrics_log_Train_word_accuracy.txt'.\n",
      "Improved Val_character_accuracy: 0.8503996978322669 -> 0.8592860045347508\n",
      "Model checkpoint saved for metric 'Val_character_accuracy' at 'Models/checkpoints/v0.01/best_model_Val_character_accuracy.pth'.\n",
      "Metrics log saved at 'Logs/metrics_log_Val_character_accuracy.txt'.\n",
      "Improved Val_word_accuracy: 0.8050536212722198 -> 0.8226825326869399\n",
      "Model checkpoint saved for metric 'Val_word_accuracy' at 'Models/checkpoints/v0.01/best_model_Val_word_accuracy.pth'.\n",
      "Metrics log saved at 'Logs/metrics_log_Val_word_accuracy.txt'.\n"
     ]
    },
    {
     "name": "stderr",
     "output_type": "stream",
     "text": [
      "                                                                                                                                 \r"
     ]
    },
    {
     "name": "stdout",
     "output_type": "stream",
     "text": [
      "Epoch:  [32/150]\n",
      "Train_Loss: 0.17023320525884628, Train_character_accuracy: 0.8251922065245771, Train_word_accuracy: 0.7410493018757681, Train_CER: 0.047736898016701855\n",
      "Val_Loss: 0.1394071706703731, Val_character_accuracy: 0.8675265800628, Val_word_accuracy: 0.828852651682092, Val_CER: 0.036310275754965045\n",
      "Improved Train_Loss: 0.1824133141338825 -> 0.17023320525884628\n",
      "Model checkpoint saved for metric 'Train_Loss' at 'Models/checkpoints/v0.01/best_model_Train_Loss.pth'.\n",
      "Metrics log saved at 'Logs/metrics_log_Train_Loss.txt'.\n",
      "Improved Val_Loss: 0.1399491195167814 -> 0.1394071706703731\n",
      "Model checkpoint saved for metric 'Val_Loss' at 'Models/checkpoints/v0.01/best_model_Val_Loss.pth'.\n",
      "Metrics log saved at 'Logs/metrics_log_Val_Loss.txt'.\n",
      "Improved Train_CER: 0.05134029318543663 -> 0.047736898016701855\n",
      "Model checkpoint saved for metric 'Train_CER' at 'Models/checkpoints/v0.01/best_model_Train_CER.pth'.\n",
      "Metrics log saved at 'Logs/metrics_log_Train_CER.txt'.\n",
      "Improved Val_CER: 0.038584069082085844 -> 0.036310275754965045\n",
      "Model checkpoint saved for metric 'Val_CER' at 'Models/checkpoints/v0.01/best_model_Val_CER.pth'.\n",
      "Metrics log saved at 'Logs/metrics_log_Val_CER.txt'.\n",
      "Improved Train_character_accuracy: 0.8142032258684019 -> 0.8251922065245771\n",
      "Model checkpoint saved for metric 'Train_character_accuracy' at 'Models/checkpoints/v0.01/best_model_Train_character_accuracy.pth'.\n",
      "Metrics log saved at 'Logs/metrics_log_Train_character_accuracy.txt'.\n",
      "Improved Train_word_accuracy: 0.7247295146374388 -> 0.7410493018757681\n",
      "Model checkpoint saved for metric 'Train_word_accuracy' at 'Models/checkpoints/v0.01/best_model_Train_word_accuracy.pth'.\n",
      "Metrics log saved at 'Logs/metrics_log_Train_word_accuracy.txt'.\n",
      "Improved Val_character_accuracy: 0.8592860045347508 -> 0.8675265800628\n",
      "Model checkpoint saved for metric 'Val_character_accuracy' at 'Models/checkpoints/v0.01/best_model_Val_character_accuracy.pth'.\n",
      "Metrics log saved at 'Logs/metrics_log_Val_character_accuracy.txt'.\n",
      "Improved Val_word_accuracy: 0.8226825326869399 -> 0.828852651682092\n",
      "Model checkpoint saved for metric 'Val_word_accuracy' at 'Models/checkpoints/v0.01/best_model_Val_word_accuracy.pth'.\n",
      "Metrics log saved at 'Logs/metrics_log_Val_word_accuracy.txt'.\n"
     ]
    },
    {
     "name": "stderr",
     "output_type": "stream",
     "text": [
      "                                                                                                                                 \r"
     ]
    },
    {
     "name": "stdout",
     "output_type": "stream",
     "text": [
      "Epoch:  [33/150]\n",
      "Train_Loss: 0.16402129366993903, Train_character_accuracy: 0.8287272346692006, Train_word_accuracy: 0.7471238893478129, Train_CER: 0.04635861419175957\n",
      "Val_Loss: 0.1251702755689621, Val_character_accuracy: 0.8758997493647439, Val_word_accuracy: 0.839429998530924, Val_CER: 0.03382486961155977\n",
      "Improved Train_Loss: 0.17023320525884628 -> 0.16402129366993903\n",
      "Model checkpoint saved for metric 'Train_Loss' at 'Models/checkpoints/v0.01/best_model_Train_Loss.pth'.\n",
      "Metrics log saved at 'Logs/metrics_log_Train_Loss.txt'.\n",
      "Improved Val_Loss: 0.1394071706703731 -> 0.1251702755689621\n",
      "Model checkpoint saved for metric 'Val_Loss' at 'Models/checkpoints/v0.01/best_model_Val_Loss.pth'.\n",
      "Metrics log saved at 'Logs/metrics_log_Val_Loss.txt'.\n",
      "Improved Train_CER: 0.047736898016701855 -> 0.04635861419175957\n",
      "Model checkpoint saved for metric 'Train_CER' at 'Models/checkpoints/v0.01/best_model_Train_CER.pth'.\n",
      "Metrics log saved at 'Logs/metrics_log_Train_CER.txt'.\n",
      "Improved Val_CER: 0.036310275754965045 -> 0.03382486961155977\n",
      "Model checkpoint saved for metric 'Val_CER' at 'Models/checkpoints/v0.01/best_model_Val_CER.pth'.\n",
      "Metrics log saved at 'Logs/metrics_log_Val_CER.txt'.\n",
      "Improved Train_character_accuracy: 0.8251922065245771 -> 0.8287272346692006\n",
      "Model checkpoint saved for metric 'Train_character_accuracy' at 'Models/checkpoints/v0.01/best_model_Train_character_accuracy.pth'.\n",
      "Metrics log saved at 'Logs/metrics_log_Train_character_accuracy.txt'.\n",
      "Improved Train_word_accuracy: 0.7410493018757681 -> 0.7471238893478129\n",
      "Model checkpoint saved for metric 'Train_word_accuracy' at 'Models/checkpoints/v0.01/best_model_Train_word_accuracy.pth'.\n",
      "Metrics log saved at 'Logs/metrics_log_Train_word_accuracy.txt'.\n",
      "Improved Val_character_accuracy: 0.8675265800628 -> 0.8758997493647439\n",
      "Model checkpoint saved for metric 'Val_character_accuracy' at 'Models/checkpoints/v0.01/best_model_Val_character_accuracy.pth'.\n",
      "Metrics log saved at 'Logs/metrics_log_Val_character_accuracy.txt'.\n",
      "Improved Val_word_accuracy: 0.828852651682092 -> 0.839429998530924\n",
      "Model checkpoint saved for metric 'Val_word_accuracy' at 'Models/checkpoints/v0.01/best_model_Val_word_accuracy.pth'.\n",
      "Metrics log saved at 'Logs/metrics_log_Val_word_accuracy.txt'.\n"
     ]
    },
    {
     "name": "stderr",
     "output_type": "stream",
     "text": [
      "                                                                                                                                 \r"
     ]
    },
    {
     "name": "stdout",
     "output_type": "stream",
     "text": [
      "Epoch:  [34/150]\n",
      "Train_Loss: 0.15274394616484643, Train_character_accuracy: 0.8385874576424436, Train_word_accuracy: 0.7612576310116254, Train_CER: 0.042851179785276104\n",
      "Val_Loss: 0.11856654499258314, Val_character_accuracy: 0.8841267149441377, Val_word_accuracy: 0.8479506390480388, Val_CER: 0.031956424816715685\n",
      "Improved Train_Loss: 0.16402129366993903 -> 0.15274394616484643\n",
      "Model checkpoint saved for metric 'Train_Loss' at 'Models/checkpoints/v0.01/best_model_Train_Loss.pth'.\n",
      "Metrics log saved at 'Logs/metrics_log_Train_Loss.txt'.\n",
      "Improved Val_Loss: 0.1251702755689621 -> 0.11856654499258314\n",
      "Model checkpoint saved for metric 'Val_Loss' at 'Models/checkpoints/v0.01/best_model_Val_Loss.pth'.\n",
      "Metrics log saved at 'Logs/metrics_log_Val_Loss.txt'.\n",
      "Improved Train_CER: 0.04635861419175957 -> 0.042851179785276104\n",
      "Model checkpoint saved for metric 'Train_CER' at 'Models/checkpoints/v0.01/best_model_Train_CER.pth'.\n",
      "Metrics log saved at 'Logs/metrics_log_Train_CER.txt'.\n",
      "Improved Val_CER: 0.03382486961155977 -> 0.031956424816715685\n",
      "Model checkpoint saved for metric 'Val_CER' at 'Models/checkpoints/v0.01/best_model_Val_CER.pth'.\n",
      "Metrics log saved at 'Logs/metrics_log_Val_CER.txt'.\n",
      "Improved Train_character_accuracy: 0.8287272346692006 -> 0.8385874576424436\n",
      "Model checkpoint saved for metric 'Train_character_accuracy' at 'Models/checkpoints/v0.01/best_model_Train_character_accuracy.pth'.\n",
      "Metrics log saved at 'Logs/metrics_log_Train_character_accuracy.txt'.\n",
      "Improved Train_word_accuracy: 0.7471238893478129 -> 0.7612576310116254\n",
      "Model checkpoint saved for metric 'Train_word_accuracy' at 'Models/checkpoints/v0.01/best_model_Train_word_accuracy.pth'.\n",
      "Metrics log saved at 'Logs/metrics_log_Train_word_accuracy.txt'.\n",
      "Improved Val_character_accuracy: 0.8758997493647439 -> 0.8841267149441377\n",
      "Model checkpoint saved for metric 'Val_character_accuracy' at 'Models/checkpoints/v0.01/best_model_Val_character_accuracy.pth'.\n",
      "Metrics log saved at 'Logs/metrics_log_Val_character_accuracy.txt'.\n",
      "Improved Val_word_accuracy: 0.839429998530924 -> 0.8479506390480388\n",
      "Model checkpoint saved for metric 'Val_word_accuracy' at 'Models/checkpoints/v0.01/best_model_Val_word_accuracy.pth'.\n",
      "Metrics log saved at 'Logs/metrics_log_Val_word_accuracy.txt'.\n"
     ]
    },
    {
     "name": "stderr",
     "output_type": "stream",
     "text": [
      "                                                                                                                                 \r"
     ]
    },
    {
     "name": "stdout",
     "output_type": "stream",
     "text": [
      "Epoch:  [35/150]\n",
      "Train_Loss: 0.14521615147590639, Train_character_accuracy: 0.8449590309854176, Train_word_accuracy: 0.7703846231338021, Train_CER: 0.041002548281475655\n",
      "Val_Loss: 0.125482371875218, Val_character_accuracy: 0.8855563683180679, Val_word_accuracy: 0.8400176289114147, Val_CER: 0.034303540671984926\n",
      "Improved Train_Loss: 0.15274394616484643 -> 0.14521615147590639\n",
      "Model checkpoint saved for metric 'Train_Loss' at 'Models/checkpoints/v0.01/best_model_Train_Loss.pth'.\n",
      "Metrics log saved at 'Logs/metrics_log_Train_Loss.txt'.\n",
      "Improved Train_CER: 0.042851179785276104 -> 0.041002548281475655\n",
      "Model checkpoint saved for metric 'Train_CER' at 'Models/checkpoints/v0.01/best_model_Train_CER.pth'.\n",
      "Metrics log saved at 'Logs/metrics_log_Train_CER.txt'.\n",
      "Improved Train_character_accuracy: 0.8385874576424436 -> 0.8449590309854176\n",
      "Model checkpoint saved for metric 'Train_character_accuracy' at 'Models/checkpoints/v0.01/best_model_Train_character_accuracy.pth'.\n",
      "Metrics log saved at 'Logs/metrics_log_Train_character_accuracy.txt'.\n",
      "Improved Train_word_accuracy: 0.7612576310116254 -> 0.7703846231338021\n",
      "Model checkpoint saved for metric 'Train_word_accuracy' at 'Models/checkpoints/v0.01/best_model_Train_word_accuracy.pth'.\n",
      "Metrics log saved at 'Logs/metrics_log_Train_word_accuracy.txt'.\n",
      "Improved Val_character_accuracy: 0.8841267149441377 -> 0.8855563683180679\n",
      "Model checkpoint saved for metric 'Val_character_accuracy' at 'Models/checkpoints/v0.01/best_model_Val_character_accuracy.pth'.\n",
      "Metrics log saved at 'Logs/metrics_log_Val_character_accuracy.txt'.\n"
     ]
    },
    {
     "name": "stderr",
     "output_type": "stream",
     "text": [
      "                                                                                                                                 \r"
     ]
    },
    {
     "name": "stdout",
     "output_type": "stream",
     "text": [
      "Epoch:  [36/150]\n",
      "Train_Loss: 0.15034566156566143, Train_character_accuracy: 0.843506606694519, Train_word_accuracy: 0.7656297221606593, Train_CER: 0.04231102177428213\n",
      "Val_Loss: 0.12273701493229185, Val_character_accuracy: 0.8788940169157743, Val_word_accuracy: 0.8354634934626121, Val_CER: 0.034086386411199106\n"
     ]
    },
    {
     "name": "stderr",
     "output_type": "stream",
     "text": [
      "                                                                                                                                 \r"
     ]
    },
    {
     "name": "stdout",
     "output_type": "stream",
     "text": [
      "Epoch:  [37/150]\n",
      "Train_Loss: 0.1352472310513258, Train_character_accuracy: 0.8535374123478249, Train_word_accuracy: 0.7813752946628252, Train_CER: 0.03852833728974606\n",
      "Val_Loss: 0.1066336642418589, Val_character_accuracy: 0.894484115635273, Val_word_accuracy: 0.8601439694432202, Val_CER: 0.02865386127836546\n",
      "Improved Train_Loss: 0.14521615147590639 -> 0.1352472310513258\n",
      "Model checkpoint saved for metric 'Train_Loss' at 'Models/checkpoints/v0.01/best_model_Train_Loss.pth'.\n",
      "Metrics log saved at 'Logs/metrics_log_Train_Loss.txt'.\n",
      "Improved Val_Loss: 0.11856654499258314 -> 0.1066336642418589\n",
      "Model checkpoint saved for metric 'Val_Loss' at 'Models/checkpoints/v0.01/best_model_Val_Loss.pth'.\n",
      "Metrics log saved at 'Logs/metrics_log_Val_Loss.txt'.\n",
      "Improved Train_CER: 0.041002548281475655 -> 0.03852833728974606\n",
      "Model checkpoint saved for metric 'Train_CER' at 'Models/checkpoints/v0.01/best_model_Train_CER.pth'.\n",
      "Metrics log saved at 'Logs/metrics_log_Train_CER.txt'.\n",
      "Improved Val_CER: 0.031956424816715685 -> 0.02865386127836546\n",
      "Model checkpoint saved for metric 'Val_CER' at 'Models/checkpoints/v0.01/best_model_Val_CER.pth'.\n",
      "Metrics log saved at 'Logs/metrics_log_Val_CER.txt'.\n",
      "Improved Train_character_accuracy: 0.8449590309854176 -> 0.8535374123478249\n",
      "Model checkpoint saved for metric 'Train_character_accuracy' at 'Models/checkpoints/v0.01/best_model_Train_character_accuracy.pth'.\n",
      "Metrics log saved at 'Logs/metrics_log_Train_character_accuracy.txt'.\n",
      "Improved Train_word_accuracy: 0.7703846231338021 -> 0.7813752946628252\n",
      "Model checkpoint saved for metric 'Train_word_accuracy' at 'Models/checkpoints/v0.01/best_model_Train_word_accuracy.pth'.\n",
      "Metrics log saved at 'Logs/metrics_log_Train_word_accuracy.txt'.\n",
      "Improved Val_character_accuracy: 0.8855563683180679 -> 0.894484115635273\n",
      "Model checkpoint saved for metric 'Val_character_accuracy' at 'Models/checkpoints/v0.01/best_model_Val_character_accuracy.pth'.\n",
      "Metrics log saved at 'Logs/metrics_log_Val_character_accuracy.txt'.\n",
      "Improved Val_word_accuracy: 0.8479506390480388 -> 0.8601439694432202\n",
      "Model checkpoint saved for metric 'Val_word_accuracy' at 'Models/checkpoints/v0.01/best_model_Val_word_accuracy.pth'.\n",
      "Metrics log saved at 'Logs/metrics_log_Val_word_accuracy.txt'.\n"
     ]
    },
    {
     "name": "stderr",
     "output_type": "stream",
     "text": [
      "                                                                                                                                 \r"
     ]
    },
    {
     "name": "stdout",
     "output_type": "stream",
     "text": [
      "Epoch:  [38/150]\n",
      "Train_Loss: 0.13098718255758285, Train_character_accuracy: 0.8583816718271843, Train_word_accuracy: 0.7876312131041847, Train_CER: 0.037388461471480866\n",
      "Val_Loss: 0.11758479475975037, Val_character_accuracy: 0.8845206941431987, Val_word_accuracy: 0.8494197149992655, Val_CER: 0.032105326320839754\n",
      "Improved Train_Loss: 0.1352472310513258 -> 0.13098718255758285\n",
      "Model checkpoint saved for metric 'Train_Loss' at 'Models/checkpoints/v0.01/best_model_Train_Loss.pth'.\n",
      "Metrics log saved at 'Logs/metrics_log_Train_Loss.txt'.\n",
      "Improved Train_CER: 0.03852833728974606 -> 0.037388461471480866\n",
      "Model checkpoint saved for metric 'Train_CER' at 'Models/checkpoints/v0.01/best_model_Train_CER.pth'.\n",
      "Metrics log saved at 'Logs/metrics_log_Train_CER.txt'.\n",
      "Improved Train_character_accuracy: 0.8535374123478249 -> 0.8583816718271843\n",
      "Model checkpoint saved for metric 'Train_character_accuracy' at 'Models/checkpoints/v0.01/best_model_Train_character_accuracy.pth'.\n",
      "Metrics log saved at 'Logs/metrics_log_Train_character_accuracy.txt'.\n",
      "Improved Train_word_accuracy: 0.7813752946628252 -> 0.7876312131041847\n",
      "Model checkpoint saved for metric 'Train_word_accuracy' at 'Models/checkpoints/v0.01/best_model_Train_word_accuracy.pth'.\n",
      "Metrics log saved at 'Logs/metrics_log_Train_word_accuracy.txt'.\n"
     ]
    },
    {
     "name": "stderr",
     "output_type": "stream",
     "text": [
      "                                                                                                                                 \r"
     ]
    },
    {
     "name": "stdout",
     "output_type": "stream",
     "text": [
      "Epoch:  [39/150]\n",
      "Train_Loss: 0.12121112316846848, Train_character_accuracy: 0.8657322416288821, Train_word_accuracy: 0.7982894445227974, Train_CER: 0.03475749821427093\n",
      "Val_Loss: 0.1010845388684954, Val_character_accuracy: 0.9001958568925661, Val_word_accuracy: 0.8658733656530042, Val_CER: 0.026463549182808764\n",
      "Improved Train_Loss: 0.13098718255758285 -> 0.12121112316846848\n",
      "Model checkpoint saved for metric 'Train_Loss' at 'Models/checkpoints/v0.01/best_model_Train_Loss.pth'.\n",
      "Metrics log saved at 'Logs/metrics_log_Train_Loss.txt'.\n",
      "Improved Val_Loss: 0.1066336642418589 -> 0.1010845388684954\n",
      "Model checkpoint saved for metric 'Val_Loss' at 'Models/checkpoints/v0.01/best_model_Val_Loss.pth'.\n",
      "Metrics log saved at 'Logs/metrics_log_Val_Loss.txt'.\n",
      "Improved Train_CER: 0.037388461471480866 -> 0.03475749821427093\n",
      "Model checkpoint saved for metric 'Train_CER' at 'Models/checkpoints/v0.01/best_model_Train_CER.pth'.\n",
      "Metrics log saved at 'Logs/metrics_log_Train_CER.txt'.\n",
      "Improved Val_CER: 0.02865386127836546 -> 0.026463549182808764\n",
      "Model checkpoint saved for metric 'Val_CER' at 'Models/checkpoints/v0.01/best_model_Val_CER.pth'.\n",
      "Metrics log saved at 'Logs/metrics_log_Val_CER.txt'.\n",
      "Improved Train_character_accuracy: 0.8583816718271843 -> 0.8657322416288821\n",
      "Model checkpoint saved for metric 'Train_character_accuracy' at 'Models/checkpoints/v0.01/best_model_Train_character_accuracy.pth'.\n",
      "Metrics log saved at 'Logs/metrics_log_Train_character_accuracy.txt'.\n",
      "Improved Train_word_accuracy: 0.7876312131041847 -> 0.7982894445227974\n",
      "Model checkpoint saved for metric 'Train_word_accuracy' at 'Models/checkpoints/v0.01/best_model_Train_word_accuracy.pth'.\n",
      "Metrics log saved at 'Logs/metrics_log_Train_word_accuracy.txt'.\n",
      "Improved Val_character_accuracy: 0.894484115635273 -> 0.9001958568925661\n",
      "Model checkpoint saved for metric 'Val_character_accuracy' at 'Models/checkpoints/v0.01/best_model_Val_character_accuracy.pth'.\n",
      "Metrics log saved at 'Logs/metrics_log_Val_character_accuracy.txt'.\n",
      "Improved Val_word_accuracy: 0.8601439694432202 -> 0.8658733656530042\n",
      "Model checkpoint saved for metric 'Val_word_accuracy' at 'Models/checkpoints/v0.01/best_model_Val_word_accuracy.pth'.\n",
      "Metrics log saved at 'Logs/metrics_log_Val_word_accuracy.txt'.\n"
     ]
    },
    {
     "name": "stderr",
     "output_type": "stream",
     "text": [
      "                                                                                                                                 \r"
     ]
    },
    {
     "name": "stdout",
     "output_type": "stream",
     "text": [
      "Epoch:  [40/150]\n",
      "Train_Loss: 0.11772514835000038, Train_character_accuracy: 0.8702736860204902, Train_word_accuracy: 0.8039912961134729, Train_CER: 0.033853408091314326\n",
      "Val_Loss: 0.1025679622377668, Val_character_accuracy: 0.9008106121393938, Val_word_accuracy: 0.8670486264139856, Val_CER: 0.027587354372281644\n",
      "Improved Train_Loss: 0.12121112316846848 -> 0.11772514835000038\n",
      "Model checkpoint saved for metric 'Train_Loss' at 'Models/checkpoints/v0.01/best_model_Train_Loss.pth'.\n",
      "Metrics log saved at 'Logs/metrics_log_Train_Loss.txt'.\n",
      "Improved Train_CER: 0.03475749821427093 -> 0.033853408091314326\n",
      "Model checkpoint saved for metric 'Train_CER' at 'Models/checkpoints/v0.01/best_model_Train_CER.pth'.\n",
      "Metrics log saved at 'Logs/metrics_log_Train_CER.txt'.\n",
      "Improved Train_character_accuracy: 0.8657322416288821 -> 0.8702736860204902\n",
      "Model checkpoint saved for metric 'Train_character_accuracy' at 'Models/checkpoints/v0.01/best_model_Train_character_accuracy.pth'.\n",
      "Metrics log saved at 'Logs/metrics_log_Train_character_accuracy.txt'.\n",
      "Improved Train_word_accuracy: 0.7982894445227974 -> 0.8039912961134729\n",
      "Model checkpoint saved for metric 'Train_word_accuracy' at 'Models/checkpoints/v0.01/best_model_Train_word_accuracy.pth'.\n",
      "Metrics log saved at 'Logs/metrics_log_Train_word_accuracy.txt'.\n",
      "Improved Val_character_accuracy: 0.9001958568925661 -> 0.9008106121393938\n",
      "Model checkpoint saved for metric 'Val_character_accuracy' at 'Models/checkpoints/v0.01/best_model_Val_character_accuracy.pth'.\n",
      "Metrics log saved at 'Logs/metrics_log_Val_character_accuracy.txt'.\n",
      "Improved Val_word_accuracy: 0.8658733656530042 -> 0.8670486264139856\n",
      "Model checkpoint saved for metric 'Val_word_accuracy' at 'Models/checkpoints/v0.01/best_model_Val_word_accuracy.pth'.\n",
      "Metrics log saved at 'Logs/metrics_log_Val_word_accuracy.txt'.\n"
     ]
    },
    {
     "name": "stderr",
     "output_type": "stream",
     "text": [
      "                                                                                                                                 \r"
     ]
    },
    {
     "name": "stdout",
     "output_type": "stream",
     "text": [
      "Epoch:  [41/150]\n",
      "Train_Loss: 0.11245163261890412, Train_character_accuracy: 0.8755021168664505, Train_word_accuracy: 0.8131888058348277, Train_CER: 0.03204871646105301\n",
      "Val_Loss: 0.09266092521803719, Val_character_accuracy: 0.9060290305270098, Val_word_accuracy: 0.8780666960481857, Val_CER: 0.025158487432616995\n",
      "Improved Train_Loss: 0.11772514835000038 -> 0.11245163261890412\n",
      "Model checkpoint saved for metric 'Train_Loss' at 'Models/checkpoints/v0.01/best_model_Train_Loss.pth'.\n",
      "Metrics log saved at 'Logs/metrics_log_Train_Loss.txt'.\n",
      "Improved Val_Loss: 0.1010845388684954 -> 0.09266092521803719\n",
      "Model checkpoint saved for metric 'Val_Loss' at 'Models/checkpoints/v0.01/best_model_Val_Loss.pth'.\n",
      "Metrics log saved at 'Logs/metrics_log_Val_Loss.txt'.\n",
      "Improved Train_CER: 0.033853408091314326 -> 0.03204871646105301\n",
      "Model checkpoint saved for metric 'Train_CER' at 'Models/checkpoints/v0.01/best_model_Train_CER.pth'.\n",
      "Metrics log saved at 'Logs/metrics_log_Train_CER.txt'.\n",
      "Improved Val_CER: 0.026463549182808764 -> 0.025158487432616995\n",
      "Model checkpoint saved for metric 'Val_CER' at 'Models/checkpoints/v0.01/best_model_Val_CER.pth'.\n",
      "Metrics log saved at 'Logs/metrics_log_Val_CER.txt'.\n",
      "Improved Train_character_accuracy: 0.8702736860204902 -> 0.8755021168664505\n",
      "Model checkpoint saved for metric 'Train_character_accuracy' at 'Models/checkpoints/v0.01/best_model_Train_character_accuracy.pth'.\n",
      "Metrics log saved at 'Logs/metrics_log_Train_character_accuracy.txt'.\n",
      "Improved Train_word_accuracy: 0.8039912961134729 -> 0.8131888058348277\n",
      "Model checkpoint saved for metric 'Train_word_accuracy' at 'Models/checkpoints/v0.01/best_model_Train_word_accuracy.pth'.\n",
      "Metrics log saved at 'Logs/metrics_log_Train_word_accuracy.txt'.\n",
      "Improved Val_character_accuracy: 0.9008106121393938 -> 0.9060290305270098\n",
      "Model checkpoint saved for metric 'Val_character_accuracy' at 'Models/checkpoints/v0.01/best_model_Val_character_accuracy.pth'.\n",
      "Metrics log saved at 'Logs/metrics_log_Val_character_accuracy.txt'.\n",
      "Improved Val_word_accuracy: 0.8670486264139856 -> 0.8780666960481857\n",
      "Model checkpoint saved for metric 'Val_word_accuracy' at 'Models/checkpoints/v0.01/best_model_Val_word_accuracy.pth'.\n",
      "Metrics log saved at 'Logs/metrics_log_Val_word_accuracy.txt'.\n"
     ]
    },
    {
     "name": "stderr",
     "output_type": "stream",
     "text": [
      "                                                                                                                                 \r"
     ]
    },
    {
     "name": "stdout",
     "output_type": "stream",
     "text": [
      "Epoch:  [42/150]\n",
      "Train_Loss: 0.10734760619699955, Train_character_accuracy: 0.8812913921793708, Train_word_accuracy: 0.8199383474704329, Train_CER: 0.030606953378345396\n",
      "Val_Loss: 0.09067695587873459, Val_character_accuracy: 0.9109173203796547, Val_word_accuracy: 0.8789481416189217, Val_CER: 0.024231418810528538\n",
      "Improved Train_Loss: 0.11245163261890412 -> 0.10734760619699955\n",
      "Model checkpoint saved for metric 'Train_Loss' at 'Models/checkpoints/v0.01/best_model_Train_Loss.pth'.\n",
      "Metrics log saved at 'Logs/metrics_log_Train_Loss.txt'.\n",
      "Improved Val_Loss: 0.09266092521803719 -> 0.09067695587873459\n",
      "Model checkpoint saved for metric 'Val_Loss' at 'Models/checkpoints/v0.01/best_model_Val_Loss.pth'.\n",
      "Metrics log saved at 'Logs/metrics_log_Val_Loss.txt'.\n",
      "Improved Train_CER: 0.03204871646105301 -> 0.030606953378345396\n",
      "Model checkpoint saved for metric 'Train_CER' at 'Models/checkpoints/v0.01/best_model_Train_CER.pth'.\n",
      "Metrics log saved at 'Logs/metrics_log_Train_CER.txt'.\n",
      "Improved Val_CER: 0.025158487432616995 -> 0.024231418810528538\n",
      "Model checkpoint saved for metric 'Val_CER' at 'Models/checkpoints/v0.01/best_model_Val_CER.pth'.\n",
      "Metrics log saved at 'Logs/metrics_log_Val_CER.txt'.\n",
      "Improved Train_character_accuracy: 0.8755021168664505 -> 0.8812913921793708\n",
      "Model checkpoint saved for metric 'Train_character_accuracy' at 'Models/checkpoints/v0.01/best_model_Train_character_accuracy.pth'.\n",
      "Metrics log saved at 'Logs/metrics_log_Train_character_accuracy.txt'.\n",
      "Improved Train_word_accuracy: 0.8131888058348277 -> 0.8199383474704329\n",
      "Model checkpoint saved for metric 'Train_word_accuracy' at 'Models/checkpoints/v0.01/best_model_Train_word_accuracy.pth'.\n",
      "Metrics log saved at 'Logs/metrics_log_Train_word_accuracy.txt'.\n",
      "Improved Val_character_accuracy: 0.9060290305270098 -> 0.9109173203796547\n",
      "Model checkpoint saved for metric 'Val_character_accuracy' at 'Models/checkpoints/v0.01/best_model_Val_character_accuracy.pth'.\n",
      "Metrics log saved at 'Logs/metrics_log_Val_character_accuracy.txt'.\n",
      "Improved Val_word_accuracy: 0.8780666960481857 -> 0.8789481416189217\n",
      "Model checkpoint saved for metric 'Val_word_accuracy' at 'Models/checkpoints/v0.01/best_model_Val_word_accuracy.pth'.\n",
      "Metrics log saved at 'Logs/metrics_log_Val_word_accuracy.txt'.\n"
     ]
    },
    {
     "name": "stderr",
     "output_type": "stream",
     "text": [
      "                                                                                                                                  \r"
     ]
    },
    {
     "name": "stdout",
     "output_type": "stream",
     "text": [
      "Epoch:  [43/150]\n",
      "Train_Loss: 0.10092398352921009, Train_character_accuracy: 0.8849501594515249, Train_word_accuracy: 0.8263151532246691, Train_CER: 0.028838591568025602\n",
      "Val_Loss: 0.09102505551917213, Val_character_accuracy: 0.9191848013703804, Val_word_accuracy: 0.8892316732775084, Val_CER: 0.022551588186228988\n",
      "Improved Train_Loss: 0.10734760619699955 -> 0.10092398352921009\n",
      "Model checkpoint saved for metric 'Train_Loss' at 'Models/checkpoints/v0.01/best_model_Train_Loss.pth'.\n",
      "Metrics log saved at 'Logs/metrics_log_Train_Loss.txt'.\n",
      "Improved Train_CER: 0.030606953378345396 -> 0.028838591568025602\n",
      "Model checkpoint saved for metric 'Train_CER' at 'Models/checkpoints/v0.01/best_model_Train_CER.pth'.\n",
      "Metrics log saved at 'Logs/metrics_log_Train_CER.txt'.\n",
      "Improved Val_CER: 0.024231418810528538 -> 0.022551588186228988\n",
      "Model checkpoint saved for metric 'Val_CER' at 'Models/checkpoints/v0.01/best_model_Val_CER.pth'.\n",
      "Metrics log saved at 'Logs/metrics_log_Val_CER.txt'.\n",
      "Improved Train_character_accuracy: 0.8812913921793708 -> 0.8849501594515249\n",
      "Model checkpoint saved for metric 'Train_character_accuracy' at 'Models/checkpoints/v0.01/best_model_Train_character_accuracy.pth'.\n",
      "Metrics log saved at 'Logs/metrics_log_Train_character_accuracy.txt'.\n",
      "Improved Train_word_accuracy: 0.8199383474704329 -> 0.8263151532246691\n",
      "Model checkpoint saved for metric 'Train_word_accuracy' at 'Models/checkpoints/v0.01/best_model_Train_word_accuracy.pth'.\n",
      "Metrics log saved at 'Logs/metrics_log_Train_word_accuracy.txt'.\n",
      "Improved Val_character_accuracy: 0.9109173203796547 -> 0.9191848013703804\n",
      "Model checkpoint saved for metric 'Val_character_accuracy' at 'Models/checkpoints/v0.01/best_model_Val_character_accuracy.pth'.\n",
      "Metrics log saved at 'Logs/metrics_log_Val_character_accuracy.txt'.\n",
      "Improved Val_word_accuracy: 0.8789481416189217 -> 0.8892316732775084\n",
      "Model checkpoint saved for metric 'Val_word_accuracy' at 'Models/checkpoints/v0.01/best_model_Val_word_accuracy.pth'.\n",
      "Metrics log saved at 'Logs/metrics_log_Val_word_accuracy.txt'.\n"
     ]
    },
    {
     "name": "stderr",
     "output_type": "stream",
     "text": [
      "                                                                                                                                  \r"
     ]
    },
    {
     "name": "stdout",
     "output_type": "stream",
     "text": [
      "Epoch:  [44/150]\n",
      "Train_Loss: 0.104835986495018, Train_character_accuracy: 0.8827361661020295, Train_word_accuracy: 0.8215199564805674, Train_CER: 0.030327807209367858\n",
      "Val_Loss: 0.089508375951222, Val_character_accuracy: 0.9153776582781464, Val_word_accuracy: 0.8843837226384604, Val_CER: 0.023841668508922793\n",
      "Improved Val_Loss: 0.09067695587873459 -> 0.089508375951222\n",
      "Model checkpoint saved for metric 'Val_Loss' at 'Models/checkpoints/v0.01/best_model_Val_Loss.pth'.\n",
      "Metrics log saved at 'Logs/metrics_log_Val_Loss.txt'.\n"
     ]
    },
    {
     "name": "stderr",
     "output_type": "stream",
     "text": [
      "                                                                                                                                  \r"
     ]
    },
    {
     "name": "stdout",
     "output_type": "stream",
     "text": [
      "Epoch:  [45/150]\n",
      "Train_Loss: 0.09886720143258572, Train_character_accuracy: 0.888997017421187, Train_word_accuracy: 0.8312513851671267, Train_CER: 0.028664461248125328\n",
      "Val_Loss: 0.09020327350922994, Val_character_accuracy: 0.9119389610414033, Val_word_accuracy: 0.8852651682091964, Val_CER: 0.022721426346371244\n",
      "Improved Train_Loss: 0.10092398352921009 -> 0.09886720143258572\n",
      "Model checkpoint saved for metric 'Train_Loss' at 'Models/checkpoints/v0.01/best_model_Train_Loss.pth'.\n",
      "Metrics log saved at 'Logs/metrics_log_Train_Loss.txt'.\n",
      "Improved Train_CER: 0.028838591568025602 -> 0.028664461248125328\n",
      "Model checkpoint saved for metric 'Train_CER' at 'Models/checkpoints/v0.01/best_model_Train_CER.pth'.\n",
      "Metrics log saved at 'Logs/metrics_log_Train_CER.txt'.\n",
      "Improved Train_character_accuracy: 0.8849501594515249 -> 0.888997017421187\n",
      "Model checkpoint saved for metric 'Train_character_accuracy' at 'Models/checkpoints/v0.01/best_model_Train_character_accuracy.pth'.\n",
      "Metrics log saved at 'Logs/metrics_log_Train_character_accuracy.txt'.\n",
      "Improved Train_word_accuracy: 0.8263151532246691 -> 0.8312513851671267\n",
      "Model checkpoint saved for metric 'Train_word_accuracy' at 'Models/checkpoints/v0.01/best_model_Train_word_accuracy.pth'.\n",
      "Metrics log saved at 'Logs/metrics_log_Train_word_accuracy.txt'.\n"
     ]
    },
    {
     "name": "stderr",
     "output_type": "stream",
     "text": [
      "                                                                                                                                  \r"
     ]
    },
    {
     "name": "stdout",
     "output_type": "stream",
     "text": [
      "Epoch:  [46/150]\n",
      "Train_Loss: 0.09483769066631793, Train_character_accuracy: 0.8910315775241516, Train_word_accuracy: 0.8359659903693107, Train_CER: 0.027388575629413374\n",
      "Val_Loss: 0.08704546413251332, Val_character_accuracy: 0.9105997371997917, Val_word_accuracy: 0.8817393859262523, Val_CER: 0.023617624642305105\n",
      "Improved Train_Loss: 0.09886720143258572 -> 0.09483769066631793\n",
      "Model checkpoint saved for metric 'Train_Loss' at 'Models/checkpoints/v0.01/best_model_Train_Loss.pth'.\n",
      "Metrics log saved at 'Logs/metrics_log_Train_Loss.txt'.\n",
      "Improved Val_Loss: 0.089508375951222 -> 0.08704546413251332\n",
      "Model checkpoint saved for metric 'Val_Loss' at 'Models/checkpoints/v0.01/best_model_Val_Loss.pth'.\n",
      "Metrics log saved at 'Logs/metrics_log_Val_Loss.txt'.\n",
      "Improved Train_CER: 0.028664461248125328 -> 0.027388575629413374\n",
      "Model checkpoint saved for metric 'Train_CER' at 'Models/checkpoints/v0.01/best_model_Train_CER.pth'.\n",
      "Metrics log saved at 'Logs/metrics_log_Train_CER.txt'.\n",
      "Improved Train_character_accuracy: 0.888997017421187 -> 0.8910315775241516\n",
      "Model checkpoint saved for metric 'Train_character_accuracy' at 'Models/checkpoints/v0.01/best_model_Train_character_accuracy.pth'.\n",
      "Metrics log saved at 'Logs/metrics_log_Train_character_accuracy.txt'.\n",
      "Improved Train_word_accuracy: 0.8312513851671267 -> 0.8359659903693107\n",
      "Model checkpoint saved for metric 'Train_word_accuracy' at 'Models/checkpoints/v0.01/best_model_Train_word_accuracy.pth'.\n",
      "Metrics log saved at 'Logs/metrics_log_Train_word_accuracy.txt'.\n"
     ]
    },
    {
     "name": "stderr",
     "output_type": "stream",
     "text": [
      "                                                                                                                                  \r"
     ]
    },
    {
     "name": "stdout",
     "output_type": "stream",
     "text": [
      "Epoch:  [47/150]\n",
      "Train_Loss: 0.08997481890022754, Train_character_accuracy: 0.8957859639465552, Train_word_accuracy: 0.8429371587451897, Train_CER: 0.026055762505805827\n",
      "Val_Loss: 0.08875695349914688, Val_character_accuracy: 0.9161535858010765, Val_word_accuracy: 0.8896723960628764, Val_CER: 0.022297913307168474\n",
      "Improved Train_Loss: 0.09483769066631793 -> 0.08997481890022754\n",
      "Model checkpoint saved for metric 'Train_Loss' at 'Models/checkpoints/v0.01/best_model_Train_Loss.pth'.\n",
      "Metrics log saved at 'Logs/metrics_log_Train_Loss.txt'.\n",
      "Improved Train_CER: 0.027388575629413374 -> 0.026055762505805827\n",
      "Model checkpoint saved for metric 'Train_CER' at 'Models/checkpoints/v0.01/best_model_Train_CER.pth'.\n",
      "Metrics log saved at 'Logs/metrics_log_Train_CER.txt'.\n",
      "Improved Val_CER: 0.022551588186228988 -> 0.022297913307168474\n",
      "Model checkpoint saved for metric 'Val_CER' at 'Models/checkpoints/v0.01/best_model_Val_CER.pth'.\n",
      "Metrics log saved at 'Logs/metrics_log_Val_CER.txt'.\n",
      "Improved Train_character_accuracy: 0.8910315775241516 -> 0.8957859639465552\n",
      "Model checkpoint saved for metric 'Train_character_accuracy' at 'Models/checkpoints/v0.01/best_model_Train_character_accuracy.pth'.\n",
      "Metrics log saved at 'Logs/metrics_log_Train_character_accuracy.txt'.\n",
      "Improved Train_word_accuracy: 0.8359659903693107 -> 0.8429371587451897\n",
      "Model checkpoint saved for metric 'Train_word_accuracy' at 'Models/checkpoints/v0.01/best_model_Train_word_accuracy.pth'.\n",
      "Metrics log saved at 'Logs/metrics_log_Train_word_accuracy.txt'.\n",
      "Improved Val_word_accuracy: 0.8892316732775084 -> 0.8896723960628764\n",
      "Model checkpoint saved for metric 'Val_word_accuracy' at 'Models/checkpoints/v0.01/best_model_Val_word_accuracy.pth'.\n",
      "Metrics log saved at 'Logs/metrics_log_Val_word_accuracy.txt'.\n"
     ]
    },
    {
     "name": "stderr",
     "output_type": "stream",
     "text": [
      "                                                                                                                                  \r"
     ]
    },
    {
     "name": "stdout",
     "output_type": "stream",
     "text": [
      "Epoch:  [48/150]\n",
      "Train_Loss: 0.08930130243301392, Train_character_accuracy: 0.8973347124293378, Train_word_accuracy: 0.8449217254649125, Train_CER: 0.02592078959238912\n",
      "Val_Loss: 0.08302935851471764, Val_character_accuracy: 0.9254605370759366, Val_word_accuracy: 0.8971646834141325, Val_CER: 0.02074414004779804\n",
      "Improved Train_Loss: 0.08997481890022754 -> 0.08930130243301392\n",
      "Model checkpoint saved for metric 'Train_Loss' at 'Models/checkpoints/v0.01/best_model_Train_Loss.pth'.\n",
      "Metrics log saved at 'Logs/metrics_log_Train_Loss.txt'.\n",
      "Improved Val_Loss: 0.08704546413251332 -> 0.08302935851471764\n",
      "Model checkpoint saved for metric 'Val_Loss' at 'Models/checkpoints/v0.01/best_model_Val_Loss.pth'.\n",
      "Metrics log saved at 'Logs/metrics_log_Val_Loss.txt'.\n",
      "Improved Train_CER: 0.026055762505805827 -> 0.02592078959238912\n",
      "Model checkpoint saved for metric 'Train_CER' at 'Models/checkpoints/v0.01/best_model_Train_CER.pth'.\n",
      "Metrics log saved at 'Logs/metrics_log_Train_CER.txt'.\n",
      "Improved Val_CER: 0.022297913307168474 -> 0.02074414004779804\n",
      "Model checkpoint saved for metric 'Val_CER' at 'Models/checkpoints/v0.01/best_model_Val_CER.pth'.\n",
      "Metrics log saved at 'Logs/metrics_log_Val_CER.txt'.\n",
      "Improved Train_character_accuracy: 0.8957859639465552 -> 0.8973347124293378\n",
      "Model checkpoint saved for metric 'Train_character_accuracy' at 'Models/checkpoints/v0.01/best_model_Train_character_accuracy.pth'.\n",
      "Metrics log saved at 'Logs/metrics_log_Train_character_accuracy.txt'.\n",
      "Improved Train_word_accuracy: 0.8429371587451897 -> 0.8449217254649125\n",
      "Model checkpoint saved for metric 'Train_word_accuracy' at 'Models/checkpoints/v0.01/best_model_Train_word_accuracy.pth'.\n",
      "Metrics log saved at 'Logs/metrics_log_Train_word_accuracy.txt'.\n",
      "Improved Val_character_accuracy: 0.9191848013703804 -> 0.9254605370759366\n",
      "Model checkpoint saved for metric 'Val_character_accuracy' at 'Models/checkpoints/v0.01/best_model_Val_character_accuracy.pth'.\n",
      "Metrics log saved at 'Logs/metrics_log_Val_character_accuracy.txt'.\n",
      "Improved Val_word_accuracy: 0.8896723960628764 -> 0.8971646834141325\n",
      "Model checkpoint saved for metric 'Val_word_accuracy' at 'Models/checkpoints/v0.01/best_model_Val_word_accuracy.pth'.\n",
      "Metrics log saved at 'Logs/metrics_log_Val_word_accuracy.txt'.\n"
     ]
    },
    {
     "name": "stderr",
     "output_type": "stream",
     "text": [
      "                                                                                                                                  \r"
     ]
    },
    {
     "name": "stdout",
     "output_type": "stream",
     "text": [
      "Epoch:  [49/150]\n",
      "Train_Loss: 0.09092702001333236, Train_character_accuracy: 0.8967865424930201, Train_word_accuracy: 0.8418592468720408, Train_CER: 0.026452729607636616\n",
      "Val_Loss: 0.08044060958283288, Val_character_accuracy: 0.9223616283491884, Val_word_accuracy: 0.8973115910092552, Val_CER: 0.02000740229034631\n",
      "Improved Val_Loss: 0.08302935851471764 -> 0.08044060958283288\n",
      "Model checkpoint saved for metric 'Val_Loss' at 'Models/checkpoints/v0.01/best_model_Val_Loss.pth'.\n",
      "Metrics log saved at 'Logs/metrics_log_Val_Loss.txt'.\n",
      "Improved Val_CER: 0.02074414004779804 -> 0.02000740229034631\n",
      "Model checkpoint saved for metric 'Val_CER' at 'Models/checkpoints/v0.01/best_model_Val_CER.pth'.\n",
      "Metrics log saved at 'Logs/metrics_log_Val_CER.txt'.\n",
      "Improved Val_word_accuracy: 0.8971646834141325 -> 0.8973115910092552\n",
      "Model checkpoint saved for metric 'Val_word_accuracy' at 'Models/checkpoints/v0.01/best_model_Val_word_accuracy.pth'.\n",
      "Metrics log saved at 'Logs/metrics_log_Val_word_accuracy.txt'.\n"
     ]
    },
    {
     "name": "stderr",
     "output_type": "stream",
     "text": [
      "                                                                                                                                  \r"
     ]
    },
    {
     "name": "stdout",
     "output_type": "stream",
     "text": [
      "Epoch:  [50/150]\n",
      "Train_Loss: 0.08469366252422333, Train_character_accuracy: 0.9019497419523219, Train_word_accuracy: 0.849998992605726, Train_CER: 0.024711765868858926\n",
      "Val_Loss: 0.07845268824270793, Val_character_accuracy: 0.9248435469524761, Val_word_accuracy: 0.8973115910092552, Val_CER: 0.02040577682931142\n",
      "Improved Train_Loss: 0.08930130243301392 -> 0.08469366252422333\n",
      "Model checkpoint saved for metric 'Train_Loss' at 'Models/checkpoints/v0.01/best_model_Train_Loss.pth'.\n",
      "Metrics log saved at 'Logs/metrics_log_Train_Loss.txt'.\n",
      "Improved Val_Loss: 0.08044060958283288 -> 0.07845268824270793\n",
      "Model checkpoint saved for metric 'Val_Loss' at 'Models/checkpoints/v0.01/best_model_Val_Loss.pth'.\n",
      "Metrics log saved at 'Logs/metrics_log_Val_Loss.txt'.\n",
      "Improved Train_CER: 0.02592078959238912 -> 0.024711765868858926\n",
      "Model checkpoint saved for metric 'Train_CER' at 'Models/checkpoints/v0.01/best_model_Train_CER.pth'.\n",
      "Metrics log saved at 'Logs/metrics_log_Train_CER.txt'.\n",
      "Improved Train_character_accuracy: 0.8973347124293378 -> 0.9019497419523219\n",
      "Model checkpoint saved for metric 'Train_character_accuracy' at 'Models/checkpoints/v0.01/best_model_Train_character_accuracy.pth'.\n",
      "Metrics log saved at 'Logs/metrics_log_Train_character_accuracy.txt'.\n",
      "Improved Train_word_accuracy: 0.8449217254649125 -> 0.849998992605726\n",
      "Model checkpoint saved for metric 'Train_word_accuracy' at 'Models/checkpoints/v0.01/best_model_Train_word_accuracy.pth'.\n",
      "Metrics log saved at 'Logs/metrics_log_Train_word_accuracy.txt'.\n"
     ]
    },
    {
     "name": "stderr",
     "output_type": "stream",
     "text": [
      "                                                                                                                                  \r"
     ]
    },
    {
     "name": "stdout",
     "output_type": "stream",
     "text": [
      "Epoch:  [51/150]\n",
      "Train_Loss: 0.08285348892211913, Train_character_accuracy: 0.906332417035999, Train_word_accuracy: 0.8557612878528399, Train_CER: 0.023586534308231565\n",
      "Val_Loss: 0.08289847097226552, Val_character_accuracy: 0.9235858866692377, Val_word_accuracy: 0.8915821947994711, Val_CER: 0.021374908737182858\n",
      "Improved Train_Loss: 0.08469366252422333 -> 0.08285348892211913\n",
      "Model checkpoint saved for metric 'Train_Loss' at 'Models/checkpoints/v0.01/best_model_Train_Loss.pth'.\n",
      "Metrics log saved at 'Logs/metrics_log_Train_Loss.txt'.\n",
      "Improved Train_CER: 0.024711765868858926 -> 0.023586534308231565\n",
      "Model checkpoint saved for metric 'Train_CER' at 'Models/checkpoints/v0.01/best_model_Train_CER.pth'.\n",
      "Metrics log saved at 'Logs/metrics_log_Train_CER.txt'.\n",
      "Improved Train_character_accuracy: 0.9019497419523219 -> 0.906332417035999\n",
      "Model checkpoint saved for metric 'Train_character_accuracy' at 'Models/checkpoints/v0.01/best_model_Train_character_accuracy.pth'.\n",
      "Metrics log saved at 'Logs/metrics_log_Train_character_accuracy.txt'.\n",
      "Improved Train_word_accuracy: 0.849998992605726 -> 0.8557612878528399\n",
      "Model checkpoint saved for metric 'Train_word_accuracy' at 'Models/checkpoints/v0.01/best_model_Train_word_accuracy.pth'.\n",
      "Metrics log saved at 'Logs/metrics_log_Train_word_accuracy.txt'.\n"
     ]
    },
    {
     "name": "stderr",
     "output_type": "stream",
     "text": [
      "                                                                                                                                  \r"
     ]
    },
    {
     "name": "stdout",
     "output_type": "stream",
     "text": [
      "Epoch:  [52/150]\n",
      "Train_Loss: 0.0791331396996975, Train_character_accuracy: 0.9076562054209273, Train_word_accuracy: 0.8584812523925615, Train_CER: 0.02302973307370583\n",
      "Val_Loss: 0.08090401653732572, Val_character_accuracy: 0.925284110091594, Val_word_accuracy: 0.8992213897458499, Val_CER: 0.01974508645949808\n",
      "Improved Train_Loss: 0.08285348892211913 -> 0.0791331396996975\n",
      "Model checkpoint saved for metric 'Train_Loss' at 'Models/checkpoints/v0.01/best_model_Train_Loss.pth'.\n",
      "Metrics log saved at 'Logs/metrics_log_Train_Loss.txt'.\n",
      "Improved Train_CER: 0.023586534308231565 -> 0.02302973307370583\n",
      "Model checkpoint saved for metric 'Train_CER' at 'Models/checkpoints/v0.01/best_model_Train_CER.pth'.\n",
      "Metrics log saved at 'Logs/metrics_log_Train_CER.txt'.\n",
      "Improved Val_CER: 0.02000740229034631 -> 0.01974508645949808\n",
      "Model checkpoint saved for metric 'Val_CER' at 'Models/checkpoints/v0.01/best_model_Val_CER.pth'.\n",
      "Metrics log saved at 'Logs/metrics_log_Val_CER.txt'.\n",
      "Improved Train_character_accuracy: 0.906332417035999 -> 0.9076562054209273\n",
      "Model checkpoint saved for metric 'Train_character_accuracy' at 'Models/checkpoints/v0.01/best_model_Train_character_accuracy.pth'.\n",
      "Metrics log saved at 'Logs/metrics_log_Train_character_accuracy.txt'.\n",
      "Improved Train_word_accuracy: 0.8557612878528399 -> 0.8584812523925615\n",
      "Model checkpoint saved for metric 'Train_word_accuracy' at 'Models/checkpoints/v0.01/best_model_Train_word_accuracy.pth'.\n",
      "Metrics log saved at 'Logs/metrics_log_Train_word_accuracy.txt'.\n",
      "Improved Val_word_accuracy: 0.8973115910092552 -> 0.8992213897458499\n",
      "Model checkpoint saved for metric 'Val_word_accuracy' at 'Models/checkpoints/v0.01/best_model_Val_word_accuracy.pth'.\n",
      "Metrics log saved at 'Logs/metrics_log_Val_word_accuracy.txt'.\n"
     ]
    },
    {
     "name": "stderr",
     "output_type": "stream",
     "text": [
      "                                                                                                                                  \r"
     ]
    },
    {
     "name": "stdout",
     "output_type": "stream",
     "text": [
      "Epoch:  [53/150]\n",
      "Train_Loss: 0.07903848201036454, Train_character_accuracy: 0.9066143540170717, Train_word_accuracy: 0.8583805129651643, Train_CER: 0.023112370658106354\n",
      "Val_Loss: 0.07374677807092667, Val_character_accuracy: 0.931853262055058, Val_word_accuracy: 0.9056853239312472, Val_CER: 0.018338004730688726\n",
      "Improved Train_Loss: 0.0791331396996975 -> 0.07903848201036454\n",
      "Model checkpoint saved for metric 'Train_Loss' at 'Models/checkpoints/v0.01/best_model_Train_Loss.pth'.\n",
      "Metrics log saved at 'Logs/metrics_log_Train_Loss.txt'.\n",
      "Improved Val_Loss: 0.07845268824270793 -> 0.07374677807092667\n",
      "Model checkpoint saved for metric 'Val_Loss' at 'Models/checkpoints/v0.01/best_model_Val_Loss.pth'.\n",
      "Metrics log saved at 'Logs/metrics_log_Val_Loss.txt'.\n",
      "Improved Val_CER: 0.01974508645949808 -> 0.018338004730688726\n",
      "Model checkpoint saved for metric 'Val_CER' at 'Models/checkpoints/v0.01/best_model_Val_CER.pth'.\n",
      "Metrics log saved at 'Logs/metrics_log_Val_CER.txt'.\n",
      "Improved Val_character_accuracy: 0.9254605370759366 -> 0.931853262055058\n",
      "Model checkpoint saved for metric 'Val_character_accuracy' at 'Models/checkpoints/v0.01/best_model_Val_character_accuracy.pth'.\n",
      "Metrics log saved at 'Logs/metrics_log_Val_character_accuracy.txt'.\n",
      "Improved Val_word_accuracy: 0.8992213897458499 -> 0.9056853239312472\n",
      "Model checkpoint saved for metric 'Val_word_accuracy' at 'Models/checkpoints/v0.01/best_model_Val_word_accuracy.pth'.\n",
      "Metrics log saved at 'Logs/metrics_log_Val_word_accuracy.txt'.\n"
     ]
    },
    {
     "name": "stderr",
     "output_type": "stream",
     "text": [
      "                                                                                                                                  \r"
     ]
    },
    {
     "name": "stdout",
     "output_type": "stream",
     "text": [
      "Epoch:  [54/150]\n",
      "Train_Loss: 0.07501415964215993, Train_character_accuracy: 0.9126924889113708, Train_word_accuracy: 0.8651401285435094, Train_CER: 0.02182984539531594\n",
      "Val_Loss: 0.07597365762506213, Val_character_accuracy: 0.9278300978449573, Val_word_accuracy: 0.9062729543117379, Val_CER: 0.01882826500499483\n",
      "Improved Train_Loss: 0.07903848201036454 -> 0.07501415964215993\n",
      "Model checkpoint saved for metric 'Train_Loss' at 'Models/checkpoints/v0.01/best_model_Train_Loss.pth'.\n",
      "Metrics log saved at 'Logs/metrics_log_Train_Loss.txt'.\n",
      "Improved Train_CER: 0.02302973307370583 -> 0.02182984539531594\n",
      "Model checkpoint saved for metric 'Train_CER' at 'Models/checkpoints/v0.01/best_model_Train_CER.pth'.\n",
      "Metrics log saved at 'Logs/metrics_log_Train_CER.txt'.\n",
      "Improved Train_character_accuracy: 0.9076562054209273 -> 0.9126924889113708\n",
      "Model checkpoint saved for metric 'Train_character_accuracy' at 'Models/checkpoints/v0.01/best_model_Train_character_accuracy.pth'.\n",
      "Metrics log saved at 'Logs/metrics_log_Train_character_accuracy.txt'.\n",
      "Improved Train_word_accuracy: 0.8584812523925615 -> 0.8651401285435094\n",
      "Model checkpoint saved for metric 'Train_word_accuracy' at 'Models/checkpoints/v0.01/best_model_Train_word_accuracy.pth'.\n",
      "Metrics log saved at 'Logs/metrics_log_Train_word_accuracy.txt'.\n",
      "Improved Val_word_accuracy: 0.9056853239312472 -> 0.9062729543117379\n",
      "Model checkpoint saved for metric 'Val_word_accuracy' at 'Models/checkpoints/v0.01/best_model_Val_word_accuracy.pth'.\n",
      "Metrics log saved at 'Logs/metrics_log_Val_word_accuracy.txt'.\n"
     ]
    },
    {
     "name": "stderr",
     "output_type": "stream",
     "text": [
      "                                                                                                                                  \r"
     ]
    },
    {
     "name": "stdout",
     "output_type": "stream",
     "text": [
      "Epoch:  [55/150]\n",
      "Train_Loss: 0.07513057049363851, Train_character_accuracy: 0.9117625766832306, Train_word_accuracy: 0.8653013116273447, Train_CER: 0.02189663821315141\n",
      "Val_Loss: 0.0761822983622551, Val_character_accuracy: 0.9341678416308209, Val_word_accuracy: 0.9093580138093139, Val_CER: 0.0188246404200569\n",
      "Improved Train_word_accuracy: 0.8651401285435094 -> 0.8653013116273447\n",
      "Model checkpoint saved for metric 'Train_word_accuracy' at 'Models/checkpoints/v0.01/best_model_Train_word_accuracy.pth'.\n",
      "Metrics log saved at 'Logs/metrics_log_Train_word_accuracy.txt'.\n",
      "Improved Val_character_accuracy: 0.931853262055058 -> 0.9341678416308209\n",
      "Model checkpoint saved for metric 'Val_character_accuracy' at 'Models/checkpoints/v0.01/best_model_Val_character_accuracy.pth'.\n",
      "Metrics log saved at 'Logs/metrics_log_Val_character_accuracy.txt'.\n",
      "Improved Val_word_accuracy: 0.9062729543117379 -> 0.9093580138093139\n",
      "Model checkpoint saved for metric 'Val_word_accuracy' at 'Models/checkpoints/v0.01/best_model_Val_word_accuracy.pth'.\n",
      "Metrics log saved at 'Logs/metrics_log_Val_word_accuracy.txt'.\n"
     ]
    },
    {
     "name": "stderr",
     "output_type": "stream",
     "text": [
      "                                                                                                                                  \r"
     ]
    },
    {
     "name": "stdout",
     "output_type": "stream",
     "text": [
      "Epoch:  [56/150]\n",
      "Train_Loss: 0.07286631569266319, Train_character_accuracy: 0.9143299598618886, Train_word_accuracy: 0.8690185964982975, Train_CER: 0.021127877013326194\n",
      "Val_Loss: 0.07619069942406245, Val_character_accuracy: 0.9366272047165497, Val_word_accuracy: 0.9078889378580872, Val_CER: 0.01868958620831692\n",
      "Improved Train_Loss: 0.07501415964215993 -> 0.07286631569266319\n",
      "Model checkpoint saved for metric 'Train_Loss' at 'Models/checkpoints/v0.01/best_model_Train_Loss.pth'.\n",
      "Metrics log saved at 'Logs/metrics_log_Train_Loss.txt'.\n",
      "Improved Train_CER: 0.02182984539531594 -> 0.021127877013326194\n",
      "Model checkpoint saved for metric 'Train_CER' at 'Models/checkpoints/v0.01/best_model_Train_CER.pth'.\n",
      "Metrics log saved at 'Logs/metrics_log_Train_CER.txt'.\n",
      "Improved Train_character_accuracy: 0.9126924889113708 -> 0.9143299598618886\n",
      "Model checkpoint saved for metric 'Train_character_accuracy' at 'Models/checkpoints/v0.01/best_model_Train_character_accuracy.pth'.\n",
      "Metrics log saved at 'Logs/metrics_log_Train_character_accuracy.txt'.\n",
      "Improved Train_word_accuracy: 0.8653013116273447 -> 0.8690185964982975\n",
      "Model checkpoint saved for metric 'Train_word_accuracy' at 'Models/checkpoints/v0.01/best_model_Train_word_accuracy.pth'.\n",
      "Metrics log saved at 'Logs/metrics_log_Train_word_accuracy.txt'.\n",
      "Improved Val_character_accuracy: 0.9341678416308209 -> 0.9366272047165497\n",
      "Model checkpoint saved for metric 'Val_character_accuracy' at 'Models/checkpoints/v0.01/best_model_Val_character_accuracy.pth'.\n",
      "Metrics log saved at 'Logs/metrics_log_Val_character_accuracy.txt'.\n"
     ]
    },
    {
     "name": "stderr",
     "output_type": "stream",
     "text": [
      "                                                                                                                                  \r"
     ]
    },
    {
     "name": "stdout",
     "output_type": "stream",
     "text": [
      "Epoch:  [57/150]\n",
      "Train_Loss: 0.07516960773617029, Train_character_accuracy: 0.9136611763893835, Train_word_accuracy: 0.8671851389196704, Train_CER: 0.02169241697932286\n",
      "Val_Loss: 0.07777470030954906, Val_character_accuracy: 0.93090551499016, Val_word_accuracy: 0.9024533568385485, Val_CER: 0.019837915540868372\n"
     ]
    },
    {
     "name": "stderr",
     "output_type": "stream",
     "text": [
      "                                                                                                                                  \r"
     ]
    },
    {
     "name": "stdout",
     "output_type": "stream",
     "text": [
      "Epoch:  [58/150]\n",
      "Train_Loss: 0.07441009864211083, Train_character_accuracy: 0.9138425176468187, Train_word_accuracy: 0.8663490016722745, Train_CER: 0.021797200073246228\n",
      "Val_Loss: 0.073810661477702, Val_character_accuracy: 0.9327441952819808, Val_word_accuracy: 0.9033348024092845, Val_CER: 0.01886818232124534\n"
     ]
    },
    {
     "name": "stderr",
     "output_type": "stream",
     "text": [
      "                                                                                                                                  \r"
     ]
    },
    {
     "name": "stdout",
     "output_type": "stream",
     "text": [
      "Epoch:  [59/150]\n",
      "Train_Loss: 0.07523648712784052, Train_character_accuracy: 0.9132148242984118, Train_word_accuracy: 0.8661978925311788, Train_CER: 0.02183808142217869\n",
      "Val_Loss: 0.07358757566128458, Val_character_accuracy: 0.9331346776958764, Val_word_accuracy: 0.9084765682385779, Val_CER: 0.018325164380695445\n",
      "Improved Val_Loss: 0.07374677807092667 -> 0.07358757566128458\n",
      "Model checkpoint saved for metric 'Val_Loss' at 'Models/checkpoints/v0.01/best_model_Val_Loss.pth'.\n",
      "Metrics log saved at 'Logs/metrics_log_Val_Loss.txt'.\n",
      "Improved Val_CER: 0.018338004730688726 -> 0.018325164380695445\n",
      "Model checkpoint saved for metric 'Val_CER' at 'Models/checkpoints/v0.01/best_model_Val_CER.pth'.\n",
      "Metrics log saved at 'Logs/metrics_log_Val_CER.txt'.\n"
     ]
    },
    {
     "name": "stderr",
     "output_type": "stream",
     "text": [
      "                                                                                                                                  \r"
     ]
    },
    {
     "name": "stdout",
     "output_type": "stream",
     "text": [
      "Epoch:  [60/150]\n",
      "Train_Loss: 0.07914680179208516, Train_character_accuracy: 0.9114860668687446, Train_word_accuracy: 0.8608788507646122, Train_CER: 0.02294217769103428\n",
      "Val_Loss: 0.0725614417876516, Val_character_accuracy: 0.9350941913296112, Val_word_accuracy: 0.91464668723373, Val_CER: 0.017001143576727527\n",
      "Improved Val_Loss: 0.07358757566128458 -> 0.0725614417876516\n",
      "Model checkpoint saved for metric 'Val_Loss' at 'Models/checkpoints/v0.01/best_model_Val_Loss.pth'.\n",
      "Metrics log saved at 'Logs/metrics_log_Val_Loss.txt'.\n",
      "Improved Val_CER: 0.018325164380695445 -> 0.017001143576727527\n",
      "Model checkpoint saved for metric 'Val_CER' at 'Models/checkpoints/v0.01/best_model_Val_CER.pth'.\n",
      "Metrics log saved at 'Logs/metrics_log_Val_CER.txt'.\n",
      "Improved Val_word_accuracy: 0.9093580138093139 -> 0.91464668723373\n",
      "Model checkpoint saved for metric 'Val_word_accuracy' at 'Models/checkpoints/v0.01/best_model_Val_word_accuracy.pth'.\n",
      "Metrics log saved at 'Logs/metrics_log_Val_word_accuracy.txt'.\n"
     ]
    },
    {
     "name": "stderr",
     "output_type": "stream",
     "text": [
      "                                                                                                                                  \r"
     ]
    },
    {
     "name": "stdout",
     "output_type": "stream",
     "text": [
      "Epoch:  [61/150]\n",
      "Train_Loss: 0.07056532111018896, Train_character_accuracy: 0.9187425457199311, Train_word_accuracy: 0.8733503918763725, Train_CER: 0.020449749736716063\n",
      "Val_Loss: 0.0706904147352491, Val_character_accuracy: 0.9354672403762502, Val_word_accuracy: 0.9125899809020126, Val_CER: 0.017736144664306844\n",
      "Improved Train_Loss: 0.07286631569266319 -> 0.07056532111018896\n",
      "Model checkpoint saved for metric 'Train_Loss' at 'Models/checkpoints/v0.01/best_model_Train_Loss.pth'.\n",
      "Metrics log saved at 'Logs/metrics_log_Train_Loss.txt'.\n",
      "Improved Val_Loss: 0.0725614417876516 -> 0.0706904147352491\n",
      "Model checkpoint saved for metric 'Val_Loss' at 'Models/checkpoints/v0.01/best_model_Val_Loss.pth'.\n",
      "Metrics log saved at 'Logs/metrics_log_Val_Loss.txt'.\n",
      "Improved Train_CER: 0.021127877013326194 -> 0.020449749736716063\n",
      "Model checkpoint saved for metric 'Train_CER' at 'Models/checkpoints/v0.01/best_model_Train_CER.pth'.\n",
      "Metrics log saved at 'Logs/metrics_log_Train_CER.txt'.\n",
      "Improved Train_character_accuracy: 0.9143299598618886 -> 0.9187425457199311\n",
      "Model checkpoint saved for metric 'Train_character_accuracy' at 'Models/checkpoints/v0.01/best_model_Train_character_accuracy.pth'.\n",
      "Metrics log saved at 'Logs/metrics_log_Train_character_accuracy.txt'.\n",
      "Improved Train_word_accuracy: 0.8690185964982975 -> 0.8733503918763725\n",
      "Model checkpoint saved for metric 'Train_word_accuracy' at 'Models/checkpoints/v0.01/best_model_Train_word_accuracy.pth'.\n",
      "Metrics log saved at 'Logs/metrics_log_Train_word_accuracy.txt'.\n"
     ]
    },
    {
     "name": "stderr",
     "output_type": "stream",
     "text": [
      "                                                                                                                                  \r"
     ]
    },
    {
     "name": "stdout",
     "output_type": "stream",
     "text": [
      "Epoch:  [62/150]\n",
      "Train_Loss: 0.06956899035722017, Train_character_accuracy: 0.9207249473973808, Train_word_accuracy: 0.8765639796103399, Train_CER: 0.020077657915638685\n",
      "Val_Loss: 0.07586942080940519, Val_character_accuracy: 0.931563495324294, Val_word_accuracy: 0.9021595416483033, Val_CER: 0.01895093015630696\n",
      "Improved Train_Loss: 0.07056532111018896 -> 0.06956899035722017\n",
      "Model checkpoint saved for metric 'Train_Loss' at 'Models/checkpoints/v0.01/best_model_Train_Loss.pth'.\n",
      "Metrics log saved at 'Logs/metrics_log_Train_Loss.txt'.\n",
      "Improved Train_CER: 0.020449749736716063 -> 0.020077657915638685\n",
      "Model checkpoint saved for metric 'Train_CER' at 'Models/checkpoints/v0.01/best_model_Train_CER.pth'.\n",
      "Metrics log saved at 'Logs/metrics_log_Train_CER.txt'.\n",
      "Improved Train_character_accuracy: 0.9187425457199311 -> 0.9207249473973808\n",
      "Model checkpoint saved for metric 'Train_character_accuracy' at 'Models/checkpoints/v0.01/best_model_Train_character_accuracy.pth'.\n",
      "Metrics log saved at 'Logs/metrics_log_Train_character_accuracy.txt'.\n",
      "Improved Train_word_accuracy: 0.8733503918763725 -> 0.8765639796103399\n",
      "Model checkpoint saved for metric 'Train_word_accuracy' at 'Models/checkpoints/v0.01/best_model_Train_word_accuracy.pth'.\n",
      "Metrics log saved at 'Logs/metrics_log_Train_word_accuracy.txt'.\n"
     ]
    },
    {
     "name": "stderr",
     "output_type": "stream",
     "text": [
      "                                                                                                                                  \r"
     ]
    },
    {
     "name": "stdout",
     "output_type": "stream",
     "text": [
      "Epoch:  [63/150]\n",
      "Train_Loss: 0.0676442800462246, Train_character_accuracy: 0.9206618201161855, Train_word_accuracy: 0.8783772893034876, Train_CER: 0.019653390753263812\n",
      "Val_Loss: 0.06689927407673427, Val_character_accuracy: 0.9414671621739671, Val_word_accuracy: 0.9156750403995887, Val_CER: 0.01651306963118333\n",
      "Improved Train_Loss: 0.06956899035722017 -> 0.0676442800462246\n",
      "Model checkpoint saved for metric 'Train_Loss' at 'Models/checkpoints/v0.01/best_model_Train_Loss.pth'.\n",
      "Metrics log saved at 'Logs/metrics_log_Train_Loss.txt'.\n",
      "Improved Val_Loss: 0.0706904147352491 -> 0.06689927407673427\n",
      "Model checkpoint saved for metric 'Val_Loss' at 'Models/checkpoints/v0.01/best_model_Val_Loss.pth'.\n",
      "Metrics log saved at 'Logs/metrics_log_Val_Loss.txt'.\n",
      "Improved Train_CER: 0.020077657915638685 -> 0.019653390753263812\n",
      "Model checkpoint saved for metric 'Train_CER' at 'Models/checkpoints/v0.01/best_model_Train_CER.pth'.\n",
      "Metrics log saved at 'Logs/metrics_log_Train_CER.txt'.\n",
      "Improved Val_CER: 0.017001143576727527 -> 0.01651306963118333\n",
      "Model checkpoint saved for metric 'Val_CER' at 'Models/checkpoints/v0.01/best_model_Val_CER.pth'.\n",
      "Metrics log saved at 'Logs/metrics_log_Val_CER.txt'.\n",
      "Improved Train_word_accuracy: 0.8765639796103399 -> 0.8783772893034876\n",
      "Model checkpoint saved for metric 'Train_word_accuracy' at 'Models/checkpoints/v0.01/best_model_Train_word_accuracy.pth'.\n",
      "Metrics log saved at 'Logs/metrics_log_Train_word_accuracy.txt'.\n",
      "Improved Val_character_accuracy: 0.9366272047165497 -> 0.9414671621739671\n",
      "Model checkpoint saved for metric 'Val_character_accuracy' at 'Models/checkpoints/v0.01/best_model_Val_character_accuracy.pth'.\n",
      "Metrics log saved at 'Logs/metrics_log_Val_character_accuracy.txt'.\n",
      "Improved Val_word_accuracy: 0.91464668723373 -> 0.9156750403995887\n",
      "Model checkpoint saved for metric 'Val_word_accuracy' at 'Models/checkpoints/v0.01/best_model_Val_word_accuracy.pth'.\n",
      "Metrics log saved at 'Logs/metrics_log_Val_word_accuracy.txt'.\n"
     ]
    },
    {
     "name": "stderr",
     "output_type": "stream",
     "text": [
      "                                                                                                                                  \r"
     ]
    },
    {
     "name": "stdout",
     "output_type": "stream",
     "text": [
      "Epoch:  [64/150]\n",
      "Train_Loss: 0.062374612614512444, Train_character_accuracy: 0.9255021621654884, Train_word_accuracy: 0.8845526162029295, Train_CER: 0.018312396590709396\n",
      "Val_Loss: 0.07208578448210444, Val_character_accuracy: 0.9422479480136591, Val_word_accuracy: 0.9140590568532393, Val_CER: 0.01774650394086268\n",
      "Improved Train_Loss: 0.0676442800462246 -> 0.062374612614512444\n",
      "Model checkpoint saved for metric 'Train_Loss' at 'Models/checkpoints/v0.01/best_model_Train_Loss.pth'.\n",
      "Metrics log saved at 'Logs/metrics_log_Train_Loss.txt'.\n",
      "Improved Train_CER: 0.019653390753263812 -> 0.018312396590709396\n",
      "Model checkpoint saved for metric 'Train_CER' at 'Models/checkpoints/v0.01/best_model_Train_CER.pth'.\n",
      "Metrics log saved at 'Logs/metrics_log_Train_CER.txt'.\n",
      "Improved Train_character_accuracy: 0.9207249473973808 -> 0.9255021621654884\n",
      "Model checkpoint saved for metric 'Train_character_accuracy' at 'Models/checkpoints/v0.01/best_model_Train_character_accuracy.pth'.\n",
      "Metrics log saved at 'Logs/metrics_log_Train_character_accuracy.txt'.\n",
      "Improved Train_word_accuracy: 0.8783772893034876 -> 0.8845526162029295\n",
      "Model checkpoint saved for metric 'Train_word_accuracy' at 'Models/checkpoints/v0.01/best_model_Train_word_accuracy.pth'.\n",
      "Metrics log saved at 'Logs/metrics_log_Train_word_accuracy.txt'.\n",
      "Improved Val_character_accuracy: 0.9414671621739671 -> 0.9422479480136591\n",
      "Model checkpoint saved for metric 'Val_character_accuracy' at 'Models/checkpoints/v0.01/best_model_Val_character_accuracy.pth'.\n",
      "Metrics log saved at 'Logs/metrics_log_Val_character_accuracy.txt'.\n"
     ]
    },
    {
     "name": "stderr",
     "output_type": "stream",
     "text": [
      "                                                                                                                                  \r"
     ]
    },
    {
     "name": "stdout",
     "output_type": "stream",
     "text": [
      "Epoch:  [65/150]\n",
      "Train_Loss: 0.07703859984874725, Train_character_accuracy: 0.9156300558398771, Train_word_accuracy: 0.866711663610904, Train_CER: 0.022256301479298263\n",
      "Val_Loss: 0.06737924580063138, Val_character_accuracy: 0.9403763209109882, Val_word_accuracy: 0.916409578375202, Val_CER: 0.015692058949000325\n",
      "Improved Val_CER: 0.01651306963118333 -> 0.015692058949000325\n",
      "Model checkpoint saved for metric 'Val_CER' at 'Models/checkpoints/v0.01/best_model_Val_CER.pth'.\n",
      "Metrics log saved at 'Logs/metrics_log_Val_CER.txt'.\n",
      "Improved Val_word_accuracy: 0.9156750403995887 -> 0.916409578375202\n",
      "Model checkpoint saved for metric 'Val_word_accuracy' at 'Models/checkpoints/v0.01/best_model_Val_word_accuracy.pth'.\n",
      "Metrics log saved at 'Logs/metrics_log_Val_word_accuracy.txt'.\n"
     ]
    },
    {
     "name": "stderr",
     "output_type": "stream",
     "text": [
      "                                                                                                                                  \r"
     ]
    },
    {
     "name": "stdout",
     "output_type": "stream",
     "text": [
      "Epoch:  [66/150]\n",
      "Train_Loss: 0.06447562135756016, Train_character_accuracy: 0.9235517642387973, Train_word_accuracy: 0.8825982713114259, Train_CER: 0.018907916810018226\n",
      "Val_Loss: 0.0640743225812912, Val_character_accuracy: 0.9425734683261597, Val_word_accuracy: 0.9212575290142501, Val_CER: 0.01546245488510803\n",
      "Improved Val_Loss: 0.06689927407673427 -> 0.0640743225812912\n",
      "Model checkpoint saved for metric 'Val_Loss' at 'Models/checkpoints/v0.01/best_model_Val_Loss.pth'.\n",
      "Metrics log saved at 'Logs/metrics_log_Val_Loss.txt'.\n",
      "Improved Val_CER: 0.015692058949000325 -> 0.01546245488510803\n",
      "Model checkpoint saved for metric 'Val_CER' at 'Models/checkpoints/v0.01/best_model_Val_CER.pth'.\n",
      "Metrics log saved at 'Logs/metrics_log_Val_CER.txt'.\n",
      "Improved Val_character_accuracy: 0.9422479480136591 -> 0.9425734683261597\n",
      "Model checkpoint saved for metric 'Val_character_accuracy' at 'Models/checkpoints/v0.01/best_model_Val_character_accuracy.pth'.\n",
      "Metrics log saved at 'Logs/metrics_log_Val_character_accuracy.txt'.\n",
      "Improved Val_word_accuracy: 0.916409578375202 -> 0.9212575290142501\n",
      "Model checkpoint saved for metric 'Val_word_accuracy' at 'Models/checkpoints/v0.01/best_model_Val_word_accuracy.pth'.\n",
      "Metrics log saved at 'Logs/metrics_log_Val_word_accuracy.txt'.\n"
     ]
    },
    {
     "name": "stderr",
     "output_type": "stream",
     "text": [
      "                                                                                                                                  \r"
     ]
    },
    {
     "name": "stdout",
     "output_type": "stream",
     "text": [
      "Epoch:  [67/150]\n",
      "Train_Loss: 0.06473594419658184, Train_character_accuracy: 0.9246601115737891, Train_word_accuracy: 0.8817722080067697, Train_CER: 0.01904226567907989\n",
      "Val_Loss: 0.06449448423726219, Val_character_accuracy: 0.9440280369816084, Val_word_accuracy: 0.9175848391361834, Val_CER: 0.016376924089572826\n",
      "Improved Val_character_accuracy: 0.9425734683261597 -> 0.9440280369816084\n",
      "Model checkpoint saved for metric 'Val_character_accuracy' at 'Models/checkpoints/v0.01/best_model_Val_character_accuracy.pth'.\n",
      "Metrics log saved at 'Logs/metrics_log_Val_character_accuracy.txt'.\n"
     ]
    },
    {
     "name": "stderr",
     "output_type": "stream",
     "text": [
      "                                                                                                                                  \r"
     ]
    },
    {
     "name": "stdout",
     "output_type": "stream",
     "text": [
      "Epoch:  [68/150]\n",
      "Train_Loss: 0.060960581451654436, Train_character_accuracy: 0.9283480460384759, Train_word_accuracy: 0.8890153728366208, Train_CER: 0.01783365504982171\n",
      "Val_Loss: 0.0662944455231939, Val_character_accuracy: 0.945358356167104, Val_word_accuracy: 0.9203760834435141, Val_CER: 0.016072043132422154\n",
      "Improved Train_Loss: 0.062374612614512444 -> 0.060960581451654436\n",
      "Model checkpoint saved for metric 'Train_Loss' at 'Models/checkpoints/v0.01/best_model_Train_Loss.pth'.\n",
      "Metrics log saved at 'Logs/metrics_log_Train_Loss.txt'.\n",
      "Improved Train_CER: 0.018312396590709396 -> 0.01783365504982171\n",
      "Model checkpoint saved for metric 'Train_CER' at 'Models/checkpoints/v0.01/best_model_Train_CER.pth'.\n",
      "Metrics log saved at 'Logs/metrics_log_Train_CER.txt'.\n",
      "Improved Train_character_accuracy: 0.9255021621654884 -> 0.9283480460384759\n",
      "Model checkpoint saved for metric 'Train_character_accuracy' at 'Models/checkpoints/v0.01/best_model_Train_character_accuracy.pth'.\n",
      "Metrics log saved at 'Logs/metrics_log_Train_character_accuracy.txt'.\n",
      "Improved Train_word_accuracy: 0.8845526162029295 -> 0.8890153728366208\n",
      "Model checkpoint saved for metric 'Train_word_accuracy' at 'Models/checkpoints/v0.01/best_model_Train_word_accuracy.pth'.\n",
      "Metrics log saved at 'Logs/metrics_log_Train_word_accuracy.txt'.\n",
      "Improved Val_character_accuracy: 0.9440280369816084 -> 0.945358356167104\n",
      "Model checkpoint saved for metric 'Val_character_accuracy' at 'Models/checkpoints/v0.01/best_model_Val_character_accuracy.pth'.\n",
      "Metrics log saved at 'Logs/metrics_log_Val_character_accuracy.txt'.\n"
     ]
    },
    {
     "name": "stderr",
     "output_type": "stream",
     "text": [
      "                                                                                                                                  \r"
     ]
    },
    {
     "name": "stdout",
     "output_type": "stream",
     "text": [
      "Epoch:  [69/150]\n",
      "Train_Loss: 0.058782930076122286, Train_character_accuracy: 0.9301378219482699, Train_word_accuracy: 0.8919468901738763, Train_CER: 0.017223090561645543\n",
      "Val_Loss: 0.06006110885313579, Val_character_accuracy: 0.9450597300361204, Val_word_accuracy: 0.9244894961069487, Val_CER: 0.015346563969305262\n",
      "Improved Train_Loss: 0.060960581451654436 -> 0.058782930076122286\n",
      "Model checkpoint saved for metric 'Train_Loss' at 'Models/checkpoints/v0.01/best_model_Train_Loss.pth'.\n",
      "Metrics log saved at 'Logs/metrics_log_Train_Loss.txt'.\n",
      "Improved Val_Loss: 0.0640743225812912 -> 0.06006110885313579\n",
      "Model checkpoint saved for metric 'Val_Loss' at 'Models/checkpoints/v0.01/best_model_Val_Loss.pth'.\n",
      "Metrics log saved at 'Logs/metrics_log_Val_Loss.txt'.\n",
      "Improved Train_CER: 0.01783365504982171 -> 0.017223090561645543\n",
      "Model checkpoint saved for metric 'Train_CER' at 'Models/checkpoints/v0.01/best_model_Train_CER.pth'.\n",
      "Metrics log saved at 'Logs/metrics_log_Train_CER.txt'.\n",
      "Improved Val_CER: 0.01546245488510803 -> 0.015346563969305262\n",
      "Model checkpoint saved for metric 'Val_CER' at 'Models/checkpoints/v0.01/best_model_Val_CER.pth'.\n",
      "Metrics log saved at 'Logs/metrics_log_Val_CER.txt'.\n",
      "Improved Train_character_accuracy: 0.9283480460384759 -> 0.9301378219482699\n",
      "Model checkpoint saved for metric 'Train_character_accuracy' at 'Models/checkpoints/v0.01/best_model_Train_character_accuracy.pth'.\n",
      "Metrics log saved at 'Logs/metrics_log_Train_character_accuracy.txt'.\n",
      "Improved Train_word_accuracy: 0.8890153728366208 -> 0.8919468901738763\n",
      "Model checkpoint saved for metric 'Train_word_accuracy' at 'Models/checkpoints/v0.01/best_model_Train_word_accuracy.pth'.\n",
      "Metrics log saved at 'Logs/metrics_log_Train_word_accuracy.txt'.\n",
      "Improved Val_word_accuracy: 0.9212575290142501 -> 0.9244894961069487\n",
      "Model checkpoint saved for metric 'Val_word_accuracy' at 'Models/checkpoints/v0.01/best_model_Val_word_accuracy.pth'.\n",
      "Metrics log saved at 'Logs/metrics_log_Val_word_accuracy.txt'.\n"
     ]
    },
    {
     "name": "stderr",
     "output_type": "stream",
     "text": [
      "                                                                                                                                  \r"
     ]
    },
    {
     "name": "stdout",
     "output_type": "stream",
     "text": [
      "Epoch:  [70/150]\n",
      "Train_Loss: 0.058777506686747076, Train_character_accuracy: 0.9296702986147164, Train_word_accuracy: 0.891745411319082, Train_CER: 0.017133524667574587\n",
      "Val_Loss: 0.0630844065121242, Val_character_accuracy: 0.9447263166125374, Val_word_accuracy: 0.9277214631996474, Val_CER: 0.014268323942189076\n",
      "Improved Train_Loss: 0.058782930076122286 -> 0.058777506686747076\n",
      "Model checkpoint saved for metric 'Train_Loss' at 'Models/checkpoints/v0.01/best_model_Train_Loss.pth'.\n",
      "Metrics log saved at 'Logs/metrics_log_Train_Loss.txt'.\n",
      "Improved Train_CER: 0.017223090561645543 -> 0.017133524667574587\n",
      "Model checkpoint saved for metric 'Train_CER' at 'Models/checkpoints/v0.01/best_model_Train_CER.pth'.\n",
      "Metrics log saved at 'Logs/metrics_log_Train_CER.txt'.\n",
      "Improved Val_CER: 0.015346563969305262 -> 0.014268323942189076\n",
      "Model checkpoint saved for metric 'Val_CER' at 'Models/checkpoints/v0.01/best_model_Val_CER.pth'.\n",
      "Metrics log saved at 'Logs/metrics_log_Val_CER.txt'.\n",
      "Improved Val_word_accuracy: 0.9244894961069487 -> 0.9277214631996474\n",
      "Model checkpoint saved for metric 'Val_word_accuracy' at 'Models/checkpoints/v0.01/best_model_Val_word_accuracy.pth'.\n",
      "Metrics log saved at 'Logs/metrics_log_Val_word_accuracy.txt'.\n"
     ]
    },
    {
     "name": "stderr",
     "output_type": "stream",
     "text": [
      "                                                                                                                                  \r"
     ]
    },
    {
     "name": "stdout",
     "output_type": "stream",
     "text": [
      "Epoch:  [71/150]\n",
      "Train_Loss: 0.05709331400692463, Train_character_accuracy: 0.9326341177180291, Train_word_accuracy: 0.8950597384804465, Train_CER: 0.016730837704282787\n",
      "Val_Loss: 0.06676121801137924, Val_character_accuracy: 0.945653807420359, Val_word_accuracy: 0.9219920669898634, Val_CER: 0.015841821042349907\n",
      "Improved Train_Loss: 0.058777506686747076 -> 0.05709331400692463\n",
      "Model checkpoint saved for metric 'Train_Loss' at 'Models/checkpoints/v0.01/best_model_Train_Loss.pth'.\n",
      "Metrics log saved at 'Logs/metrics_log_Train_Loss.txt'.\n",
      "Improved Train_CER: 0.017133524667574587 -> 0.016730837704282787\n",
      "Model checkpoint saved for metric 'Train_CER' at 'Models/checkpoints/v0.01/best_model_Train_CER.pth'.\n",
      "Metrics log saved at 'Logs/metrics_log_Train_CER.txt'.\n",
      "Improved Train_character_accuracy: 0.9301378219482699 -> 0.9326341177180291\n",
      "Model checkpoint saved for metric 'Train_character_accuracy' at 'Models/checkpoints/v0.01/best_model_Train_character_accuracy.pth'.\n",
      "Metrics log saved at 'Logs/metrics_log_Train_character_accuracy.txt'.\n",
      "Improved Train_word_accuracy: 0.8919468901738763 -> 0.8950597384804465\n",
      "Model checkpoint saved for metric 'Train_word_accuracy' at 'Models/checkpoints/v0.01/best_model_Train_word_accuracy.pth'.\n",
      "Metrics log saved at 'Logs/metrics_log_Train_word_accuracy.txt'.\n",
      "Improved Val_character_accuracy: 0.945358356167104 -> 0.945653807420359\n",
      "Model checkpoint saved for metric 'Val_character_accuracy' at 'Models/checkpoints/v0.01/best_model_Val_character_accuracy.pth'.\n",
      "Metrics log saved at 'Logs/metrics_log_Val_character_accuracy.txt'.\n"
     ]
    },
    {
     "name": "stderr",
     "output_type": "stream",
     "text": [
      "                                                                                                                                  \r"
     ]
    },
    {
     "name": "stdout",
     "output_type": "stream",
     "text": [
      "Epoch:  [72/150]\n",
      "Train_Loss: 0.05935004811733961, Train_character_accuracy: 0.930443888508158, Train_word_accuracy: 0.891644671891685, Train_CER: 0.01729780356827886\n",
      "Val_Loss: 0.06686146557331085, Val_character_accuracy: 0.944937058382308, Val_word_accuracy: 0.9221389745849861, Val_CER: 0.015366649412484574\n"
     ]
    },
    {
     "name": "stderr",
     "output_type": "stream",
     "text": [
      "                                                                                                                                  \r"
     ]
    },
    {
     "name": "stdout",
     "output_type": "stream",
     "text": [
      "Epoch:  [73/150]\n",
      "Train_Loss: 0.05444860614836216, Train_character_accuracy: 0.9350556731187608, Train_word_accuracy: 0.898575544496605, Train_CER: 0.01587941225077806\n",
      "Val_Loss: 0.06323143147996493, Val_character_accuracy: 0.947420715641784, Val_word_accuracy: 0.9275745556045247, Val_CER: 0.014095748284818356\n",
      "Improved Train_Loss: 0.05709331400692463 -> 0.05444860614836216\n",
      "Model checkpoint saved for metric 'Train_Loss' at 'Models/checkpoints/v0.01/best_model_Train_Loss.pth'.\n",
      "Metrics log saved at 'Logs/metrics_log_Train_Loss.txt'.\n",
      "Improved Train_CER: 0.016730837704282787 -> 0.01587941225077806\n",
      "Model checkpoint saved for metric 'Train_CER' at 'Models/checkpoints/v0.01/best_model_Train_CER.pth'.\n",
      "Metrics log saved at 'Logs/metrics_log_Train_CER.txt'.\n",
      "Improved Val_CER: 0.014268323942189076 -> 0.014095748284818356\n",
      "Model checkpoint saved for metric 'Val_CER' at 'Models/checkpoints/v0.01/best_model_Val_CER.pth'.\n",
      "Metrics log saved at 'Logs/metrics_log_Val_CER.txt'.\n",
      "Improved Train_character_accuracy: 0.9326341177180291 -> 0.9350556731187608\n",
      "Model checkpoint saved for metric 'Train_character_accuracy' at 'Models/checkpoints/v0.01/best_model_Train_character_accuracy.pth'.\n",
      "Metrics log saved at 'Logs/metrics_log_Train_character_accuracy.txt'.\n",
      "Improved Train_word_accuracy: 0.8950597384804465 -> 0.898575544496605\n",
      "Model checkpoint saved for metric 'Train_word_accuracy' at 'Models/checkpoints/v0.01/best_model_Train_word_accuracy.pth'.\n",
      "Metrics log saved at 'Logs/metrics_log_Train_word_accuracy.txt'.\n",
      "Improved Val_character_accuracy: 0.945653807420359 -> 0.947420715641784\n",
      "Model checkpoint saved for metric 'Val_character_accuracy' at 'Models/checkpoints/v0.01/best_model_Val_character_accuracy.pth'.\n",
      "Metrics log saved at 'Logs/metrics_log_Val_character_accuracy.txt'.\n"
     ]
    },
    {
     "name": "stderr",
     "output_type": "stream",
     "text": [
      "                                                                                                                                  \r"
     ]
    },
    {
     "name": "stdout",
     "output_type": "stream",
     "text": [
      "Epoch:  [74/150]\n",
      "Train_Loss: 0.05579693496227264, Train_character_accuracy: 0.9329415066295926, Train_word_accuracy: 0.8955332137892128, Train_CER: 0.016553985748120687\n",
      "Val_Loss: 0.060602002910205295, Val_character_accuracy: 0.9475712515025428, Val_word_accuracy: 0.9296312619362421, Val_CER: 0.013644462388402445\n",
      "Improved Val_CER: 0.014095748284818356 -> 0.013644462388402445\n",
      "Model checkpoint saved for metric 'Val_CER' at 'Models/checkpoints/v0.01/best_model_Val_CER.pth'.\n",
      "Metrics log saved at 'Logs/metrics_log_Val_CER.txt'.\n",
      "Improved Val_character_accuracy: 0.947420715641784 -> 0.9475712515025428\n",
      "Model checkpoint saved for metric 'Val_character_accuracy' at 'Models/checkpoints/v0.01/best_model_Val_character_accuracy.pth'.\n",
      "Metrics log saved at 'Logs/metrics_log_Val_character_accuracy.txt'.\n",
      "Improved Val_word_accuracy: 0.9277214631996474 -> 0.9296312619362421\n",
      "Model checkpoint saved for metric 'Val_word_accuracy' at 'Models/checkpoints/v0.01/best_model_Val_word_accuracy.pth'.\n",
      "Metrics log saved at 'Logs/metrics_log_Val_word_accuracy.txt'.\n"
     ]
    },
    {
     "name": "stderr",
     "output_type": "stream",
     "text": [
      "                                                                                                                                  \r"
     ]
    },
    {
     "name": "stdout",
     "output_type": "stream",
     "text": [
      "Epoch:  [75/150]\n",
      "Train_Loss: 0.05321411527693272, Train_character_accuracy: 0.9362127672230637, Train_word_accuracy: 0.9005298893881087, Train_CER: 0.015571795228727096\n",
      "Val_Loss: 0.06243273402963366, Val_character_accuracy: 0.9501163240801304, Val_word_accuracy: 0.9268400176289114, Val_CER: 0.014626380426292274\n",
      "Improved Train_Loss: 0.05444860614836216 -> 0.05321411527693272\n",
      "Model checkpoint saved for metric 'Train_Loss' at 'Models/checkpoints/v0.01/best_model_Train_Loss.pth'.\n",
      "Metrics log saved at 'Logs/metrics_log_Train_Loss.txt'.\n",
      "Improved Train_CER: 0.01587941225077806 -> 0.015571795228727096\n",
      "Model checkpoint saved for metric 'Train_CER' at 'Models/checkpoints/v0.01/best_model_Train_CER.pth'.\n",
      "Metrics log saved at 'Logs/metrics_log_Train_CER.txt'.\n",
      "Improved Train_character_accuracy: 0.9350556731187608 -> 0.9362127672230637\n",
      "Model checkpoint saved for metric 'Train_character_accuracy' at 'Models/checkpoints/v0.01/best_model_Train_character_accuracy.pth'.\n",
      "Metrics log saved at 'Logs/metrics_log_Train_character_accuracy.txt'.\n",
      "Improved Train_word_accuracy: 0.898575544496605 -> 0.9005298893881087\n",
      "Model checkpoint saved for metric 'Train_word_accuracy' at 'Models/checkpoints/v0.01/best_model_Train_word_accuracy.pth'.\n",
      "Metrics log saved at 'Logs/metrics_log_Train_word_accuracy.txt'.\n",
      "Improved Val_character_accuracy: 0.9475712515025428 -> 0.9501163240801304\n",
      "Model checkpoint saved for metric 'Val_character_accuracy' at 'Models/checkpoints/v0.01/best_model_Val_character_accuracy.pth'.\n",
      "Metrics log saved at 'Logs/metrics_log_Val_character_accuracy.txt'.\n"
     ]
    },
    {
     "name": "stderr",
     "output_type": "stream",
     "text": [
      "                                                                                                                                  \r"
     ]
    },
    {
     "name": "stdout",
     "output_type": "stream",
     "text": [
      "Epoch:  [76/150]\n",
      "Train_Loss: 0.05735532209277153, Train_character_accuracy: 0.9342002620207072, Train_word_accuracy: 0.8961678721818145, Train_CER: 0.01676826468270668\n",
      "Val_Loss: 0.07513159726347242, Val_character_accuracy: 0.9365466368993202, Val_word_accuracy: 0.9125899809020126, Val_CER: 0.01829948531138482\n"
     ]
    },
    {
     "name": "stderr",
     "output_type": "stream",
     "text": [
      "                                                                                                                                  \r"
     ]
    },
    {
     "name": "stdout",
     "output_type": "stream",
     "text": [
      "Epoch:  [77/150]\n",
      "Train_Loss: 0.05269605182111263, Train_character_accuracy: 0.9363159092884152, Train_word_accuracy: 0.901597727318518, Train_CER: 0.015445551052909047\n",
      "Val_Loss: 0.06045093014836311, Val_character_accuracy: 0.9507739965945949, Val_word_accuracy: 0.9322755986484501, Val_CER: 0.013551231345413802\n",
      "Improved Train_Loss: 0.05321411527693272 -> 0.05269605182111263\n",
      "Model checkpoint saved for metric 'Train_Loss' at 'Models/checkpoints/v0.01/best_model_Train_Loss.pth'.\n",
      "Metrics log saved at 'Logs/metrics_log_Train_Loss.txt'.\n",
      "Improved Train_CER: 0.015571795228727096 -> 0.015445551052909047\n",
      "Model checkpoint saved for metric 'Train_CER' at 'Models/checkpoints/v0.01/best_model_Train_CER.pth'.\n",
      "Metrics log saved at 'Logs/metrics_log_Train_CER.txt'.\n",
      "Improved Val_CER: 0.013644462388402445 -> 0.013551231345413802\n",
      "Model checkpoint saved for metric 'Val_CER' at 'Models/checkpoints/v0.01/best_model_Val_CER.pth'.\n",
      "Metrics log saved at 'Logs/metrics_log_Val_CER.txt'.\n",
      "Improved Train_character_accuracy: 0.9362127672230637 -> 0.9363159092884152\n",
      "Model checkpoint saved for metric 'Train_character_accuracy' at 'Models/checkpoints/v0.01/best_model_Train_character_accuracy.pth'.\n",
      "Metrics log saved at 'Logs/metrics_log_Train_character_accuracy.txt'.\n",
      "Improved Train_word_accuracy: 0.9005298893881087 -> 0.901597727318518\n",
      "Model checkpoint saved for metric 'Train_word_accuracy' at 'Models/checkpoints/v0.01/best_model_Train_word_accuracy.pth'.\n",
      "Metrics log saved at 'Logs/metrics_log_Train_word_accuracy.txt'.\n",
      "Improved Val_character_accuracy: 0.9501163240801304 -> 0.9507739965945949\n",
      "Model checkpoint saved for metric 'Val_character_accuracy' at 'Models/checkpoints/v0.01/best_model_Val_character_accuracy.pth'.\n",
      "Metrics log saved at 'Logs/metrics_log_Val_character_accuracy.txt'.\n",
      "Improved Val_word_accuracy: 0.9296312619362421 -> 0.9322755986484501\n",
      "Model checkpoint saved for metric 'Val_word_accuracy' at 'Models/checkpoints/v0.01/best_model_Val_word_accuracy.pth'.\n",
      "Metrics log saved at 'Logs/metrics_log_Val_word_accuracy.txt'.\n"
     ]
    },
    {
     "name": "stderr",
     "output_type": "stream",
     "text": [
      "                                                                                                                                  \r"
     ]
    },
    {
     "name": "stdout",
     "output_type": "stream",
     "text": [
      "Epoch:  [78/150]\n",
      "Train_Loss: 0.050374325662851334, Train_character_accuracy: 0.9393749282114262, Train_word_accuracy: 0.9050530896782383, Train_CER: 0.014821906876840082\n",
      "Val_Loss: 0.056767490825482776, Val_character_accuracy: 0.954811232414854, Val_word_accuracy: 0.9316879682679594, Val_CER: 0.013115057738239752\n",
      "Improved Train_Loss: 0.05269605182111263 -> 0.050374325662851334\n",
      "Model checkpoint saved for metric 'Train_Loss' at 'Models/checkpoints/v0.01/best_model_Train_Loss.pth'.\n",
      "Metrics log saved at 'Logs/metrics_log_Train_Loss.txt'.\n",
      "Improved Val_Loss: 0.06006110885313579 -> 0.056767490825482776\n",
      "Model checkpoint saved for metric 'Val_Loss' at 'Models/checkpoints/v0.01/best_model_Val_Loss.pth'.\n",
      "Metrics log saved at 'Logs/metrics_log_Val_Loss.txt'.\n",
      "Improved Train_CER: 0.015445551052909047 -> 0.014821906876840082\n",
      "Model checkpoint saved for metric 'Train_CER' at 'Models/checkpoints/v0.01/best_model_Train_CER.pth'.\n",
      "Metrics log saved at 'Logs/metrics_log_Train_CER.txt'.\n",
      "Improved Val_CER: 0.013551231345413802 -> 0.013115057738239752\n",
      "Model checkpoint saved for metric 'Val_CER' at 'Models/checkpoints/v0.01/best_model_Val_CER.pth'.\n",
      "Metrics log saved at 'Logs/metrics_log_Val_CER.txt'.\n",
      "Improved Train_character_accuracy: 0.9363159092884152 -> 0.9393749282114262\n",
      "Model checkpoint saved for metric 'Train_character_accuracy' at 'Models/checkpoints/v0.01/best_model_Train_character_accuracy.pth'.\n",
      "Metrics log saved at 'Logs/metrics_log_Train_character_accuracy.txt'.\n",
      "Improved Train_word_accuracy: 0.901597727318518 -> 0.9050530896782383\n",
      "Model checkpoint saved for metric 'Train_word_accuracy' at 'Models/checkpoints/v0.01/best_model_Train_word_accuracy.pth'.\n",
      "Metrics log saved at 'Logs/metrics_log_Train_word_accuracy.txt'.\n",
      "Improved Val_character_accuracy: 0.9507739965945949 -> 0.954811232414854\n",
      "Model checkpoint saved for metric 'Val_character_accuracy' at 'Models/checkpoints/v0.01/best_model_Val_character_accuracy.pth'.\n",
      "Metrics log saved at 'Logs/metrics_log_Val_character_accuracy.txt'.\n"
     ]
    },
    {
     "name": "stderr",
     "output_type": "stream",
     "text": [
      "                                                                                                                                  \r"
     ]
    },
    {
     "name": "stdout",
     "output_type": "stream",
     "text": [
      "Epoch:  [79/150]\n",
      "Train_Loss: 0.04899333048611879, Train_character_accuracy: 0.940089625613544, Train_word_accuracy: 0.9068059557149477, Train_CER: 0.014405628533325828\n",
      "Val_Loss: 0.06309493311813899, Val_character_accuracy: 0.9521875464117101, Val_word_accuracy: 0.9313941530777141, Val_CER: 0.01333989452103158\n",
      "Improved Train_Loss: 0.050374325662851334 -> 0.04899333048611879\n",
      "Model checkpoint saved for metric 'Train_Loss' at 'Models/checkpoints/v0.01/best_model_Train_Loss.pth'.\n",
      "Metrics log saved at 'Logs/metrics_log_Train_Loss.txt'.\n",
      "Improved Train_CER: 0.014821906876840082 -> 0.014405628533325828\n",
      "Model checkpoint saved for metric 'Train_CER' at 'Models/checkpoints/v0.01/best_model_Train_CER.pth'.\n",
      "Metrics log saved at 'Logs/metrics_log_Train_CER.txt'.\n",
      "Improved Train_character_accuracy: 0.9393749282114262 -> 0.940089625613544\n",
      "Model checkpoint saved for metric 'Train_character_accuracy' at 'Models/checkpoints/v0.01/best_model_Train_character_accuracy.pth'.\n",
      "Metrics log saved at 'Logs/metrics_log_Train_character_accuracy.txt'.\n",
      "Improved Train_word_accuracy: 0.9050530896782383 -> 0.9068059557149477\n",
      "Model checkpoint saved for metric 'Train_word_accuracy' at 'Models/checkpoints/v0.01/best_model_Train_word_accuracy.pth'.\n",
      "Metrics log saved at 'Logs/metrics_log_Train_word_accuracy.txt'.\n"
     ]
    },
    {
     "name": "stderr",
     "output_type": "stream",
     "text": [
      "                                                                                                                                  \r"
     ]
    },
    {
     "name": "stdout",
     "output_type": "stream",
     "text": [
      "Epoch:  [80/150]\n",
      "Train_Loss: 0.05152656722813845, Train_character_accuracy: 0.9389271311738296, Train_word_accuracy: 0.9034916285535833, Train_CER: 0.015111318397942204\n",
      "Val_Loss: 0.06262222837124552, Val_character_accuracy: 0.9475070134098412, Val_word_accuracy: 0.9284560011752607, Val_CER: 0.013995171862073573\n"
     ]
    },
    {
     "name": "stderr",
     "output_type": "stream",
     "text": [
      "                                                                                                                                  \r"
     ]
    },
    {
     "name": "stdout",
     "output_type": "stream",
     "text": [
      "Epoch:  [81/150]\n",
      "Train_Loss: 0.04854974552989006, Train_character_accuracy: 0.9409608034252779, Train_word_accuracy: 0.9074305401648097, Train_CER: 0.014332958270459523\n",
      "Val_Loss: 0.05560758816344397, Val_character_accuracy: 0.9533178213263404, Val_word_accuracy: 0.9312472454825914, Val_CER: 0.013318356960930778\n",
      "Improved Train_Loss: 0.04899333048611879 -> 0.04854974552989006\n",
      "Model checkpoint saved for metric 'Train_Loss' at 'Models/checkpoints/v0.01/best_model_Train_Loss.pth'.\n",
      "Metrics log saved at 'Logs/metrics_log_Train_Loss.txt'.\n",
      "Improved Val_Loss: 0.056767490825482776 -> 0.05560758816344397\n",
      "Model checkpoint saved for metric 'Val_Loss' at 'Models/checkpoints/v0.01/best_model_Val_Loss.pth'.\n",
      "Metrics log saved at 'Logs/metrics_log_Val_Loss.txt'.\n",
      "Improved Train_CER: 0.014405628533325828 -> 0.014332958270459523\n",
      "Model checkpoint saved for metric 'Train_CER' at 'Models/checkpoints/v0.01/best_model_Train_CER.pth'.\n",
      "Metrics log saved at 'Logs/metrics_log_Train_CER.txt'.\n",
      "Improved Train_character_accuracy: 0.940089625613544 -> 0.9409608034252779\n",
      "Model checkpoint saved for metric 'Train_character_accuracy' at 'Models/checkpoints/v0.01/best_model_Train_character_accuracy.pth'.\n",
      "Metrics log saved at 'Logs/metrics_log_Train_character_accuracy.txt'.\n",
      "Improved Train_word_accuracy: 0.9068059557149477 -> 0.9074305401648097\n",
      "Model checkpoint saved for metric 'Train_word_accuracy' at 'Models/checkpoints/v0.01/best_model_Train_word_accuracy.pth'.\n",
      "Metrics log saved at 'Logs/metrics_log_Train_word_accuracy.txt'.\n"
     ]
    },
    {
     "name": "stderr",
     "output_type": "stream",
     "text": [
      "                                                                                                                                  \r"
     ]
    },
    {
     "name": "stdout",
     "output_type": "stream",
     "text": [
      "Epoch:  [82/150]\n",
      "Train_Loss: 0.048237820342183116, Train_character_accuracy: 0.9425976372198709, Train_word_accuracy: 0.9099389519069974, Train_CER: 0.014164359645440768\n",
      "Val_Loss: 0.05722577816673687, Val_character_accuracy: 0.9495496495128689, Val_word_accuracy: 0.9286029087703834, Val_CER: 0.013540801134454723\n",
      "Improved Train_Loss: 0.04854974552989006 -> 0.048237820342183116\n",
      "Model checkpoint saved for metric 'Train_Loss' at 'Models/checkpoints/v0.01/best_model_Train_Loss.pth'.\n",
      "Metrics log saved at 'Logs/metrics_log_Train_Loss.txt'.\n",
      "Improved Train_CER: 0.014332958270459523 -> 0.014164359645440768\n",
      "Model checkpoint saved for metric 'Train_CER' at 'Models/checkpoints/v0.01/best_model_Train_CER.pth'.\n",
      "Metrics log saved at 'Logs/metrics_log_Train_CER.txt'.\n",
      "Improved Train_character_accuracy: 0.9409608034252779 -> 0.9425976372198709\n",
      "Model checkpoint saved for metric 'Train_character_accuracy' at 'Models/checkpoints/v0.01/best_model_Train_character_accuracy.pth'.\n",
      "Metrics log saved at 'Logs/metrics_log_Train_character_accuracy.txt'.\n",
      "Improved Train_word_accuracy: 0.9074305401648097 -> 0.9099389519069974\n",
      "Model checkpoint saved for metric 'Train_word_accuracy' at 'Models/checkpoints/v0.01/best_model_Train_word_accuracy.pth'.\n",
      "Metrics log saved at 'Logs/metrics_log_Train_word_accuracy.txt'.\n"
     ]
    },
    {
     "name": "stderr",
     "output_type": "stream",
     "text": [
      "                                                                                                                                  \r"
     ]
    },
    {
     "name": "stdout",
     "output_type": "stream",
     "text": [
      "Epoch:  [83/150]\n",
      "Train_Loss: 0.04722791951149702, Train_character_accuracy: 0.9422791038491753, Train_word_accuracy: 0.9109362722382286, Train_CER: 0.013850051234200888\n",
      "Val_Loss: 0.060701772570610046, Val_character_accuracy: 0.9468186050318452, Val_word_accuracy: 0.9271338328191567, Val_CER: 0.014274699885100937\n",
      "Improved Train_Loss: 0.048237820342183116 -> 0.04722791951149702\n",
      "Model checkpoint saved for metric 'Train_Loss' at 'Models/checkpoints/v0.01/best_model_Train_Loss.pth'.\n",
      "Metrics log saved at 'Logs/metrics_log_Train_Loss.txt'.\n",
      "Improved Train_CER: 0.014164359645440768 -> 0.013850051234200888\n",
      "Model checkpoint saved for metric 'Train_CER' at 'Models/checkpoints/v0.01/best_model_Train_CER.pth'.\n",
      "Metrics log saved at 'Logs/metrics_log_Train_CER.txt'.\n",
      "Improved Train_word_accuracy: 0.9099389519069974 -> 0.9109362722382286\n",
      "Model checkpoint saved for metric 'Train_word_accuracy' at 'Models/checkpoints/v0.01/best_model_Train_word_accuracy.pth'.\n",
      "Metrics log saved at 'Logs/metrics_log_Train_word_accuracy.txt'.\n"
     ]
    },
    {
     "name": "stderr",
     "output_type": "stream",
     "text": [
      "                                                                                                                                  \r"
     ]
    },
    {
     "name": "stdout",
     "output_type": "stream",
     "text": [
      "Epoch:  [84/150]\n",
      "Train_Loss: 0.04741683065891266, Train_character_accuracy: 0.9425707506509865, Train_word_accuracy: 0.9103116877883666, Train_CER: 0.013913034035230957\n",
      "Val_Loss: 0.06350911195789065, Val_character_accuracy: 0.9486543756251249, Val_word_accuracy: 0.926105479653298, Val_CER: 0.015103574501987896\n"
     ]
    },
    {
     "name": "stderr",
     "output_type": "stream",
     "text": [
      "                                                                                                                                  \r"
     ]
    },
    {
     "name": "stdout",
     "output_type": "stream",
     "text": [
      "Epoch:  [85/150]\n",
      "Train_Loss: 0.05047181501984596, Train_character_accuracy: 0.9397258314818132, Train_word_accuracy: 0.9052646424757722, Train_CER: 0.014870774444797777\n",
      "Val_Loss: 0.0562098143356187, Val_character_accuracy: 0.9547686855889932, Val_word_accuracy: 0.9324225062435728, Val_CER: 0.01324565123595533\n",
      "Improved Val_word_accuracy: 0.9322755986484501 -> 0.9324225062435728\n",
      "Model checkpoint saved for metric 'Val_word_accuracy' at 'Models/checkpoints/v0.01/best_model_Val_word_accuracy.pth'.\n",
      "Metrics log saved at 'Logs/metrics_log_Val_word_accuracy.txt'.\n"
     ]
    },
    {
     "name": "stderr",
     "output_type": "stream",
     "text": [
      "                                                                                                                                  \r"
     ]
    },
    {
     "name": "stdout",
     "output_type": "stream",
     "text": [
      "Epoch:  [86/150]\n",
      "Train_Loss: 0.048172070495784286, Train_character_accuracy: 0.9416874578449631, Train_word_accuracy: 0.9088308182056293, Train_CER: 0.01419324513032328\n",
      "Val_Loss: 0.05481163039803505, Val_character_accuracy: 0.9551525945802614, Val_word_accuracy: 0.9338915821947995, Val_CER: 0.01233758406521738\n",
      "Improved Val_Loss: 0.05560758816344397 -> 0.05481163039803505\n",
      "Model checkpoint saved for metric 'Val_Loss' at 'Models/checkpoints/v0.01/best_model_Val_Loss.pth'.\n",
      "Metrics log saved at 'Logs/metrics_log_Val_Loss.txt'.\n",
      "Improved Val_CER: 0.013115057738239752 -> 0.01233758406521738\n",
      "Model checkpoint saved for metric 'Val_CER' at 'Models/checkpoints/v0.01/best_model_Val_CER.pth'.\n",
      "Metrics log saved at 'Logs/metrics_log_Val_CER.txt'.\n",
      "Improved Val_character_accuracy: 0.954811232414854 -> 0.9551525945802614\n",
      "Model checkpoint saved for metric 'Val_character_accuracy' at 'Models/checkpoints/v0.01/best_model_Val_character_accuracy.pth'.\n",
      "Metrics log saved at 'Logs/metrics_log_Val_character_accuracy.txt'.\n",
      "Improved Val_word_accuracy: 0.9324225062435728 -> 0.9338915821947995\n",
      "Model checkpoint saved for metric 'Val_word_accuracy' at 'Models/checkpoints/v0.01/best_model_Val_word_accuracy.pth'.\n",
      "Metrics log saved at 'Logs/metrics_log_Val_word_accuracy.txt'.\n"
     ]
    },
    {
     "name": "stderr",
     "output_type": "stream",
     "text": [
      "                                                                                                                                  \r"
     ]
    },
    {
     "name": "stdout",
     "output_type": "stream",
     "text": [
      "Epoch:  [87/150]\n",
      "Train_Loss: 0.05228818915784359, Train_character_accuracy: 0.9373176916232169, Train_word_accuracy: 0.9027058610198859, Train_CER: 0.015355892794794325\n",
      "Val_Loss: 0.06076540531856673, Val_character_accuracy: 0.9498102961094275, Val_word_accuracy: 0.926105479653298, Val_CER: 0.014350912786346896\n"
     ]
    },
    {
     "name": "stderr",
     "output_type": "stream",
     "text": [
      "                                                                                                                                  \r"
     ]
    },
    {
     "name": "stdout",
     "output_type": "stream",
     "text": [
      "Epoch:  [88/150]\n",
      "Train_Loss: 0.045712091997265815, Train_character_accuracy: 0.9431916729814745, Train_word_accuracy: 0.9118328531420627, Train_CER: 0.013607077161818958\n",
      "Val_Loss: 0.052977584302425385, Val_character_accuracy: 0.9574385287710693, Val_word_accuracy: 0.9358013809313942, Val_CER: 0.011771533642401865\n",
      "Improved Train_Loss: 0.04722791951149702 -> 0.045712091997265815\n",
      "Model checkpoint saved for metric 'Train_Loss' at 'Models/checkpoints/v0.01/best_model_Train_Loss.pth'.\n",
      "Metrics log saved at 'Logs/metrics_log_Train_Loss.txt'.\n",
      "Improved Val_Loss: 0.05481163039803505 -> 0.052977584302425385\n",
      "Model checkpoint saved for metric 'Val_Loss' at 'Models/checkpoints/v0.01/best_model_Val_Loss.pth'.\n",
      "Metrics log saved at 'Logs/metrics_log_Val_Loss.txt'.\n",
      "Improved Train_CER: 0.013850051234200888 -> 0.013607077161818958\n",
      "Model checkpoint saved for metric 'Train_CER' at 'Models/checkpoints/v0.01/best_model_Train_CER.pth'.\n",
      "Metrics log saved at 'Logs/metrics_log_Train_CER.txt'.\n",
      "Improved Val_CER: 0.01233758406521738 -> 0.011771533642401865\n",
      "Model checkpoint saved for metric 'Val_CER' at 'Models/checkpoints/v0.01/best_model_Val_CER.pth'.\n",
      "Metrics log saved at 'Logs/metrics_log_Val_CER.txt'.\n",
      "Improved Train_character_accuracy: 0.9425976372198709 -> 0.9431916729814745\n",
      "Model checkpoint saved for metric 'Train_character_accuracy' at 'Models/checkpoints/v0.01/best_model_Train_character_accuracy.pth'.\n",
      "Metrics log saved at 'Logs/metrics_log_Train_character_accuracy.txt'.\n",
      "Improved Train_word_accuracy: 0.9109362722382286 -> 0.9118328531420627\n",
      "Model checkpoint saved for metric 'Train_word_accuracy' at 'Models/checkpoints/v0.01/best_model_Train_word_accuracy.pth'.\n",
      "Metrics log saved at 'Logs/metrics_log_Train_word_accuracy.txt'.\n",
      "Improved Val_character_accuracy: 0.9551525945802614 -> 0.9574385287710693\n",
      "Model checkpoint saved for metric 'Val_character_accuracy' at 'Models/checkpoints/v0.01/best_model_Val_character_accuracy.pth'.\n",
      "Metrics log saved at 'Logs/metrics_log_Val_character_accuracy.txt'.\n",
      "Improved Val_word_accuracy: 0.9338915821947995 -> 0.9358013809313942\n",
      "Model checkpoint saved for metric 'Val_word_accuracy' at 'Models/checkpoints/v0.01/best_model_Val_word_accuracy.pth'.\n",
      "Metrics log saved at 'Logs/metrics_log_Val_word_accuracy.txt'.\n"
     ]
    },
    {
     "name": "stderr",
     "output_type": "stream",
     "text": [
      "                                                                                                                                  \r"
     ]
    },
    {
     "name": "stdout",
     "output_type": "stream",
     "text": [
      "Epoch:  [89/150]\n",
      "Train_Loss: 0.044937195889651775, Train_character_accuracy: 0.9440286705866373, Train_word_accuracy: 0.9130115044426087, Train_CER: 0.013284377208832717\n",
      "Val_Loss: 0.05504092946648598, Val_character_accuracy: 0.9548136388734352, Val_word_accuracy: 0.9312472454825914, Val_CER: 0.013034932845422042\n",
      "Improved Train_Loss: 0.045712091997265815 -> 0.044937195889651775\n",
      "Model checkpoint saved for metric 'Train_Loss' at 'Models/checkpoints/v0.01/best_model_Train_Loss.pth'.\n",
      "Metrics log saved at 'Logs/metrics_log_Train_Loss.txt'.\n",
      "Improved Train_CER: 0.013607077161818958 -> 0.013284377208832717\n",
      "Model checkpoint saved for metric 'Train_CER' at 'Models/checkpoints/v0.01/best_model_Train_CER.pth'.\n",
      "Metrics log saved at 'Logs/metrics_log_Train_CER.txt'.\n",
      "Improved Train_character_accuracy: 0.9431916729814745 -> 0.9440286705866373\n",
      "Model checkpoint saved for metric 'Train_character_accuracy' at 'Models/checkpoints/v0.01/best_model_Train_character_accuracy.pth'.\n",
      "Metrics log saved at 'Logs/metrics_log_Train_character_accuracy.txt'.\n",
      "Improved Train_word_accuracy: 0.9118328531420627 -> 0.9130115044426087\n",
      "Model checkpoint saved for metric 'Train_word_accuracy' at 'Models/checkpoints/v0.01/best_model_Train_word_accuracy.pth'.\n",
      "Metrics log saved at 'Logs/metrics_log_Train_word_accuracy.txt'.\n"
     ]
    },
    {
     "name": "stderr",
     "output_type": "stream",
     "text": [
      "                                                                                                                                  \r"
     ]
    },
    {
     "name": "stdout",
     "output_type": "stream",
     "text": [
      "Epoch:  [90/150]\n",
      "Train_Loss: 0.042937787249684334, Train_character_accuracy: 0.9472517177895665, Train_word_accuracy: 0.9173533737634235, Train_CER: 0.01253261568953749\n",
      "Val_Loss: 0.05373233716402735, Val_character_accuracy: 0.9533991807987422, Val_word_accuracy: 0.9341853973850448, Val_CER: 0.012291612456883498\n",
      "Improved Train_Loss: 0.044937195889651775 -> 0.042937787249684334\n",
      "Model checkpoint saved for metric 'Train_Loss' at 'Models/checkpoints/v0.01/best_model_Train_Loss.pth'.\n",
      "Metrics log saved at 'Logs/metrics_log_Train_Loss.txt'.\n",
      "Improved Train_CER: 0.013284377208832717 -> 0.01253261568953749\n",
      "Model checkpoint saved for metric 'Train_CER' at 'Models/checkpoints/v0.01/best_model_Train_CER.pth'.\n",
      "Metrics log saved at 'Logs/metrics_log_Train_CER.txt'.\n",
      "Improved Train_character_accuracy: 0.9440286705866373 -> 0.9472517177895665\n",
      "Model checkpoint saved for metric 'Train_character_accuracy' at 'Models/checkpoints/v0.01/best_model_Train_character_accuracy.pth'.\n",
      "Metrics log saved at 'Logs/metrics_log_Train_character_accuracy.txt'.\n",
      "Improved Train_word_accuracy: 0.9130115044426087 -> 0.9173533737634235\n",
      "Model checkpoint saved for metric 'Train_word_accuracy' at 'Models/checkpoints/v0.01/best_model_Train_word_accuracy.pth'.\n",
      "Metrics log saved at 'Logs/metrics_log_Train_word_accuracy.txt'.\n"
     ]
    },
    {
     "name": "stderr",
     "output_type": "stream",
     "text": [
      "                                                                                                                                  \r"
     ]
    },
    {
     "name": "stdout",
     "output_type": "stream",
     "text": [
      "Epoch:  [91/150]\n",
      "Train_Loss: 0.03992677327245474, Train_character_accuracy: 0.9481708366584224, Train_word_accuracy: 0.9200834122458847, Train_CER: 0.012077755845007466\n",
      "Val_Loss: 0.051810308758701594, Val_character_accuracy: 0.9582647724902651, Val_word_accuracy: 0.9363890113118848, Val_CER: 0.012245740319781744\n",
      "Improved Train_Loss: 0.042937787249684334 -> 0.03992677327245474\n",
      "Model checkpoint saved for metric 'Train_Loss' at 'Models/checkpoints/v0.01/best_model_Train_Loss.pth'.\n",
      "Metrics log saved at 'Logs/metrics_log_Train_Loss.txt'.\n",
      "Improved Val_Loss: 0.052977584302425385 -> 0.051810308758701594\n",
      "Model checkpoint saved for metric 'Val_Loss' at 'Models/checkpoints/v0.01/best_model_Val_Loss.pth'.\n",
      "Metrics log saved at 'Logs/metrics_log_Val_Loss.txt'.\n",
      "Improved Train_CER: 0.01253261568953749 -> 0.012077755845007466\n",
      "Model checkpoint saved for metric 'Train_CER' at 'Models/checkpoints/v0.01/best_model_Train_CER.pth'.\n",
      "Metrics log saved at 'Logs/metrics_log_Train_CER.txt'.\n",
      "Improved Train_character_accuracy: 0.9472517177895665 -> 0.9481708366584224\n",
      "Model checkpoint saved for metric 'Train_character_accuracy' at 'Models/checkpoints/v0.01/best_model_Train_character_accuracy.pth'.\n",
      "Metrics log saved at 'Logs/metrics_log_Train_character_accuracy.txt'.\n",
      "Improved Train_word_accuracy: 0.9173533737634235 -> 0.9200834122458847\n",
      "Model checkpoint saved for metric 'Train_word_accuracy' at 'Models/checkpoints/v0.01/best_model_Train_word_accuracy.pth'.\n",
      "Metrics log saved at 'Logs/metrics_log_Train_word_accuracy.txt'.\n",
      "Improved Val_character_accuracy: 0.9574385287710693 -> 0.9582647724902651\n",
      "Model checkpoint saved for metric 'Val_character_accuracy' at 'Models/checkpoints/v0.01/best_model_Val_character_accuracy.pth'.\n",
      "Metrics log saved at 'Logs/metrics_log_Val_character_accuracy.txt'.\n",
      "Improved Val_word_accuracy: 0.9358013809313942 -> 0.9363890113118848\n",
      "Model checkpoint saved for metric 'Val_word_accuracy' at 'Models/checkpoints/v0.01/best_model_Val_word_accuracy.pth'.\n",
      "Metrics log saved at 'Logs/metrics_log_Val_word_accuracy.txt'.\n"
     ]
    },
    {
     "name": "stderr",
     "output_type": "stream",
     "text": [
      "                                                                                                                                  \r"
     ]
    },
    {
     "name": "stdout",
     "output_type": "stream",
     "text": [
      "Epoch:  [92/150]\n",
      "Train_Loss: 0.042534490637481215, Train_character_accuracy: 0.9471872504955996, Train_word_accuracy: 0.9171921906795881, Train_CER: 0.012629323918435999\n",
      "Val_Loss: 0.0594942569732666, Val_character_accuracy: 0.9545720909867865, Val_word_accuracy: 0.9325694138386955, Val_CER: 0.013454258716488768\n"
     ]
    },
    {
     "name": "stderr",
     "output_type": "stream",
     "text": [
      "                                                                                                                                  \r"
     ]
    },
    {
     "name": "stdout",
     "output_type": "stream",
     "text": [
      "Epoch:  [93/150]\n",
      "Train_Loss: 0.04281744357198477, Train_character_accuracy: 0.9473788599330621, Train_word_accuracy: 0.9178369230149296, Train_CER: 0.012609767537436626\n",
      "Val_Loss: 0.056297714688948224, Val_character_accuracy: 0.9555917291872789, Val_word_accuracy: 0.9327163214338181, Val_CER: 0.012938899078167476\n"
     ]
    },
    {
     "name": "stderr",
     "output_type": "stream",
     "text": [
      "                                                                                                                                  \r"
     ]
    },
    {
     "name": "stdout",
     "output_type": "stream",
     "text": [
      "Epoch:  [94/150]\n",
      "Train_Loss: 0.042335809785872695, Train_character_accuracy: 0.9475272364572134, Train_word_accuracy: 0.9185723208349283, Train_CER: 0.012465403515460936\n",
      "Val_Loss: 0.052401909072484286, Val_character_accuracy: 0.9571167727411808, Val_word_accuracy: 0.9372704568826208, Val_CER: 0.01210753115777355\n",
      "Improved Val_word_accuracy: 0.9363890113118848 -> 0.9372704568826208\n",
      "Model checkpoint saved for metric 'Val_word_accuracy' at 'Models/checkpoints/v0.01/best_model_Val_word_accuracy.pth'.\n",
      "Metrics log saved at 'Logs/metrics_log_Val_word_accuracy.txt'.\n"
     ]
    },
    {
     "name": "stderr",
     "output_type": "stream",
     "text": [
      "                                                                                                                                  \r"
     ]
    },
    {
     "name": "stdout",
     "output_type": "stream",
     "text": [
      "Epoch:  [95/150]\n",
      "Train_Loss: 0.042628621440380814, Train_character_accuracy: 0.948327877447652, Train_word_accuracy: 0.9181592891826003, Train_CER: 0.012494308373310241\n",
      "Val_Loss: 0.05039292414273534, Val_character_accuracy: 0.9571805666445146, Val_word_accuracy: 0.9374173644777435, Val_CER: 0.011753763759052429\n",
      "Improved Val_Loss: 0.051810308758701594 -> 0.05039292414273534\n",
      "Model checkpoint saved for metric 'Val_Loss' at 'Models/checkpoints/v0.01/best_model_Val_Loss.pth'.\n",
      "Metrics log saved at 'Logs/metrics_log_Val_Loss.txt'.\n",
      "Improved Val_CER: 0.011771533642401865 -> 0.011753763759052429\n",
      "Model checkpoint saved for metric 'Val_CER' at 'Models/checkpoints/v0.01/best_model_Val_CER.pth'.\n",
      "Metrics log saved at 'Logs/metrics_log_Val_CER.txt'.\n",
      "Improved Train_character_accuracy: 0.9481708366584224 -> 0.948327877447652\n",
      "Model checkpoint saved for metric 'Train_character_accuracy' at 'Models/checkpoints/v0.01/best_model_Train_character_accuracy.pth'.\n",
      "Metrics log saved at 'Logs/metrics_log_Train_character_accuracy.txt'.\n",
      "Improved Val_word_accuracy: 0.9372704568826208 -> 0.9374173644777435\n",
      "Model checkpoint saved for metric 'Val_word_accuracy' at 'Models/checkpoints/v0.01/best_model_Val_word_accuracy.pth'.\n",
      "Metrics log saved at 'Logs/metrics_log_Val_word_accuracy.txt'.\n"
     ]
    },
    {
     "name": "stderr",
     "output_type": "stream",
     "text": [
      "                                                                                                                                  \r"
     ]
    },
    {
     "name": "stdout",
     "output_type": "stream",
     "text": [
      "Epoch:  [96/150]\n",
      "Train_Loss: 0.04309868568554521, Train_character_accuracy: 0.9479122344825424, Train_word_accuracy: 0.9186831342050652, Train_CER: 0.012747740521096953\n",
      "Val_Loss: 0.05504392247114863, Val_character_accuracy: 0.9548902201338031, Val_word_accuracy: 0.9331570442191861, Val_CER: 0.012838698118557083\n"
     ]
    },
    {
     "name": "stderr",
     "output_type": "stream",
     "text": [
      "                                                                                                                                  \r"
     ]
    },
    {
     "name": "stdout",
     "output_type": "stream",
     "text": [
      "Epoch:  [97/150]\n",
      "Train_Loss: 0.04409145910292864, Train_character_accuracy: 0.9471646741601638, Train_word_accuracy: 0.9157113210968509, Train_CER: 0.013049812904999973\n",
      "Val_Loss: 0.05523530180965151, Val_character_accuracy: 0.9587237021245788, Val_word_accuracy: 0.9377111796679888, Val_CER: 0.012473689655267439\n",
      "Improved Val_character_accuracy: 0.9582647724902651 -> 0.9587237021245788\n",
      "Model checkpoint saved for metric 'Val_character_accuracy' at 'Models/checkpoints/v0.01/best_model_Val_character_accuracy.pth'.\n",
      "Metrics log saved at 'Logs/metrics_log_Val_character_accuracy.txt'.\n",
      "Improved Val_word_accuracy: 0.9374173644777435 -> 0.9377111796679888\n",
      "Model checkpoint saved for metric 'Val_word_accuracy' at 'Models/checkpoints/v0.01/best_model_Val_word_accuracy.pth'.\n",
      "Metrics log saved at 'Logs/metrics_log_Val_word_accuracy.txt'.\n"
     ]
    },
    {
     "name": "stderr",
     "output_type": "stream",
     "text": [
      "                                                                                                                                  \r"
     ]
    },
    {
     "name": "stdout",
     "output_type": "stream",
     "text": [
      "Epoch:  [98/150]\n",
      "Train_Loss: 0.04548263218253851, Train_character_accuracy: 0.9458231060354773, Train_word_accuracy: 0.9148348880784961, Train_CER: 0.013331231050540779\n",
      "Val_Loss: 0.05371166233505521, Val_character_accuracy: 0.9554702506502408, Val_word_accuracy: 0.9338915821947995, Val_CER: 0.012861569163904988\n"
     ]
    },
    {
     "name": "stderr",
     "output_type": "stream",
     "text": [
      "                                                                                                                                  \r"
     ]
    },
    {
     "name": "stdout",
     "output_type": "stream",
     "text": [
      "Epoch:  [99/150]\n",
      "Train_Loss: 0.04309544567018747, Train_character_accuracy: 0.9475294368970518, Train_word_accuracy: 0.9170007857675337, Train_CER: 0.012783370454174148\n",
      "Val_Loss: 0.055076261184045246, Val_character_accuracy: 0.9574345434810638, Val_word_accuracy: 0.9356544733362715, Val_CER: 0.011839604578696688\n"
     ]
    },
    {
     "name": "stderr",
     "output_type": "stream",
     "text": [
      "                                                                                                                                  \r"
     ]
    },
    {
     "name": "stdout",
     "output_type": "stream",
     "text": [
      "Epoch:  [100/150]\n",
      "Train_Loss: 0.04081698581576347, Train_character_accuracy: 0.9500817056783205, Train_word_accuracy: 0.9215542078858824, Train_CER: 0.01209319319220997\n",
      "Val_Loss: 0.057604787072965076, Val_character_accuracy: 0.9550525482117692, Val_word_accuracy: 0.9331570442191861, Val_CER: 0.013145853053301265\n",
      "Improved Train_character_accuracy: 0.948327877447652 -> 0.9500817056783205\n",
      "Model checkpoint saved for metric 'Train_character_accuracy' at 'Models/checkpoints/v0.01/best_model_Train_character_accuracy.pth'.\n",
      "Metrics log saved at 'Logs/metrics_log_Train_character_accuracy.txt'.\n",
      "Improved Train_word_accuracy: 0.9200834122458847 -> 0.9215542078858824\n",
      "Model checkpoint saved for metric 'Train_word_accuracy' at 'Models/checkpoints/v0.01/best_model_Train_word_accuracy.pth'.\n",
      "Metrics log saved at 'Logs/metrics_log_Train_word_accuracy.txt'.\n"
     ]
    },
    {
     "name": "stderr",
     "output_type": "stream",
     "text": [
      "                                                                                                                                  \r"
     ]
    },
    {
     "name": "stdout",
     "output_type": "stream",
     "text": [
      "Epoch:  [101/150]\n",
      "Train_Loss: 0.04329957636073232, Train_character_accuracy: 0.9481569205041566, Train_word_accuracy: 0.9188644651743799, Train_CER: 0.01278744448006833\n",
      "Val_Loss: 0.054690959198134284, Val_character_accuracy: 0.9599667701625512, Val_word_accuracy: 0.9396209784045835, Val_CER: 0.011907265807662454\n",
      "Improved Val_character_accuracy: 0.9587237021245788 -> 0.9599667701625512\n",
      "Model checkpoint saved for metric 'Val_character_accuracy' at 'Models/checkpoints/v0.01/best_model_Val_character_accuracy.pth'.\n",
      "Metrics log saved at 'Logs/metrics_log_Val_character_accuracy.txt'.\n",
      "Improved Val_word_accuracy: 0.9377111796679888 -> 0.9396209784045835\n",
      "Model checkpoint saved for metric 'Val_word_accuracy' at 'Models/checkpoints/v0.01/best_model_Val_word_accuracy.pth'.\n",
      "Metrics log saved at 'Logs/metrics_log_Val_word_accuracy.txt'.\n"
     ]
    },
    {
     "name": "stderr",
     "output_type": "stream",
     "text": [
      "                                                                                                                                  \r"
     ]
    },
    {
     "name": "stdout",
     "output_type": "stream",
     "text": [
      "Epoch:  [102/150]\n",
      "Train_Loss: 0.03865188492462039, Train_character_accuracy: 0.951657822618005, Train_word_accuracy: 0.9250599399593012, Train_CER: 0.011448919602013307\n",
      "Val_Loss: 0.056118189224175045, Val_character_accuracy: 0.9562976094554833, Val_word_accuracy: 0.9391802556192155, Val_CER: 0.01193717485035246\n",
      "Improved Train_Loss: 0.03992677327245474 -> 0.03865188492462039\n",
      "Model checkpoint saved for metric 'Train_Loss' at 'Models/checkpoints/v0.01/best_model_Train_Loss.pth'.\n",
      "Metrics log saved at 'Logs/metrics_log_Train_Loss.txt'.\n",
      "Improved Train_CER: 0.012077755845007466 -> 0.011448919602013307\n",
      "Model checkpoint saved for metric 'Train_CER' at 'Models/checkpoints/v0.01/best_model_Train_CER.pth'.\n",
      "Metrics log saved at 'Logs/metrics_log_Train_CER.txt'.\n",
      "Improved Train_character_accuracy: 0.9500817056783205 -> 0.951657822618005\n",
      "Model checkpoint saved for metric 'Train_character_accuracy' at 'Models/checkpoints/v0.01/best_model_Train_character_accuracy.pth'.\n",
      "Metrics log saved at 'Logs/metrics_log_Train_character_accuracy.txt'.\n",
      "Improved Train_word_accuracy: 0.9215542078858824 -> 0.9250599399593012\n",
      "Model checkpoint saved for metric 'Train_word_accuracy' at 'Models/checkpoints/v0.01/best_model_Train_word_accuracy.pth'.\n",
      "Metrics log saved at 'Logs/metrics_log_Train_word_accuracy.txt'.\n"
     ]
    },
    {
     "name": "stderr",
     "output_type": "stream",
     "text": [
      "                                                                                                                                 \r"
     ]
    },
    {
     "name": "stdout",
     "output_type": "stream",
     "text": [
      "Epoch:  [103/150]\n",
      "Train_Loss: 0.2983501423150301, Train_character_accuracy: 0.8223032022321676, Train_word_accuracy: 0.7186247053371748, Train_CER: 0.0729071287233196\n",
      "Val_Loss: 0.06358781935913223, Val_character_accuracy: 0.9446876063609799, Val_word_accuracy: 0.9209637138240047, Val_CER: 0.01555277435621199\n"
     ]
    },
    {
     "name": "stderr",
     "output_type": "stream",
     "text": [
      "                                                                                                                                  \r"
     ]
    },
    {
     "name": "stdout",
     "output_type": "stream",
     "text": [
      "Epoch:  [104/150]\n",
      "Train_Loss: 0.05573235347867012, Train_character_accuracy: 0.9370571225065221, Train_word_accuracy: 0.8999053049382467, Train_CER: 0.016159419748009995\n",
      "Val_Loss: 0.05567720904946327, Val_character_accuracy: 0.9553630929461839, Val_word_accuracy: 0.9355075657411488, Val_CER: 0.012750094933876332\n"
     ]
    },
    {
     "name": "stderr",
     "output_type": "stream",
     "text": [
      "                                                                                                                                  \r"
     ]
    },
    {
     "name": "stdout",
     "output_type": "stream",
     "text": [
      "Epoch:  [105/150]\n",
      "Train_Loss: 0.04486877268180251, Train_character_accuracy: 0.9465763155118627, Train_word_accuracy: 0.9161042048636996, Train_CER: 0.013179325353433302\n",
      "Val_Loss: 0.050825661314385276, Val_character_accuracy: 0.960810472149664, Val_word_accuracy: 0.9427060379021596, Val_CER: 0.011142625961929617\n",
      "Improved Val_CER: 0.011753763759052429 -> 0.011142625961929617\n",
      "Model checkpoint saved for metric 'Val_CER' at 'Models/checkpoints/v0.01/best_model_Val_CER.pth'.\n",
      "Metrics log saved at 'Logs/metrics_log_Val_CER.txt'.\n",
      "Improved Val_character_accuracy: 0.9599667701625512 -> 0.960810472149664\n",
      "Model checkpoint saved for metric 'Val_character_accuracy' at 'Models/checkpoints/v0.01/best_model_Val_character_accuracy.pth'.\n",
      "Metrics log saved at 'Logs/metrics_log_Val_character_accuracy.txt'.\n",
      "Improved Val_word_accuracy: 0.9396209784045835 -> 0.9427060379021596\n",
      "Model checkpoint saved for metric 'Val_word_accuracy' at 'Models/checkpoints/v0.01/best_model_Val_word_accuracy.pth'.\n",
      "Metrics log saved at 'Logs/metrics_log_Val_word_accuracy.txt'.\n"
     ]
    },
    {
     "name": "stderr",
     "output_type": "stream",
     "text": [
      "                                                                                                                                  \r"
     ]
    },
    {
     "name": "stdout",
     "output_type": "stream",
     "text": [
      "Epoch:  [106/150]\n",
      "Train_Loss: 0.03963003629818559, Train_character_accuracy: 0.9507866000263352, Train_word_accuracy: 0.9238107710595773, Train_CER: 0.011713122364553867\n",
      "Val_Loss: 0.04873357713222504, Val_character_accuracy: 0.9583993032266954, Val_word_accuracy: 0.9413838695460556, Val_CER: 0.011219896356520416\n",
      "Improved Val_Loss: 0.05039292414273534 -> 0.04873357713222504\n",
      "Model checkpoint saved for metric 'Val_Loss' at 'Models/checkpoints/v0.01/best_model_Val_Loss.pth'.\n",
      "Metrics log saved at 'Logs/metrics_log_Val_Loss.txt'.\n"
     ]
    },
    {
     "name": "stderr",
     "output_type": "stream",
     "text": [
      "                                                                                                                                  \r"
     ]
    },
    {
     "name": "stdout",
     "output_type": "stream",
     "text": [
      "Epoch:  [107/150]\n",
      "Train_Loss: 0.036467285547405484, Train_character_accuracy: 0.9556487369919736, Train_word_accuracy: 0.9306106824088812, Train_CER: 0.010668367310117754\n",
      "Val_Loss: 0.04945448174008301, Val_character_accuracy: 0.965046370055085, Val_word_accuracy: 0.947407080946085, Val_CER: 0.010317169649474628\n",
      "Improved Train_Loss: 0.03865188492462039 -> 0.036467285547405484\n",
      "Model checkpoint saved for metric 'Train_Loss' at 'Models/checkpoints/v0.01/best_model_Train_Loss.pth'.\n",
      "Metrics log saved at 'Logs/metrics_log_Train_Loss.txt'.\n",
      "Improved Train_CER: 0.011448919602013307 -> 0.010668367310117754\n",
      "Model checkpoint saved for metric 'Train_CER' at 'Models/checkpoints/v0.01/best_model_Train_CER.pth'.\n",
      "Metrics log saved at 'Logs/metrics_log_Train_CER.txt'.\n",
      "Improved Val_CER: 0.011142625961929617 -> 0.010317169649474628\n",
      "Model checkpoint saved for metric 'Val_CER' at 'Models/checkpoints/v0.01/best_model_Val_CER.pth'.\n",
      "Metrics log saved at 'Logs/metrics_log_Val_CER.txt'.\n",
      "Improved Train_character_accuracy: 0.951657822618005 -> 0.9556487369919736\n",
      "Model checkpoint saved for metric 'Train_character_accuracy' at 'Models/checkpoints/v0.01/best_model_Train_character_accuracy.pth'.\n",
      "Metrics log saved at 'Logs/metrics_log_Train_character_accuracy.txt'.\n",
      "Improved Train_word_accuracy: 0.9250599399593012 -> 0.9306106824088812\n",
      "Model checkpoint saved for metric 'Train_word_accuracy' at 'Models/checkpoints/v0.01/best_model_Train_word_accuracy.pth'.\n",
      "Metrics log saved at 'Logs/metrics_log_Train_word_accuracy.txt'.\n",
      "Improved Val_character_accuracy: 0.960810472149664 -> 0.965046370055085\n",
      "Model checkpoint saved for metric 'Val_character_accuracy' at 'Models/checkpoints/v0.01/best_model_Val_character_accuracy.pth'.\n",
      "Metrics log saved at 'Logs/metrics_log_Val_character_accuracy.txt'.\n",
      "Improved Val_word_accuracy: 0.9427060379021596 -> 0.947407080946085\n",
      "Model checkpoint saved for metric 'Val_word_accuracy' at 'Models/checkpoints/v0.01/best_model_Val_word_accuracy.pth'.\n",
      "Metrics log saved at 'Logs/metrics_log_Val_word_accuracy.txt'.\n"
     ]
    },
    {
     "name": "stderr",
     "output_type": "stream",
     "text": [
      "                                                                                                                                  \r"
     ]
    },
    {
     "name": "stdout",
     "output_type": "stream",
     "text": [
      "Epoch:  [108/150]\n",
      "Train_Loss: 0.035721930637955666, Train_character_accuracy: 0.9559014925895155, Train_word_accuracy: 0.9312554147442226, Train_CER: 0.010475406718077923\n",
      "Val_Loss: 0.04982251248189381, Val_character_accuracy: 0.9621551655192251, Val_word_accuracy: 0.9437343910680183, Val_CER: 0.0109652014896616\n",
      "Improved Train_Loss: 0.036467285547405484 -> 0.035721930637955666\n",
      "Model checkpoint saved for metric 'Train_Loss' at 'Models/checkpoints/v0.01/best_model_Train_Loss.pth'.\n",
      "Metrics log saved at 'Logs/metrics_log_Train_Loss.txt'.\n",
      "Improved Train_CER: 0.010668367310117754 -> 0.010475406718077923\n",
      "Model checkpoint saved for metric 'Train_CER' at 'Models/checkpoints/v0.01/best_model_Train_CER.pth'.\n",
      "Metrics log saved at 'Logs/metrics_log_Train_CER.txt'.\n",
      "Improved Train_character_accuracy: 0.9556487369919736 -> 0.9559014925895155\n",
      "Model checkpoint saved for metric 'Train_character_accuracy' at 'Models/checkpoints/v0.01/best_model_Train_character_accuracy.pth'.\n",
      "Metrics log saved at 'Logs/metrics_log_Train_character_accuracy.txt'.\n",
      "Improved Train_word_accuracy: 0.9306106824088812 -> 0.9312554147442226\n",
      "Model checkpoint saved for metric 'Train_word_accuracy' at 'Models/checkpoints/v0.01/best_model_Train_word_accuracy.pth'.\n",
      "Metrics log saved at 'Logs/metrics_log_Train_word_accuracy.txt'.\n"
     ]
    },
    {
     "name": "stderr",
     "output_type": "stream",
     "text": [
      "                                                                                                                                   \r"
     ]
    },
    {
     "name": "stdout",
     "output_type": "stream",
     "text": [
      "Epoch:  [109/150]\n",
      "Train_Loss: 0.03317061590030789, Train_character_accuracy: 0.9573959397312589, Train_word_accuracy: 0.9343481151653134, Train_CER: 0.00989156375718743\n",
      "Val_Loss: 0.04882634484342167, Val_character_accuracy: 0.9638056132222926, Val_word_accuracy: 0.9444689290436316, Val_CER: 0.010867762895087707\n",
      "Improved Train_Loss: 0.035721930637955666 -> 0.03317061590030789\n",
      "Model checkpoint saved for metric 'Train_Loss' at 'Models/checkpoints/v0.01/best_model_Train_Loss.pth'.\n",
      "Metrics log saved at 'Logs/metrics_log_Train_Loss.txt'.\n",
      "Improved Train_CER: 0.010475406718077923 -> 0.00989156375718743\n",
      "Model checkpoint saved for metric 'Train_CER' at 'Models/checkpoints/v0.01/best_model_Train_CER.pth'.\n",
      "Metrics log saved at 'Logs/metrics_log_Train_CER.txt'.\n",
      "Improved Train_character_accuracy: 0.9559014925895155 -> 0.9573959397312589\n",
      "Model checkpoint saved for metric 'Train_character_accuracy' at 'Models/checkpoints/v0.01/best_model_Train_character_accuracy.pth'.\n",
      "Metrics log saved at 'Logs/metrics_log_Train_character_accuracy.txt'.\n",
      "Improved Train_word_accuracy: 0.9312554147442226 -> 0.9343481151653134\n",
      "Model checkpoint saved for metric 'Train_word_accuracy' at 'Models/checkpoints/v0.01/best_model_Train_word_accuracy.pth'.\n",
      "Metrics log saved at 'Logs/metrics_log_Train_word_accuracy.txt'.\n"
     ]
    },
    {
     "name": "stderr",
     "output_type": "stream",
     "text": [
      "                                                                                                                                   \r"
     ]
    },
    {
     "name": "stdout",
     "output_type": "stream",
     "text": [
      "Epoch:  [110/150]\n",
      "Train_Loss: 0.03190355418249965, Train_character_accuracy: 0.9589503870729335, Train_word_accuracy: 0.9365643825680495, Train_CER: 0.009494813811498274\n",
      "Val_Loss: 0.04890204008136477, Val_character_accuracy: 0.9608620070611257, Val_word_accuracy: 0.9419714999265462, Val_CER: 0.010964366991251077\n",
      "Improved Train_Loss: 0.03317061590030789 -> 0.03190355418249965\n",
      "Model checkpoint saved for metric 'Train_Loss' at 'Models/checkpoints/v0.01/best_model_Train_Loss.pth'.\n",
      "Metrics log saved at 'Logs/metrics_log_Train_Loss.txt'.\n",
      "Improved Train_CER: 0.00989156375718743 -> 0.009494813811498274\n",
      "Model checkpoint saved for metric 'Train_CER' at 'Models/checkpoints/v0.01/best_model_Train_CER.pth'.\n",
      "Metrics log saved at 'Logs/metrics_log_Train_CER.txt'.\n",
      "Improved Train_character_accuracy: 0.9573959397312589 -> 0.9589503870729335\n",
      "Model checkpoint saved for metric 'Train_character_accuracy' at 'Models/checkpoints/v0.01/best_model_Train_character_accuracy.pth'.\n",
      "Metrics log saved at 'Logs/metrics_log_Train_character_accuracy.txt'.\n",
      "Improved Train_word_accuracy: 0.9343481151653134 -> 0.9365643825680495\n",
      "Model checkpoint saved for metric 'Train_word_accuracy' at 'Models/checkpoints/v0.01/best_model_Train_word_accuracy.pth'.\n",
      "Metrics log saved at 'Logs/metrics_log_Train_word_accuracy.txt'.\n"
     ]
    },
    {
     "name": "stderr",
     "output_type": "stream",
     "text": [
      "                                                                                                                                   \r"
     ]
    },
    {
     "name": "stdout",
     "output_type": "stream",
     "text": [
      "Epoch:  [111/150]\n",
      "Train_Loss: 0.030831554289907217, Train_character_accuracy: 0.961128987480592, Train_word_accuracy: 0.9399492273285919, Train_CER: 0.009003904426052992\n",
      "Val_Loss: 0.048860853271824975, Val_character_accuracy: 0.9613553364736429, Val_word_accuracy: 0.9444689290436316, Val_CER: 0.011009231370624052\n",
      "Improved Train_Loss: 0.03190355418249965 -> 0.030831554289907217\n",
      "Model checkpoint saved for metric 'Train_Loss' at 'Models/checkpoints/v0.01/best_model_Train_Loss.pth'.\n",
      "Metrics log saved at 'Logs/metrics_log_Train_Loss.txt'.\n",
      "Improved Train_CER: 0.009494813811498274 -> 0.009003904426052992\n",
      "Model checkpoint saved for metric 'Train_CER' at 'Models/checkpoints/v0.01/best_model_Train_CER.pth'.\n",
      "Metrics log saved at 'Logs/metrics_log_Train_CER.txt'.\n",
      "Improved Train_character_accuracy: 0.9589503870729335 -> 0.961128987480592\n",
      "Model checkpoint saved for metric 'Train_character_accuracy' at 'Models/checkpoints/v0.01/best_model_Train_character_accuracy.pth'.\n",
      "Metrics log saved at 'Logs/metrics_log_Train_character_accuracy.txt'.\n",
      "Improved Train_word_accuracy: 0.9365643825680495 -> 0.9399492273285919\n",
      "Model checkpoint saved for metric 'Train_word_accuracy' at 'Models/checkpoints/v0.01/best_model_Train_word_accuracy.pth'.\n",
      "Metrics log saved at 'Logs/metrics_log_Train_word_accuracy.txt'.\n"
     ]
    },
    {
     "name": "stderr",
     "output_type": "stream",
     "text": [
      "                                                                                                                                   \r"
     ]
    },
    {
     "name": "stdout",
     "output_type": "stream",
     "text": [
      "Epoch:  [112/150]\n",
      "Train_Loss: 0.02923190750181675, Train_character_accuracy: 0.9612703931258427, Train_word_accuracy: 0.9397376745310579, Train_CER: 0.008789978426107611\n",
      "Val_Loss: 0.048577937962753434, Val_character_accuracy: 0.9606623710404696, Val_word_accuracy: 0.9443220214485089, Val_CER: 0.010577138937650174\n",
      "Improved Train_Loss: 0.030831554289907217 -> 0.02923190750181675\n",
      "Model checkpoint saved for metric 'Train_Loss' at 'Models/checkpoints/v0.01/best_model_Train_Loss.pth'.\n",
      "Metrics log saved at 'Logs/metrics_log_Train_Loss.txt'.\n",
      "Improved Val_Loss: 0.04873357713222504 -> 0.048577937962753434\n",
      "Model checkpoint saved for metric 'Val_Loss' at 'Models/checkpoints/v0.01/best_model_Val_Loss.pth'.\n",
      "Metrics log saved at 'Logs/metrics_log_Val_Loss.txt'.\n",
      "Improved Train_CER: 0.009003904426052992 -> 0.008789978426107611\n",
      "Model checkpoint saved for metric 'Train_CER' at 'Models/checkpoints/v0.01/best_model_Train_CER.pth'.\n",
      "Metrics log saved at 'Logs/metrics_log_Train_CER.txt'.\n",
      "Improved Train_character_accuracy: 0.961128987480592 -> 0.9612703931258427\n",
      "Model checkpoint saved for metric 'Train_character_accuracy' at 'Models/checkpoints/v0.01/best_model_Train_character_accuracy.pth'.\n",
      "Metrics log saved at 'Logs/metrics_log_Train_character_accuracy.txt'.\n"
     ]
    },
    {
     "name": "stderr",
     "output_type": "stream",
     "text": [
      "                                                                                                                                   \r"
     ]
    },
    {
     "name": "stdout",
     "output_type": "stream",
     "text": [
      "Epoch:  [113/150]\n",
      "Train_Loss: 0.02918452464044094, Train_character_accuracy: 0.961130329784302, Train_word_accuracy: 0.9405838857211936, Train_CER: 0.00868745067539216\n",
      "Val_Loss: 0.04474221808569772, Val_character_accuracy: 0.9653162096260336, Val_word_accuracy: 0.9493168796826796, Val_CER: 0.010026304759667475\n",
      "Improved Train_Loss: 0.02923190750181675 -> 0.02918452464044094\n",
      "Model checkpoint saved for metric 'Train_Loss' at 'Models/checkpoints/v0.01/best_model_Train_Loss.pth'.\n",
      "Metrics log saved at 'Logs/metrics_log_Train_Loss.txt'.\n",
      "Improved Val_Loss: 0.048577937962753434 -> 0.04474221808569772\n",
      "Model checkpoint saved for metric 'Val_Loss' at 'Models/checkpoints/v0.01/best_model_Val_Loss.pth'.\n",
      "Metrics log saved at 'Logs/metrics_log_Val_Loss.txt'.\n",
      "Improved Train_CER: 0.008789978426107611 -> 0.00868745067539216\n",
      "Model checkpoint saved for metric 'Train_CER' at 'Models/checkpoints/v0.01/best_model_Train_CER.pth'.\n",
      "Metrics log saved at 'Logs/metrics_log_Train_CER.txt'.\n",
      "Improved Val_CER: 0.010317169649474628 -> 0.010026304759667475\n",
      "Model checkpoint saved for metric 'Val_CER' at 'Models/checkpoints/v0.01/best_model_Val_CER.pth'.\n",
      "Metrics log saved at 'Logs/metrics_log_Val_CER.txt'.\n",
      "Improved Train_word_accuracy: 0.9399492273285919 -> 0.9405838857211936\n",
      "Model checkpoint saved for metric 'Train_word_accuracy' at 'Models/checkpoints/v0.01/best_model_Train_word_accuracy.pth'.\n",
      "Metrics log saved at 'Logs/metrics_log_Train_word_accuracy.txt'.\n",
      "Improved Val_character_accuracy: 0.965046370055085 -> 0.9653162096260336\n",
      "Model checkpoint saved for metric 'Val_character_accuracy' at 'Models/checkpoints/v0.01/best_model_Val_character_accuracy.pth'.\n",
      "Metrics log saved at 'Logs/metrics_log_Val_character_accuracy.txt'.\n",
      "Improved Val_word_accuracy: 0.947407080946085 -> 0.9493168796826796\n",
      "Model checkpoint saved for metric 'Val_word_accuracy' at 'Models/checkpoints/v0.01/best_model_Val_word_accuracy.pth'.\n",
      "Metrics log saved at 'Logs/metrics_log_Val_word_accuracy.txt'.\n"
     ]
    },
    {
     "name": "stderr",
     "output_type": "stream",
     "text": [
      "                                                                                                                                   \r"
     ]
    },
    {
     "name": "stdout",
     "output_type": "stream",
     "text": [
      "Epoch:  [114/150]\n",
      "Train_Loss: 0.02974937152117491, Train_character_accuracy: 0.9612171745429313, Train_word_accuracy: 0.9399391533858521, Train_CER: 0.008853879556083735\n",
      "Val_Loss: 0.04863988554903439, Val_character_accuracy: 0.9615515381306673, Val_word_accuracy: 0.9453503746143676, Val_CER: 0.010601005102988352\n"
     ]
    },
    {
     "name": "stderr",
     "output_type": "stream",
     "text": [
      "                                                                                                                                   \r"
     ]
    },
    {
     "name": "stdout",
     "output_type": "stream",
     "text": [
      "Epoch:  [115/150]\n",
      "Train_Loss: 0.030412306450307368, Train_character_accuracy: 0.9616205838392754, Train_word_accuracy: 0.9393447907642093, Train_CER: 0.009072685195426112\n",
      "Val_Loss: 0.047392378960336955, Val_character_accuracy: 0.9637503575199918, Val_word_accuracy: 0.9468194505655942, Val_CER: 0.009889336949715971\n",
      "Improved Val_CER: 0.010026304759667475 -> 0.009889336949715971\n",
      "Model checkpoint saved for metric 'Val_CER' at 'Models/checkpoints/v0.01/best_model_Val_CER.pth'.\n",
      "Metrics log saved at 'Logs/metrics_log_Val_CER.txt'.\n",
      "Improved Train_character_accuracy: 0.9612703931258427 -> 0.9616205838392754\n",
      "Model checkpoint saved for metric 'Train_character_accuracy' at 'Models/checkpoints/v0.01/best_model_Train_character_accuracy.pth'.\n",
      "Metrics log saved at 'Logs/metrics_log_Train_character_accuracy.txt'.\n"
     ]
    },
    {
     "name": "stderr",
     "output_type": "stream",
     "text": [
      "                                                                                                                                   \r"
     ]
    },
    {
     "name": "stdout",
     "output_type": "stream",
     "text": [
      "Epoch:  [116/150]\n",
      "Train_Loss: 0.02996200168505311, Train_character_accuracy: 0.9612149005618038, Train_word_accuracy: 0.940049966755989, Train_CER: 0.00898970929696455\n",
      "Val_Loss: 0.04804691565888269, Val_character_accuracy: 0.9670249490184507, Val_word_accuracy: 0.9479947113265755, Val_CER: 0.010148697180429218\n",
      "Improved Val_character_accuracy: 0.9653162096260336 -> 0.9670249490184507\n",
      "Model checkpoint saved for metric 'Val_character_accuracy' at 'Models/checkpoints/v0.01/best_model_Val_character_accuracy.pth'.\n",
      "Metrics log saved at 'Logs/metrics_log_Val_character_accuracy.txt'.\n"
     ]
    },
    {
     "name": "stderr",
     "output_type": "stream",
     "text": [
      "                                                                                                                                   \r"
     ]
    },
    {
     "name": "stdout",
     "output_type": "stream",
     "text": [
      "Epoch:  [117/150]\n",
      "Train_Loss: 0.028761752247810364, Train_character_accuracy: 0.9622482519705147, Train_word_accuracy: 0.9421352729031088, Train_CER: 0.00863249479618629\n",
      "Val_Loss: 0.048749321805579324, Val_character_accuracy: 0.9632668015663512, Val_word_accuracy: 0.9447627442338768, Val_CER: 0.010449867126817324\n",
      "Improved Train_Loss: 0.02918452464044094 -> 0.028761752247810364\n",
      "Model checkpoint saved for metric 'Train_Loss' at 'Models/checkpoints/v0.01/best_model_Train_Loss.pth'.\n",
      "Metrics log saved at 'Logs/metrics_log_Train_Loss.txt'.\n",
      "Improved Train_CER: 0.00868745067539216 -> 0.00863249479618629\n",
      "Model checkpoint saved for metric 'Train_CER' at 'Models/checkpoints/v0.01/best_model_Train_CER.pth'.\n",
      "Metrics log saved at 'Logs/metrics_log_Train_CER.txt'.\n",
      "Improved Train_character_accuracy: 0.9616205838392754 -> 0.9622482519705147\n",
      "Model checkpoint saved for metric 'Train_character_accuracy' at 'Models/checkpoints/v0.01/best_model_Train_character_accuracy.pth'.\n",
      "Metrics log saved at 'Logs/metrics_log_Train_character_accuracy.txt'.\n",
      "Improved Train_word_accuracy: 0.9405838857211936 -> 0.9421352729031088\n",
      "Model checkpoint saved for metric 'Train_word_accuracy' at 'Models/checkpoints/v0.01/best_model_Train_word_accuracy.pth'.\n",
      "Metrics log saved at 'Logs/metrics_log_Train_word_accuracy.txt'.\n"
     ]
    },
    {
     "name": "stderr",
     "output_type": "stream",
     "text": [
      "                                                                                                                                   \r"
     ]
    },
    {
     "name": "stdout",
     "output_type": "stream",
     "text": [
      "Epoch:  [118/150]\n",
      "Train_Loss: 0.028586253318935634, Train_character_accuracy: 0.9614338773390186, Train_word_accuracy: 0.940745068805029, Train_CER: 0.008589215196966087\n",
      "Val_Loss: 0.044463950608457835, Val_character_accuracy: 0.9678463730412911, Val_word_accuracy: 0.9485823417070662, Val_CER: 0.009762984840111327\n",
      "Improved Train_Loss: 0.028761752247810364 -> 0.028586253318935634\n",
      "Model checkpoint saved for metric 'Train_Loss' at 'Models/checkpoints/v0.01/best_model_Train_Loss.pth'.\n",
      "Metrics log saved at 'Logs/metrics_log_Train_Loss.txt'.\n",
      "Improved Val_Loss: 0.04474221808569772 -> 0.044463950608457835\n",
      "Model checkpoint saved for metric 'Val_Loss' at 'Models/checkpoints/v0.01/best_model_Val_Loss.pth'.\n",
      "Metrics log saved at 'Logs/metrics_log_Val_Loss.txt'.\n",
      "Improved Train_CER: 0.00863249479618629 -> 0.008589215196966087\n",
      "Model checkpoint saved for metric 'Train_CER' at 'Models/checkpoints/v0.01/best_model_Train_CER.pth'.\n",
      "Metrics log saved at 'Logs/metrics_log_Train_CER.txt'.\n",
      "Improved Val_CER: 0.009889336949715971 -> 0.009762984840111327\n",
      "Model checkpoint saved for metric 'Val_CER' at 'Models/checkpoints/v0.01/best_model_Val_CER.pth'.\n",
      "Metrics log saved at 'Logs/metrics_log_Val_CER.txt'.\n",
      "Improved Val_character_accuracy: 0.9670249490184507 -> 0.9678463730412911\n",
      "Model checkpoint saved for metric 'Val_character_accuracy' at 'Models/checkpoints/v0.01/best_model_Val_character_accuracy.pth'.\n",
      "Metrics log saved at 'Logs/metrics_log_Val_character_accuracy.txt'.\n"
     ]
    },
    {
     "name": "stderr",
     "output_type": "stream",
     "text": [
      "                                                                                                                                   \r"
     ]
    },
    {
     "name": "stdout",
     "output_type": "stream",
     "text": [
      "Epoch:  [119/150]\n",
      "Train_Loss: 0.029162343610078096, Train_character_accuracy: 0.9620924992987503, Train_word_accuracy: 0.9407249209195495, Train_CER: 0.008684166803764654\n",
      "Val_Loss: 0.05226842314004898, Val_character_accuracy: 0.9643036666581083, Val_word_accuracy: 0.9434405758777729, Val_CER: 0.010735094769911867\n"
     ]
    },
    {
     "name": "stderr",
     "output_type": "stream",
     "text": [
      "                                                                                                                                   \r"
     ]
    },
    {
     "name": "stdout",
     "output_type": "stream",
     "text": [
      "Epoch:  [120/150]\n",
      "Train_Loss: 0.028822166305035354, Train_character_accuracy: 0.9611627027891788, Train_word_accuracy: 0.9402816674390023, Train_CER: 0.00875532849118971\n",
      "Val_Loss: 0.049697167107037137, Val_character_accuracy: 0.9661491167041143, Val_word_accuracy: 0.946525635375349, Val_CER: 0.010524110986869908\n"
     ]
    },
    {
     "name": "stderr",
     "output_type": "stream",
     "text": [
      "                                                                                                                                   \r"
     ]
    },
    {
     "name": "stdout",
     "output_type": "stream",
     "text": [
      "Epoch:  [121/150]\n",
      "Train_Loss: 0.027780136708170176, Train_character_accuracy: 0.9633136217454917, Train_word_accuracy: 0.9436362903713256, Train_CER: 0.008354442542885716\n",
      "Val_Loss: 0.05472763095583234, Val_character_accuracy: 0.9606447041179806, Val_word_accuracy: 0.9424122227119142, Val_CER: 0.011321856407797348\n",
      "Improved Train_Loss: 0.028586253318935634 -> 0.027780136708170176\n",
      "Model checkpoint saved for metric 'Train_Loss' at 'Models/checkpoints/v0.01/best_model_Train_Loss.pth'.\n",
      "Metrics log saved at 'Logs/metrics_log_Train_Loss.txt'.\n",
      "Improved Train_CER: 0.008589215196966087 -> 0.008354442542885716\n",
      "Model checkpoint saved for metric 'Train_CER' at 'Models/checkpoints/v0.01/best_model_Train_CER.pth'.\n",
      "Metrics log saved at 'Logs/metrics_log_Train_CER.txt'.\n",
      "Improved Train_character_accuracy: 0.9622482519705147 -> 0.9633136217454917\n",
      "Model checkpoint saved for metric 'Train_character_accuracy' at 'Models/checkpoints/v0.01/best_model_Train_character_accuracy.pth'.\n",
      "Metrics log saved at 'Logs/metrics_log_Train_character_accuracy.txt'.\n",
      "Improved Train_word_accuracy: 0.9421352729031088 -> 0.9436362903713256\n",
      "Model checkpoint saved for metric 'Train_word_accuracy' at 'Models/checkpoints/v0.01/best_model_Train_word_accuracy.pth'.\n",
      "Metrics log saved at 'Logs/metrics_log_Train_word_accuracy.txt'.\n"
     ]
    },
    {
     "name": "stderr",
     "output_type": "stream",
     "text": [
      "                                                                                                                                   \r"
     ]
    },
    {
     "name": "stdout",
     "output_type": "stream",
     "text": [
      "Epoch:  [122/150]\n",
      "Train_Loss: 0.02990492457523942, Train_character_accuracy: 0.9614999880987528, Train_word_accuracy: 0.939838413958455, Train_CER: 0.008930187072501662\n",
      "Val_Loss: 0.04860367758997849, Val_character_accuracy: 0.9645043208613445, Val_word_accuracy: 0.9450565594241223, Val_CER: 0.010565522409947264\n"
     ]
    },
    {
     "name": "stderr",
     "output_type": "stream",
     "text": [
      "                                                                                                                                   \r"
     ]
    },
    {
     "name": "stdout",
     "output_type": "stream",
     "text": [
      "Epoch:  [123/150]\n",
      "Train_Loss: 0.02854635113850236, Train_character_accuracy: 0.9632849604340453, Train_word_accuracy: 0.9413898011403703, Train_CER: 0.008689240843754978\n",
      "Val_Loss: 0.05574821467910494, Val_character_accuracy: 0.9601570197713605, Val_word_accuracy: 0.9387395328338475, Val_CER: 0.012207214377774092\n"
     ]
    },
    {
     "name": "stderr",
     "output_type": "stream",
     "text": [
      "                                                                                                                                   \r"
     ]
    },
    {
     "name": "stdout",
     "output_type": "stream",
     "text": [
      "Epoch:  [124/150]\n",
      "Train_Loss: 0.02981684148311615, Train_character_accuracy: 0.9611780549086025, Train_word_accuracy: 0.9404126286946185, Train_CER: 0.008805796411572808\n",
      "Val_Loss: 0.053788598094667704, Val_character_accuracy: 0.9571232206769994, Val_word_accuracy: 0.9397678859997062, Val_CER: 0.011655651695316741\n"
     ]
    },
    {
     "name": "stderr",
     "output_type": "stream",
     "text": [
      "                                                                                                                                   \r"
     ]
    },
    {
     "name": "stdout",
     "output_type": "stream",
     "text": [
      "Epoch:  [125/150]\n",
      "Train_Loss: 0.03067248925566673, Train_character_accuracy: 0.9612497504012323, Train_word_accuracy: 0.9388813893981827, Train_CER: 0.009122304535134709\n",
      "Val_Loss: 0.049411299505404065, Val_character_accuracy: 0.9632113411761667, Val_word_accuracy: 0.9425591303070369, Val_CER: 0.010797879462489418\n"
     ]
    },
    {
     "name": "stderr",
     "output_type": "stream",
     "text": [
      "                                                                                                                                   \r"
     ]
    },
    {
     "name": "stdout",
     "output_type": "stream",
     "text": [
      "Epoch:  [126/150]\n",
      "Train_Loss: 0.031242174189537765, Train_character_accuracy: 0.9608466330242403, Train_word_accuracy: 0.9389116112264018, Train_CER: 0.009199916917312598\n",
      "Val_Loss: 0.049830617649214606, Val_character_accuracy: 0.9623753064478666, Val_word_accuracy: 0.9424122227119142, Val_CER: 0.010910758927506389\n"
     ]
    },
    {
     "name": "stderr",
     "output_type": "stream",
     "text": [
      "                                                                                                                                   \r"
     ]
    },
    {
     "name": "stdout",
     "output_type": "stream",
     "text": [
      "Epoch:  [127/150]\n",
      "Train_Loss: 0.03317647593095899, Train_character_accuracy: 0.9590991971320599, Train_word_accuracy: 0.935295065782846, Train_CER: 0.009888512193430291\n",
      "Val_Loss: 0.051252970205886025, Val_character_accuracy: 0.9634021981368291, Val_word_accuracy: 0.9435874834728956, Val_CER: 0.011194716274046371\n"
     ]
    },
    {
     "name": "stderr",
     "output_type": "stream",
     "text": [
      "                                                                                                                                   \r"
     ]
    },
    {
     "name": "stdout",
     "output_type": "stream",
     "text": [
      "Epoch:  [128/150]\n",
      "Train_Loss: 0.03293775755912066, Train_character_accuracy: 0.9586788494458882, Train_word_accuracy: 0.9345898897910664, Train_CER: 0.009792264526765765\n",
      "Val_Loss: 0.05159775859543255, Val_character_accuracy: 0.9625075419823816, Val_word_accuracy: 0.9431467606875276, Val_CER: 0.01122377573457344\n"
     ]
    },
    {
     "name": "stderr",
     "output_type": "stream",
     "text": [
      "                                                                                                                                   \r"
     ]
    },
    {
     "name": "stdout",
     "output_type": "stream",
     "text": [
      "Epoch:  [129/150]\n",
      "Train_Loss: 0.03343462212011218, Train_character_accuracy: 0.9584218973861232, Train_word_accuracy: 0.9347409989321621, Train_CER: 0.009929080695506255\n",
      "Val_Loss: 0.05327062521662031, Val_character_accuracy: 0.960622651294396, Val_word_accuracy: 0.9406493315704422, Val_CER: 0.011561454884504684\n"
     ]
    },
    {
     "name": "stderr",
     "output_type": "stream",
     "text": [
      "                                                                                                                                   \r"
     ]
    },
    {
     "name": "stdout",
     "output_type": "stream",
     "text": [
      "Epoch:  [130/150]\n",
      "Train_Loss: 0.030821180325001477, Train_character_accuracy: 0.9598354855152187, Train_word_accuracy: 0.9372494106743497, Train_CER: 0.009418421814408356\n",
      "Val_Loss: 0.05289530913744654, Val_character_accuracy: 0.9658980821839501, Val_word_accuracy: 0.9457910973997355, Val_CER: 0.010294135944202051\n"
     ]
    },
    {
     "name": "stderr",
     "output_type": "stream",
     "text": [
      "                                                                                                                                   \r"
     ]
    },
    {
     "name": "stdout",
     "output_type": "stream",
     "text": [
      "Epoch:  [131/150]\n",
      "Train_Loss: 0.03408916160464287, Train_character_accuracy: 0.9581015637118462, Train_word_accuracy: 0.9331190941510689, Train_CER: 0.010093956803555253\n",
      "Val_Loss: 0.050803172535129955, Val_character_accuracy: 0.9641032950957094, Val_word_accuracy: 0.9440282062582636, Val_CER: 0.010814338282385877\n"
     ]
    },
    {
     "name": "stderr",
     "output_type": "stream",
     "text": [
      "                                                                                                                                   \r"
     ]
    },
    {
     "name": "stdout",
     "output_type": "stream",
     "text": [
      "Epoch:  [132/150]\n",
      "Train_Loss: 0.03135501828044653, Train_character_accuracy: 0.9602259820749044, Train_word_accuracy: 0.9371990409606512, Train_CER: 0.009386707065670657\n",
      "Val_Loss: 0.046990602144173214, Val_character_accuracy: 0.9670718617066479, Val_word_accuracy: 0.9456441898046128, Val_CER: 0.010108285361700962\n"
     ]
    },
    {
     "name": "stderr",
     "output_type": "stream",
     "text": [
      "                                                                                                                                   \r"
     ]
    },
    {
     "name": "stdout",
     "output_type": "stream",
     "text": [
      "Epoch:  [133/150]\n",
      "Train_Loss: 0.033095425087958576, Train_character_accuracy: 0.9582540608262287, Train_word_accuracy: 0.9349928475006548, Train_CER: 0.009779274211708275\n",
      "Val_Loss: 0.0492164601704904, Val_character_accuracy: 0.9617487103690776, Val_word_accuracy: 0.9435874834728956, Val_CER: 0.01086765078611707\n"
     ]
    },
    {
     "name": "stderr",
     "output_type": "stream",
     "text": [
      "                                                                                                                                   \r"
     ]
    },
    {
     "name": "stdout",
     "output_type": "stream",
     "text": [
      "Epoch:  [134/150]\n",
      "Train_Loss: 0.03223105818033219, Train_character_accuracy: 0.9587365546876961, Train_word_accuracy: 0.9350029214433945, Train_CER: 0.009633332145571981\n",
      "Val_Loss: 0.04907186435801642, Val_character_accuracy: 0.9651503962494932, Val_word_accuracy: 0.9496106948729249, Val_CER: 0.009859157214820502\n",
      "Improved Val_word_accuracy: 0.9493168796826796 -> 0.9496106948729249\n",
      "Model checkpoint saved for metric 'Val_word_accuracy' at 'Models/checkpoints/v0.01/best_model_Val_word_accuracy.pth'.\n",
      "Metrics log saved at 'Logs/metrics_log_Val_word_accuracy.txt'.\n"
     ]
    },
    {
     "name": "stderr",
     "output_type": "stream",
     "text": [
      "                                                                                                                                   \r"
     ]
    },
    {
     "name": "stdout",
     "output_type": "stream",
     "text": [
      "Epoch:  [135/150]\n",
      "Train_Loss: 0.032007525973021984, Train_character_accuracy: 0.9588543439414736, Train_word_accuracy: 0.9348921080732577, Train_CER: 0.009710267116881666\n",
      "Val_Loss: 0.048644615071160455, Val_character_accuracy: 0.9646137231724279, Val_word_accuracy: 0.9421184075216689, Val_CER: 0.011324645678986795\n"
     ]
    },
    {
     "name": "stderr",
     "output_type": "stream",
     "text": [
      "                                                                                                                                   \r"
     ]
    },
    {
     "name": "stdout",
     "output_type": "stream",
     "text": [
      "Epoch:  [136/150]\n",
      "Train_Loss: 0.0338213437050581, Train_character_accuracy: 0.9577703771538113, Train_word_accuracy: 0.9331291680938085, Train_CER: 0.010055487738430532\n",
      "Val_Loss: 0.05125320756009647, Val_character_accuracy: 0.9663516554873534, Val_word_accuracy: 0.9425591303070369, Val_CER: 0.01142735257984266\n"
     ]
    },
    {
     "name": "stderr",
     "output_type": "stream",
     "text": [
      "                                                                                                                                   \r"
     ]
    },
    {
     "name": "stdout",
     "output_type": "stream",
     "text": [
      "Epoch:  [137/150]\n",
      "Train_Loss: 0.031219637040048837, Train_character_accuracy: 0.9595305115111853, Train_word_accuracy: 0.9362923861140773, Train_CER: 0.009368872167060869\n",
      "Val_Loss: 0.04957541610513415, Val_character_accuracy: 0.9622105673253327, Val_word_accuracy: 0.9434405758777729, Val_CER: 0.01044116869370285\n"
     ]
    },
    {
     "name": "stderr",
     "output_type": "stream",
     "text": [
      "                                                                                                                                   \r"
     ]
    },
    {
     "name": "stdout",
     "output_type": "stream",
     "text": [
      "Epoch:  [138/150]\n",
      "Train_Loss: 0.03565906992182136, Train_character_accuracy: 0.9567258300857556, Train_word_accuracy: 0.9291398867688836, Train_CER: 0.010686405694767066\n",
      "Val_Loss: 0.051053623003619056, Val_character_accuracy: 0.9624627042212828, Val_word_accuracy: 0.9443220214485089, Val_CER: 0.010818732546365863\n"
     ]
    },
    {
     "name": "stderr",
     "output_type": "stream",
     "text": [
      "                                                                                                                                  \r"
     ]
    },
    {
     "name": "stdout",
     "output_type": "stream",
     "text": [
      "Epoch:  [139/150]\n",
      "Train_Loss: 0.034515503626316786, Train_character_accuracy: 0.9572055218151123, Train_word_accuracy: 0.9319908125642213, Train_CER: 0.010178006154473422\n",
      "Val_Loss: 0.051241221172469, Val_character_accuracy: 0.965858127020062, Val_word_accuracy: 0.9468194505655942, Val_CER: 0.010359945948310864\n"
     ]
    },
    {
     "name": "stderr",
     "output_type": "stream",
     "text": [
      "                                                                                                                                   \r"
     ]
    },
    {
     "name": "stdout",
     "output_type": "stream",
     "text": [
      "Epoch:  [140/150]\n",
      "Train_Loss: 0.030672421753406523, Train_character_accuracy: 0.9610572593412025, Train_word_accuracy: 0.9380150303225676, Train_CER: 0.00918486996474424\n",
      "Val_Loss: 0.050326505942004066, Val_character_accuracy: 0.9658379465561516, Val_word_accuracy: 0.9447627442338768, Val_CER: 0.010749798574831626\n"
     ]
    },
    {
     "name": "stderr",
     "output_type": "stream",
     "text": [
      "                                                                                                                                   \r"
     ]
    },
    {
     "name": "stdout",
     "output_type": "stream",
     "text": [
      "Epoch:  [141/150]\n",
      "Train_Loss: 0.030779332220554352, Train_character_accuracy: 0.960397610328577, Train_word_accuracy: 0.9380654000362662, Train_CER: 0.009151103051330722\n",
      "Val_Loss: 0.050505420725260465, Val_character_accuracy: 0.9646129073805552, Val_word_accuracy: 0.9443220214485089, Val_CER: 0.011048643585003213\n"
     ]
    },
    {
     "name": "stderr",
     "output_type": "stream",
     "text": [
      "                                                                                                                                   \r"
     ]
    },
    {
     "name": "stdout",
     "output_type": "stream",
     "text": [
      "Epoch:  [142/150]\n",
      "Train_Loss: 0.03038247933611274, Train_character_accuracy: 0.9608734694941827, Train_word_accuracy: 0.9386396147724296, Train_CER: 0.00918722192118924\n",
      "Val_Loss: 0.04710877873003483, Val_character_accuracy: 0.9660361236992001, Val_word_accuracy: 0.9475539885412075, Val_CER: 0.01006560608808295\n"
     ]
    },
    {
     "name": "stderr",
     "output_type": "stream",
     "text": [
      "                                                                                                                                   \r"
     ]
    },
    {
     "name": "stdout",
     "output_type": "stream",
     "text": [
      "Epoch:  [143/150]\n",
      "Train_Loss: 0.028904960993677377, Train_character_accuracy: 0.9625865581170802, Train_word_accuracy: 0.9414804666250277, Train_CER: 0.008652737701455282\n",
      "Val_Loss: 0.05016299496803965, Val_character_accuracy: 0.9647848809584595, Val_word_accuracy: 0.9440282062582636, Val_CER: 0.010692419980652682\n"
     ]
    },
    {
     "name": "stderr",
     "output_type": "stream",
     "text": [
      "                                                                                                                                   \r"
     ]
    },
    {
     "name": "stdout",
     "output_type": "stream",
     "text": [
      "Epoch:  [144/150]\n",
      "Train_Loss: 0.03239544928073883, Train_character_accuracy: 0.9594439719568698, Train_word_accuracy: 0.9364837910261318, Train_CER: 0.009639764837163745\n",
      "Val_Loss: 0.05041981488466263, Val_character_accuracy: 0.9661141529073689, Val_word_accuracy: 0.9449096518289996, Val_CER: 0.010584065641359601\n"
     ]
    },
    {
     "name": "stderr",
     "output_type": "stream",
     "text": [
      "                                                                                                                                   \r"
     ]
    },
    {
     "name": "stdout",
     "output_type": "stream",
     "text": [
      "Epoch:  [145/150]\n",
      "Train_Loss: 0.030963041707873343, Train_character_accuracy: 0.9609428678821768, Train_word_accuracy: 0.9385690971732517, Train_CER: 0.00926006094971299\n",
      "Val_Loss: 0.04877122438379696, Val_character_accuracy: 0.9661649055592386, Val_word_accuracy: 0.946966358160717, Val_CER: 0.010252671524156758\n"
     ]
    },
    {
     "name": "stderr",
     "output_type": "stream",
     "text": [
      "                                                                                                                                  \r"
     ]
    },
    {
     "name": "stdout",
     "output_type": "stream",
     "text": [
      "Epoch:  [146/150]\n",
      "Train_Loss: 0.033275618478655816, Train_character_accuracy: 0.9599373009600658, Train_word_accuracy: 0.9362117945721596, Train_CER: 0.009831418886130466\n",
      "Val_Loss: 0.05036046249525888, Val_character_accuracy: 0.9646586505183145, Val_word_accuracy: 0.9452034670192448, Val_CER: 0.010604487819119813\n"
     ]
    },
    {
     "name": "stderr",
     "output_type": "stream",
     "text": [
      "                                                                                                                                   \r"
     ]
    },
    {
     "name": "stdout",
     "output_type": "stream",
     "text": [
      "Epoch:  [147/150]\n",
      "Train_Loss: 0.032558869402855635, Train_character_accuracy: 0.959396551886254, Train_word_accuracy: 0.9353756573247638, Train_CER: 0.009834594319463253\n",
      "Val_Loss: 0.05041430305157389, Val_character_accuracy: 0.9679762289723868, Val_word_accuracy: 0.9435874834728956, Val_CER: 0.010992980054240518\n",
      "Improved Val_character_accuracy: 0.9678463730412911 -> 0.9679762289723868\n",
      "Model checkpoint saved for metric 'Val_character_accuracy' at 'Models/checkpoints/v0.01/best_model_Val_character_accuracy.pth'.\n",
      "Metrics log saved at 'Logs/metrics_log_Val_character_accuracy.txt'.\n"
     ]
    },
    {
     "name": "stderr",
     "output_type": "stream",
     "text": [
      "                                                                                                                                   \r"
     ]
    },
    {
     "name": "stdout",
     "output_type": "stream",
     "text": [
      "Epoch:  [148/150]\n",
      "Train_Loss: 0.03206711376085877, Train_character_accuracy: 0.958989599108479, Train_word_accuracy: 0.9354763967521609, Train_CER: 0.009712684712181008\n",
      "Val_Loss: 0.05456220784357616, Val_character_accuracy: 0.960261789239687, Val_word_accuracy: 0.9412369619509329, Val_CER: 0.011530034612890495\n"
     ]
    },
    {
     "name": "stderr",
     "output_type": "stream",
     "text": [
      "                                                                                                                                   \r"
     ]
    },
    {
     "name": "stdout",
     "output_type": "stream",
     "text": [
      "Epoch:  [149/150]\n",
      "Train_Loss: 0.030962303280830383, Train_character_accuracy: 0.9607540056370932, Train_word_accuracy: 0.938317248604759, Train_CER: 0.00920193757645654\n",
      "Val_Loss: 0.04944361746311188, Val_character_accuracy: 0.9655918194393405, Val_word_accuracy: 0.9449096518289996, Val_CER: 0.01046529535952189\n"
     ]
    },
    {
     "name": "stderr",
     "output_type": "stream",
     "text": [
      "                                                                                                                                   \r"
     ]
    },
    {
     "name": "stdout",
     "output_type": "stream",
     "text": [
      "Epoch:  [150/150]\n",
      "Train_Loss: 0.03614469647407532, Train_character_accuracy: 0.957143856059911, Train_word_accuracy: 0.9300465416154574, Train_CER: 0.01074383189281543\n",
      "Val_Loss: 0.059350578380482535, Val_character_accuracy: 0.9569260384923293, Val_word_accuracy: 0.9353606581460262, Val_CER: 0.012856354669928927\n"
     ]
    },
    {
     "data": {
      "image/png": "[encoded data removed]",
      "text/plain": [
       "<Figure size 640x480 with 1 Axes>"
      ]
     },
     "metadata": {},
     "output_type": "display_data"
    },
    {
     "data": {
      "image/png": "[encoded data removed]",
      "text/plain": [
       "<Figure size 640x480 with 1 Axes>"
      ]
     },
     "metadata": {},
     "output_type": "display_data"
    },
    {
     "data": {
      "image/png": "[encoded data removed]",
      "text/plain": [
       "<Figure size 640x480 with 1 Axes>"
      ]
     },
     "metadata": {},
     "output_type": "display_data"
    },
    {
     "data": {
      "image/png": "[encoded data removed]",
      "text/plain": [
       "<Figure size 640x480 with 1 Axes>"
      ]
     },
     "metadata": {},
     "output_type": "display_data"
    },
    {
     "data": {
      "text/plain": [
       "<Figure size 640x480 with 0 Axes>"
      ]
     },
     "metadata": {},
     "output_type": "display_data"
    }
   ],
   "source": [
    "\n",
    "importlib.reload(Train)\n",
    "device = torch.device(\"cuda\" if torch.cuda.is_available() else \"cpu\")\n",
    "checkpoint = {\"path\": \"Models/checkpoints/v0.01\",\"log_path\":\"Logs\", \"metrics\":[\"Train_Loss\", \"Val_Loss\", \"Train_CER\"  ,\"Val_CER\" , \"Train_character_accuracy\", \"Train_word_accuracy\", \"Val_character_accuracy\", \"Val_word_accuracy\"]}\n",
    "plots = {\"path\": \"Plots\"}\n",
    "train_CRNN = Train.Train(train_loader = train_data, val_loader = val_data, criterion=criterion, optimizer=optimizer, device = device, char_to_index=char_to_index, metrics=[\"character_accuracy\", \"word_accuracy\", \"CER\"], num_epochs=150)\n",
    "train_CRNN.fit(model=model,plots = plots, checkpoint= checkpoint)"
   ]
  },
  {
   "cell_type": "markdown",
   "metadata": {
    "id": "9lewVuhEIkTN"
   },
   "source": []
  },
  {
   "cell_type": "code",
   "execution_count": 79,
   "metadata": {
    "colab": {
     "base_uri": "https://localhost:8080/",
     "height": 363
    },
    "executionInfo": {
     "elapsed": 526,
     "status": "ok",
     "timestamp": 1731614236866,
     "user": {
      "displayName": "arman hajimirza",
      "userId": "14640964011542618369"
     },
     "user_tz": -210
    },
    "id": "cSfzxiodPnRm",
    "outputId": "580e0a3e-34d1-4455-9dde-5de2fcd06fe9"
   },
   "outputs": [
    {
     "data": {
      "application/vnd.google.colaboratory.intrinsic+json": {
       "summary": "{\n  \"name\": \"test\",\n  \"rows\": 6084,\n  \"fields\": [\n    {\n      \"column\": \"index\",\n      \"properties\": {\n        \"dtype\": \"number\",\n        \"std\": 393013,\n        \"min\": 6,\n        \"max\": 1306138,\n        \"num_unique_values\": 6084,\n        \"samples\": [\n          603350,\n          765456,\n          818301\n        ],\n        \"semantic_type\": \"\",\n        \"description\": \"\"\n      }\n    },\n    {\n      \"column\": \"label\",\n      \"properties\": {\n        \"dtype\": \"string\",\n        \"num_unique_values\": 6084,\n        \"samples\": [\n          \"4242\",\n          \"\\u00ab\\u0647\\u0645\\u0627\\u0647\\u0646\\u06af\\u06cc\",\n          \"\\u067e\\u0634\\u062a\\u06cc\"\n        ],\n        \"semantic_type\": \"\",\n        \"description\": \"\"\n      }\n    },\n    {\n      \"column\": \"page\",\n      \"properties\": {\n        \"dtype\": \"number\",\n        \"std\": 2004,\n        \"min\": 4,\n        \"max\": 7000,\n        \"num_unique_values\": 3533,\n        \"samples\": [\n          5336,\n          3802,\n          5711\n        ],\n        \"semantic_type\": \"\",\n        \"description\": \"\"\n      }\n    },\n    {\n      \"column\": \"top_left_y\",\n      \"properties\": {\n        \"dtype\": \"number\",\n        \"std\": 212,\n        \"min\": 17,\n        \"max\": 735,\n        \"num_unique_values\": 53,\n        \"samples\": [\n          205,\n          505,\n          735\n        ],\n        \"semantic_type\": \"\",\n        \"description\": \"\"\n      }\n    },\n    {\n      \"column\": \"bot_right_y\",\n      \"properties\": {\n        \"dtype\": \"number\",\n        \"std\": 214,\n        \"min\": 34,\n        \"max\": 765,\n        \"num_unique_values\": 53,\n        \"samples\": [\n          235,\n          535,\n          765\n        ],\n        \"semantic_type\": \"\",\n        \"description\": \"\"\n      }\n    },\n    {\n      \"column\": \"top_left_x\",\n      \"properties\": {\n        \"dtype\": \"number\",\n        \"std\": 160,\n        \"min\": 42,\n        \"max\": 564,\n        \"num_unique_values\": 507,\n        \"samples\": [\n          508,\n          447,\n          187\n        ],\n        \"semantic_type\": \"\",\n        \"description\": \"\"\n      }\n    },\n    {\n      \"column\": \"bot_right_x\",\n      \"properties\": {\n        \"dtype\": \"number\",\n        \"std\": 159,\n        \"min\": 58,\n        \"max\": 586,\n        \"num_unique_values\": 508,\n        \"samples\": [\n          208,\n          229,\n          182\n        ],\n        \"semantic_type\": \"\",\n        \"description\": \"\"\n      }\n    },\n    {\n      \"column\": \"path\",\n      \"properties\": {\n        \"dtype\": \"string\",\n        \"num_unique_values\": 6084,\n        \"samples\": [\n          \"04242_0_603350.png\",\n          \"03957_71_765456.png\",\n          \"05564_45_818301.png\"\n        ],\n        \"semantic_type\": \"\",\n        \"description\": \"\"\n      }\n    }\n  ]\n}",
       "type": "dataframe",
       "variable_name": "test"
      },
      "text/html": [
       "\n",
       "  <div id=\"df-5edec6d9-e42f-4963-941d-a0fb588eafc1\" class=\"colab-df-container\">\n",
       "    <div>\n",
       "<style scoped>\n",
       "    .dataframe tbody tr th:only-of-type {\n",
       "        vertical-align: middle;\n",
       "    }\n",
       "\n",
       "    .dataframe tbody tr th {\n",
       "        vertical-align: top;\n",
       "    }\n",
       "\n",
       "    .dataframe thead th {\n",
       "        text-align: right;\n",
       "    }\n",
       "</style>\n",
       "<table border=\"1\" class=\"dataframe\">\n",
       "  <thead>\n",
       "    <tr style=\"text-align: right;\">\n",
       "      <th></th>\n",
       "      <th>index</th>\n",
       "      <th>label</th>\n",
       "      <th>page</th>\n",
       "      <th>top_left_y</th>\n",
       "      <th>bot_right_y</th>\n",
       "      <th>top_left_x</th>\n",
       "      <th>bot_right_x</th>\n",
       "      <th>path</th>\n",
       "    </tr>\n",
       "  </thead>\n",
       "  <tbody>\n",
       "    <tr>\n",
       "      <th>0</th>\n",
       "      <td>518242</td>\n",
       "      <td>اغماض،</td>\n",
       "      <td>4964</td>\n",
       "      <td>520</td>\n",
       "      <td>550</td>\n",
       "      <td>45</td>\n",
       "      <td>103</td>\n",
       "      <td>04964_166_518242.png</td>\n",
       "    </tr>\n",
       "    <tr>\n",
       "      <th>1</th>\n",
       "      <td>648841</td>\n",
       "      <td>مرجعیت</td>\n",
       "      <td>5210</td>\n",
       "      <td>645</td>\n",
       "      <td>675</td>\n",
       "      <td>203</td>\n",
       "      <td>260</td>\n",
       "      <td>05210_164_648841.png</td>\n",
       "    </tr>\n",
       "    <tr>\n",
       "      <th>2</th>\n",
       "      <td>543131</td>\n",
       "      <td>تأثر،</td>\n",
       "      <td>4692</td>\n",
       "      <td>610</td>\n",
       "      <td>640</td>\n",
       "      <td>428</td>\n",
       "      <td>462</td>\n",
       "      <td>04692_131_543131.png</td>\n",
       "    </tr>\n",
       "    <tr>\n",
       "      <th>3</th>\n",
       "      <td>579292</td>\n",
       "      <td>همکاریشیما</td>\n",
       "      <td>5069</td>\n",
       "      <td>625</td>\n",
       "      <td>655</td>\n",
       "      <td>45</td>\n",
       "      <td>129</td>\n",
       "      <td>05069_183_579292.png</td>\n",
       "    </tr>\n",
       "    <tr>\n",
       "      <th>4</th>\n",
       "      <td>652706</td>\n",
       "      <td>داستان‌نویس،</td>\n",
       "      <td>5066</td>\n",
       "      <td>520</td>\n",
       "      <td>550</td>\n",
       "      <td>199</td>\n",
       "      <td>295</td>\n",
       "      <td>05066_145_652706.png</td>\n",
       "    </tr>\n",
       "    <tr>\n",
       "      <th>5</th>\n",
       "      <td>1015608</td>\n",
       "      <td>وفقط</td>\n",
       "      <td>4284</td>\n",
       "      <td>450</td>\n",
       "      <td>480</td>\n",
       "      <td>227</td>\n",
       "      <td>264</td>\n",
       "      <td>04284_139_1015608.png</td>\n",
       "    </tr>\n",
       "    <tr>\n",
       "      <th>6</th>\n",
       "      <td>35334</td>\n",
       "      <td>صحرایی</td>\n",
       "      <td>4558</td>\n",
       "      <td>610</td>\n",
       "      <td>640</td>\n",
       "      <td>348</td>\n",
       "      <td>408</td>\n",
       "      <td>04558_156_35334.png</td>\n",
       "    </tr>\n",
       "    <tr>\n",
       "      <th>7</th>\n",
       "      <td>141224</td>\n",
       "      <td>دریافت.</td>\n",
       "      <td>3445</td>\n",
       "      <td>380</td>\n",
       "      <td>410</td>\n",
       "      <td>452</td>\n",
       "      <td>512</td>\n",
       "      <td>03445_105_141224.png</td>\n",
       "    </tr>\n",
       "    <tr>\n",
       "      <th>8</th>\n",
       "      <td>39708</td>\n",
       "      <td>قطار</td>\n",
       "      <td>3051</td>\n",
       "      <td>135</td>\n",
       "      <td>165</td>\n",
       "      <td>190</td>\n",
       "      <td>222</td>\n",
       "      <td>03051_25_39708.png</td>\n",
       "    </tr>\n",
       "    <tr>\n",
       "      <th>9</th>\n",
       "      <td>37847</td>\n",
       "      <td>افشای</td>\n",
       "      <td>4444</td>\n",
       "      <td>330</td>\n",
       "      <td>360</td>\n",
       "      <td>525</td>\n",
       "      <td>575</td>\n",
       "      <td>04444_74_37847.png</td>\n",
       "    </tr>\n",
       "  </tbody>\n",
       "</table>\n",
       "</div>\n",
       "    <div class=\"colab-df-buttons\">\n",
       "\n",
       "  <div class=\"colab-df-container\">\n",
       "    <button class=\"colab-df-convert\" onclick=\"convertToInteractive('df-5edec6d9-e42f-4963-941d-a0fb588eafc1')\"\n",
       "            title=\"Convert this dataframe to an interactive table.\"\n",
       "            style=\"display:none;\">\n",
       "\n",
       "  <svg xmlns=\"http://www.w3.org/2000/svg\" height=\"24px\" viewBox=\"0 -960 960 960\">\n",
       "    <path d=\"M120-120v-720h720v720H120Zm60-500h600v-160H180v160Zm220 220h160v-160H400v160Zm0 220h160v-160H400v160ZM180-400h160v-160H180v160Zm440 0h160v-160H620v160ZM180-180h160v-160H180v160Zm440 0h160v-160H620v160Z\"/>\n",
       "  </svg>\n",
       "    </button>\n",
       "\n",
       "  <style>\n",
       "    .colab-df-container {\n",
       "      display:flex;\n",
       "      gap: 12px;\n",
       "    }\n",
       "\n",
       "    .colab-df-convert {\n",
       "      background-color: #E8F0FE;\n",
       "      border: none;\n",
       "      border-radius: 50%;\n",
       "      cursor: pointer;\n",
       "      display: none;\n",
       "      fill: #1967D2;\n",
       "      height: 32px;\n",
       "      padding: 0 0 0 0;\n",
       "      width: 32px;\n",
       "    }\n",
       "\n",
       "    .colab-df-convert:hover {\n",
       "      background-color: #E2EBFA;\n",
       "      box-shadow: 0px 1px 2px rgba(60, 64, 67, 0.3), 0px 1px 3px 1px rgba(60, 64, 67, 0.15);\n",
       "      fill: #174EA6;\n",
       "    }\n",
       "\n",
       "    .colab-df-buttons div {\n",
       "      margin-bottom: 4px;\n",
       "    }\n",
       "\n",
       "    [theme=dark] .colab-df-convert {\n",
       "      background-color: #3B4455;\n",
       "      fill: #D2E3FC;\n",
       "    }\n",
       "\n",
       "    [theme=dark] .colab-df-convert:hover {\n",
       "      background-color: #434B5C;\n",
       "      box-shadow: 0px 1px 3px 1px rgba(0, 0, 0, 0.15);\n",
       "      filter: drop-shadow(0px 1px 2px rgba(0, 0, 0, 0.3));\n",
       "      fill: #FFFFFF;\n",
       "    }\n",
       "  </style>\n",
       "\n",
       "    <script>\n",
       "      const buttonEl =\n",
       "        document.querySelector('#df-5edec6d9-e42f-4963-941d-a0fb588eafc1 button.colab-df-convert');\n",
       "      buttonEl.style.display =\n",
       "        google.colab.kernel.accessAllowed ? 'block' : 'none';\n",
       "\n",
       "      async function convertToInteractive(key) {\n",
       "        const element = document.querySelector('#df-5edec6d9-e42f-4963-941d-a0fb588eafc1');\n",
       "        const dataTable =\n",
       "          await google.colab.kernel.invokeFunction('convertToInteractive',\n",
       "                                                    [key], {});\n",
       "        if (!dataTable) return;\n",
       "\n",
       "        const docLinkHtml = 'Like what you see? Visit the ' +\n",
       "          '<a target=\"_blank\" href=https://colab.research.google.com/notebooks/data_table.ipynb>data table notebook</a>'\n",
       "          + ' to learn more about interactive tables.';\n",
       "        element.innerHTML = '';\n",
       "        dataTable['output_type'] = 'display_data';\n",
       "        await google.colab.output.renderOutput(dataTable, element);\n",
       "        const docLink = document.createElement('div');\n",
       "        docLink.innerHTML = docLinkHtml;\n",
       "        element.appendChild(docLink);\n",
       "      }\n",
       "    </script>\n",
       "  </div>\n",
       "\n",
       "\n",
       "<div id=\"df-adf6d88d-2fe6-4fa2-9398-7dbbfa9fe21e\">\n",
       "  <button class=\"colab-df-quickchart\" onclick=\"quickchart('df-adf6d88d-2fe6-4fa2-9398-7dbbfa9fe21e')\"\n",
       "            title=\"Suggest charts\"\n",
       "            style=\"display:none;\">\n",
       "\n",
       "<svg xmlns=\"http://www.w3.org/2000/svg\" height=\"24px\"viewBox=\"0 0 24 24\"\n",
       "     width=\"24px\">\n",
       "    <g>\n",
       "        <path d=\"M19 3H5c-1.1 0-2 .9-2 2v14c0 1.1.9 2 2 2h14c1.1 0 2-.9 2-2V5c0-1.1-.9-2-2-2zM9 17H7v-7h2v7zm4 0h-2V7h2v10zm4 0h-2v-4h2v4z\"/>\n",
       "    </g>\n",
       "</svg>\n",
       "  </button>\n",
       "\n",
       "<style>\n",
       "  .colab-df-quickchart {\n",
       "      --bg-color: #E8F0FE;\n",
       "      --fill-color: #1967D2;\n",
       "      --hover-bg-color: #E2EBFA;\n",
       "      --hover-fill-color: #174EA6;\n",
       "      --disabled-fill-color: #AAA;\n",
       "      --disabled-bg-color: #DDD;\n",
       "  }\n",
       "\n",
       "  [theme=dark] .colab-df-quickchart {\n",
       "      --bg-color: #3B4455;\n",
       "      --fill-color: #D2E3FC;\n",
       "      --hover-bg-color: #434B5C;\n",
       "      --hover-fill-color: #FFFFFF;\n",
       "      --disabled-bg-color: #3B4455;\n",
       "      --disabled-fill-color: #666;\n",
       "  }\n",
       "\n",
       "  .colab-df-quickchart {\n",
       "    background-color: var(--bg-color);\n",
       "    border: none;\n",
       "    border-radius: 50%;\n",
       "    cursor: pointer;\n",
       "    display: none;\n",
       "    fill: var(--fill-color);\n",
       "    height: 32px;\n",
       "    padding: 0;\n",
       "    width: 32px;\n",
       "  }\n",
       "\n",
       "  .colab-df-quickchart:hover {\n",
       "    background-color: var(--hover-bg-color);\n",
       "    box-shadow: 0 1px 2px rgba(60, 64, 67, 0.3), 0 1px 3px 1px rgba(60, 64, 67, 0.15);\n",
       "    fill: var(--button-hover-fill-color);\n",
       "  }\n",
       "\n",
       "  .colab-df-quickchart-complete:disabled,\n",
       "  .colab-df-quickchart-complete:disabled:hover {\n",
       "    background-color: var(--disabled-bg-color);\n",
       "    fill: var(--disabled-fill-color);\n",
       "    box-shadow: none;\n",
       "  }\n",
       "\n",
       "  .colab-df-spinner {\n",
       "    border: 2px solid var(--fill-color);\n",
       "    border-color: transparent;\n",
       "    border-bottom-color: var(--fill-color);\n",
       "    animation:\n",
       "      spin 1s steps(1) infinite;\n",
       "  }\n",
       "\n",
       "  @keyframes spin {\n",
       "    0% {\n",
       "      border-color: transparent;\n",
       "      border-bottom-color: var(--fill-color);\n",
       "      border-left-color: var(--fill-color);\n",
       "    }\n",
       "    20% {\n",
       "      border-color: transparent;\n",
       "      border-left-color: var(--fill-color);\n",
       "      border-top-color: var(--fill-color);\n",
       "    }\n",
       "    30% {\n",
       "      border-color: transparent;\n",
       "      border-left-color: var(--fill-color);\n",
       "      border-top-color: var(--fill-color);\n",
       "      border-right-color: var(--fill-color);\n",
       "    }\n",
       "    40% {\n",
       "      border-color: transparent;\n",
       "      border-right-color: var(--fill-color);\n",
       "      border-top-color: var(--fill-color);\n",
       "    }\n",
       "    60% {\n",
       "      border-color: transparent;\n",
       "      border-right-color: var(--fill-color);\n",
       "    }\n",
       "    80% {\n",
       "      border-color: transparent;\n",
       "      border-right-color: var(--fill-color);\n",
       "      border-bottom-color: var(--fill-color);\n",
       "    }\n",
       "    90% {\n",
       "      border-color: transparent;\n",
       "      border-bottom-color: var(--fill-color);\n",
       "    }\n",
       "  }\n",
       "</style>\n",
       "\n",
       "  <script>\n",
       "    async function quickchart(key) {\n",
       "      const quickchartButtonEl =\n",
       "        document.querySelector('#' + key + ' button');\n",
       "      quickchartButtonEl.disabled = true;  // To prevent multiple clicks.\n",
       "      quickchartButtonEl.classList.add('colab-df-spinner');\n",
       "      try {\n",
       "        const charts = await google.colab.kernel.invokeFunction(\n",
       "            'suggestCharts', [key], {});\n",
       "      } catch (error) {\n",
       "        console.error('Error during call to suggestCharts:', error);\n",
       "      }\n",
       "      quickchartButtonEl.classList.remove('colab-df-spinner');\n",
       "      quickchartButtonEl.classList.add('colab-df-quickchart-complete');\n",
       "    }\n",
       "    (() => {\n",
       "      let quickchartButtonEl =\n",
       "        document.querySelector('#df-adf6d88d-2fe6-4fa2-9398-7dbbfa9fe21e button');\n",
       "      quickchartButtonEl.style.display =\n",
       "        google.colab.kernel.accessAllowed ? 'block' : 'none';\n",
       "    })();\n",
       "  </script>\n",
       "</div>\n",
       "\n",
       "    </div>\n",
       "  </div>\n"
      ],
      "text/plain": [
       "     index         label  page  top_left_y  bot_right_y  top_left_x  \\\n",
       "0   518242        اغماض،  4964         520          550          45   \n",
       "1   648841        مرجعیت  5210         645          675         203   \n",
       "2   543131         تأثر،  4692         610          640         428   \n",
       "3   579292    همکاریشیما  5069         625          655          45   \n",
       "4   652706  داستان‌نویس،  5066         520          550         199   \n",
       "5  1015608          وفقط  4284         450          480         227   \n",
       "6    35334        صحرایی  4558         610          640         348   \n",
       "7   141224       دریافت.  3445         380          410         452   \n",
       "8    39708          قطار  3051         135          165         190   \n",
       "9    37847         افشای  4444         330          360         525   \n",
       "\n",
       "   bot_right_x                   path  \n",
       "0          103   04964_166_518242.png  \n",
       "1          260   05210_164_648841.png  \n",
       "2          462   04692_131_543131.png  \n",
       "3          129   05069_183_579292.png  \n",
       "4          295   05066_145_652706.png  \n",
       "5          264  04284_139_1015608.png  \n",
       "6          408    04558_156_35334.png  \n",
       "7          512   03445_105_141224.png  \n",
       "8          222     03051_25_39708.png  \n",
       "9          575     04444_74_37847.png  "
      ]
     },
     "execution_count": 79,
     "metadata": {},
     "output_type": "execute_result"
    }
   ],
   "source": [
    "test = pd.read_csv(\"/content/test_df.csv\")\n",
    "test = test.loc[:, ~test.columns.str.contains('^Unnamed')]\n",
    "test.head(10)"
   ]
  },
  {
   "cell_type": "code",
   "execution_count": 3,
   "metadata": {},
   "outputs": [],
   "source": [
    "def ctc_decode(predictions, blank=0):\n",
    "    \"\"\"\n",
    "    Decode predictions using CTC decoding.\n",
    "\n",
    "    Args:\n",
    "        predictions (Tensor): Model predictions.\n",
    "        blank (int): Blank token index.\n",
    "\n",
    "    Returns:\n",
    "        list: Decoded text predictions.\n",
    "    \"\"\"\n",
    "    pred_texts = []\n",
    "    for pred in predictions:\n",
    "        pred_chars = []\n",
    "        previous_char = None\n",
    "        for char in pred:\n",
    "            if char != previous_char and char != blank:\n",
    "                pred_chars.append(char)\n",
    "            previous_char = char\n",
    "        pred_texts.append(pred_chars)\n",
    "    return pred_texts"
   ]
  },
  {
   "cell_type": "code",
   "execution_count": null,
   "metadata": {},
   "outputs": [
    {
     "name": "stderr",
     "output_type": "stream",
     "text": [
      "/tmp/ipykernel_22616/3445367943.py:3: FutureWarning: You are using `torch.load` with `weights_only=False` (the current default value), which uses the default pickle module implicitly. It is possible to construct malicious pickle data which will execute arbitrary code during unpickling (See https://github.com/pytorch/pytorch/blob/main/SECURITY.md#untrusted-models for more details). In a future release, the default value for `weights_only` will be flipped to `True`. This limits the functions that could be executed during unpickling. Arbitrary objects will no longer be allowed to be loaded via this mode unless they are explicitly allowlisted by the user via `torch.serialization.add_safe_globals`. We recommend you start setting `weights_only=True` for any use case where you don't have full control of the loaded file. Please open an issue on GitHub for any issues related to this experimental feature.\n",
      "  checkpoint = torch.load(path)\n"
     ]
    },
    {
     "data": {
      "text/plain": [
       "CRNN(\n",
       "  (cnn): Sequential(\n",
       "    (0): Conv2d(1, 64, kernel_size=(3, 3), stride=(1, 1), padding=(1, 1))\n",
       "    (1): MaxPool2d(kernel_size=(2, 2), stride=(2, 2), padding=0, dilation=1, ceil_mode=False)\n",
       "    (2): Conv2d(64, 128, kernel_size=(3, 3), stride=(1, 1), padding=(1, 1))\n",
       "    (3): MaxPool2d(kernel_size=(2, 2), stride=(2, 2), padding=0, dilation=1, ceil_mode=False)\n",
       "    (4): Conv2d(128, 256, kernel_size=(3, 3), stride=(1, 1), padding=(1, 1))\n",
       "    (5): Conv2d(256, 256, kernel_size=(3, 3), stride=(1, 1), padding=(1, 1))\n",
       "    (6): MaxPool2d(kernel_size=(2, 1), stride=(2, 1), padding=0, dilation=1, ceil_mode=False)\n",
       "    (7): Conv2d(256, 512, kernel_size=(3, 3), stride=(1, 1), padding=(1, 1))\n",
       "    (8): BatchNorm2d(512, eps=1e-05, momentum=0.1, affine=True, track_running_stats=True)\n",
       "    (9): Conv2d(512, 512, kernel_size=(3, 3), stride=(1, 1), padding=(1, 1))\n",
       "    (10): BatchNorm2d(512, eps=1e-05, momentum=0.1, affine=True, track_running_stats=True)\n",
       "    (11): MaxPool2d(kernel_size=(2, 1), stride=(2, 1), padding=0, dilation=1, ceil_mode=False)\n",
       "    (12): Conv2d(512, 512, kernel_size=(2, 2), stride=(1, 1))\n",
       "  )\n",
       "  (rnn1): LSTM(512, 256, batch_first=True, bidirectional=True)\n",
       "  (rnn2): LSTM(512, 256, batch_first=True, bidirectional=True)\n",
       "  (fc): Linear(in_features=512, out_features=62, bias=True)\n",
       ")"
      ]
     },
     "execution_count": 4,
     "metadata": {},
     "output_type": "execute_result"
    }
   ],
   "source": [
    "path = \"Models/checkpoints/v0.01/best_model_Val_word_accuracy.pth\"\n",
    "device =\"cuda\"\n",
    "checkpoint = torch.load(path)\n",
    "model = CRNN(num_classes=62)\n",
    "model.load_state_dict(checkpoint['model_state_dict'])\n",
    "model.to(device)\n",
    "model.eval()"
   ]
  },
  {
   "cell_type": "code",
   "execution_count": 14,
   "metadata": {},
   "outputs": [
    {
     "ename": "NameError",
     "evalue": "name 'val_dataset' is not defined",
     "output_type": "error",
     "traceback": [
      "\u001b[0;31m---------------------------------------------------------------------------\u001b[0m",
      "\u001b[0;31mNameError\u001b[0m                                 Traceback (most recent call last)",
      "Cell \u001b[0;32mIn[14], line 1\u001b[0m\n\u001b[0;32m----> 1\u001b[0m val_data \u001b[38;5;241m=\u001b[39m DataLoader(\u001b[43mval_dataset\u001b[49m, batch_size\u001b[38;5;241m=\u001b[39m\u001b[38;5;241m1000\u001b[39m, shuffle\u001b[38;5;241m=\u001b[39m\u001b[38;5;28;01mFalse\u001b[39;00m,  collate_fn\u001b[38;5;241m=\u001b[39mcollate_fn, num_workers\u001b[38;5;241m=\u001b[39m \u001b[38;5;241m4\u001b[39m)\n",
      "\u001b[0;31mNameError\u001b[0m: name 'val_dataset' is not defined"
     ]
    }
   ],
   "source": [
    "val_data = DataLoader(val_dataset, batch_size=1000, shuffle=False,  collate_fn=collate_fn, num_workers= 4)"
   ]
  },
  {
   "cell_type": "code",
   "execution_count": 56,
   "metadata": {},
   "outputs": [
    {
     "name": "stdout",
     "output_type": "stream",
     "text": [
      "430\n",
      "Prediction: دریافت:.| ['د', 'ر', 'ی', 'ا', 'ف', 'ت', ':', '.'] | Target: دریافت. | ['د', 'ر', 'ی', 'ا', 'ف', 'ت', '.']\n",
      "Prediction: اصولا| ['ا', 'ص', 'و', 'ل', 'ا'] | Target: اصولاا | ['ا', 'ص', 'و', 'ل', 'ا', 'ا']\n",
      "Prediction: یزد،اظهار| ['ی', 'ز', 'د', '،', 'ا', 'ظ', 'ه', 'ا', 'ر'] | Target: یزد،‌اظهار | ['ی', 'ز', 'د', '،', '\\u200c', 'ا', 'ظ', 'ه', 'ا', 'ر']\n",
      "Prediction: فیلمنامه| ['ف', 'ی', 'ل', 'م', 'ن', 'ا', 'م', 'ه'] | Target: فیلمنامه‌ | ['ف', 'ی', 'ل', 'م', 'ن', 'ا', 'م', 'ه', '\\u200c']\n",
      "Prediction: ساخته‌| ['س', 'ا', 'خ', 'ت', 'ه', '\\u200c'] | Target: ساخته | ['س', 'ا', 'خ', 'ت', 'ه']\n",
      "Prediction: قرارد| ['ق', 'ر', 'ا', 'ر', 'د'] | Target: قراررد | ['ق', 'ر', 'ا', 'ر', 'ر', 'د']\n",
      "Prediction: تامل‌رانگیزر| ['ت', 'ا', 'م', 'ل', '\\u200c', 'ر', 'ا', 'ن', 'گ', 'ی', 'ز', 'ر'] | Target: تامل‌برانگیزتر | ['ت', 'ا', 'م', 'ل', '\\u200c', 'ب', 'ر', 'ا', 'ن', 'گ', 'ی', 'ز', 'ت', 'ر']\n",
      "Prediction: انتورپلژیک| ['ا', 'ن', 'ت', 'و', 'ر', 'پ', 'ل', 'ژ', 'ی', 'ک'] | Target: انتورپبلژیک | ['ا', 'ن', 'ت', 'و', 'ر', 'پ', 'ب', 'ل', 'ژ', 'ی', 'ک']\n",
      "Prediction: دامیروری| ['د', 'ا', 'م', 'ی', 'ر', 'و', 'ر', 'ی'] | Target: دامپروری | ['د', 'ا', 'م', 'پ', 'ر', 'و', 'ر', 'ی']\n",
      "Prediction: 7هزار| ['7', 'ه', 'ز', 'ا', 'ر'] | Target: 97هزار | ['9', '7', 'ه', 'ز', 'ا', 'ر']\n",
      "Prediction: اردوغان،به| ['ا', 'ر', 'د', 'و', 'غ', 'ا', 'ن', '،', 'ب', 'ه'] | Target: اردوغان:به | ['ا', 'ر', 'د', 'و', 'غ', 'ا', 'ن', ':', 'ب', 'ه']\n",
      "Prediction: می‌کنمدیران| ['م', 'ی', '\\u200c', 'ک', 'ن', 'م', 'د', 'ی', 'ر', 'ا', 'ن'] | Target: می‌کند:مدیران | ['م', 'ی', '\\u200c', 'ک', 'ن', 'د', ':', 'م', 'د', 'ی', 'ر', 'ا', 'ن']\n",
      "Prediction: «چند‌| ['«', 'چ', 'ن', 'د', '\\u200c'] | Target: «چند | ['«', 'چ', 'ن', 'د']\n",
      "Prediction: مصم‌تر| ['م', 'ص', 'م', '\\u200c', 'ت', 'ر'] | Target: مصمم‌تر | ['م', 'ص', 'م', 'م', '\\u200c', 'ت', 'ر']\n",
      "Prediction: 8و| ['8', 'و'] | Target: 85و | ['8', '5', 'و']\n",
      "Prediction: ازنویسنده،| ['ا', 'ز', 'ن', 'و', 'ی', 'س', 'ن', 'د', 'ه', '،'] | Target: از:نویسنده، | ['ا', 'ز', ':', 'ن', 'و', 'ی', 'س', 'ن', 'د', 'ه', '،']\n",
      "Prediction: هستندنیمار| ['ه', 'س', 'ت', 'ن', 'د', 'ن', 'ی', 'م', 'ا', 'ر'] | Target: هستند.نیمار | ['ه', 'س', 'ت', 'ن', 'د', '.', 'ن', 'ی', 'م', 'ا', 'ر']\n",
      "Prediction: اسدابادر| ['ا', 'س', 'د', 'ا', 'ب', 'ا', 'د', 'ر'] | Target: اسداباددر | ['ا', 'س', 'د', 'ا', 'ب', 'ا', 'د', 'د', 'ر']\n",
      "Prediction: نصراله،| ['ن', 'ص', 'ر', 'ا', 'ل', 'ه', '،'] | Target: نصرالله، | ['ن', 'ص', 'ر', 'ا', 'ل', 'ل', 'ه', '،']\n",
      "Prediction: نه| ['ن', 'ه'] | Target: نه‌ | ['ن', 'ه', '\\u200c']\n",
      "Prediction: ابوالیمط:| ['ا', 'ب', 'و', 'ا', 'ل', 'ی', 'م', 'ط', ':'] | Target: ابوالغیط: | ['ا', 'ب', 'و', 'ا', 'ل', 'غ', 'ی', 'ط', ':']\n",
      "Prediction: کشته‌| ['ک', 'ش', 'ت', 'ه', '\\u200c'] | Target: کشته | ['ک', 'ش', 'ت', 'ه']\n",
      "Prediction: جانبه| ['ج', 'ا', 'ن', 'ب', 'ه'] | Target: جانبه‌ | ['ج', 'ا', 'ن', 'ب', 'ه', '\\u200c']\n",
      "Prediction: سوزی| ['س', 'و', 'ز', 'ی'] | Target: سوزی‌ | ['س', 'و', 'ز', 'ی', '\\u200c']\n",
      "Prediction: 13،این| ['1', '3', '،', 'ا', 'ی', 'ن'] | Target: 1399،ایین | ['1', '3', '9', '9', '،', 'ا', 'ی', 'ی', 'ن']\n",
      "Prediction: گفت‌وگو| ['گ', 'ف', 'ت', '\\u200c', 'و', 'گ', 'و'] | Target: ‌گفت‌وگو | ['\\u200c', 'گ', 'ف', 'ت', '\\u200c', 'و', 'گ', 'و']\n",
      "Prediction: زمان| ['ز', 'م', 'ا', 'ن'] | Target: ‌زمان | ['\\u200c', 'ز', 'م', 'ا', 'ن']\n",
      "Prediction: کاکتسونوبو| ['ک', 'ا', 'ک', 'ت', 'س', 'و', 'ن', 'و', 'ب', 'و'] | Target: کاتسونوبو | ['ک', 'ا', 'ت', 'س', 'و', 'ن', 'و', 'ب', 'و']\n",
      "Prediction: پیش‌بینی‌شه| ['پ', 'ی', 'ش', '\\u200c', 'ب', 'ی', 'ن', 'ی', '\\u200c', 'ش', 'ه'] | Target: پیش‌بینی‌شده | ['پ', 'ی', 'ش', '\\u200c', 'ب', 'ی', 'ن', 'ی', '\\u200c', 'ش', 'د', 'ه']\n",
      "Prediction: «گرگیعمان»| ['«', 'گ', 'ر', 'گ', 'ی', 'ع', 'م', 'ا', 'ن', '»'] | Target: «گرگیعان» | ['«', 'گ', 'ر', 'گ', 'ی', 'ع', 'ا', 'ن', '»']\n",
      "Prediction: اختیاران| ['ا', 'خ', 'ت', 'ی', 'ا', 'ر', 'ا', 'ن'] | Target: اختیارمان | ['ا', 'خ', 'ت', 'ی', 'ا', 'ر', 'م', 'ا', 'ن']\n",
      "Prediction: بزند| ['ب', 'ز', 'ن', 'د'] | Target: بزنند | ['ب', 'ز', 'ن', 'ن', 'د']\n",
      "Prediction: معوقه| ['م', 'ع', 'و', 'ق', 'ه'] | Target: معوقه‌ | ['م', 'ع', 'و', 'ق', 'ه', '\\u200c']\n",
      "Prediction: انهاز| ['ا', 'ن', 'ه', 'ا', 'ز'] | Target: انهااز | ['ا', 'ن', 'ه', 'ا', 'ا', 'ز']\n",
      "Prediction: کنفراسیون‌های| ['ک', 'ن', 'ف', 'ر', 'ا', 'س', 'ی', 'و', 'ن', '\\u200c', 'ه', 'ا', 'ی'] | Target: کنفدراسیون‌های | ['ک', 'ن', 'ف', 'د', 'ر', 'ا', 'س', 'ی', 'و', 'ن', '\\u200c', 'ه', 'ا', 'ی']\n",
      "Prediction: 9بیمار| ['9', 'ب', 'ی', 'م', 'ا', 'ر'] | Target: 29بیمار | ['2', '9', 'ب', 'ی', 'م', 'ا', 'ر']\n",
      "Prediction: سوخت| ['س', 'و', 'خ', 'ت'] | Target: سوخت‌ | ['س', 'و', 'خ', 'ت', '\\u200c']\n",
      "Prediction: مسبان| ['م', 'س', 'ب', 'ا', 'ن'] | Target: مسببان | ['م', 'س', 'ب', 'ب', 'ا', 'ن']\n",
      "Prediction: اهدانکندگانی| ['ا', 'ه', 'د', 'ا', 'ن', 'ک', 'ن', 'د', 'گ', 'ا', 'ن', 'ی'] | Target: اهداکنندگانی | ['ا', 'ه', 'د', 'ا', 'ک', 'ن', 'ن', 'د', 'گ', 'ا', 'ن', 'ی']\n",
      "Prediction: زادهامروز(2| ['ز', 'ا', 'د', 'ه', 'ا', 'م', 'ر', 'و', 'ز', '(', '2'] | Target: زادهامروز(22 | ['ز', 'ا', 'د', 'ه', 'ا', 'م', 'ر', 'و', 'ز', '(', '2', '2']\n",
      "Prediction: ازمون| ['ا', 'ز', 'م', 'و', 'ن'] | Target: ازمون‌ | ['ا', 'ز', 'م', 'و', 'ن', '\\u200c']\n",
      "Prediction: مراجین،| ['م', 'ر', 'ا', 'ج', 'ی', 'ن', '،'] | Target: مراجعین، | ['م', 'ر', 'ا', 'ج', 'ع', 'ی', 'ن', '،']\n",
      "Prediction: جمهوری| ['ج', 'م', 'ه', 'و', 'ر', 'ی'] | Target: جمهوری‌ | ['ج', 'م', 'ه', 'و', 'ر', 'ی', '\\u200c']\n",
      "Prediction: اقشارمختفف| ['ا', 'ق', 'ش', 'ا', 'ر', 'م', 'خ', 'ت', 'ف', 'ف'] | Target: اقشارمختلف | ['ا', 'ق', 'ش', 'ا', 'ر', 'م', 'خ', 'ت', 'ل', 'ف']\n",
      "Prediction: اظهارکرد:| ['ا', 'ظ', 'ه', 'ا', 'ر', 'ک', 'ر', 'د', ':'] | Target: ‌اظهارکرد: | ['\\u200c', 'ا', 'ظ', 'ه', 'ا', 'ر', 'ک', 'ر', 'د', ':']\n",
      "Prediction: شناسایوسایل| ['ش', 'ن', 'ا', 'س', 'ا', 'ی', 'و', 'س', 'ا', 'ی', 'ل'] | Target: شناساییوسایل | ['ش', 'ن', 'ا', 'س', 'ا', 'ی', 'ی', 'و', 'س', 'ا', 'ی', 'ل']\n",
      "Prediction: مبالفه‌امیزی| ['م', 'ب', 'ا', 'ل', 'ف', 'ه', '\\u200c', 'ا', 'م', 'ی', 'ز', 'ی'] | Target: مبالغه‌امیزی | ['م', 'ب', 'ا', 'ل', 'غ', 'ه', '\\u200c', 'ا', 'م', 'ی', 'ز', 'ی']\n",
      "Prediction: بازگشای‌هایی| ['ب', 'ا', 'ز', 'گ', 'ش', 'ا', 'ی', '\\u200c', 'ه', 'ا', 'ی', 'ی'] | Target: بازگشایی‌هایی | ['ب', 'ا', 'ز', 'گ', 'ش', 'ا', 'ی', 'ی', '\\u200c', 'ه', 'ا', 'ی', 'ی']\n",
      "Prediction: فرهنگسازی| ['ف', 'ر', 'ه', 'ن', 'گ', 'س', 'ا', 'ز', 'ی'] | Target: فرهنگسازی‌ | ['ف', 'ر', 'ه', 'ن', 'گ', 'س', 'ا', 'ز', 'ی', '\\u200c']\n",
      "Prediction: الکتروتنیکی| ['ا', 'ل', 'ک', 'ت', 'ر', 'و', 'ت', 'ن', 'ی', 'ک', 'ی'] | Target: الکتروتکنیکی | ['ا', 'ل', 'ک', 'ت', 'ر', 'و', 'ت', 'ک', 'ن', 'ی', 'ک', 'ی']\n",
      "Prediction: شهرپر/اختمای| ['ش', 'ه', 'ر', 'پ', 'ر', '/', 'ا', 'خ', 'ت', 'م', 'ا', 'ی'] | Target: شهریور/اختصاص | ['ش', 'ه', 'ر', 'ی', 'و', 'ر', '/', 'ا', 'خ', 'ت', 'ص', 'ا', 'ص']\n",
      "Prediction: «هرانشهر»| ['«', 'ه', 'ر', 'ا', 'ن', 'ش', 'ه', 'ر', '»'] | Target: «تهرانشهر» | ['«', 'ت', 'ه', 'ر', 'ا', 'ن', 'ش', 'ه', 'ر', '»']\n",
      "Prediction: تعهداتمان| ['ت', 'ع', 'ه', 'د', 'ا', 'ت', 'م', 'ا', 'ن'] | Target: تعهدات‌مان | ['ت', 'ع', 'ه', 'د', 'ا', 'ت', '\\u200c', 'م', 'ا', 'ن']\n",
      "Prediction: کرد،‌| ['ک', 'ر', 'د', '،', '\\u200c'] | Target: کرد، | ['ک', 'ر', 'د', '،']\n",
      "Prediction: تعاوزدانیان| ['ت', 'ع', 'ا', 'و', 'ز', 'د', 'ا', 'ن', 'ی', 'ا', 'ن'] | Target: تعاونزندانیان | ['ت', 'ع', 'ا', 'و', 'ن', 'ز', 'ن', 'د', 'ا', 'ن', 'ی', 'ا', 'ن']\n",
      "Prediction: لطف‌الهیان| ['ل', 'ط', 'ف', '\\u200c', 'ا', 'ل', 'ه', 'ی', 'ا', 'ن'] | Target: لطف‌اللهیان | ['ل', 'ط', 'ف', '\\u200c', 'ا', 'ل', 'ل', 'ه', 'ی', 'ا', 'ن']\n",
      "Prediction: طریقیپروژه‌های| ['ط', 'ر', 'ی', 'ق', 'ی', 'پ', 'ر', 'و', 'ژ', 'ه', '\\u200c', 'ه', 'ا', 'ی'] | Target: طریقپروژه‌های | ['ط', 'ر', 'ی', 'ق', 'پ', 'ر', 'و', 'ژ', 'ه', '\\u200c', 'ه', 'ا', 'ی']\n",
      "Prediction: باشم،حقی| ['ب', 'ا', 'ش', 'م', '،', 'ح', 'ق', 'ی'] | Target: باشم،حقوقی | ['ب', 'ا', 'ش', 'م', '،', 'ح', 'ق', 'و', 'ق', 'ی']\n",
      "Prediction: اپلیکین| ['ا', 'پ', 'ل', 'ی', 'ک', 'ی', 'ن'] | Target: اپلیکیشن‌ | ['ا', 'پ', 'ل', 'ی', 'ک', 'ی', 'ش', 'ن', '\\u200c']\n",
      "Prediction: برگرداز| ['ب', 'ر', 'گ', 'ر', 'د', 'ا', 'ز'] | Target: برگردد/از | ['ب', 'ر', 'گ', 'ر', 'د', 'د', '/', 'ا', 'ز']\n",
      "Prediction: (..)| ['(', '.', '.', ')'] | Target: ...) | ['.', '.', '.', ')']\n",
      "Prediction: مراقیبت‌های| ['م', 'ر', 'ا', 'ق', 'ی', 'ب', 'ت', '\\u200c', 'ه', 'ا', 'ی'] | Target: مراقبت‌های | ['م', 'ر', 'ا', 'ق', 'ب', 'ت', '\\u200c', 'ه', 'ا', 'ی']\n",
      "Prediction: است:«حملاتی| ['ا', 'س', 'ت', ':', '«', 'ح', 'م', 'ل', 'ا', 'ت', 'ی'] | Target: است؛حملاتی | ['ا', 'س', 'ت', '؛', 'ح', 'م', 'ل', 'ا', 'ت', 'ی']\n",
      "Prediction: دغدغهمی| ['د', 'غ', 'د', 'غ', 'ه', 'م', 'ی'] | Target: دغدغهمهمی | ['د', 'غ', 'د', 'غ', 'ه', 'م', 'ه', 'م', 'ی']\n",
      "Prediction: به‌خورده| ['ب', 'ه', '\\u200c', 'خ', 'و', 'ر', 'د', 'ه'] | Target: به‌هم‌خورده | ['ب', 'ه', '\\u200c', 'ه', 'م', '\\u200c', 'خ', 'و', 'ر', 'د', 'ه']\n",
      "Prediction: 95‌درصد| ['9', '5', '\\u200c', 'د', 'ر', 'ص', 'د'] | Target: 95درصد | ['9', '5', 'د', 'ر', 'ص', 'د']\n",
      "Prediction: دربرگفته| ['د', 'ر', 'ب', 'ر', 'گ', 'ف', 'ت', 'ه'] | Target: دربرگرفته | ['د', 'ر', 'ب', 'ر', 'گ', 'ر', 'ف', 'ت', 'ه']\n",
      "Prediction: وخیرین.و.| ['و', 'خ', 'ی', 'ر', 'ی', 'ن', '.', 'و', '.'] | Target: وخیرین)و... | ['و', 'خ', 'ی', 'ر', 'ی', 'ن', ')', 'و', '.', '.', '.']\n",
      "Prediction: اراده‌| ['ا', 'ر', 'ا', 'د', 'ه', '\\u200c'] | Target: اراده | ['ا', 'ر', 'ا', 'د', 'ه']\n",
      "Prediction: «مخفیگاه»| ['«', 'م', 'خ', 'ف', 'ی', 'گ', 'ا', 'ه', '»'] | Target: «‌مخفیگاه»‌ | ['«', '\\u200c', 'م', 'خ', 'ف', 'ی', 'گ', 'ا', 'ه', '»', '\\u200c']\n",
      "Prediction: للا| ['ل', 'ل', 'ا'] | Target: لا | ['ل', 'ا']\n",
      "Prediction: “شنبهشاهد| ['“', 'ش', 'ن', 'ب', 'ه', 'ش', 'ا', 'ه', 'د'] | Target: 3شنبهشاهد | ['3', 'ش', 'ن', 'ب', 'ه', 'ش', 'ا', 'ه', 'د']\n",
      "Prediction: حمله| ['ح', 'م', 'ل', 'ه'] | Target: حمله‌ | ['ح', 'م', 'ل', 'ه', '\\u200c']\n",
      "Prediction: «مال‌»ها| ['«', 'م', 'ا', 'ل', '\\u200c', '»', 'ه', 'ا'] | Target: «مال»‌ها | ['«', 'م', 'ا', 'ل', '»', '\\u200c', 'ه', 'ا']\n",
      "Prediction: مرکزیاتخاد| ['م', 'ر', 'ک', 'ز', 'ی', 'ا', 'ت', 'خ', 'ا', 'د'] | Target: مرکزیاتخاذ | ['م', 'ر', 'ک', 'ز', 'ی', 'ا', 'ت', 'خ', 'ا', 'ذ']\n",
      "Prediction: علائمثبت| ['ع', 'ل', 'ا', 'ئ', 'م', 'ث', 'ب', 'ت'] | Target: علائممثبت | ['ع', 'ل', 'ا', 'ئ', 'م', 'م', 'ث', 'ب', 'ت']\n",
      "Prediction: ساخت| ['س', 'ا', 'خ', 'ت'] | Target: ساخت‌ | ['س', 'ا', 'خ', 'ت', '\\u200c']\n",
      "Prediction: نیمه‌خومختتار| ['ن', 'ی', 'م', 'ه', '\\u200c', 'خ', 'و', 'م', 'خ', 'ت', 'ت', 'ا', 'ر'] | Target: نیمه‌خودمختار | ['ن', 'ی', 'م', 'ه', '\\u200c', 'خ', 'و', 'د', 'م', 'خ', 'ت', 'ا', 'ر']\n",
      "Prediction: اینکهمه| ['ا', 'ی', 'ن', 'ک', 'ه', 'م', 'ه'] | Target: اینکههمه | ['ا', 'ی', 'ن', 'ک', 'ه', 'ه', 'م', 'ه']\n",
      "Prediction: گراناد،| ['گ', 'ر', 'ا', 'ن', 'ا', 'د', '،'] | Target: گرانادا، | ['گ', 'ر', 'ا', 'ن', 'ا', 'د', 'ا', '،']\n",
      "Prediction: شاهچراغعدر| ['ش', 'ا', 'ه', 'چ', 'ر', 'ا', 'غ', 'ع', 'د', 'ر'] | Target: شاهچراغ(ع)در | ['ش', 'ا', 'ه', 'چ', 'ر', 'ا', 'غ', '(', 'ع', ')', 'د', 'ر']\n",
      "Prediction: اللبنیه| ['ا', 'ل', 'ل', 'ب', 'ن', 'ی', 'ه'] | Target: اللبنانیه | ['ا', 'ل', 'ل', 'ب', 'ن', 'ا', 'ن', 'ی', 'ه']\n",
      "Prediction: نخست‌| ['ن', 'خ', 'س', 'ت', '\\u200c'] | Target: نخست | ['ن', 'خ', 'س', 'ت']\n",
      "Prediction: «نتظفلیکس»| ['«', 'ن', 'ت', 'ظ', 'ف', 'ل', 'ی', 'ک', 'س', '»'] | Target: «نتفلیکس» | ['«', 'ن', 'ت', 'ف', 'ل', 'ی', 'ک', 'س', '»']\n",
      "Prediction: تلفن| ['ت', 'ل', 'ف', 'ن'] | Target: تلفن‌ | ['ت', 'ل', 'ف', 'ن', '\\u200c']\n",
      "Prediction: امنیتی| ['ا', 'م', 'ن', 'ی', 'ت', 'ی'] | Target: ‌امنیتی | ['\\u200c', 'ا', 'م', 'ن', 'ی', 'ت', 'ی']\n",
      "Prediction: محکم| ['م', 'ح', 'ک', 'م'] | Target: محکم‌ | ['م', 'ح', 'ک', 'م', '\\u200c']\n",
      "Prediction: کرد:اشتگی| ['ک', 'ر', 'د', ':', 'ا', 'ش', 'ت', 'گ', 'ی'] | Target: کرد:اشفتگی | ['ک', 'ر', 'د', ':', 'ا', 'ش', 'ف', 'ت', 'گ', 'ی']\n",
      "Prediction: شده‌ان،در| ['ش', 'د', 'ه', '\\u200c', 'ا', 'ن', '،', 'د', 'ر'] | Target: شده‌اند،در | ['ش', 'د', 'ه', '\\u200c', 'ا', 'ن', 'د', '،', 'د', 'ر']\n",
      "Prediction: مشقات| ['م', 'ش', 'ق', 'ا', 'ت'] | Target: مشتقات | ['م', 'ش', 'ت', 'ق', 'ا', 'ت']\n",
      "Prediction: 12نفر| ['1', '2', 'ن', 'ف', 'ر'] | Target: 2110نفر | ['2', '1', '1', '0', 'ن', 'ف', 'ر']\n",
      "Prediction: استاندارد| ['ا', 'س', 'ت', 'ا', 'ن', 'د', 'ا', 'ر', 'د'] | Target: ‌استاندارد | ['\\u200c', 'ا', 'س', 'ت', 'ا', 'ن', 'د', 'ا', 'ر', 'د']\n",
      "Prediction: مختوموفاا| ['م', 'خ', 'ت', 'و', 'م', 'و', 'ف', 'ا', 'ا'] | Target: مختوموفا | ['م', 'خ', 'ت', 'و', 'م', 'و', 'ف', 'ا']\n",
      "Prediction: بهداشت| ['ب', 'ه', 'د', 'ا', 'ش', 'ت'] | Target: بهدااشت | ['ب', 'ه', 'د', 'ا', 'ا', 'ش', 'ت']\n",
      "Prediction: عملی‌،| ['ع', 'م', 'ل', 'ی', '\\u200c', '،'] | Target: عملی، | ['ع', 'م', 'ل', 'ی', '،']\n",
      "Prediction: متعاقباا| ['م', 'ت', 'ع', 'ا', 'ق', 'ب', 'ا', 'ا'] | Target: متعاقبا | ['م', 'ت', 'ع', 'ا', 'ق', 'ب', 'ا']\n",
      "Prediction: (محدودیت| ['(', 'م', 'ح', 'د', 'و', 'د', 'ی', 'ت'] | Target: /محدودیت | ['/', 'م', 'ح', 'د', 'و', 'د', 'ی', 'ت']\n",
      "Prediction: دهند.| ['د', 'ه', 'ن', 'د', '.'] | Target: ‌دهند. | ['\\u200c', 'د', 'ه', 'ن', 'د', '.']\n",
      "Prediction: گرفته،| ['گ', 'ر', 'ف', 'ت', 'ه', '،'] | Target: گرفته‌، | ['گ', 'ر', 'ف', 'ت', 'ه', '\\u200c', '،']\n",
      "Prediction: دیدگاهایشان| ['د', 'ی', 'د', 'گ', 'ا', 'ه', 'ا', 'ی', 'ش', 'ا', 'ن'] | Target: دیدگاه‌هایشان | ['د', 'ی', 'د', 'گ', 'ا', 'ه', '\\u200c', 'ه', 'ا', 'ی', 'ش', 'ا', 'ن']\n",
      "Prediction: سال| ['س', 'ا', 'ل'] | Target: سال‌ | ['س', 'ا', 'ل', '\\u200c']\n",
      "Prediction: گسلمسب| ['گ', 'س', 'ل', 'م', 'س', 'ب'] | Target: گسلمسبب | ['گ', 'س', 'ل', 'م', 'س', 'ب', 'ب']\n",
      "Prediction: هستند،| ['ه', 'س', 'ت', 'ن', 'د', '،'] | Target: ‌هستند، | ['\\u200c', 'ه', 'س', 'ت', 'ن', 'د', '،']\n",
      "Prediction: غلت‌دولت| ['غ', 'ل', 'ت', '\\u200c', 'د', 'و', 'ل', 'ت'] | Target: غفلت‌دولت | ['غ', 'ف', 'ل', 'ت', '\\u200c', 'د', 'و', 'ل', 'ت']\n",
      "Prediction: گروره‌ایمتلف| ['گ', 'ر', 'و', 'ر', 'ه', '\\u200c', 'ا', 'ی', 'م', 'ت', 'ل', 'ف'] | Target: گروه‌هایمختلف | ['گ', 'ر', 'و', 'ه', '\\u200c', 'ه', 'ا', 'ی', 'م', 'خ', 'ت', 'ل', 'ف']\n",
      "Prediction: درخرسانشعالی| ['د', 'ر', 'خ', 'ر', 'س', 'ا', 'ن', 'ش', 'ع', 'ا', 'ل', 'ی'] | Target: درخراسان‌شمالی | ['د', 'ر', 'خ', 'ر', 'ا', 'س', 'ا', 'ن', '\\u200c', 'ش', 'م', 'ا', 'ل', 'ی']\n",
      "Prediction: بدهیمبدیهی| ['ب', 'د', 'ه', 'ی', 'م', 'ب', 'د', 'ی', 'ه', 'ی'] | Target: بدهیم.بدیهی | ['ب', 'د', 'ه', 'ی', 'م', '.', 'ب', 'د', 'ی', 'ه', 'ی']\n",
      "Prediction: ایلخانیمتسب| ['ا', 'ی', 'ل', 'خ', 'ا', 'ن', 'ی', 'م', 'ت', 'س', 'ب'] | Target: ایلخانیمنتسب | ['ا', 'ی', 'ل', 'خ', 'ا', 'ن', 'ی', 'م', 'ن', 'ت', 'س', 'ب']\n",
      "Prediction: دوازدهم،رانه| ['د', 'و', 'ا', 'ز', 'د', 'ه', 'م', '،', 'ر', 'ا', 'ن', 'ه'] | Target: دوازدهم،ارائه | ['د', 'و', 'ا', 'ز', 'د', 'ه', 'م', '،', 'ا', 'ر', 'ا', 'ئ', 'ه']\n",
      "Prediction: چندماه‌ی| ['چ', 'ن', 'د', 'م', 'ا', 'ه', '\\u200c', 'ی'] | Target: چندماهه‌ی | ['چ', 'ن', 'د', 'م', 'ا', 'ه', 'ه', '\\u200c', 'ی']\n",
      "Prediction: جمعا،| ['ج', 'م', 'ع', 'ا', '،'] | Target: جمعاا، | ['ج', 'م', 'ع', 'ا', 'ا', '،']\n",
      "Prediction: نمی‌توانم»| ['ن', 'م', 'ی', '\\u200c', 'ت', 'و', 'ا', 'ن', 'م', '»'] | Target: نمی‌توانم.» | ['ن', 'م', 'ی', '\\u200c', 'ت', 'و', 'ا', 'ن', 'م', '.', '»']\n",
      "Prediction: ووا| ['و', 'و', 'ا'] | Target: وا | ['و', 'ا']\n",
      "Prediction: «فلسین»| ['«', 'ف', 'ل', 'س', 'ی', 'ن', '»'] | Target: «فلسطین» | ['«', 'ف', 'ل', 'س', 'ط', 'ی', 'ن', '»']\n",
      "Prediction: سیاست‌| ['س', 'ی', 'ا', 'س', 'ت', '\\u200c'] | Target: سیاست | ['س', 'ی', 'ا', 'س', 'ت']\n",
      "Prediction: هیچ| ['ه', 'ی', 'چ'] | Target: هیچ‌ | ['ه', 'ی', 'چ', '\\u200c']\n",
      "Prediction: اسباب‌بازی| ['ا', 'س', 'ب', 'ا', 'ب', '\\u200c', 'ب', 'ا', 'ز', 'ی'] | Target: اسباب‌بازی‌ | ['ا', 'س', 'ب', 'ا', 'ب', '\\u200c', 'ب', 'ا', 'ز', 'ی', '\\u200c']\n",
      "Prediction: کنم‌.| ['ک', 'ن', 'م', '\\u200c', '.'] | Target: کنم. | ['ک', 'ن', 'م', '.']\n",
      "Prediction: می‌واندنباله| ['م', 'ی', '\\u200c', 'و', 'ا', 'ن', 'د', 'ن', 'ب', 'ا', 'ل', 'ه'] | Target: می‌توانددنباله | ['م', 'ی', '\\u200c', 'ت', 'و', 'ا', 'ن', 'د', 'د', 'ن', 'ب', 'ا', 'ل', 'ه']\n",
      "Prediction: مسترز(221| ['م', 'س', 'ت', 'ر', 'ز', '(', '2', '2', '1'] | Target: مسترز2021 | ['م', 'س', 'ت', 'ر', 'ز', '2', '0', '2', '1']\n",
      "Prediction: ملت(طین)| ['م', 'ل', 'ت', '(', 'ط', 'ی', 'ن', ')'] | Target: ملت(فلسطین) | ['م', 'ل', 'ت', '(', 'ف', 'ل', 'س', 'ط', 'ی', 'ن', ')']\n",
      "Prediction: فلوید،| ['ف', 'ل', 'و', 'ی', 'د', '،'] | Target: فلوید،‌ | ['ف', 'ل', 'و', 'ی', 'د', '،', '\\u200c']\n",
      "Prediction: می‌کردباره| ['م', 'ی', '\\u200c', 'ک', 'ر', 'د', 'ب', 'ا', 'ر', 'ه'] | Target: می‌کرد،درباره | ['م', 'ی', '\\u200c', 'ک', 'ر', 'د', '،', 'د', 'ر', 'ب', 'ا', 'ر', 'ه']\n",
      "Prediction: دکترکاکولند| ['د', 'ک', 'ت', 'ر', 'ک', 'ا', 'ک', 'و', 'ل', 'ن', 'د'] | Target: دکترکاکولوند | ['د', 'ک', 'ت', 'ر', 'ک', 'ا', 'ک', 'و', 'ل', 'و', 'ن', 'د']\n",
      "Prediction: دیده‌شون»‌شیاید| ['د', 'ی', 'د', 'ه', '\\u200c', 'ش', 'و', 'ن', '»', '\\u200c', 'ش', 'ی', 'ا', 'ی', 'د'] | Target: دیده‌شون،شاید | ['د', 'ی', 'د', 'ه', '\\u200c', 'ش', 'و', 'ن', '،', 'ش', 'ا', 'ی', 'د']\n",
      "Prediction: منسوخ‌| ['م', 'ن', 'س', 'و', 'خ', '\\u200c'] | Target: منسوخ | ['م', 'ن', 'س', 'و', 'خ']\n",
      "Prediction: گریشام»| ['گ', 'ر', 'ی', 'ش', 'ا', 'م', '»'] | Target: گریشام»‌ | ['گ', 'ر', 'ی', 'ش', 'ا', 'م', '»', '\\u200c']\n",
      "Prediction: ‌زودی| ['\\u200c', 'ز', 'و', 'د', 'ی'] | Target: زودی | ['ز', 'و', 'د', 'ی']\n",
      "Prediction: ضمنا| ['ض', 'م', 'ن', 'ا'] | Target: ضمناا | ['ض', 'م', 'ن', 'ا', 'ا']\n",
      "Prediction: کندا!»| ['ک', 'ن', 'د', 'ا', '!', '»'] | Target: کند!» | ['ک', 'ن', 'د', '!', '»']\n",
      "Prediction: درائشتلاف| ['د', 'ر', 'ا', 'ئ', 'ش', 'ت', 'ل', 'ا', 'ف'] | Target: درائتلاف | ['د', 'ر', 'ا', 'ئ', 'ت', 'ل', 'ا', 'ف']\n",
      "Prediction: کنیم،| ['ک', 'ن', 'ی', 'م', '،'] | Target: کنیم.، | ['ک', 'ن', 'ی', 'م', '.', '،']\n",
      "Prediction: بعدی| ['ب', 'ع', 'د', 'ی'] | Target: بعدی‌ | ['ب', 'ع', 'د', 'ی', '\\u200c']\n",
      "Prediction: ‌شوند| ['\\u200c', 'ش', 'و', 'ن', 'د'] | Target: شوند | ['ش', 'و', 'ن', 'د']\n",
      "Prediction: رییسنیاد| ['ر', 'ی', 'ی', 'س', 'ن', 'ی', 'ا', 'د'] | Target: رییسبنیاد | ['ر', 'ی', 'ی', 'س', 'ب', 'ن', 'ی', 'ا', 'د']\n",
      "Prediction: خبرسانی| ['خ', 'ب', 'ر', 'س', 'ا', 'ن', 'ی'] | Target: خبررسانی | ['خ', 'ب', 'ر', 'ر', 'س', 'ا', 'ن', 'ی']\n",
      "Prediction: لطفاا| ['ل', 'ط', 'ف', 'ا', 'ا'] | Target: لطفا | ['ل', 'ط', 'ف', 'ا']\n",
      "Prediction: رو| ['ر', 'و'] | Target: ‌رو | ['\\u200c', 'ر', 'و']\n",
      "Prediction: قامن‌الائمه| ['ق', 'ا', 'م', 'ن', '\\u200c', 'ا', 'ل', 'ا', 'ئ', 'م', 'ه'] | Target: ثامن‌الائمه | ['ث', 'ا', 'م', 'ن', '\\u200c', 'ا', 'ل', 'ا', 'ئ', 'م', 'ه']\n",
      "Prediction: اذر/دما| ['ا', 'ذ', 'ر', '/', 'د', 'م', 'ا'] | Target: اذر)دما | ['ا', 'ذ', 'ر', ')', 'د', 'م', 'ا']\n",
      "Prediction: خطوطمحدیتی| ['خ', 'ط', 'و', 'ط', 'م', 'ح', 'د', 'ی', 'ت', 'ی'] | Target: خطوطمحدودیتی | ['خ', 'ط', 'و', 'ط', 'م', 'ح', 'د', 'و', 'د', 'ی', 'ت', 'ی']\n",
      "Prediction: جهادانشگاهی،| ['ج', 'ه', 'ا', 'د', 'ا', 'ن', 'ش', 'گ', 'ا', 'ه', 'ی', '،'] | Target: جهاددانشگاهی، | ['ج', 'ه', 'ا', 'د', 'د', 'ا', 'ن', 'ش', 'گ', 'ا', 'ه', 'ی', '،']\n",
      "Prediction: راعتمادی| ['ر', 'ا', 'ع', 'ت', 'م', 'ا', 'د', 'ی'] | Target: ر.اعتمادی | ['ر', '.', 'ا', 'ع', 'ت', 'م', 'ا', 'د', 'ی']\n",
      "Prediction: گردشگری| ['گ', 'ر', 'د', 'ش', 'گ', 'ر', 'ی'] | Target: گردشگری‌ | ['گ', 'ر', 'د', 'ش', 'گ', 'ر', 'ی', '\\u200c']\n",
      "Prediction: گیرنده| ['گ', 'ی', 'ر', 'ن', 'د', 'ه'] | Target: گیرنده‌ | ['گ', 'ی', 'ر', 'ن', 'د', 'ه', '\\u200c']\n",
      "Prediction: 00236508| ['0', '0', '2', '3', '6', '5', '0', '8'] | Target: 09023659080 | ['0', '9', '0', '2', '3', '6', '5', '9', '0', '8', '0']\n",
      "Prediction: منابع| ['م', 'ن', 'ا', 'ب', 'ع'] | Target: منابع‌ | ['م', 'ن', 'ا', 'ب', 'ع', '\\u200c']\n",
      "Prediction: موقع| ['م', 'و', 'ق', 'ع'] | Target: ‌موقع | ['\\u200c', 'م', 'و', 'ق', 'ع']\n",
      "Prediction: امده‌ایمچوب| ['ا', 'م', 'د', 'ه', '\\u200c', 'ا', 'ی', 'م', 'چ', 'و', 'ب'] | Target: امده‌ایم،چوب | ['ا', 'م', 'د', 'ه', '\\u200c', 'ا', 'ی', 'م', '،', 'چ', 'و', 'ب']\n",
      "Prediction: قراخالوریس| ['ق', 'ر', 'ا', 'خ', 'ا', 'ل', 'و', 'ر', 'ی', 'س'] | Target: قراخانلو،رییس | ['ق', 'ر', 'ا', 'خ', 'ا', 'ن', 'ل', 'و', '،', 'ر', 'ی', 'ی', 'س']\n",
      "Prediction: استگادیات،| ['ا', 'س', 'ت', 'گ', 'ا', 'د', 'ی', 'ا', 'ت', '،'] | Target: است؛ادبیات، | ['ا', 'س', 'ت', '؛', 'ا', 'د', 'ب', 'ی', 'ا', 'ت', '،']\n",
      "Prediction: 19نفر| ['1', '9', 'ن', 'ف', 'ر'] | Target: 1911نفر | ['1', '9', '1', '1', 'ن', 'ف', 'ر']\n",
      "Prediction: نبوده| ['ن', 'ب', 'و', 'د', 'ه'] | Target: نبود‌ه | ['ن', 'ب', 'و', 'د', '\\u200c', 'ه']\n",
      "Prediction: رشتهستیم.| ['ر', 'ش', 'ت', 'ه', 'س', 'ت', 'ی', 'م', '.'] | Target: رشتههستیم. | ['ر', 'ش', 'ت', 'ه', 'ه', 'س', 'ت', 'ی', 'م', '.']\n",
      "Prediction: 5.متر| ['5', '.', 'م', 'ت', 'ر'] | Target: 5.2متر | ['5', '.', '2', 'م', 'ت', 'ر']\n",
      "Prediction: ‌دلیل| ['\\u200c', 'د', 'ل', 'ی', 'ل'] | Target: دلیل | ['د', 'ل', 'ی', 'ل']\n",
      "Prediction: بحمدله| ['ب', 'ح', 'م', 'د', 'ل', 'ه'] | Target: بحمدلله | ['ب', 'ح', 'م', 'د', 'ل', 'ل', 'ه']\n",
      "Prediction: کرماشا/ه،پرسی| ['ک', 'ر', 'م', 'ا', 'ش', 'ا', '/', 'ه', '،', 'پ', 'ر', 'س', 'ی'] | Target: کرمانشاه/بررسی | ['ک', 'ر', 'م', 'ا', 'ن', 'ش', 'ا', 'ه', '/', 'ب', 'ر', 'ر', 'س', 'ی']\n",
      "Prediction: 5گانه| ['5', 'گ', 'ا', 'ن', 'ه'] | Target: 15‌گانه | ['1', '5', '\\u200c', 'گ', 'ا', 'ن', 'ه']\n",
      "Prediction: ‌کاغذی| ['\\u200c', 'ک', 'ا', 'غ', 'ذ', 'ی'] | Target: کاغذی | ['ک', 'ا', 'غ', 'ذ', 'ی']\n",
      "Prediction: «محمدرسولل| ['«', 'م', 'ح', 'م', 'د', 'ر', 'س', 'و', 'ل', 'ل'] | Target: «محمدرسول | ['«', 'م', 'ح', 'م', 'د', 'ر', 'س', 'و', 'ل']\n",
      "Prediction: تغفسیل| ['ت', 'غ', 'ف', 'س', 'ی', 'ل'] | Target: تغسیل | ['ت', 'غ', 'س', 'ی', 'ل']\n",
      "Prediction: خدادردی(رضبه| ['خ', 'د', 'ا', 'د', 'ر', 'د', 'ی', '(', 'ر', 'ض', 'ب', 'ه'] | Target: خداوردی(مرضیه | ['خ', 'د', 'ا', 'و', 'ر', 'د', 'ی', '(', 'م', 'ر', 'ض', 'ی', 'ه']\n",
      "Prediction: شخصا| ['ش', 'خ', 'ص', 'ا'] | Target: شخصاا | ['ش', 'خ', 'ص', 'ا', 'ا']\n",
      "Prediction: نگ‌داشه‌اند،| ['ن', 'گ', '\\u200c', 'د', 'ا', 'ش', 'ه', '\\u200c', 'ا', 'ن', 'د', '،'] | Target: نگه‌داشته‌اند، | ['ن', 'گ', 'ه', '\\u200c', 'د', 'ا', 'ش', 'ت', 'ه', '\\u200c', 'ا', 'ن', 'د', '،']\n",
      "Prediction: درتورنمتی| ['د', 'ر', 'ت', 'و', 'ر', 'ن', 'م', 'ت', 'ی'] | Target: درتورنمنتی | ['د', 'ر', 'ت', 'و', 'ر', 'ن', 'م', 'ن', 'ت', 'ی']\n",
      "Prediction: قوه| ['ق', 'و', 'ه'] | Target: قوه‌ | ['ق', 'و', 'ه', '\\u200c']\n",
      "Prediction: نبیند| ['ن', 'ب', 'ی', 'ن', 'د'] | Target: نبینند | ['ن', 'ب', 'ی', 'ن', 'ن', 'د']\n",
      "Prediction: لطف‌الهکه| ['ل', 'ط', 'ف', '\\u200c', 'ا', 'ل', 'ه', 'ک', 'ه'] | Target: لطف‌اللهکه | ['ل', 'ط', 'ف', '\\u200c', 'ا', 'ل', 'ل', 'ه', 'ک', 'ه']\n",
      "Prediction: بوده،| ['ب', 'و', 'د', 'ه', '،'] | Target: بوده‌، | ['ب', 'و', 'د', 'ه', '\\u200c', '،']\n",
      "Prediction: نفتی..| ['ن', 'ف', 'ت', 'ی', '.', '.'] | Target: نفتی... | ['ن', 'ف', 'ت', 'ی', '.', '.', '.']\n",
      "Prediction: تست‌| ['ت', 'س', 'ت', '\\u200c'] | Target: تست | ['ت', 'س', 'ت']\n",
      "Prediction: اینده(3| ['ا', 'ی', 'ن', 'د', 'ه', '(', '3'] | Target: اینده(23 | ['ا', 'ی', 'ن', 'د', 'ه', '(', '2', '3']\n",
      "Prediction: 19| ['1', '9'] | Target: 1،9 | ['1', '،', '9']\n",
      "Prediction: بی‌اطلاغ| ['ب', 'ی', '\\u200c', 'ا', 'ط', 'ل', 'ا', 'غ'] | Target: بی‌اطلاع | ['ب', 'ی', '\\u200c', 'ا', 'ط', 'ل', 'ا', 'ع']\n",
      "Prediction: شهبه‌نظامیان| ['ش', 'ه', 'ب', 'ه', '\\u200c', 'ن', 'ظ', 'ا', 'م', 'ی', 'ا', 'ن'] | Target: شبه‌نظامیان | ['ش', 'ب', 'ه', '\\u200c', 'ن', 'ظ', 'ا', 'م', 'ی', 'ا', 'ن']\n",
      "Prediction: گذشته‌4| ['گ', 'ذ', 'ش', 'ت', 'ه', '\\u200c', '4'] | Target: گذشته64 | ['گ', 'ذ', 'ش', 'ت', 'ه', '6', '4']\n",
      "Prediction: ادیمقراطی| ['ا', 'د', 'ی', 'م', 'ق', 'ر', 'ا', 'ط', 'ی'] | Target: الدیموقراطی | ['ا', 'ل', 'د', 'ی', 'م', 'و', 'ق', 'ر', 'ا', 'ط', 'ی']\n",
      "Prediction: فتای20| ['ف', 'ت', 'ا', 'ی', '2', '0'] | Target: فتایی20 | ['ف', 'ت', 'ا', 'ی', 'ی', '2', '0']\n",
      "Prediction: شدا/| ['ش', 'د', 'ا', '/'] | Target: شد!/ | ['ش', 'د', '!', '/']\n",
      "Prediction: 10میلیارد| ['1', '0', 'م', 'ی', 'ل', 'ی', 'ا', 'ر', 'د'] | Target: 120میلیارد | ['1', '2', '0', 'م', 'ی', 'ل', 'ی', 'ا', 'ر', 'د']\n",
      "Prediction: دهه| ['د', 'ه', 'ه'] | Target: دهه‌ | ['د', 'ه', 'ه', '\\u200c']\n",
      "Prediction: منه،دیده| ['م', 'ن', 'ه', '،', 'د', 'ی', 'د', 'ه'] | Target: من»دیده | ['م', 'ن', '»', 'د', 'ی', 'د', 'ه']\n",
      "Prediction: استولتبرگ| ['ا', 'س', 'ت', 'و', 'ل', 'ت', 'ب', 'ر', 'گ'] | Target: استولتنبرگ | ['ا', 'س', 'ت', 'و', 'ل', 'ت', 'ن', 'ب', 'ر', 'گ']\n",
      "Prediction: نظارت| ['ن', 'ظ', 'ا', 'ر', 'ت'] | Target: ‌نظارت | ['\\u200c', 'ن', 'ظ', 'ا', 'ر', 'ت']\n",
      "Prediction: نیویورکتامیم،| ['ن', 'ی', 'و', 'ی', 'و', 'ر', 'ک', 'ت', 'ا', 'م', 'ی', 'م', '،'] | Target: نیویورک‌تایمز، | ['ن', 'ی', 'و', 'ی', 'و', 'ر', 'ک', '\\u200c', 'ت', 'ا', 'ی', 'م', 'ز', '،']\n",
      "Prediction: استارتایها| ['ا', 'س', 'ت', 'ا', 'ر', 'ت', 'ا', 'ی', 'ه', 'ا'] | Target: استارتاپها | ['ا', 'س', 'ت', 'ا', 'ر', 'ت', 'ا', 'پ', 'ه', 'ا']\n",
      "Prediction: شهرداری20| ['ش', 'ه', 'ر', 'د', 'ا', 'ر', 'ی', '2', '0'] | Target: شهرداری120 | ['ش', 'ه', 'ر', 'د', 'ا', 'ر', 'ی', '1', '2', '0']\n",
      "Prediction: 6.سرویس| ['6', '.', 'س', 'ر', 'و', 'ی', 'س'] | Target: 6/سرویس | ['6', '/', 'س', 'ر', 'و', 'ی', 'س']\n",
      "Prediction: قیمت‌هاخترین| ['ق', 'ی', 'م', 'ت', '\\u200c', 'ه', 'ا', 'خ', 'ت', 'ر', 'ی', 'ن'] | Target: قیمت‌هااخرین | ['ق', 'ی', 'م', 'ت', '\\u200c', 'ه', 'ا', 'ا', 'خ', 'ر', 'ی', 'ن']\n",
      "Prediction: ماندابلالو،| ['م', 'ا', 'ن', 'د', 'ا', 'ب', 'ل', 'ا', 'ل', 'و', '،'] | Target: مانندالبالو، | ['م', 'ا', 'ن', 'ن', 'د', 'ا', 'ل', 'ب', 'ا', 'ل', 'و', '،']\n",
      "Prediction: نمایش‌داودیسه| ['ن', 'م', 'ا', 'ی', 'ش', '\\u200c', 'د', 'ا', 'و', 'د', 'ی', 'س', 'ه'] | Target: نمایش«اودیسه | ['ن', 'م', 'ا', 'ی', 'ش', '«', 'ا', 'و', 'د', 'ی', 'س', 'ه']\n",
      "Prediction: ‌دز| ['\\u200c', 'د', 'ز'] | Target: دز | ['د', 'ز']\n",
      "Prediction: ماسک| ['م', 'ا', 'س', 'ک'] | Target: ماسک‌ | ['م', 'ا', 'س', 'ک', '\\u200c']\n",
      "Prediction: 2خرداد| ['2', 'خ', 'ر', 'د', 'ا', 'د'] | Target: 27خرداد | ['2', '7', 'خ', 'ر', 'د', 'ا', 'د']\n",
      "Prediction: بهر‌گیری| ['ب', 'ه', 'ر', '\\u200c', 'گ', 'ی', 'ر', 'ی'] | Target: بهره‌گیری | ['ب', 'ه', 'ر', 'ه', '\\u200c', 'گ', 'ی', 'ر', 'ی']\n",
      "Prediction: می‌کند،گفت:| ['م', 'ی', '\\u200c', 'ک', 'ن', 'د', '،', 'گ', 'ف', 'ت', ':'] | Target: می‌کنند،گفت: | ['م', 'ی', '\\u200c', 'ک', 'ن', 'ن', 'د', '،', 'گ', 'ف', 'ت', ':']\n",
      "Prediction: «.| ['«', '.'] | Target: .» | ['.', '»']\n",
      "Prediction: *نمیتوانید| ['*', 'ن', 'م', 'ی', 'ت', 'و', 'ا', 'ن', 'ی', 'د'] | Target: *نمی‌توانید | ['*', 'ن', 'م', 'ی', '\\u200c', 'ت', 'و', 'ا', 'ن', 'ی', 'د']\n",
      "Prediction: درتیجهتدابیر| ['د', 'ر', 'ت', 'ی', 'ج', 'ه', 'ت', 'د', 'ا', 'ب', 'ی', 'ر'] | Target: درنتیجهتدابیر | ['د', 'ر', 'ن', 'ت', 'ی', 'ج', 'ه', 'ت', 'د', 'ا', 'ب', 'ی', 'ر']\n",
      "Prediction: اینچ‌طر| ['ا', 'ی', 'ن', 'چ', '\\u200c', 'ط', 'ر'] | Target: اینچ‌قطر | ['ا', 'ی', 'ن', 'چ', '\\u200c', 'ق', 'ط', 'ر']\n",
      "Prediction: سینماهای| ['س', 'ی', 'ن', 'م', 'ا', 'ه', 'ا', 'ی'] | Target: سینما‌های | ['س', 'ی', 'ن', 'م', 'ا', '\\u200c', 'ه', 'ا', 'ی']\n",
      "Prediction: «اصلا| ['«', 'ا', 'ص', 'ل', 'ا'] | Target: «اصلاا | ['«', 'ا', 'ص', 'ل', 'ا', 'ا']\n",
      "Prediction: ودوارد| ['و', 'د', 'و', 'ا', 'ر', 'د'] | Target: وودوارد | ['و', 'و', 'د', 'و', 'ا', 'ر', 'د']\n",
      "Prediction: مضطرب‌بودن| ['م', 'ض', 'ط', 'ر', 'ب', '\\u200c', 'ب', 'و', 'د', 'ن'] | Target: «مضطرب‌بودن | ['«', 'م', 'ض', 'ط', 'ر', 'ب', '\\u200c', 'ب', 'و', 'د', 'ن']\n",
      "Prediction: خراسانجنوی،»وی| ['خ', 'ر', 'ا', 'س', 'ا', 'ن', 'ج', 'ن', 'و', 'ی', '،', '»', 'و', 'ی'] | Target: خراسانجنوبی،وی | ['خ', 'ر', 'ا', 'س', 'ا', 'ن', 'ج', 'ن', 'و', 'ب', 'ی', '،', 'و', 'ی']\n",
      "Prediction: فک‌الافلاک| ['ف', 'ک', '\\u200c', 'ا', 'ل', 'ا', 'ف', 'ل', 'ا', 'ک'] | Target: فلک‌الافلاک‌ | ['ف', 'ل', 'ک', '\\u200c', 'ا', 'ل', 'ا', 'ف', 'ل', 'ا', 'ک', '\\u200c']\n",
      "Prediction: مهرماه9،| ['م', 'ه', 'ر', 'م', 'ا', 'ه', '9', '،'] | Target: مهرماه99، | ['م', 'ه', 'ر', 'م', 'ا', 'ه', '9', '9', '،']\n",
      "Prediction: همهمعلممن،| ['ه', 'م', 'ه', 'م', 'ع', 'ل', 'م', 'م', 'ن', '،'] | Target: همهمعلمان، | ['ه', 'م', 'ه', 'م', 'ع', 'ل', 'م', 'ا', 'ن', '،']\n",
      "Prediction: حتما| ['ح', 'ت', 'م', 'ا'] | Target: حتماا | ['ح', 'ت', 'م', 'ا', 'ا']\n",
      "Prediction: مسافریمان| ['م', 'س', 'ا', 'ف', 'ر', 'ی', 'م', 'ا', 'ن'] | Target: مسافربریمان | ['م', 'س', 'ا', 'ف', 'ر', 'ب', 'ر', 'ی', 'م', 'ا', 'ن']\n",
      "Prediction: ‌در| ['\\u200c', 'د', 'ر'] | Target: در‌ | ['د', 'ر', '\\u200c']\n",
      "Prediction: وایشارگران| ['و', 'ا', 'ی', 'ش', 'ا', 'ر', 'گ', 'ر', 'ا', 'ن'] | Target: وایثارگران | ['و', 'ا', 'ی', 'ث', 'ا', 'ر', 'گ', 'ر', 'ا', 'ن']\n",
      "Prediction: سلطان| ['س', 'ل', 'ط', 'ا', 'ن'] | Target: سلطان‌ | ['س', 'ل', 'ط', 'ا', 'ن', '\\u200c']\n",
      "Prediction: بلندمدت| ['ب', 'ل', 'ن', 'د', 'م', 'د', 'ت'] | Target: بلندمدت‌ | ['ب', 'ل', 'ن', 'د', 'م', 'د', 'ت', '\\u200c']\n",
      "Prediction: فنوباربیتتال| ['ف', 'ن', 'و', 'ب', 'ا', 'ر', 'ب', 'ی', 'ت', 'ت', 'ا', 'ل'] | Target: فنوباربیتال | ['ف', 'ن', 'و', 'ب', 'ا', 'ر', 'ب', 'ی', 'ت', 'ا', 'ل']\n",
      "Prediction: گفته‌| ['گ', 'ف', 'ت', 'ه', '\\u200c'] | Target: گفته | ['گ', 'ف', 'ت', 'ه']\n",
      "Prediction: 112ندای| ['1', '1', '2', 'ن', 'د', 'ا', 'ی'] | Target: 112(ندای | ['1', '1', '2', '(', 'ن', 'د', 'ا', 'ی']\n",
      "Prediction: روزنامه‌گاران| ['ر', 'و', 'ز', 'ن', 'ا', 'م', 'ه', '\\u200c', 'گ', 'ا', 'ر', 'ا', 'ن'] | Target: روزنامه‌نگاران | ['ر', 'و', 'ز', 'ن', 'ا', 'م', 'ه', '\\u200c', 'ن', 'گ', 'ا', 'ر', 'ا', 'ن']\n",
      "Prediction: محرومیتزایی| ['م', 'ح', 'ر', 'و', 'م', 'ی', 'ت', 'ز', 'ا', 'ی', 'ی'] | Target: محرومیت‌زدایی | ['م', 'ح', 'ر', 'و', 'م', 'ی', 'ت', '\\u200c', 'ز', 'د', 'ا', 'ی', 'ی']\n",
      "Prediction: کشور«| ['ک', 'ش', 'و', 'ر', '«'] | Target: کشور+ | ['ک', 'ش', 'و', 'ر', '+']\n",
      "Prediction: نها| ['ن', 'ه', 'ا'] | Target: نه! | ['ن', 'ه', '!']\n",
      "Prediction: 1515میلیارد| ['1', '5', '1', '5', 'م', 'ی', 'ل', 'ی', 'ا', 'ر', 'د'] | Target: 125.4میلیارد | ['1', '2', '5', '.', '4', 'م', 'ی', 'ل', 'ی', 'ا', 'ر', 'د']\n",
      "Prediction: 4| ['4'] | Target: “ | ['“']\n",
      "Prediction: گفت:اقدامت| ['گ', 'ف', 'ت', ':', 'ا', 'ق', 'د', 'ا', 'م', 'ت'] | Target: گفت:اقدامات | ['گ', 'ف', 'ت', ':', 'ا', 'ق', 'د', 'ا', 'م', 'ا', 'ت']\n",
      "Prediction: بدالهمحبی| ['ب', 'د', 'ا', 'ل', 'ه', 'م', 'ح', 'ب', 'ی'] | Target: یداللهمحبی | ['ی', 'د', 'ا', 'ل', 'ل', 'ه', 'م', 'ح', 'ب', 'ی']\n",
      "Prediction: ناهامهنگی‌هایی| ['ن', 'ا', 'ه', 'ا', 'م', 'ه', 'ن', 'گ', 'ی', '\\u200c', 'ه', 'ا', 'ی', 'ی'] | Target: ناهماهنگی‌هایی | ['ن', 'ا', 'ه', 'م', 'ا', 'ه', 'ن', 'گ', 'ی', '\\u200c', 'ه', 'ا', 'ی', 'ی']\n",
      "Prediction: حمل‌ونقلل| ['ح', 'م', 'ل', '\\u200c', 'و', 'ن', 'ق', 'ل', 'ل'] | Target: حمل‌ونقل | ['ح', 'م', 'ل', '\\u200c', 'و', 'ن', 'ق', 'ل']\n",
      "Prediction: مرنفاوری‌های| ['م', 'ر', 'ن', 'ف', 'ا', 'و', 'ر', 'ی', '\\u200c', 'ه', 'ا', 'ی'] | Target: مرکزفناوری‌های | ['م', 'ر', 'ک', 'ز', 'ف', 'ن', 'ا', 'و', 'ر', 'ی', '\\u200c', 'ه', 'ا', 'ی']\n",
      "Prediction: مشخصاا| ['م', 'ش', 'خ', 'ص', 'ا', 'ا'] | Target: مشخصا | ['م', 'ش', 'خ', 'ص', 'ا']\n",
      "Prediction: سه‌جانه‌ای| ['س', 'ه', '\\u200c', 'ج', 'ا', 'ن', 'ه', '\\u200c', 'ا', 'ی'] | Target: سه‌جانبه‌ای | ['س', 'ه', '\\u200c', 'ج', 'ا', 'ن', 'ب', 'ه', '\\u200c', 'ا', 'ی']\n",
      "Prediction: تعداد9| ['ت', 'ع', 'د', 'ا', 'د', '9'] | Target: تعداد298 | ['ت', 'ع', 'د', 'ا', 'د', '2', '9', '8']\n",
      "Prediction: ‌طور| ['\\u200c', 'ط', 'و', 'ر'] | Target: طور | ['ط', 'و', 'ر']\n",
      "Prediction: انتقال| ['ا', 'ن', 'ت', 'ق', 'ا', 'ل'] | Target: انتقال‌ | ['ا', 'ن', 'ت', 'ق', 'ا', 'ل', '\\u200c']\n",
      "Prediction: قدردانی| ['ق', 'د', 'ر', 'د', 'ا', 'ن', 'ی'] | Target: قدردانی‌ | ['ق', 'د', 'ر', 'د', 'ا', 'ن', 'ی', '\\u200c']\n",
      "Prediction: دوچرخه‌واان| ['د', 'و', 'چ', 'ر', 'خ', 'ه', '\\u200c', 'و', 'ا', 'ا', 'ن'] | Target: دوچرخه‌سواران | ['د', 'و', 'چ', 'ر', 'خ', 'ه', '\\u200c', 'س', 'و', 'ا', 'ر', 'ا', 'ن']\n",
      "Prediction: نشسته| ['ن', 'ش', 'س', 'ت', 'ه'] | Target: نشسته‌ | ['ن', 'ش', 'س', 'ت', 'ه', '\\u200c']\n",
      "Prediction: نفو،| ['ن', 'ف', 'و', '،'] | Target: نفوذ، | ['ن', 'ف', 'و', 'ذ', '،']\n",
      "Prediction: دراستانجود| ['د', 'ر', 'ا', 'س', 'ت', 'ا', 'ن', 'ج', 'و', 'د'] | Target: دراستانوجود | ['د', 'ر', 'ا', 'س', 'ت', 'ا', 'ن', 'و', 'ج', 'و', 'د']\n",
      "Prediction: شدباشاره| ['ش', 'د', 'ب', 'ا', 'ش', 'ا', 'ر', 'ه'] | Target: شدبااشاره | ['ش', 'د', 'ب', 'ا', 'ا', 'ش', 'ا', 'ر', 'ه']\n",
      "Prediction: اب‌اکسیننه| ['ا', 'ب', '\\u200c', 'ا', 'ک', 'س', 'ی', 'ن', 'ن', 'ه'] | Target: اب‌اکسیژنه | ['ا', 'ب', '\\u200c', 'ا', 'ک', 'س', 'ی', 'ژ', 'ن', 'ه']\n",
      "Prediction: پنپارکینگ| ['پ', 'ن', 'پ', 'ا', 'ر', 'ک', 'ی', 'ن', 'گ'] | Target: پنجپارکینگ | ['پ', 'ن', 'ج', 'پ', 'ا', 'ر', 'ک', 'ی', 'ن', 'گ']\n",
      "Prediction: پژو40| ['پ', 'ژ', 'و', '4', '0'] | Target: پژو405 | ['پ', 'ژ', 'و', '4', '0', '5']\n",
      "Prediction: لاینگ| ['ل', 'ا', 'ی', 'ن', 'گ'] | Target: لاینینگ | ['ل', 'ا', 'ی', 'ن', 'ی', 'ن', 'گ']\n",
      "Prediction: 0هم| ['0', 'ه', 'م'] | Target: 100هم | ['1', '0', '0', 'ه', 'م']\n",
      "Prediction: هرمدیتی| ['ه', 'ر', 'م', 'د', 'ی', 'ت', 'ی'] | Target: هرمدیریتی | ['ه', 'ر', 'م', 'د', 'ی', 'ر', 'ی', 'ت', 'ی']\n",
      "Prediction: تاکنون2| ['ت', 'ا', 'ک', 'ن', 'و', 'ن', '2'] | Target: تاکنون72 | ['ت', 'ا', 'ک', 'ن', 'و', 'ن', '7', '2']\n",
      "Prediction: موضوع،رداخت| ['م', 'و', 'ض', 'و', 'ع', '،', 'ر', 'د', 'ا', 'خ', 'ت'] | Target: موضوع،پرداخت | ['م', 'و', 'ض', 'و', 'ع', '،', 'پ', 'ر', 'د', 'ا', 'خ', 'ت']\n",
      "Prediction: باران| ['ب', 'ا', 'ر', 'ا', 'ن'] | Target: باران‌ | ['ب', 'ا', 'ر', 'ا', 'ن', '\\u200c']\n",
      "Prediction: بینم(بر| ['ب', 'ی', 'ن', 'م', '(', 'ب', 'ر'] | Target: بینم/بر | ['ب', 'ی', 'ن', 'م', '/', 'ب', 'ر']\n",
      "Prediction: علیم‌السلام| ['ع', 'ل', 'ی', 'م', '\\u200c', 'ا', 'ل', 'س', 'ل', 'ا', 'م'] | Target: علیهم‌السلام | ['ع', 'ل', 'ی', 'ه', 'م', '\\u200c', 'ا', 'ل', 'س', 'ل', 'ا', 'م']\n",
      "Prediction: هایبابلابرای| ['ه', 'ا', 'ی', 'ب', 'ا', 'ب', 'ل', 'ا', 'ب', 'ر', 'ا', 'ی'] | Target: هایبالابرای | ['ه', 'ا', 'ی', 'ب', 'ا', 'ل', 'ا', 'ب', 'ر', 'ا', 'ی']\n",
      "Prediction: فاصله‌ای| ['ف', 'ا', 'ص', 'ل', 'ه', '\\u200c', 'ا', 'ی'] | Target: فاصله‌‌ای | ['ف', 'ا', 'ص', 'ل', 'ه', '\\u200c', '\\u200c', 'ا', 'ی']\n",
      "Prediction: ؟| ['؟'] | Target: ؟! | ['؟', '!']\n",
      "Prediction: ویدئوکلیب،| ['و', 'ی', 'د', 'ئ', 'و', 'ک', 'ل', 'ی', 'ب', '،'] | Target: ویدئوکلیپ، | ['و', 'ی', 'د', 'ئ', 'و', 'ک', 'ل', 'ی', 'پ', '،']\n",
      "Prediction: کوید(19| ['ک', 'و', 'ی', 'د', '(', '1', '9'] | Target: کووید(19) | ['ک', 'و', 'و', 'ی', 'د', '(', '1', '9', ')']\n",
      "Prediction: ثلکث| ['ث', 'ل', 'ک', 'ث'] | Target: ثلث | ['ث', 'ل', 'ث']\n",
      "Prediction: کرد:‌طی| ['ک', 'ر', 'د', ':', '\\u200c', 'ط', 'ی'] | Target: کرد:طی | ['ک', 'ر', 'د', ':', 'ط', 'ی']\n",
      "Prediction: ده‌فجر| ['د', 'ه', '\\u200c', 'ف', 'ج', 'ر'] | Target: دهه‌فجر | ['د', 'ه', 'ه', '\\u200c', 'ف', 'ج', 'ر']\n",
      "Prediction: داشنامه‌نگاری| ['د', 'ا', 'ش', 'ن', 'ا', 'م', 'ه', '\\u200c', 'ن', 'گ', 'ا', 'ر', 'ی'] | Target: دانشنامه‌نگاری | ['د', 'ا', 'ن', 'ش', 'ن', 'ا', 'م', 'ه', '\\u200c', 'ن', 'گ', 'ا', 'ر', 'ی']\n",
      "Prediction: انفوانزاستان| ['ا', 'ن', 'ف', 'و', 'ا', 'ن', 'ز', 'ا', 'س', 'ت', 'ا', 'ن'] | Target: انفلوانزااستان | ['ا', 'ن', 'ف', 'ل', 'و', 'ا', 'ن', 'ز', 'ا', 'ا', 'س', 'ت', 'ا', 'ن']\n",
      "Prediction: اشتباهم| ['ا', 'ش', 'ت', 'ب', 'ا', 'ه', 'م'] | Target: اشتباهیم | ['ا', 'ش', 'ت', 'ب', 'ا', 'ه', 'ی', 'م']\n",
      "Prediction: غالبا| ['غ', 'ا', 'ل', 'ب', 'ا'] | Target: غالباا | ['غ', 'ا', 'ل', 'ب', 'ا', 'ا']\n",
      "Prediction: اساسی| ['ا', 'س', 'ا', 'س', 'ی'] | Target: ‌اساسی | ['\\u200c', 'ا', 'س', 'ا', 'س', 'ی']\n",
      "Prediction: هشتاد| ['ه', 'ش', 'ت', 'ا', 'د'] | Target: هشتاد‌ | ['ه', 'ش', 'ت', 'ا', 'د', '\\u200c']\n",
      "Prediction: سالیوان،| ['س', 'ا', 'ل', 'ی', 'و', 'ا', 'ن', '،'] | Target: سالیوان‌، | ['س', 'ا', 'ل', 'ی', 'و', 'ا', 'ن', '\\u200c', '،']\n",
      "Prediction: 0...،| ['0', '.', '.', '.', '،'] | Target: ...، | ['.', '.', '.', '،']\n",
      "Prediction: فسل‌هایمجبا| ['ف', 'س', 'ل', '\\u200c', 'ه', 'ا', 'ی', 'م', 'ج', 'ب', 'ا'] | Target: فصل‌هایمجزا | ['ف', 'ص', 'ل', '\\u200c', 'ه', 'ا', 'ی', 'م', 'ج', 'ز', 'ا']\n",
      "Prediction: .ی.پ.گ| ['.', 'ی', '.', 'پ', '.', 'گ'] | Target: ی.پ.گ | ['ی', '.', 'پ', '.', 'گ']\n",
      "Prediction: عباسی‌رفته»| ['ع', 'ب', 'ا', 'س', 'ی', '\\u200c', 'ر', 'ف', 'ت', 'ه', '»'] | Target: عباسی‌هرفته» | ['ع', 'ب', 'ا', 'س', 'ی', '\\u200c', 'ه', 'ر', 'ف', 'ت', 'ه', '»']\n",
      "Prediction: پرگروپ| ['پ', 'ر', 'گ', 'ر', 'و', 'پ'] | Target: پیرگروپ | ['پ', 'ی', 'ر', 'گ', 'ر', 'و', 'پ']\n",
      "Prediction: العبیدی،| ['ا', 'ل', 'ع', 'ب', 'ی', 'د', 'ی', '،'] | Target: العبیدی،‌ | ['ا', 'ل', 'ع', 'ب', 'ی', 'د', 'ی', '،', '\\u200c']\n",
      "Prediction: دوست‌مدی| ['د', 'و', 'س', 'ت', '\\u200c', 'م', 'د', 'ی'] | Target: دوست‌محمدی | ['د', 'و', 'س', 'ت', '\\u200c', 'م', 'ح', 'م', 'د', 'ی']\n",
      "Prediction: ثبت‌نام| ['ث', 'ب', 'ت', '\\u200c', 'ن', 'ا', 'م'] | Target: ثبت‌نام‌ | ['ث', 'ب', 'ت', '\\u200c', 'ن', 'ا', 'م', '\\u200c']\n",
      "Prediction: پست‌| ['پ', 'س', 'ت', '\\u200c'] | Target: پست | ['پ', 'س', 'ت']\n",
      "Prediction: روزی| ['ر', 'و', 'ز', 'ی'] | Target: ‌روزی | ['\\u200c', 'ر', 'و', 'ز', 'ی']\n",
      "Prediction: قانونفر‌العجل| ['ق', 'ا', 'ن', 'و', 'ن', 'ف', 'ر', '\\u200c', 'ا', 'ل', 'ع', 'ج', 'ل'] | Target: قانونضرب‌العجل | ['ق', 'ا', 'ن', 'و', 'ن', 'ض', 'ر', 'ب', '\\u200c', 'ا', 'ل', 'ع', 'ج', 'ل']\n",
      "Prediction: مجازی/ادامه| ['م', 'ج', 'ا', 'ز', 'ی', '/', 'ا', 'د', 'ا', 'م', 'ه'] | Target: مجازی»/ادامه | ['م', 'ج', 'ا', 'ز', 'ی', '»', '/', 'ا', 'د', 'ا', 'م', 'ه']\n",
      "Prediction: «نجالاه»| ['«', 'ن', 'ج', 'ا', 'ل', 'ا', 'ه', '»'] | Target: «نهج‌البلاغه» | ['«', 'ن', 'ه', 'ج', '\\u200c', 'ا', 'ل', 'ب', 'ل', 'ا', 'غ', 'ه', '»']\n",
      "Prediction: ثانیا،| ['ث', 'ا', 'ن', 'ی', 'ا', '،'] | Target: ثانیاا، | ['ث', 'ا', 'ن', 'ی', 'ا', 'ا', '،']\n",
      "Prediction: نیز8| ['ن', 'ی', 'ز', '8'] | Target: نیز88 | ['ن', 'ی', 'ز', '8', '8']\n",
      "Prediction: زار:| ['ز', 'ا', 'ر', ':'] | Target: زارع: | ['ز', 'ا', 'ر', 'ع', ':']\n",
      "Prediction: جامهتاب| ['ج', 'ا', 'م', 'ه', 'ت', 'ا', 'ب'] | Target: جا(مهتاب | ['ج', 'ا', '(', 'م', 'ه', 'ت', 'ا', 'ب']\n",
      "Prediction: گذشته4020| ['گ', 'ذ', 'ش', 'ت', 'ه', '4', '0', '2', '0'] | Target: گذشته4500 | ['گ', 'ذ', 'ش', 'ت', 'ه', '4', '5', '0', '0']\n",
      "Prediction: فک‌الافلاک| ['ف', 'ک', '\\u200c', 'ا', 'ل', 'ا', 'ف', 'ل', 'ا', 'ک'] | Target: فلک‌الافلاک | ['ف', 'ل', 'ک', '\\u200c', 'ا', 'ل', 'ا', 'ف', 'ل', 'ا', 'ک']\n",
      "Prediction: روان(| ['ر', 'و', 'ا', 'ن', '('] | Target: روان« | ['ر', 'و', 'ا', 'ن', '«']\n",
      "Prediction: هیدرانت،| ['ه', 'ی', 'د', 'ر', 'ا', 'ن', 'ت', '،'] | Target: هیدرانت،‌ | ['ه', 'ی', 'د', 'ر', 'ا', 'ن', 'ت', '،', '\\u200c']\n",
      "Prediction: اقلام| ['ا', 'ق', 'ل', 'ا', 'م'] | Target: اقلام‌ | ['ا', 'ق', 'ل', 'ا', 'م', '\\u200c']\n",
      "Prediction: قرنطینه| ['ق', 'ر', 'ن', 'ط', 'ی', 'ن', 'ه'] | Target: قرنطینه‌ | ['ق', 'ر', 'ن', 'ط', 'ی', 'ن', 'ه', '\\u200c']\n",
      "Prediction: پرنگ‌تری| ['پ', 'ر', 'ن', 'گ', '\\u200c', 'ت', 'ر', 'ی'] | Target: پررنگ‌تری | ['پ', 'ر', 'ر', 'ن', 'گ', '\\u200c', 'ت', 'ر', 'ی']\n",
      "Prediction: همکاران،| ['ه', 'م', 'ک', 'ا', 'ر', 'ا', 'ن', '،'] | Target: همکاران،‌ | ['ه', 'م', 'ک', 'ا', 'ر', 'ا', 'ن', '،', '\\u200c']\n",
      "Prediction: دکتردحمیدرضا| ['د', 'ک', 'ت', 'ر', 'د', 'ح', 'م', 'ی', 'د', 'ر', 'ض', 'ا'] | Target: دکترحمیدرضا | ['د', 'ک', 'ت', 'ر', 'ح', 'م', 'ی', 'د', 'ر', 'ض', 'ا']\n",
      "Prediction: صم‌گیری| ['ص', 'م', '\\u200c', 'گ', 'ی', 'ر', 'ی'] | Target: صمغ‌گیری | ['ص', 'م', 'غ', '\\u200c', 'گ', 'ی', 'ر', 'ی']\n",
      "Prediction: سیا:| ['س', 'ی', 'ا', ':'] | Target: ‌سیا: | ['\\u200c', 'س', 'ی', 'ا', ':']\n",
      "Prediction: حاکم| ['ح', 'ا', 'ک', 'م'] | Target: حاکم‌ | ['ح', 'ا', 'ک', 'م', '\\u200c']\n",
      "Prediction: عینا| ['ع', 'ی', 'ن', 'ا'] | Target: عیناا | ['ع', 'ی', 'ن', 'ا', 'ا']\n",
      "Prediction: اختراغ| ['ا', 'خ', 'ت', 'ر', 'ا', 'غ'] | Target: اختراع | ['ا', 'خ', 'ت', 'ر', 'ا', 'ع']\n",
      "Prediction: وگو| ['و', 'گ', 'و'] | Target: ‌وگو | ['\\u200c', 'و', 'گ', 'و']\n",
      "Prediction: ‌جاری| ['\\u200c', 'ج', 'ا', 'ر', 'ی'] | Target: جاری | ['ج', 'ا', 'ر', 'ی']\n",
      "Prediction: بیمارستانا| ['ب', 'ی', 'م', 'ا', 'ر', 'س', 'ت', 'ا', 'ن', 'ا'] | Target: بیمارستانتا | ['ب', 'ی', 'م', 'ا', 'ر', 'س', 'ت', 'ا', 'ن', 'ت', 'ا']\n",
      "Prediction: 33تاکنن| ['3', '3', 'ت', 'ا', 'ک', 'ن', 'ن'] | Target: 1393تاکنون | ['1', '3', '9', '3', 'ت', 'ا', 'ک', 'ن', 'و', 'ن']\n",
      "Prediction: عاشورایان| ['ع', 'ا', 'ش', 'و', 'ر', 'ا', 'ی', 'ا', 'ن'] | Target: عاشوراییان | ['ع', 'ا', 'ش', 'و', 'ر', 'ا', 'ی', 'ی', 'ا', 'ن']\n",
      "Prediction: چرکس،| ['چ', 'ر', 'ک', 'س', '،'] | Target: چرکس،‌ | ['چ', 'ر', 'ک', 'س', '،', '\\u200c']\n",
      "Prediction: ز!| ['ز', '!'] | Target: زد! | ['ز', 'د', '!']\n",
      "Prediction: 122هزار| ['1', '2', '2', 'ه', 'ز', 'ا', 'ر'] | Target: 12هزار | ['1', '2', 'ه', 'ز', 'ا', 'ر']\n",
      "Prediction: همپسایگی| ['ه', 'م', 'پ', 'س', 'ا', 'ی', 'گ', 'ی'] | Target: همسایگی | ['ه', 'م', 'س', 'ا', 'ی', 'گ', 'ی']\n",
      "Prediction: رخ| ['ر', 'خ'] | Target: رخ‌ | ['ر', 'خ', '\\u200c']\n",
      "Prediction: نیازمندر| ['ن', 'ی', 'ا', 'ز', 'م', 'ن', 'د', 'ر'] | Target: نیازمنددر | ['ن', 'ی', 'ا', 'ز', 'م', 'ن', 'د', 'د', 'ر']\n",
      "Prediction: اوایلیخردادماه| ['ا', 'و', 'ا', 'ی', 'ل', 'ی', 'خ', 'ر', 'د', 'ا', 'د', 'م', 'ا', 'ه'] | Target: اوایلخردادماه | ['ا', 'و', 'ا', 'ی', 'ل', 'خ', 'ر', 'د', 'ا', 'د', 'م', 'ا', 'ه']\n",
      "Prediction: سال14660| ['س', 'ا', 'ل', '1', '4', '6', '6', '0'] | Target: سال2016 | ['س', 'ا', 'ل', '2', '0', '1', '6']\n",
      "Prediction: کرونا| ['ک', 'ر', 'و', 'ن', 'ا'] | Target: ‌کرونا | ['\\u200c', 'ک', 'ر', 'و', 'ن', 'ا']\n",
      "Prediction: تهیه| ['ت', 'ه', 'ی', 'ه'] | Target: تهیه‌ | ['ت', 'ه', 'ی', 'ه', '\\u200c']\n",
      "Prediction: بربانگیخته‌اند.| ['ب', 'ر', 'ب', 'ا', 'ن', 'گ', 'ی', 'خ', 'ت', 'ه', '\\u200c', 'ا', 'ن', 'د', '.'] | Target: برانگیخته‌اند. | ['ب', 'ر', 'ا', 'ن', 'گ', 'ی', 'خ', 'ت', 'ه', '\\u200c', 'ا', 'ن', 'د', '.']\n",
      "Prediction: احداث7020| ['ا', 'ح', 'د', 'ا', 'ث', '7', '0', '2', '0'] | Target: احداث200 | ['ا', 'ح', 'د', 'ا', 'ث', '2', '0', '0']\n",
      "Prediction: 73.درصد| ['7', '3', '.', 'د', 'ر', 'ص', 'د'] | Target: 7.3درصد | ['7', '.', '3', 'د', 'ر', 'ص', 'د']\n",
      "Prediction: باشند.| ['ب', 'ا', 'ش', 'ن', 'د', '.'] | Target: باشند.‌ | ['ب', 'ا', 'ش', 'ن', 'د', '.', '\\u200c']\n",
      "Prediction: مسابقه| ['م', 'س', 'ا', 'ب', 'ق', 'ه'] | Target: مسابقه‌ | ['م', 'س', 'ا', 'ب', 'ق', 'ه', '\\u200c']\n",
      "Prediction: پایانهته| ['پ', 'ا', 'ی', 'ا', 'ن', 'ه', 'ت', 'ه'] | Target: پایانهفته | ['پ', 'ا', 'ی', 'ا', 'ن', 'ه', 'ف', 'ت', 'ه']\n",
      "Prediction: تمامگاراههای| ['ت', 'م', 'ا', 'م', 'گ', 'ا', 'ر', 'ا', 'ه', 'ه', 'ا', 'ی'] | Target: تمامکارگاههای | ['ت', 'م', 'ا', 'م', 'ک', 'ا', 'ر', 'گ', 'ا', 'ه', 'ه', 'ا', 'ی']\n",
      "Prediction: نیزرگ| ['ن', 'ی', 'ز', 'ر', 'گ'] | Target: نیزبزرگ | ['ن', 'ی', 'ز', 'ب', 'ز', 'ر', 'گ']\n",
      "Prediction: قاعدتاا| ['ق', 'ا', 'ع', 'د', 'ت', 'ا', 'ا'] | Target: قاعدتا | ['ق', 'ا', 'ع', 'د', 'ت', 'ا']\n",
      "Prediction: منعکس‌کننه| ['م', 'ن', 'ع', 'ک', 'س', '\\u200c', 'ک', 'ن', 'ن', 'ه'] | Target: منعکس‌کننده | ['م', 'ن', 'ع', 'ک', 'س', '\\u200c', 'ک', 'ن', 'ن', 'د', 'ه']\n",
      "Prediction: 20میلیارد| ['2', '0', 'م', 'ی', 'ل', 'ی', 'ا', 'ر', 'د'] | Target: 220میلیارد | ['2', '2', '0', 'م', 'ی', 'ل', 'ی', 'ا', 'ر', 'د']\n",
      "Prediction: موسسقی| ['م', 'و', 'س', 'س', 'ق', 'ی'] | Target: موسقی | ['م', 'و', 'س', 'ق', 'ی']\n",
      "Prediction: پرژوهشگران| ['پ', 'ر', 'ژ', 'و', 'ه', 'ش', 'گ', 'ر', 'ا', 'ن'] | Target: پژوهشگران | ['پ', 'ژ', 'و', 'ه', 'ش', 'گ', 'ر', 'ا', 'ن']\n",
      "Prediction: ماشاتی| ['م', 'ا', 'ش', 'ا', 'ت', 'ی'] | Target: مماشاتی | ['م', 'م', 'ا', 'ش', 'ا', 'ت', 'ی']\n",
      "Prediction: رضائیانبا| ['ر', 'ض', 'ا', 'ئ', 'ی', 'ا', 'ن', 'ب', 'ا'] | Target: رضائیان»با | ['ر', 'ض', 'ا', 'ئ', 'ی', 'ا', 'ن', '»', 'ب', 'ا']\n",
      "Prediction: حضورا| ['ح', 'ض', 'و', 'ر', 'ا'] | Target: حضوررا | ['ح', 'ض', 'و', 'ر', 'ر', 'ا']\n",
      "Prediction: نزدیک| ['ن', 'ز', 'د', 'ی', 'ک'] | Target: نزدیک‌ | ['ن', 'ز', 'د', 'ی', 'ک', '\\u200c']\n",
      "Prediction: پرورش‌دنده| ['پ', 'ر', 'و', 'ر', 'ش', '\\u200c', 'د', 'ن', 'د', 'ه'] | Target: پرورش‌دهنده | ['پ', 'ر', 'و', 'ر', 'ش', '\\u200c', 'د', 'ه', 'ن', 'د', 'ه']\n",
      "Prediction: وقتی| ['و', 'ق', 'ت', 'ی'] | Target: وقتی‌ | ['و', 'ق', 'ت', 'ی', '\\u200c']\n",
      "Prediction: گذاشت‌.پس| ['گ', 'ذ', 'ا', 'ش', 'ت', '\\u200c', '.', 'پ', 'س'] | Target: گذاشت.پس | ['گ', 'ذ', 'ا', 'ش', 'ت', '.', 'پ', 'س']\n",
      "Prediction: قاس‌پور| ['ق', 'ا', 'س', '\\u200c', 'پ', 'و', 'ر'] | Target: قاسم‌پور | ['ق', 'ا', 'س', 'م', '\\u200c', 'پ', 'و', 'ر']\n",
      "Prediction: فرهتگی‌اجتمای| ['ف', 'ر', 'ه', 'ت', 'گ', 'ی', '\\u200c', 'ا', 'ج', 'ت', 'م', 'ا', 'ی'] | Target: فرهنگی‌اجتماعی | ['ف', 'ر', 'ه', 'ن', 'گ', 'ی', '\\u200c', 'ا', 'ج', 'ت', 'م', 'ا', 'ع', 'ی']\n",
      "Prediction: فضای100| ['ف', 'ض', 'ا', 'ی', '1', '0', '0'] | Target: فضایی؛2001» | ['ف', 'ض', 'ا', 'ی', 'ی', '؛', '2', '0', '0', '1', '»']\n",
      "Prediction: هیئت| ['ه', 'ی', 'ئ', 'ت'] | Target: هیئت‌ | ['ه', 'ی', 'ئ', 'ت', '\\u200c']\n",
      "Prediction: جگوشه‌شان| ['ج', 'گ', 'و', 'ش', 'ه', '\\u200c', 'ش', 'ا', 'ن'] | Target: جگرگوشه‌شان | ['ج', 'گ', 'ر', 'گ', 'و', 'ش', 'ه', '\\u200c', 'ش', 'ا', 'ن']\n",
      "Prediction: دارد:بنبراین| ['د', 'ا', 'ر', 'د', ':', 'ب', 'ن', 'ب', 'ر', 'ا', 'ی', 'ن'] | Target: دارد؛بنابراین | ['د', 'ا', 'ر', 'د', '؛', 'ب', 'ن', 'ا', 'ب', 'ر', 'ا', 'ی', 'ن']\n",
      "Prediction: محادثهحضور| ['م', 'ح', 'ا', 'د', 'ث', 'ه', 'ح', 'ض', 'و', 'ر'] | Target: محلحادثهحضور | ['م', 'ح', 'ل', 'ح', 'ا', 'د', 'ث', 'ه', 'ح', 'ض', 'و', 'ر']\n",
      "Prediction: هدرفت| ['ه', 'د', 'ر', 'ف', 'ت'] | Target: هدررفت | ['ه', 'د', 'ر', 'ر', 'ف', 'ت']\n",
      "Prediction: اختامیه| ['ا', 'خ', 'ت', 'ا', 'م', 'ی', 'ه'] | Target: اختتامیه | ['ا', 'خ', 'ت', 'ت', 'ا', 'م', 'ی', 'ه']\n",
      "Prediction: بود.4| ['ب', 'و', 'د', '.', '4'] | Target: بود.14 | ['ب', 'و', 'د', '.', '1', '4']\n",
      "Prediction: داشت| ['د', 'ا', 'ش', 'ت'] | Target: داشت‌ | ['د', 'ا', 'ش', 'ت', '\\u200c']\n",
      "Prediction: 40سبد| ['4', '0', 'س', 'ب', 'د'] | Target: 4000سبد | ['4', '0', '0', '0', 'س', 'ب', 'د']\n",
      "Prediction: | [] | Target: 0 | ['0']\n",
      "Prediction: می‌کند،بایکن| ['م', 'ی', '\\u200c', 'ک', 'ن', 'د', '،', 'ب', 'ا', 'ی', 'ک', 'ن'] | Target: می‌کنند،بازیکن | ['م', 'ی', '\\u200c', 'ک', 'ن', 'ن', 'د', '،', 'ب', 'ا', 'ز', 'ی', 'ک', 'ن']\n",
      "Prediction: پشتیانیامور| ['پ', 'ش', 'ت', 'ی', 'ا', 'ن', 'ی', 'ا', 'م', 'و', 'ر'] | Target: پشتیبانیامور | ['پ', 'ش', 'ت', 'ی', 'ب', 'ا', 'ن', 'ی', 'ا', 'م', 'و', 'ر']\n",
      "Prediction: مردمجامهرا| ['م', 'ر', 'د', 'م', 'ج', 'ا', 'م', 'ه', 'ر', 'ا'] | Target: مردمجامعهرا | ['م', 'ر', 'د', 'م', 'ج', 'ا', 'م', 'ع', 'ه', 'ر', 'ا']\n",
      "Prediction: داد:متاسفاننه| ['د', 'ا', 'د', ':', 'م', 'ت', 'ا', 'س', 'ف', 'ا', 'ن', 'ن', 'ه'] | Target: داد:متاسفانه | ['د', 'ا', 'د', ':', 'م', 'ت', 'ا', 'س', 'ف', 'ا', 'ن', 'ه']\n",
      "Prediction: ستگیرانه‌تری| ['س', 'ت', 'گ', 'ی', 'ر', 'ا', 'ن', 'ه', '\\u200c', 'ت', 'ر', 'ی'] | Target: سختگیرانه‌تری | ['س', 'خ', 'ت', 'گ', 'ی', 'ر', 'ا', 'ن', 'ه', '\\u200c', 'ت', 'ر', 'ی']\n",
      "Prediction: جعفری‌روجی| ['ج', 'ع', 'ف', 'ر', 'ی', '\\u200c', 'ر', 'و', 'ج', 'ی'] | Target: جعفری‌روحی | ['ج', 'ع', 'ف', 'ر', 'ی', '\\u200c', 'ر', 'و', 'ح', 'ی']\n",
      "Prediction: فلسطین،| ['ف', 'ل', 'س', 'ط', 'ی', 'ن', '،'] | Target: فلسطین‌، | ['ف', 'ل', 'س', 'ط', 'ی', 'ن', '\\u200c', '،']\n",
      "Prediction: بررسی| ['ب', 'ر', 'ر', 'س', 'ی'] | Target: بررسی‌ | ['ب', 'ر', 'ر', 'س', 'ی', '\\u200c']\n",
      "Prediction: بچه‌| ['ب', 'چ', 'ه', '\\u200c'] | Target: بچه | ['ب', 'چ', 'ه']\n",
      "Prediction: فلک‌الالاک،| ['ف', 'ل', 'ک', '\\u200c', 'ا', 'ل', 'ا', 'ل', 'ا', 'ک', '،'] | Target: فلک‌الافلاک، | ['ف', 'ل', 'ک', '\\u200c', 'ا', 'ل', 'ا', 'ف', 'ل', 'ا', 'ک', '،']\n",
      "Prediction: نمیایستاد.| ['ن', 'م', 'ی', 'ا', 'ی', 'س', 'ت', 'ا', 'د', '.'] | Target: نمی‌ایستاد. | ['ن', 'م', 'ی', '\\u200c', 'ا', 'ی', 'س', 'ت', 'ا', 'د', '.']\n",
      "Prediction: اروپایی| ['ا', 'ر', 'و', 'پ', 'ا', 'ی', 'ی'] | Target: اروپایی‌ | ['ا', 'ر', 'و', 'پ', 'ا', 'ی', 'ی', '\\u200c']\n",
      "Prediction: جباری‌مولاا| ['ج', 'ب', 'ا', 'ر', 'ی', '\\u200c', 'م', 'و', 'ل', 'ا', 'ا'] | Target: جباری‌مولانا | ['ج', 'ب', 'ا', 'ر', 'ی', '\\u200c', 'م', 'و', 'ل', 'ا', 'ن', 'ا']\n",
      "Prediction: داستان| ['د', 'ا', 'س', 'ت', 'ا', 'ن'] | Target: داستان‌ | ['د', 'ا', 'س', 'ت', 'ا', 'ن', '\\u200c']\n",
      "Prediction: اند،‌| ['ا', 'ن', 'د', '،', '\\u200c'] | Target: اند، | ['ا', 'ن', 'د', '،']\n",
      "Prediction: ک1ه5| ['ک', '1', 'ه', '5'] | Target: که15 | ['ک', 'ه', '1', '5']\n",
      "Prediction: معاونبداشت| ['م', 'ع', 'ا', 'و', 'ن', 'ب', 'د', 'ا', 'ش', 'ت'] | Target: معاونبهداشت | ['م', 'ع', 'ا', 'و', 'ن', 'ب', 'ه', 'د', 'ا', 'ش', 'ت']\n",
      "Prediction: گذشته371| ['گ', 'ذ', 'ش', 'ت', 'ه', '3', '7', '1'] | Target: گذشته31 | ['گ', 'ذ', 'ش', 'ت', 'ه', '3', '1']\n",
      "Prediction: همچناناقل| ['ه', 'م', 'چ', 'ن', 'ا', 'ن', 'ا', 'ق', 'ل'] | Target: همچنانناقل | ['ه', 'م', 'چ', 'ن', 'ا', 'ن', 'ن', 'ا', 'ق', 'ل']\n",
      "Prediction: جدا| ['ج', 'د', 'ا'] | Target: جداا | ['ج', 'د', 'ا', 'ا']\n",
      "Prediction: ‌است| ['\\u200c', 'ا', 'س', 'ت'] | Target: است | ['ا', 'س', 'ت']\n",
      "Prediction: دواحد| ['د', 'و', 'ا', 'ح', 'د'] | Target: دوواحد | ['د', 'و', 'و', 'ا', 'ح', 'د']\n",
      "Prediction: حوزه| ['ح', 'و', 'ز', 'ه'] | Target: حوزه‌ | ['ح', 'و', 'ز', 'ه', '\\u200c']\n",
      "Prediction: اینهمسئلان| ['ا', 'ی', 'ن', 'ه', 'م', 'س', 'ئ', 'ل', 'ا', 'ن'] | Target: اینکهمسئولان | ['ا', 'ی', 'ن', 'ک', 'ه', 'م', 'س', 'ئ', 'و', 'ل', 'ا', 'ن']\n",
      "Prediction: انگشتتان| ['ا', 'ن', 'گ', 'ش', 'ت', 'ت', 'ا', 'ن'] | Target: انگشتان | ['ا', 'ن', 'گ', 'ش', 'ت', 'ا', 'ن']\n",
      "Prediction: 49| ['4', '9'] | Target: 49‌ | ['4', '9', '\\u200c']\n",
      "Prediction: صنوف| ['ص', 'ن', 'و', 'ف'] | Target: ‌صنوف | ['\\u200c', 'ص', 'ن', 'و', 'ف']\n",
      "Prediction: امریکایی| ['ا', 'م', 'ر', 'ی', 'ک', 'ا', 'ی', 'ی'] | Target: امریکایی‌ | ['ا', 'م', 'ر', 'ی', 'ک', 'ا', 'ی', 'ی', '\\u200c']\n",
      "Prediction: می‌نشیندو| ['م', 'ی', '\\u200c', 'ن', 'ش', 'ی', 'ن', 'د', 'و'] | Target: می‌نشینندو | ['م', 'ی', '\\u200c', 'ن', 'ش', 'ی', 'ن', 'ن', 'د', 'و']\n",
      "Prediction: همینینرگزاری| ['ه', 'م', 'ی', 'ن', 'ی', 'ن', 'ر', 'گ', 'ز', 'ا', 'ر', 'ی'] | Target: همچنینبرگزاری | ['ه', 'م', 'چ', 'ن', 'ی', 'ن', 'ب', 'ر', 'گ', 'ز', 'ا', 'ر', 'ی']\n",
      "Prediction: قوا(مدظلله| ['ق', 'و', 'ا', '(', 'م', 'د', 'ظ', 'ل', 'ل', 'ه'] | Target: قوا(مدظله | ['ق', 'و', 'ا', '(', 'م', 'د', 'ظ', 'ل', 'ه']\n",
      "Prediction: دکترامامعلپوسر| ['د', 'ک', 'ت', 'ر', 'ا', 'م', 'ا', 'م', 'ع', 'ل', 'پ', 'و', 'س', 'ر'] | Target: دکترامامعلیپور | ['د', 'ک', 'ت', 'ر', 'ا', 'م', 'ا', 'م', 'ع', 'ل', 'ی', 'پ', 'و', 'ر']\n",
      "Prediction: معوماتبها| ['م', 'ع', 'و', 'م', 'ا', 'ت', 'ب', 'ه', 'ا'] | Target: معلومات،تنها | ['م', 'ع', 'ل', 'و', 'م', 'ا', 'ت', '،', 'ت', 'ن', 'ه', 'ا']\n",
      "Prediction: موتورسیلتهای| ['م', 'و', 'ت', 'و', 'ر', 'س', 'ی', 'ل', 'ت', 'ه', 'ا', 'ی'] | Target: موتورسیکلتهای | ['م', 'و', 'ت', 'و', 'ر', 'س', 'ی', 'ک', 'ل', 'ت', 'ه', 'ا', 'ی']\n",
      "Prediction: ایران‌ترانفسو| ['ا', 'ی', 'ر', 'ا', 'ن', '\\u200c', 'ت', 'ر', 'ا', 'ن', 'ف', 'س', 'و'] | Target: ایران‌ترانسفو | ['ا', 'ی', 'ر', 'ا', 'ن', '\\u200c', 'ت', 'ر', 'ا', 'ن', 'س', 'ف', 'و']\n",
      "Prediction: گفت:امیدوایم| ['گ', 'ف', 'ت', ':', 'ا', 'م', 'ی', 'د', 'و', 'ا', 'ی', 'م'] | Target: گفت:امیدواریم | ['گ', 'ف', 'ت', ':', 'ا', 'م', 'ی', 'د', 'و', 'ا', 'ر', 'ی', 'م']\n",
      "Prediction: مدجویان،| ['م', 'د', 'ج', 'و', 'ی', 'ا', 'ن', '،'] | Target: مددجویان، | ['م', 'د', 'د', 'ج', 'و', 'ی', 'ا', 'ن', '،']\n",
      "Prediction: لغظزندگی| ['ل', 'غ', 'ظ', 'ز', 'ن', 'د', 'گ', 'ی'] | Target: لغزندگی | ['ل', 'غ', 'ز', 'ن', 'د', 'گ', 'ی']\n",
      "Prediction: شطرح| ['ش', 'ط', 'ر', 'ح'] | Target: ششطرح | ['ش', 'ش', 'ط', 'ر', 'ح']\n",
      "Prediction: خوگردانظلظین| ['خ', 'و', 'گ', 'ر', 'د', 'ا', 'ن', 'ظ', 'ل', 'ظ', 'ی', 'ن'] | Target: خودگردانفلسطین | ['خ', 'و', 'د', 'گ', 'ر', 'د', 'ا', 'ن', 'ف', 'ل', 'س', 'ط', 'ی', 'ن']\n",
      "Prediction: 1040دان،اموز| ['1', '0', '4', '0', 'د', 'ا', 'ن', '،', 'ا', 'م', 'و', 'ز'] | Target: 1400دانش‌اموز | ['1', '4', '0', '0', 'د', 'ا', 'ن', 'ش', '\\u200c', 'ا', 'م', 'و', 'ز']\n",
      "Prediction: طرح‌ه،| ['ط', 'ر', 'ح', '\\u200c', 'ه', '،'] | Target: طرح‌ها، | ['ط', 'ر', 'ح', '\\u200c', 'ه', 'ا', '،']\n",
      "Prediction: الطضاهر،| ['ا', 'ل', 'ط', 'ض', 'ا', 'ه', 'ر', '،'] | Target: الضاهر، | ['ا', 'ل', 'ض', 'ا', 'ه', 'ر', '،']\n",
      "Prediction: معلمانشابت| ['م', 'ع', 'ل', 'م', 'ا', 'ن', 'ش', 'ا', 'ب', 'ت'] | Target: معلمانثابت | ['م', 'ع', 'ل', 'م', 'ا', 'ن', 'ث', 'ا', 'ب', 'ت']\n",
      "Prediction: باش.انتنظار| ['ب', 'ا', 'ش', '.', 'ا', 'ن', 'ت', 'ن', 'ظ', 'ا', 'ر'] | Target: باشد.انتظار | ['ب', 'ا', 'ش', 'د', '.', 'ا', 'ن', 'ت', 'ظ', 'ا', 'ر']\n",
      "Prediction: باشند| ['ب', 'ا', 'ش', 'ن', 'د'] | Target: ‌باشند | ['\\u200c', 'ب', 'ا', 'ش', 'ن', 'د']\n",
      "Prediction: طایف،یکی| ['ط', 'ا', 'ی', 'ف', '،', 'ی', 'ک', 'ی'] | Target: طایفه،یکی | ['ط', 'ا', 'ی', 'ف', 'ه', '،', 'ی', 'ک', 'ی']\n",
      "Prediction: احداخواگاه| ['ا', 'ح', 'د', 'ا', 'خ', 'و', 'ا', 'گ', 'ا', 'ه'] | Target: احداثخوابگاه | ['ا', 'ح', 'د', 'ا', 'ث', 'خ', 'و', 'ا', 'ب', 'گ', 'ا', 'ه']\n",
      "Prediction: جملت‌خواب،| ['ج', 'م', 'ل', 'ت', '\\u200c', 'خ', 'و', 'ا', 'ب', '،'] | Target: جملهتخت‌خواب، | ['ج', 'م', 'ل', 'ه', 'ت', 'خ', 'ت', '\\u200c', 'خ', 'و', 'ا', 'ب', '،']\n",
      "Prediction: خرداد19| ['خ', 'ر', 'د', 'ا', 'د', '1', '9'] | Target: خرداد99 | ['خ', 'ر', 'د', 'ا', 'د', '9', '9']\n",
      "Prediction: ‌همراه| ['\\u200c', 'ه', 'م', 'ر', 'ا', 'ه'] | Target: همراه | ['ه', 'م', 'ر', 'ا', 'ه']\n",
      "Prediction: است/(/دولت| ['ا', 'س', 'ت', '/', '(', '/', 'د', 'و', 'ل', 'ت'] | Target: است/دولت | ['ا', 'س', 'ت', '/', 'د', 'و', 'ل', 'ت']\n",
      "Prediction: مبنی| ['م', 'ب', 'ن', 'ی'] | Target: مبنی‌ | ['م', 'ب', 'ن', 'ی', '\\u200c']\n",
      "Prediction: هوک‌| ['ه', 'و', 'ک', '\\u200c'] | Target: هوک | ['ه', 'و', 'ک']\n",
      "Prediction: ارستوران‌ها| ['ا', 'ر', 'س', 'ت', 'و', 'ر', 'ا', 'ن', '\\u200c', 'ه', 'ا'] | Target: ،رستوران‌ها | ['،', 'ر', 'س', 'ت', 'و', 'ر', 'ا', 'ن', '\\u200c', 'ه', 'ا']\n",
      "Prediction: پروانه‌ای| ['پ', 'ر', 'و', 'ا', 'ن', 'ه', '\\u200c', 'ا', 'ی'] | Target: ‌پروانه‌ای | ['\\u200c', 'پ', 'ر', 'و', 'ا', 'ن', 'ه', '\\u200c', 'ا', 'ی']\n",
      "Prediction: سال98| ['س', 'ا', 'ل', '9', '8'] | Target: سال95 | ['س', 'ا', 'ل', '9', '5']\n",
      "Prediction: املامراض| ['ا', 'م', 'ل', 'ا', 'م', 'ر', 'ا', 'ض'] | Target: ام‌الامراض | ['ا', 'م', '\\u200c', 'ا', 'ل', 'ا', 'م', 'ر', 'ا', 'ض']\n",
      "Prediction: کرد،تعین| ['ک', 'ر', 'د', '،', 'ت', 'ع', 'ی', 'ن'] | Target: کرده،تعیین | ['ک', 'ر', 'د', 'ه', '،', 'ت', 'ع', 'ی', 'ی', 'ن']\n",
      "Prediction: ساوتمپتون| ['س', 'ا', 'و', 'ت', 'م', 'پ', 'ت', 'و', 'ن'] | Target: ساوتهمپتون | ['س', 'ا', 'و', 'ت', 'ه', 'م', 'پ', 'ت', 'و', 'ن']\n",
      "Prediction: خار‌کردن| ['خ', 'ا', 'ر', '\\u200c', 'ک', 'ر', 'د', 'ن'] | Target: خارج‌کردن | ['خ', 'ا', 'ر', 'ج', '\\u200c', 'ک', 'ر', 'د', 'ن']\n",
      "Prediction: امسال‌،| ['ا', 'م', 'س', 'ا', 'ل', '\\u200c', '،'] | Target: امسال، | ['ا', 'م', 'س', 'ا', 'ل', '،']\n",
      "Prediction: مدکاری،| ['م', 'د', 'ک', 'ا', 'ر', 'ی', '،'] | Target: مددکاری، | ['م', 'د', 'د', 'ک', 'ا', 'ر', 'ی', '،']\n",
      "Prediction: متادون| ['م', 'ت', 'ا', 'د', 'و', 'ن'] | Target: متادون‌ | ['م', 'ت', 'ا', 'د', 'و', 'ن', '\\u200c']\n",
      "Prediction: رمز22| ['ر', 'م', 'ز', '2', '2'] | Target: رمز123 | ['ر', 'م', 'ز', '1', '2', '3']\n",
      "Prediction: «پسکاکرونایی»| ['«', 'پ', 'س', 'ک', 'ا', 'ک', 'ر', 'و', 'ن', 'ا', 'ی', 'ی', '»'] | Target: «پساکرونایی» | ['«', 'پ', 'س', 'ا', 'ک', 'ر', 'و', 'ن', 'ا', 'ی', 'ی', '»']\n",
      "Prediction: دولت| ['د', 'و', 'ل', 'ت'] | Target: دولت‌ | ['د', 'و', 'ل', 'ت', '\\u200c']\n",
      "Prediction: میکند.| ['م', 'ی', 'ک', 'ن', 'د', '.'] | Target: میکنند. | ['م', 'ی', 'ک', 'ن', 'ن', 'د', '.']\n",
      "Prediction: بازه| ['ب', 'ا', 'ز', 'ه'] | Target: بازه‌ | ['ب', 'ا', 'ز', 'ه', '\\u200c']\n",
      "Prediction: پناهجویان،| ['پ', 'ن', 'ا', 'ه', 'ج', 'و', 'ی', 'ا', 'ن', '،'] | Target: پناهجویان،‌ | ['پ', 'ن', 'ا', 'ه', 'ج', 'و', 'ی', 'ا', 'ن', '،', '\\u200c']\n",
      "Prediction: اسنا،‌| ['ا', 'س', 'ن', 'ا', '،', '\\u200c'] | Target: اسنا، | ['ا', 'س', 'ن', 'ا', '،']\n",
      "Prediction: بودجهریزیا| ['ب', 'و', 'د', 'ج', 'ه', 'ر', 'ی', 'ز', 'ی', 'ا'] | Target: بودجهریزیما | ['ب', 'و', 'د', 'ج', 'ه', 'ر', 'ی', 'ز', 'ی', 'م', 'ا']\n",
      "Prediction: 100میلیارد| ['1', '0', '0', 'م', 'ی', 'ل', 'ی', 'ا', 'ر', 'د'] | Target: 1000میلیارد | ['1', '0', '0', '0', 'م', 'ی', 'ل', 'ی', 'ا', 'ر', 'د']\n",
      "Prediction: گرفت،| ['گ', 'ر', 'ف', 'ت', '،'] | Target: گرفت،‌ | ['گ', 'ر', 'ف', 'ت', '،', '\\u200c']\n",
      "Prediction: 445تن| ['4', '4', '5', 'ت', 'ن'] | Target: 5445تن | ['5', '4', '4', '5', 'ت', 'ن']\n",
      "Prediction: ماه)‌| ['م', 'ا', 'ه', ')', '\\u200c'] | Target: ماه) | ['م', 'ا', 'ه', ')']\n",
      "Prediction: درامدناخل| ['د', 'ر', 'ا', 'م', 'د', 'ن', 'ا', 'خ', 'ل'] | Target: درامدناخالص | ['د', 'ر', 'ا', 'م', 'د', 'ن', 'ا', 'خ', 'ا', 'ل', 'ص']\n",
      "Prediction: ‌است| ['\\u200c', 'ا', 'س', 'ت'] | Target: است‌ | ['ا', 'س', 'ت', '\\u200c']\n",
      "Prediction: درصد| ['د', 'ر', 'ص', 'د'] | Target: ‌درصد | ['\\u200c', 'د', 'ر', 'ص', 'د']\n",
      "Prediction: 9‌بانک| ['9', '\\u200c', 'ب', 'ا', 'ن', 'ک'] | Target: 99بانک | ['9', '9', 'ب', 'ا', 'ن', 'ک']\n",
      "Prediction: لوکشکوریس| ['ل', 'و', 'ک', 'ش', 'ک', 'و', 'ر', 'ی', 'س'] | Target: لوکاشنکورئیس | ['ل', 'و', 'ک', 'ا', 'ش', 'ن', 'ک', 'و', 'ر', 'ئ', 'ی', 'س']\n",
      "Prediction: ممنوع‌| ['م', 'م', 'ن', 'و', 'ع', '\\u200c'] | Target: ممنوع | ['م', 'م', 'ن', 'و', 'ع']\n",
      "Prediction: جرتثقیل| ['ج', 'ر', 'ت', 'ث', 'ق', 'ی', 'ل'] | Target: جرثقیل | ['ج', 'ر', 'ث', 'ق', 'ی', 'ل']\n",
      "Prediction: پیچیده| ['پ', 'ی', 'چ', 'ی', 'د', 'ه'] | Target: پیچیده‌ | ['پ', 'ی', 'چ', 'ی', 'د', 'ه', '\\u200c']\n",
      "Prediction: هاشمی،| ['ه', 'ا', 'ش', 'م', 'ی', '،'] | Target: هاشمی‌، | ['ه', 'ا', 'ش', 'م', 'ی', '\\u200c', '،']\n"
     ]
    }
   ],
   "source": [
    "incorrect_cases =[]\n",
    "device =\"cuda\"\n",
    "for images, targets, input_lengths,target_lengths in val_data:\n",
    "    images = images.to(device)\n",
    "    model_output = model(images)\n",
    "    model_output = model_output.permute(1, 0, 2)\n",
    "    predictions = model_output.argmax(2).transpose(0, 1).cpu().numpy()\n",
    "    decoded_predictions  = ctc_decode(predictions, blank=0)\n",
    "    decoded_targets = []\n",
    "    target_texts = [targets[i][:target_lengths[i]].tolist() for i in range(len(targets))]\n",
    "    for target, length in zip(targets.cpu().numpy(), target_lengths.cpu().numpy()):\n",
    "        decoded_targets.append(\"\".join(list(char_to_index.keys())[list(char_to_index.values()).index(index)] for index in target[:length]))  # Replace `char_set` with your character set\n",
    "\n",
    "    # Compare predictions with targets and store incorrect cases\n",
    "\n",
    "    correct_words = 0\n",
    "    for pred, target , image in zip(decoded_predictions, target_texts , images):\n",
    "        if pred != target:\n",
    "            incorrect_cases.append({\n",
    "                \"image\": image.cpu(),  # Store the image tensor\n",
    "                \"prediction\": \"\".join(list(char_to_index.keys())[list(char_to_index.values()).index(index)] for index in pred),\n",
    "                \"target\": \"\".join(list(char_to_index.keys())[list(char_to_index.values()).index(index)] for index in target),\n",
    "                \"char_target\": list(list(char_to_index.keys())[list(char_to_index.values()).index(index)] for index in target),\n",
    "                \"char_prediction\": list(list(char_to_index.keys())[list(char_to_index.values()).index(index)] for index in pred)\n",
    "            })\n",
    "        \n",
    "\n",
    "# Analyze or save incorrect cases for further debugging\n",
    "print(len(incorrect_cases))\n",
    "for case in incorrect_cases:\n",
    "    print(f\"Prediction: {case['prediction']}| {case['char_prediction']} | Target: {case['target']} | {case['char_target']}\")\n",
    "    # Visualize the image if needed\n",
    "    # Example: Use matplotlib to display the image\n",
    "    # plt.imshow(case['image'].squeeze(), cmap='gray')\n",
    "    # plt.show()"
   ]
  },
  {
   "cell_type": "code",
   "execution_count": 28,
   "metadata": {},
   "outputs": [
    {
     "data": {
      "text/plain": [
       "(-0.5, 99.5, 31.5, -0.5)"
      ]
     },
     "execution_count": 28,
     "metadata": {},
     "output_type": "execute_result"
    },
    {
     "data": {
      "image/png": "[encoded data removed]",
      "text/plain": [
       "<Figure size 1000x500 with 2 Axes>"
      ]
     },
     "metadata": {},
     "output_type": "display_data"
    }
   ],
   "source": [
    "image_path = 'Data/page_1_118.png'\n",
    "image = Image.open(image_path).convert('L')  # Convert to grayscale\n",
    "# Convert to NumPy array\n",
    "image_np = np.array(image)\n",
    "# _, image_np = cv2.threshold(image_np, 128, 255, cv2.THRESH_BINARY | cv2.THRESH_OTSU)\n",
    "image_np = (image_np/255).astype('float32') \n",
    "\n",
    "image_np = np.expand_dims(image_np, axis=2)\n",
    "transformed = Transforms.Testing_transforms(image=image_np)\n",
    "\n",
    "transformed_image = transformed['image']\n",
    "plt.figure(figsize=(10, 5))\n",
    "plt.subplot(1, 2, 1)\n",
    "plt.title(\"Original Image\")\n",
    "plt.imshow(image_np, cmap='gray')\n",
    "plt.axis('off')\n",
    "\n",
    "# Transformed image\n",
    "plt.subplot(1, 2, 2)\n",
    "plt.title(\"Transformed Image\")\n",
    "plt.imshow(transformed_image.permute(1, 2, 0).squeeze().cpu().numpy(), cmap='gray')  # Squeeze for grayscale\n",
    "plt.axis('off')"
   ]
  },
  {
   "cell_type": "code",
   "execution_count": 20,
   "metadata": {},
   "outputs": [
    {
     "name": "stdout",
     "output_type": "stream",
     "text": [
      "[[45 35 35 35 51 51 38 38 38 38 56 56 56 26 26 26  0  0  0  0  0  0  0 50]]\n"
     ]
    }
   ],
   "source": [
    "device =\"cuda\"\n",
    "model_input = transformed_image.unsqueeze(0)\n",
    "x = model_input.to(device)\n",
    "\n",
    "model_output = model(x)\n",
    "model_output\n",
    "model_output = model_output.permute(1, 0, 2)\n",
    "predictions = model_output.argmax(2).transpose(0, 1).cpu().numpy()\n",
    "\n",
    "print(predictions)\n",
    "predictions = ctc_decode(predictions, blank=0)"
   ]
  },
  {
   "cell_type": "code",
   "execution_count": 21,
   "metadata": {},
   "outputs": [
    {
     "data": {
      "text/plain": [
       "[[45, 35, 51, 38, 56, 26, 50]]"
      ]
     },
     "execution_count": 21,
     "metadata": {},
     "output_type": "execute_result"
    }
   ],
   "source": [
    "predictions"
   ]
  },
  {
   "cell_type": "code",
   "execution_count": 22,
   "metadata": {},
   "outputs": [
    {
     "data": {
      "text/plain": [
       "['ف', 'ر', 'و', 'ش', 'گ', 'ا', 'ه']"
      ]
     },
     "execution_count": 22,
     "metadata": {},
     "output_type": "execute_result"
    }
   ],
   "source": [
    "text_output = [list(char_to_index.keys())[list(char_to_index.values()).index(index)] for index in predictions[0] ]\n",
    "text_output"
   ]
  },
  {
   "cell_type": "code",
   "execution_count": 21,
   "metadata": {},
   "outputs": [],
   "source": [
    "torch.cuda.empty_cache()"
   ]
  }
 ],
 "metadata": {
  "colab": {
   "authorship_tag": "ABX9TyOCVL9e5eSrjRnp+9g76RbG",
   "mount_file_id": "1z2I-ScE3xxyAMynDkSeLRI2gXnOCUctm",
   "provenance": []
  },
  "kernelspec": {
   "display_name": "OCR_env",
   "language": "python",
   "name": "python3"
  },
  "language_info": {
   "codemirror_mode": {
    "name": "ipython",
    "version": 3
   },
   "file_extension": ".py",
   "mimetype": "text/x-python",
   "name": "python",
   "nbconvert_exporter": "python",
   "pygments_lexer": "ipython3",
   "version": "3.10.12"
  }
 },
 "nbformat": 4,
 "nbformat_minor": 1
}
